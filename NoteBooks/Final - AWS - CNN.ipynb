{
 "cells": [
  {
   "cell_type": "markdown",
   "metadata": {},
   "source": [
    "# Fianl - AWS"
   ]
  },
  {
   "cell_type": "markdown",
   "metadata": {},
   "source": [
    "### Upload the data required"
   ]
  },
  {
   "cell_type": "markdown",
   "metadata": {},
   "source": [
    "We use both scans of subjects 1-8 from the PETMR and TRIO dataset for training.\n",
    "\n",
    "We used the scan of subjects 9-10 also from the PETMR and TRIO dataset for testing."
   ]
  },
  {
   "cell_type": "markdown",
   "metadata": {},
   "source": [
    "## FUNCTIONS"
   ]
  },
  {
   "cell_type": "code",
   "execution_count": 1,
   "metadata": {
    "collapsed": false
   },
   "outputs": [
    {
     "name": "stderr",
     "output_type": "stream",
     "text": [
      "/Library/Python/2.7/site-packages/h5py/__init__.py:36: FutureWarning: Conversion of the second argument of issubdtype from `float` to `np.floating` is deprecated. In future, it will be treated as `np.float64 == np.dtype(float).type`.\n",
      "  from ._conv import register_converters as _register_converters\n"
     ]
    }
   ],
   "source": [
    "import nibabel as nib\n",
    "import numpy as np\n",
    "import matplotlib.pyplot as plt\n",
    "import os\n",
    "%matplotlib inline\n",
    "import sys\n",
    "from dipy.io import read_bvals_bvecs\n",
    "from dipy.core.gradients import gradient_table\n",
    "import random"
   ]
  },
  {
   "cell_type": "code",
   "execution_count": 2,
   "metadata": {
    "collapsed": true
   },
   "outputs": [],
   "source": [
    "#this function simply uploads the testing and training scans into lists of numpy arrays\n",
    "#the data is not yet sliced or patched at this stage\n",
    "\n",
    "#specify in a list what scans to use for training and what scans to use for testing\n",
    "\n",
    "\n",
    "def get_data(petmr_path, trio_path, scans_dict, input_scanner):\n",
    "    \n",
    "    train_val_test_inp = []\n",
    "    train_val_test_out1 = []\n",
    "    train_val_test_out2 = []\n",
    "    test_data_inp = []\n",
    "    test_data_out1 = []\n",
    "    test_data_out2 = []\n",
    "    \n",
    "    if input_scanner == \"PETMR\":\n",
    "        input_path = petmr_path\n",
    "        output_path = trio_path\n",
    "    else:\n",
    "        input_path = trio_path\n",
    "        output_path = petmr_path       \n",
    "    \n",
    "    for key, subjs in scans_dict.iteritems():\n",
    "        for subj_scan in subjs:\n",
    "                \n",
    "            input_scan_image = nib.load(str(input_path) + \"/Subj\" + str(subj_scan[0]) + \"Scan\" + str(subj_scan[1]) + \"/Brain_Matched.nii.gz\")\n",
    "            input_scan_data = input_scan_image.get_data()\n",
    "                \n",
    "            input_bvals_scan, input_bvecs_scan = read_bvals_bvecs(str(input_path) + \"/Subj\" + str(subj_scan[0]) + \"Scan\" + str(subj_scan[1]) + \"/NODDI.bval\",\\\n",
    "                                                          str(input_path) + \"/Subj\" + str(subj_scan[0]) + \"Scan\" + str(subj_scan[1]) + \"/NODDI.bvec\")\n",
    "            \n",
    "            # Important : Upload the output scan that is registered to the appropriate input scan\n",
    "            \n",
    "            output_scan_image1 = nib.load(str(output_path) + \"/Subj\" + str(subj_scan[0]) + \"Scan1\" + \"/Brain_Matched_Scan\" + str(subj_scan[1]) + \".nii.gz\")\n",
    "            output_scan_data1 = output_scan_image1.get_data()\n",
    "            \n",
    "            output_scan_image2 = nib.load(str(output_path) + \"/Subj\" + str(subj_scan[0]) + \"Scan2\" + \"/Brain_Matched_Scan\" + str(subj_scan[1]) + \".nii.gz\")\n",
    "            output_scan_data2 = output_scan_image2.get_data()\n",
    "                \n",
    "            output_bvals_scan1, output_bvecs_scan1 = read_bvals_bvecs(str(output_path) + \"/Subj\" + str(subj_scan[0]) + \"Scan1/NODDI.bval\",\\\n",
    "                                                          str(output_path) + \"/Subj\" + str(subj_scan[0]) + \"Scan1/NODDI.bvec\")\n",
    "            \n",
    "            output_bvals_scan2, output_bvecs_scan2 = read_bvals_bvecs(str(output_path) + \"/Subj\" + str(subj_scan[0]) + \"Scan2/NODDI.bval\",\\\n",
    "                                                          str(output_path) + \"/Subj\" + str(subj_scan[0]) + \"Scan2/NODDI.bvec\")\n",
    "                \n",
    "                \n",
    "            #set a threshold value for b=0 values (due to TRIO dataset)\n",
    "            input_gtab_scan = gradient_table(input_bvals_scan, input_bvecs_scan, b0_threshold=5)\n",
    "            input_s0s_scan = input_scan_data[:, :, :, input_gtab_scan.b0s_mask]\n",
    "                \n",
    "            output_gtab_scan1 = gradient_table(output_bvals_scan1, output_bvecs_scan1, b0_threshold=5)\n",
    "            temp_output_s0s_scan1 = output_scan_data1[:, :, :, output_gtab_scan1.b0s_mask]\n",
    "            \n",
    "            output_gtab_scan2 = gradient_table(output_bvals_scan2, output_bvecs_scan2, b0_threshold=5)\n",
    "            temp_output_s0s_scan2 = output_scan_data2[:, :, :, output_gtab_scan2.b0s_mask]\n",
    "            \n",
    "            \n",
    "            # We do this to ensure the 1st target for scan 1 is corresponding scan 1, and the \n",
    "            # 1st target for scan 2 is corresponding scan 2\n",
    "            if subj_scan[1] == 1:\n",
    "                output_s0s_scan1 = temp_output_s0s_scan1\n",
    "                output_s0s_scan2 = temp_output_s0s_scan2\n",
    "            else:\n",
    "                output_s0s_scan1 = temp_output_s0s_scan2\n",
    "                output_s0s_scan2 = temp_output_s0s_scan1\n",
    "            \n",
    "            # Use only the first volume, ignore other volumes\n",
    "            if(key == \"train_val_test\"):\n",
    "                print (\"Uploading Subject %s Scan %s\" % (str(subj_scan[0]), str(subj_scan[1])))\n",
    "                #append the data to the lists containing the training inputs and outputs\n",
    "                train_val_test_inp.append(input_s0s_scan[:,:,:,[0]])\n",
    "                train_val_test_out1.append(output_s0s_scan1[:,:,:,[0]])\n",
    "                train_val_test_out2.append(output_s0s_scan2[:,:,:,[0]])\n",
    "            else:\n",
    "                print (\"Testing: Subject %s Scan %s\" % (str(subj_scan[0]), str(subj_scan[1])))\n",
    "                test_data_inp.append(input_s0s_scan[:,:,:,[0]])\n",
    "                test_data_out1.append(output_s0s_scan1[:,:,:,[0]])\n",
    "                test_data_out2.append(output_s0s_scan2[:,:,:,[0]])\n",
    "    return (train_val_test_inp, train_val_test_out1, train_val_test_out2, test_data_inp, test_data_out1, test_data_out2, output_scan_image1.affine)"
   ]
  },
  {
   "cell_type": "code",
   "execution_count": 3,
   "metadata": {
    "collapsed": true
   },
   "outputs": [],
   "source": [
    "#This function extracts patches from a scan and appends them to a list.\n",
    "#This is done for all volumes of a scan (for both the inputs and targets)\n",
    "\n",
    "def patchify(data_scans_inp, data_scans_out1, data_scans_out2, patch_size):\n",
    "    \n",
    "    input_patches_store = []\n",
    "    target_patches_store1 = []\n",
    "    target_patches_store2 = []\n",
    "    \n",
    "    for scan_no in range(0, len(data_scans_inp)):\n",
    "        input_scan = data_scans_inp[scan_no]\n",
    "        target_scan1 = data_scans_out1[scan_no]\n",
    "        target_scan2 = data_scans_out2[scan_no]\n",
    "        \n",
    "        (x,y,z,v) = input_scan.shape\n",
    "        if((patch_size-1) % 2 != 0):\n",
    "            print \"The patch size is not compatible\"\n",
    "            return\n",
    "        padding = ((patch_size-1)/2)\n",
    "        #pad the input scan\n",
    "        full_padding = ((padding, padding), (padding, padding), (padding,padding), (0,0))\n",
    "        padded_scan = np.pad(input_scan, full_padding, mode='constant', constant_values=0)\n",
    "\n",
    "        #extract patches from the input scan\n",
    "\n",
    "        #iterate through each volume to extract the patches\n",
    "        for volume in range(0, v):\n",
    "            for pos_x in range(0, x):\n",
    "                for pos_y in range(0,y):\n",
    "                    for pos_z in range(0, z):\n",
    "                        input_patch = padded_scan[pos_x:pos_x+patch_size, pos_y:pos_y+patch_size, pos_z:pos_z+patch_size, volume]\n",
    "                        target_voxel1 = target_scan1[pos_x,pos_y,pos_z,volume]\n",
    "                        target_voxel2 = target_scan2[pos_x,pos_y,pos_z,volume]\n",
    "                        \n",
    "                        #store the patch and the target\n",
    "                        input_patches_store.append(input_patch)\n",
    "                        target_patches_store1.append(target_voxel1)\n",
    "                        target_patches_store2.append(target_voxel2)\n",
    "                        \n",
    "    return (input_patches_store, target_patches_store1, target_patches_store2)\n",
    "\n",
    "\n",
    "\n"
   ]
  },
  {
   "cell_type": "code",
   "execution_count": 4,
   "metadata": {
    "collapsed": true
   },
   "outputs": [],
   "source": [
    "#This function extracts patches from a scan and appends them to a list.\n",
    "#This is done for all volumes of a scan (for both the inputs and targets)\n",
    "#This version of the functions only considers voxels wholly contained within the brain\n",
    "\n",
    "def patchify_brain_only(data_scans_inp, data_scans_out1, data_scans_out2, patch_size):\n",
    "    \n",
    "    input_patches_store = []\n",
    "    target_patches_store1 = []\n",
    "    target_patches_store2 = []\n",
    "    \n",
    "    for scan_no in range(0, len(data_scans_inp)):\n",
    "        input_scan = data_scans_inp[scan_no]\n",
    "        target_scan1 = data_scans_out1[scan_no]\n",
    "        target_scan2 = data_scans_out2[scan_no]\n",
    "        \n",
    "        (x,y,z,v) = input_scan.shape\n",
    "        if((patch_size-1) % 2 != 0):\n",
    "            print \"The patch size is not compatible\"\n",
    "            return\n",
    "        padding = ((patch_size-1)/2)\n",
    "        #pad the input scan\n",
    "        full_padding = ((padding, padding), (padding, padding), (padding,padding), (0,0))\n",
    "        padded_scan = np.pad(input_scan, full_padding, mode='constant', constant_values=0)\n",
    "\n",
    "        #extract patches from the input scan\n",
    "\n",
    "        #iterate through each volume to extract the patches\n",
    "        for volume in range(0, v):\n",
    "            for pos_x in range(0, x):\n",
    "                for pos_y in range(0,y):\n",
    "                    for pos_z in range(0, z):\n",
    "                        # Exclude all background voxels\n",
    "                        if(input_scan[pos_x,pos_y,pos_z,volume] == 0):\n",
    "                            continue\n",
    "                        input_patch = padded_scan[pos_x:pos_x+patch_size, pos_y:pos_y+patch_size, pos_z:pos_z+patch_size, volume]\n",
    "                        target_voxel1 = target_scan1[pos_x,pos_y,pos_z,volume]\n",
    "                        target_voxel2 = target_scan2[pos_x,pos_y,pos_z,volume]\n",
    "                        # Exclude all patches that contain artefacts\n",
    "                        if input_patch.min() < 0:\n",
    "                            continue\n",
    "                            \n",
    "                        #store the patch and the target\n",
    "                        input_patches_store.append(input_patch)\n",
    "                        target_patches_store1.append(target_voxel1)\n",
    "                        target_patches_store2.append(target_voxel2)\n",
    "                        \n",
    "    return (input_patches_store, target_patches_store1, target_patches_store2)"
   ]
  },
  {
   "cell_type": "code",
   "execution_count": 5,
   "metadata": {
    "collapsed": true
   },
   "outputs": [],
   "source": [
    "def split_data(input_list, output_list1, output_list2, train_prop, val_prop, test_prop):\n",
    "    length = len(input_list)\n",
    "    indexes = range(length)\n",
    "    # Randomly shuffle the indexes\n",
    "    random.shuffle(indexes)\n",
    "    \n",
    "    train_len = int(round(length * train_prop))\n",
    "    val_len = int(round(length * val_prop))\n",
    "    test_len = int(length - train_len - val_len)\n",
    "\n",
    "    train_indices = indexes[:train_len]\n",
    "    val_indices = indexes[train_len:train_len+val_len]\n",
    "    test_indices = indexes[train_len+val_len:]\n",
    "\n",
    "    training_input = [input_list[i] for i in train_indices]\n",
    "    training_output = [output_list1[i] for i in train_indices]\n",
    "    \n",
    "    validation_input = [input_list[i] for i in val_indices]\n",
    "    validation_output = [output_list1[i] for i in val_indices]\n",
    "    \n",
    "    testing_input = [input_list[i] for i in test_indices]\n",
    "    testing_output1 = [output_list1[i] for i in test_indices]\n",
    "    testing_output2 = [output_list2[i] for i in test_indices]\n",
    "    \n",
    "    return(training_input, training_output, validation_input, validation_output, testing_input, testing_output1, testing_output2)"
   ]
  },
  {
   "cell_type": "code",
   "execution_count": 20,
   "metadata": {
    "collapsed": true
   },
   "outputs": [],
   "source": [
    "def viz_pred(inputs, predictions, labels, sliceNo):\n",
    "    maximum = 1000\n",
    "    plt.figure\n",
    "    plt.figure(figsize=(5,5))\n",
    "    plt.subplot(1, 3, 1).set_axis_off()\n",
    "    plt.imshow(inputs[:,:,sliceNo,0].T, cmap='gray', origin='lower', vmax = maximum, vmin=0)\n",
    "    plt.title(\"Input\")\n",
    "    plt.subplot(1, 3, 2).set_axis_off()\n",
    "    plt.imshow(predictions[:,:,sliceNo,0].T, cmap='gray', origin='lower', vmax = maximum, vmin=0)\n",
    "    plt.title(\"Predicted\")\n",
    "    plt.subplot(1, 3, 3).set_axis_off()\n",
    "    plt.imshow(labels[:,:,sliceNo,0].T, cmap='gray', origin='lower', vmax = maximum, vmin=0)\n",
    "    plt.title(\"Target\")\n",
    "    \n",
    "    plt.figure(figsize=(5,5))\n",
    "    plt.subplot(1, 3, 1).set_axis_off()\n",
    "    plt.imshow(inputs[:,sliceNo,:,0].T, cmap='gray', origin='lower', vmax = maximum, vmin=0)\n",
    "    plt.title(\"Input\")\n",
    "    plt.subplot(1, 3, 2).set_axis_off()\n",
    "    plt.imshow(predictions[:,sliceNo,:,0].T, cmap='gray', origin='lower', vmax = maximum, vmin=0)\n",
    "    plt.title(\"Predicted\")\n",
    "    plt.subplot(1, 3, 3).set_axis_off()\n",
    "    plt.imshow(labels[:,sliceNo,:,0].T, cmap='gray', origin='lower', vmax = maximum, vmin=0)\n",
    "    plt.title(\"Target\")\n",
    "    \n",
    "    plt.figure(figsize=(5,5))\n",
    "    plt.subplot(1, 3, 1).set_axis_off()\n",
    "    plt.imshow(inputs[sliceNo,:,:,0].T, cmap='gray', origin='lower', vmax = maximum, vmin=0)\n",
    "    plt.title(\"Input\")\n",
    "    plt.subplot(1, 3, 2).set_axis_off()\n",
    "    plt.imshow(predictions[sliceNo,:,:,0].T, cmap='gray', origin='lower', vmax = maximum, vmin=0)\n",
    "    plt.title(\"Predicted\")\n",
    "    plt.subplot(1, 3, 3).set_axis_off()\n",
    "    plt.imshow(labels[sliceNo,:,:,0].T, cmap='gray', origin='lower', vmax = maximum, vmin=0)\n",
    "    plt.title(\"Target\")\n",
    "    \n",
    "    plt.show()"
   ]
  },
  {
   "cell_type": "code",
   "execution_count": 7,
   "metadata": {
    "collapsed": true
   },
   "outputs": [],
   "source": [
    "def viz_diff(predictions, inputs, labels, sliceNo):\n",
    "    maximum = np.max([inputs.max(), predictions.max(), labels.max()])\n",
    "    difference = np.abs(predictions[:,:,sliceNo,0] - labels[:,:,sliceNo,0])\n",
    "    plt.figure\n",
    "    plt.figure(figsize=(10,10))\n",
    "    plt.subplot(2, 3, 2).set_axis_off()\n",
    "    plt.imshow(np.absolute(difference).T, cmap='nipy_spectral', origin='lower')\n",
    "    #plt.colorbar(shrink=0.2)\n",
    "    plt.title(\"Predicted Error\")\n",
    "    plt.subplot(2, 3, 1).set_axis_off()\n",
    "    plt.imshow(inputs[:,:,sliceNo,0].T, cmap='gray', origin='lower', vmin=0, vmax=maximum)\n",
    "    plt.title(\"Input\")\n",
    "    plt.subplot(2, 3, 3).set_axis_off()\n",
    "    plt.imshow(labels[:,:,sliceNo,0].T, cmap='gray', origin='lower', vmin=0, vmax=maximum)\n",
    "    plt.title(\"Target\")\n",
    "    plt.subplot(2, 3, 5).set_axis_off()\n",
    "    plt.imshow(predictions[:,:,sliceNo,0].T, cmap='gray', origin='lower', vmin=0, vmax=maximum)\n",
    "    plt.title(\"Predicted\")\n",
    "    plt.show()"
   ]
  },
  {
   "cell_type": "code",
   "execution_count": 8,
   "metadata": {
    "collapsed": true
   },
   "outputs": [],
   "source": [
    "#bland-altman plot\n",
    "\n",
    "def bland_altman_plot(pred, output1, output2):\n",
    "\n",
    "    output_mean = np.mean([output1, output2], axis=0)\n",
    "    x_max = np.max(output_mean)\n",
    "    diff = pred - output_mean                   # Difference between predicted and mean\n",
    "    md = np.mean(diff)                   # Mean of the difference\n",
    "    sd = np.std(diff)            # Standard deviation of the difference\n",
    " \n",
    "    percentage_error = np.absolute(((diff)/(output_mean))*100)\n",
    "    #percentage_error[percentage_error > 50] = 50\n",
    "    #percentage_error[percentage_error < -50] = -50\n",
    "    plt.scatter(output_mean, diff, c=percentage_error, edgecolors='face', cmap='jet')\n",
    "    plt.axhline(md,           color='gray', linestyle='--')\n",
    "    plt.axhline(md + 1.96*sd, color='gray', linestyle='--')\n",
    "    plt.axhline(md - 1.96*sd, color='gray', linestyle='--')\n",
    "    plt.ylabel('Error')\n",
    "    plt.xlabel('Mean output value')\n",
    "    plt.xlim([0, x_max*1.1]) \n",
    "    plt.colorbar()"
   ]
  },
  {
   "cell_type": "code",
   "execution_count": 9,
   "metadata": {
    "collapsed": true
   },
   "outputs": [],
   "source": [
    "def plot_predicted(pred, output1, output2):\n",
    "\n",
    "    output_mean = np.mean([output1, output2], axis=0)\n",
    "    x_max = np.max(output_mean)\n",
    "    diff = pred - output_mean                   # Difference between predicted and mean\n",
    "    md = np.mean(diff)                   # Mean of the difference\n",
    "    sd = np.std(diff)            # Standard deviation of the difference\n",
    " \n",
    "    percentage_error = np.absolute(((diff)/(output_mean))*100)\n",
    "    #percentage_error[percentage_error > 50] = 50\n",
    "    #percentage_error[percentage_error < -50] = -50\n",
    "    plt.scatter(output_mean, pred, c=percentage_error, edgecolors='face', cmap='jet')\n",
    "    plt.ylabel('Predicted')\n",
    "    plt.xlabel('Mean output value')\n",
    "    plt.xlim([0, x_max*1.1])\n",
    "    plt.ylim([0, x_max*1.1]) \n",
    "    plt.colorbar()"
   ]
  },
  {
   "cell_type": "markdown",
   "metadata": {},
   "source": [
    "-------------------------------------------------------------------------------------------------------\n",
    "---\n",
    "\n",
    "-------------------------------------------------------------------------------------------------------\n",
    "---\n",
    "\n"
   ]
  },
  {
   "cell_type": "markdown",
   "metadata": {},
   "source": [
    "#### Upload the data"
   ]
  },
  {
   "cell_type": "code",
   "execution_count": 30,
   "metadata": {
    "collapsed": false,
    "scrolled": true
   },
   "outputs": [
    {
     "name": "stdout",
     "output_type": "stream",
     "text": [
      "Uploading Subject 1 Scan 1\n",
      "Testing: Subject 8 Scan 1\n",
      "Testing: Subject 9 Scan 1\n",
      "Number of scans used for training, validation and testing: 1\n",
      "Number of scans used for final testing: 2\n"
     ]
    }
   ],
   "source": [
    "#upload the data\n",
    "petmr_data_path = '/Volumes/Seagate Backup Plus Drive/Project/Dataset/TRIO_data'\n",
    "trio_data_path = '/Volumes/Seagate Backup Plus Drive/Project/Dataset/PETMR_data'\n",
    "\n",
    "# Enter a list of tuples (subject, scan_number)\n",
    "# Use this to get all scans then split into training, validation and testing\n",
    "train_val_test_scans = [(1,1)]\n",
    "\n",
    "# This is a final test scan only - used to generate a complete scan from the trained CNN\n",
    "testing_scans = [(8,1), (9,1)]\n",
    "\n",
    "data_dict = {\"train_val_test\": train_val_test_scans, \"testing\":testing_scans}\n",
    "\n",
    "(train_val_test_inp, train_val_test_out1, train_val_test_out2, final_test_inp, final_test_out1, final_test_out2, affine_mat) = \\\n",
    "        get_data(petmr_data_path, trio_data_path, data_dict, input_scanner=\"PETMR\")\n",
    "print(\"Number of scans used for training, validation and testing: %d\" % len(train_val_test_inp))\n",
    "print (\"Number of scans used for final testing: %d\" % len(final_test_inp))"
   ]
  },
  {
   "cell_type": "markdown",
   "metadata": {},
   "source": [
    "#### Patchify the data"
   ]
  },
  {
   "cell_type": "code",
   "execution_count": 11,
   "metadata": {
    "collapsed": false
   },
   "outputs": [
    {
     "name": "stdout",
     "output_type": "stream",
     "text": [
      "Patchifying training, validation and testing set\n",
      "Patchifying final testing scans\n"
     ]
    }
   ],
   "source": [
    "print \"Patchifying training, validation and testing set\"\n",
    "(train_val_test_input, train_val_test_target1, train_val_test_target2) = patchify_brain_only(train_val_test_inp, train_val_test_out1, train_val_test_out2, 9)\n",
    "\n",
    "print \"Patchifying final testing scans\"\n",
    "(final_testing_input, final_testing_target1, final_testing_target2) = patchify(final_test_inp, final_test_out1, final_test_out2, 9)"
   ]
  },
  {
   "cell_type": "code",
   "execution_count": 12,
   "metadata": {
    "collapsed": false
   },
   "outputs": [
    {
     "name": "stdout",
     "output_type": "stream",
     "text": [
      "Nember of training, validation and testing examples : 88283\n",
      "Nember of final testing examples : 200340\n"
     ]
    }
   ],
   "source": [
    "print (\"Nember of training, validation and testing examples : %d\" % len(train_val_test_input))\n",
    "print (\"Nember of final testing examples : %d\" % len(final_testing_input))"
   ]
  },
  {
   "cell_type": "markdown",
   "metadata": {},
   "source": [
    "#### Randomly split the data into training validation and testing sets"
   ]
  },
  {
   "cell_type": "code",
   "execution_count": 13,
   "metadata": {
    "collapsed": true
   },
   "outputs": [],
   "source": [
    "training_input, training_target, validation_input, validation_target, testing_input, testing_target1, testing_target2 = \\\n",
    "        split_data(train_val_test_input, train_val_test_target1, train_val_test_target2, 0.70, 0.15, 0.15)"
   ]
  },
  {
   "cell_type": "code",
   "execution_count": 14,
   "metadata": {
    "collapsed": false
   },
   "outputs": [
    {
     "name": "stdout",
     "output_type": "stream",
     "text": [
      "Nember of training examples : 61798\n",
      "Nember of Validation examples : 13242\n",
      "Nember of testing examples : 13243\n"
     ]
    }
   ],
   "source": [
    "print (\"Nember of training examples : %d\" % len(training_input))\n",
    "print (\"Nember of Validation examples : %d\" % len(validation_input))\n",
    "print (\"Nember of testing examples : %d\" % len(testing_input))"
   ]
  },
  {
   "cell_type": "markdown",
   "metadata": {},
   "source": [
    "# PyTorch Functions"
   ]
  },
  {
   "cell_type": "code",
   "execution_count": 15,
   "metadata": {
    "collapsed": true
   },
   "outputs": [],
   "source": [
    "import torch\n",
    "import torchvision\n",
    "import torchvision.transforms as transforms\n",
    "from torch.utils.data import Dataset\n",
    "from torch.utils.data import DataLoader\n",
    "import torch.optim as optim\n",
    "from torch.autograd import Variable\n",
    "import torch.nn as nn\n",
    "import torch.nn.functional as F"
   ]
  },
  {
   "cell_type": "code",
   "execution_count": 16,
   "metadata": {
    "collapsed": true
   },
   "outputs": [],
   "source": [
    "#create a dataset class for our data\n",
    "\n",
    "class MRIdataset(Dataset):\n",
    "    \"\"\"MRI b=0 dataset for patches.\"\"\"\n",
    "\n",
    "    def __init__(self, input_patches, target_patches, transform=None):\n",
    "        \"\"\"\n",
    "        Args:\n",
    "            input_patches: Input patches\n",
    "            target_patches: Corresponding target patches of the input patches\n",
    "            transform (callable, optional): Optional transform to be applied\n",
    "            on a sample.\n",
    "        \"\"\"\n",
    "        self.input_patches = input_patches\n",
    "        self.target_patches = target_patches\n",
    "        self.transform = transform\n",
    "\n",
    "    def __len__(self):\n",
    "        return len(self.input_patches)\n",
    "\n",
    "    def __getitem__(self, idx):\n",
    "        input_patch = np.array(self.input_patches[idx])\n",
    "        target_patch = np.array(self.target_patches[idx])\n",
    "        sample = {'input': input_patch, 'target': target_patch}\n",
    "        \n",
    "\n",
    "        if self.transform:\n",
    "            sample = self.transform(sample)\n",
    "            \n",
    "        return sample\n"
   ]
  },
  {
   "cell_type": "code",
   "execution_count": 17,
   "metadata": {
    "collapsed": true
   },
   "outputs": [],
   "source": [
    "class To_Tensor(object):\n",
    "    \"\"\"Convert ndarrays in sample to Tensors.\"\"\"\n",
    "\n",
    "    def __call__(self, sample):\n",
    "        inp, out = sample['input'], sample['target']\n",
    "        \n",
    "        #first expand dimension because torch expects H x W x D x C\n",
    "        #currently we only have H x W x D\n",
    "        aug_inp = np.expand_dims(inp, 3)\n",
    "        \n",
    "        #The target is a single voxel,\n",
    "        #Conver it to an array\n",
    "        aug_out = np.array([out])\n",
    "\n",
    "        # swap channel axis because\n",
    "        # numpy: H x W x D x C\n",
    "        # torch: C x D x H x W\n",
    "        aug_inp = aug_inp.transpose((3, 2, 0, 1))\n",
    "        \n",
    "        return {'input': torch.Tensor(aug_inp),\n",
    "                'target': torch.Tensor(aug_out)}\n",
    "\n"
   ]
  },
  {
   "cell_type": "code",
   "execution_count": 18,
   "metadata": {
    "collapsed": true
   },
   "outputs": [],
   "source": [
    "def train(net, trainloader, valiloader, training_losses, validation_losses, optimizer, criterion, scheduler, epochs):\n",
    "\n",
    "    for epoch in range(epochs):  # loop over the dataset multiple times\n",
    "        net.train()\n",
    "        running_loss = 0.0\n",
    "        for i, data in enumerate(trainloader, 0): #done in batches\n",
    "            # get the inputs\n",
    "            inputs = data['input']\n",
    "            labels = data['target']\n",
    "\n",
    "           # wrap them in Variable\n",
    "            inputs, labels = Variable(inputs.cuda()), Variable(labels.cuda())\n",
    "\n",
    "            # zero the parameter gradients\n",
    "            optimizer.zero_grad()\n",
    "\n",
    "            # forward + backward + optimize/update weights\n",
    "            outputs = net(inputs)\n",
    "            loss = criterion(outputs, labels)\n",
    "            loss.backward()\n",
    "            optimizer.step()\n",
    "\n",
    "            # print statistics\n",
    "            running_loss += loss.data[0] #loss is a variable tensor of size 1, we index to get the value out\n",
    "            if i % 250 == 249:    # print every 250 mini-batches\n",
    "                total_loss = running_loss / (i+1)\n",
    "                print('[%d, %5d] --- Losss = %.5f' % (epoch + 1, i + 1, total_loss))\n",
    "                \n",
    "        total_loss = running_loss / (i+1)\n",
    "        training_losses.append(total_loss)        \n",
    "        print('Training loss iteration %d = %.5f' % (epoch+1, total_loss ))\n",
    "        # Update the learning rate dynamically\n",
    "        scheduler.step(total_loss)\n",
    "        \n",
    "        \n",
    "        # After each epoch evaluat the performance of the CNN on the validation set\n",
    "        net.eval()   \n",
    "        validation_error = 0\n",
    "        total = 0\n",
    "        for validation_data in valiloader: #batch processing\n",
    "            validation_inputs = validation_data['input']\n",
    "            validation_labels = validation_data['target']\n",
    "            total += 1\n",
    "            \n",
    "            validation_inputs, validation_labels = Variable(validation_inputs.cuda()), Variable(validation_labels.cuda())\n",
    "\n",
    "            validation_predictions = net(validation_inputs)\n",
    "            \n",
    "            validation_error += (torch.nn.functional.mse_loss(Variable(validation_predictions.data), validation_labels)).data[0]\n",
    "            \n",
    "        validation_error /= total\n",
    "        print('MSE on validation set: %f' % (validation_error))\n",
    "        validation_losses.append(validation_error)\n",
    " \n",
    "    print('Finished Training')\n",
    "    return (net, training_losses, validation_losses)"
   ]
  },
  {
   "cell_type": "code",
   "execution_count": 19,
   "metadata": {
    "collapsed": true
   },
   "outputs": [],
   "source": [
    "def plt_losses(training_losses, validation_losses):\n",
    "    plt.figure\n",
    "    plt.plot(range(1,len(training_losses)+1), training_losses, 'r-', label=\"Training error\")\n",
    "    plt.plot(range(1,len(validation_losses)+1), validation_losses, 'b-', label=\"Validation error\")\n",
    "    plt.legend()\n",
    "    plt.xlabel('iteration')\n",
    "    # Make the y-axis label, ticks and tick labels match the line color.\n",
    "    plt.ylabel('Loss - (MSE)')\n",
    "    plt.show()"
   ]
  },
  {
   "cell_type": "code",
   "execution_count": 20,
   "metadata": {
    "collapsed": true
   },
   "outputs": [],
   "source": [
    "def get_predictions(net, testloader):\n",
    "    net.eval()\n",
    "    for index, test_data in enumerate(testloader):\n",
    "        test_inputs = test_data['input']\n",
    "        test_labels = test_data['target']\n",
    "        if index % 250 == 249:\n",
    "            print index + 1\n",
    "        \n",
    "        test_inputs, test_labels = Variable(test_inputs.cuda()), Variable(test_labels.cuda())\n",
    "\n",
    "        #store the predictions in a numpy array which we can reshape later\n",
    "        test_predictions = net(test_inputs)\n",
    "        if(index == 0):\n",
    "            predictions = test_predictions.data.cpu().numpy() \n",
    "\n",
    "        else:\n",
    "            predictions = np.concatenate((predictions, test_predictions.data.cpu().numpy()), axis=0)\n",
    "            \n",
    "    #convert back to numpy dimensions of (HxWxDxCxNumbExpls)\n",
    "    predictions = predictions.transpose(3,4,2,1,0)\n",
    "    return predictions\n",
    "    "
   ]
  },
  {
   "cell_type": "code",
   "execution_count": 21,
   "metadata": {
    "collapsed": true
   },
   "outputs": [],
   "source": [
    "def replace_background(prediction, input_scan):\n",
    "    background_mask = input_scan <= 0\n",
    "    prediction[background_mask] = 0\n",
    "    \n",
    "    return prediction"
   ]
  },
  {
   "cell_type": "code",
   "execution_count": 22,
   "metadata": {
    "collapsed": true
   },
   "outputs": [],
   "source": [
    "def reconstruct_brain(predictions, scans):\n",
    "    # Scans is a list containing the input scans where each scan is stored as a 4d numpy array\n",
    "    # Iterate through all the scans and reconstruct them\n",
    "    start_voxel = 0\n",
    "    reconstructed_scans = []\n",
    "    for scan in scans:\n",
    "        dimensions = scan.shape\n",
    "        size_x = dimensions[0]\n",
    "        size_y = dimensions[1]\n",
    "        size_z = dimensions[2]\n",
    "        size_v = dimensions[3]\n",
    "        end_voxel = start_voxel + (size_x * size_y * size_z * size_v)\n",
    "        reconstructed = np.reshape(predictions[:,:,:,:,start_voxel:end_voxel], [size_v, size_x, size_y, size_z], order='C')\n",
    "        reconstructed = reconstructed.transpose(1,2,3,0)\n",
    "        start_voxel = end_voxel\n",
    "        \n",
    "        # Replace the background voxels of the scan with 0\n",
    "        reconstructed = replace_background(reconstructed, scan)\n",
    "        reconstructed_scans.append(reconstructed)\n",
    "        \n",
    "    return reconstructed_scans"
   ]
  },
  {
   "cell_type": "code",
   "execution_count": 23,
   "metadata": {
    "collapsed": true
   },
   "outputs": [],
   "source": [
    "def get_errors(predictions, output1, output2, data_type):\n",
    "    \n",
    "    scan = 0\n",
    "    mse_avg = 0\n",
    "    l1_avg = 0\n",
    "    r1_avg = 0\n",
    "    \n",
    "    while True:\n",
    "        if data_type == \"scan\":\n",
    "            scan_predictions = predictions[scan]\n",
    "            scan_output1 = output1[scan]\n",
    "            scan_output2 = output2[scan]\n",
    "            scan += 1\n",
    "            print('\\n--------------Scan %d---------------' % (scan))\n",
    "        else:\n",
    "            print('\\n----------------------------')\n",
    "            scan_predictions = predictions\n",
    "            scan_output1 = output1\n",
    "            scan_output2 = output2\n",
    "            \n",
    "        mse = ((scan_predictions - scan_output1) ** 2).mean()\n",
    "        print('MSE on test %s: %f' % (data_type, mse))\n",
    "\n",
    "        l1 = (np.absolute(scan_predictions -  scan_output1)).mean()\n",
    "        print('Mean absolute loss on test %s: %f' % (data_type, l1))\n",
    "\n",
    "        r1 = 1 - (np.sum((scan_output1 - scan_predictions) ** 2) / np.sum((scan_output1 - scan_output1.mean()) ** 2))\n",
    "        print('R2 loss on test %s (Coefficient of determination): %f' % (data_type, r1))\n",
    "\n",
    "        min_target = np.min([scan_output1, scan_output2], axis=0)\n",
    "        max_target = np.max([scan_output1, scan_output2], axis=0)\n",
    "        correct_predictions = np.logical_and(scan_predictions>=min_target, scan_predictions<=max_target)\n",
    "        correct_predictions = np.sum(correct_predictions)\n",
    "        percentage_correct = (float(correct_predictions) / float(scan_predictions.size)) * 100\n",
    "        print('Percentage of predictions within target range: %f' % (percentage_correct))\n",
    "        \n",
    "        mse_avg += mse\n",
    "        l1_avg += l1\n",
    "        r1_avg += r1\n",
    "        \n",
    "        if scan > 0 and scan < len(predictions):\n",
    "            # Get averages of all the data\n",
    "            continue\n",
    "        else:\n",
    "            break\n",
    "                    \n",
    "    if data_type == \"scan\":\n",
    "        print '\\n------Average of errors across all scans------'\n",
    "        print ('Avg mse: %f' % (mse_avg/scan))\n",
    "        print ('Avg l1: %f' % (l1_avg/scan))\n",
    "        print ('Avg r1: %f' % (r1_avg/scan))"
   ]
  },
  {
   "cell_type": "code",
   "execution_count": 24,
   "metadata": {
    "collapsed": true
   },
   "outputs": [],
   "source": [
    "def get_errors_between_targets(output1, output2, data_type):\n",
    "    \n",
    "    scan = 0\n",
    "    mse_avg = 0\n",
    "    l1_avg = 0\n",
    "    r1_avg = 0\n",
    "    \n",
    "    while True:\n",
    "        if data_type == \"scan\":\n",
    "            scan_output1 = output1[scan]\n",
    "            scan_output2 = output2[scan]\n",
    "            scan += 1\n",
    "            print('\\n--------------Scan %d---------------' % (scan))\n",
    "        else:\n",
    "            print('\\n----------------------------')\n",
    "            scan_output1 = output1\n",
    "            scan_output2 = output2\n",
    "        \n",
    "        target_mse = ((scan_output1 - scan_output2) ** 2).mean()\n",
    "        print('MSE between targets: %f' % (target_mse))\n",
    "\n",
    "        target_l1 = (np.absolute(scan_output2 - scan_output1)).mean()\n",
    "        print('Mean absolute loss between targets: %f' % (target_l1))\n",
    "\n",
    "        target_r1 = 1 - (np.sum((scan_output1 - scan_output2) ** 2) / np.sum((scan_output1 - scan_output1.mean()) ** 2))\n",
    "        print('R2 loss between targets (Coefficient of determination): %f' % (target_r1))\n",
    "        \n",
    "        mse_avg += target_mse\n",
    "        l1_avg += target_l1\n",
    "        r1_avg += target_r1\n",
    "        \n",
    "        if scan > 0 and scan < len(output1):\n",
    "            # Get averages of all the data\n",
    "            continue\n",
    "        else:\n",
    "            break\n",
    "                    \n",
    "    if data_type == \"scan\":\n",
    "        print '\\n-------Average of errors--------'\n",
    "        print ('Avg mse: %f' % (mse_avg/scan))\n",
    "        print ('Avg l1: %f' % (l1_avg/scan))\n",
    "        print ('Avg r1: %f' % (r1_avg/scan))"
   ]
  },
  {
   "cell_type": "markdown",
   "metadata": {},
   "source": [
    "-------------------------------------------------------------------------------------------------------\n",
    "---\n",
    "\n",
    "-------------------------------------------------------------------------------------------------------\n",
    "---\n",
    "\n"
   ]
  },
  {
   "cell_type": "markdown",
   "metadata": {},
   "source": [
    "### Upload the data using pytorch data loaders"
   ]
  },
  {
   "cell_type": "code",
   "execution_count": 25,
   "metadata": {
    "collapsed": true
   },
   "outputs": [],
   "source": [
    "training_dataset = MRIdataset(training_input, training_target, transform=transforms.Compose([To_Tensor()]))\n",
    "validation_dataset = MRIdataset(validation_input, validation_target, transform=transforms.Compose([To_Tensor()]))\n",
    "testing_dataset = MRIdataset(testing_input, testing_target1, transform=transforms.Compose([To_Tensor()]))\n",
    "\n",
    "final_testing_dataset = MRIdataset(final_testing_input, final_testing_target1, transform=transforms.Compose([To_Tensor()]))"
   ]
  },
  {
   "cell_type": "code",
   "execution_count": 26,
   "metadata": {
    "collapsed": true
   },
   "outputs": [],
   "source": [
    "trainloader = DataLoader(training_dataset, batch_size=160,\n",
    "                        shuffle=True, num_workers=16)\n",
    "\n",
    "valiloader = DataLoader(validation_dataset, batch_size=160,\n",
    "                        shuffle=True, num_workers=16)\n",
    "\n",
    "testloader = DataLoader(testing_dataset, batch_size=160,\n",
    "                        shuffle=False, num_workers=16)\n",
    "\n",
    "final_test_loader = DataLoader(final_testing_dataset, batch_size=160,\n",
    "                        shuffle=False, num_workers=16)"
   ]
  },
  {
   "cell_type": "code",
   "execution_count": 29,
   "metadata": {
    "collapsed": false
   },
   "outputs": [
    {
     "data": {
      "text/plain": [
       "387"
      ]
     },
     "execution_count": 29,
     "metadata": {},
     "output_type": "execute_result"
    }
   ],
   "source": [
    "len(trainloader)387*160"
   ]
  },
  {
   "cell_type": "markdown",
   "metadata": {},
   "source": [
    "### Develop CNN"
   ]
  },
  {
   "cell_type": "markdown",
   "metadata": {},
   "source": [
    "Conv -> Batch -> Relu -> Conv -> Batch -> Relu -> Conv -> Batch -> Relu -> Conv -> Relu\n",
    "\n",
    "--(WxHx2x1)--\n",
    "\n",
    "conv1 = receptive field -> (3x3x3), zero padding -> 2,  number of filters -> 10\n",
    "\n",
    "--(W+2xH+2x4x10)--\n",
    "\n",
    "--BATCH then RELU--\n",
    "\n",
    "conv2 = receptive field -> (1x1x1), number of filters -> 15\n",
    "\n",
    "--(W+2xH+2x4x15)--\n",
    "\n",
    "--BATCH then RELU--\n",
    "\n",
    "conv3 = receptive field -> (3x3x3), number of filters -> 15\n",
    "\n",
    "--(WxHx2x15)--\n",
    "\n",
    "--BATCH then RELU--\n",
    "\n",
    "conv4 = receptive field -> (1x1x2), number of filters -> 1\n",
    "\n",
    "--(WxHx1x1)--\n",
    "\n",
    "--RELU--\n",
    "\n",
    "\n"
   ]
  },
  {
   "cell_type": "code",
   "execution_count": 26,
   "metadata": {
    "collapsed": false
   },
   "outputs": [
    {
     "name": "stdout",
     "output_type": "stream",
     "text": [
      "Net(\n",
      "  (conv1): Conv3d (1, 50, kernel_size=(3, 3, 3), stride=(1, 1, 1))\n",
      "  (batch1): BatchNorm2d(50, eps=1e-05, momentum=0.1, affine=True)\n",
      "  (drop1): Dropout(p=0.2)\n",
      "  (conv2): Conv3d (50, 100, kernel_size=(1, 1, 1), stride=(1, 1, 1))\n",
      "  (batch2): BatchNorm2d(100, eps=1e-05, momentum=0.1, affine=True)\n",
      "  (drop2): Dropout(p=0.2)\n",
      "  (conv3): Conv3d (100, 100, kernel_size=(3, 3, 3), stride=(1, 1, 1))\n",
      "  (batch3): BatchNorm2d(100, eps=1e-05, momentum=0.1, affine=True)\n",
      "  (drop3): Dropout(p=0.2)\n",
      "  (conv4): Conv3d (100, 100, kernel_size=(1, 1, 1), stride=(1, 1, 1))\n",
      "  (batch4): BatchNorm2d(100, eps=1e-05, momentum=0.1, affine=True)\n",
      "  (drop4): Dropout(p=0.2)\n",
      "  (conv5): Conv3d (100, 100, kernel_size=(3, 3, 3), stride=(1, 1, 1))\n",
      "  (batch5): BatchNorm2d(100, eps=1e-05, momentum=0.1, affine=True)\n",
      "  (drop5): Dropout(p=0.2)\n",
      "  (conv6): Conv3d (100, 50, kernel_size=(1, 1, 1), stride=(1, 1, 1))\n",
      "  (batch6): BatchNorm2d(50, eps=1e-05, momentum=0.1, affine=True)\n",
      "  (drop6): Dropout(p=0.2)\n",
      "  (conv7): Conv3d (50, 50, kernel_size=(3, 3, 3), stride=(1, 1, 1))\n",
      "  (batch7): BatchNorm2d(50, eps=1e-05, momentum=0.1, affine=True)\n",
      "  (drop7): Dropout(p=0.2)\n",
      "  (conv8): Conv3d (50, 1, kernel_size=(1, 1, 1), stride=(1, 1, 1))\n",
      ")\n"
     ]
    }
   ],
   "source": [
    "class Net(nn.Module):\n",
    "    \n",
    "    def __init__(self):\n",
    "        super(Net, self).__init__()\n",
    "        self.conv1 = nn.Conv3d(1, 50, 3)\n",
    "        self.batch1 = nn.BatchNorm2d(50)\n",
    "        self.drop1 = nn.Dropout(p=0.2)\n",
    "        self.conv2 = nn.Conv3d(50, 100, 1)\n",
    "        self.batch2 = nn.BatchNorm2d(100)\n",
    "        self.drop2 = nn.Dropout(p=0.2)\n",
    "        self.conv3 = nn.Conv3d(100, 100, 3)\n",
    "        self.batch3 = nn.BatchNorm2d(100)\n",
    "        self.drop3 = nn.Dropout(p=0.2)\n",
    "        self.conv4 = nn.Conv3d(100, 100, 1)\n",
    "        self.batch4 = nn.BatchNorm2d(100)\n",
    "        self.drop4 = nn.Dropout(p=0.2)\n",
    "        self.conv5 = nn.Conv3d(100, 100, 3)\n",
    "        self.batch5 = nn.BatchNorm2d(100)\n",
    "        self.drop5 = nn.Dropout(p=0.2)\n",
    "        self.conv6 = nn.Conv3d(100, 50, 1)\n",
    "        self.batch6 = nn.BatchNorm2d(50)\n",
    "        self.drop6 = nn.Dropout(p=0.2)\n",
    "        self.conv7 = nn.Conv3d(50, 50, 3)\n",
    "        self.batch7 = nn.BatchNorm2d(50)\n",
    "        self.drop7 = nn.Dropout(p=0.2)\n",
    "        self.conv8 = nn.Conv3d(50, 1, 1)\n",
    "        \n",
    "        \n",
    "        \n",
    "\n",
    "    #note this method isn't called explicitly during train, \n",
    "    #rather the instance object is called as pytorch is then \n",
    "    #able to take care of other stuff in the background\n",
    "    def forward(self, x):\n",
    "        x = F.relu(self.batch1(self.conv1(x)))\n",
    "        x = F.relu(self.batch2(self.conv2(x)))\n",
    "        x = F.relu(self.batch3(self.conv3(x)))\n",
    "        x = F.relu(self.batch4(self.conv4(x)))\n",
    "        x = F.relu(self.batch5(self.conv5(x)))\n",
    "        x = F.relu(self.batch6(self.conv6(x)))\n",
    "        x = F.relu(self.batch7(self.conv7(x)))\n",
    "        x = F.relu(self.conv8(x))\n",
    "        return x\n",
    "\n",
    "\n",
    "net = Net()\n",
    "net.cuda()\n",
    "print(net)"
   ]
  },
  {
   "cell_type": "markdown",
   "metadata": {},
   "source": [
    "### Define loss function and optimization algorithm"
   ]
  },
  {
   "cell_type": "code",
   "execution_count": 27,
   "metadata": {
    "collapsed": true
   },
   "outputs": [],
   "source": [
    "#here we use MSE loss\n",
    "criterion = nn.MSELoss() #returns the average over a mini-batch as opposed to the sum\n",
    "optimizer = optim.Adam(net.parameters(), lr=0.01)\n",
    "scheduler = torch.optim.lr_scheduler.ReduceLROnPlateau(optimizer, 'min', patience=0, verbose=True, threshold=0.1)"
   ]
  },
  {
   "cell_type": "code",
   "execution_count": 132,
   "metadata": {
    "collapsed": true
   },
   "outputs": [],
   "source": [
    "training_losses = []\n",
    "validation_losses = []"
   ]
  },
  {
   "cell_type": "markdown",
   "metadata": {},
   "source": [
    "### Train CNN"
   ]
  },
  {
   "cell_type": "code",
   "execution_count": 134,
   "metadata": {
    "collapsed": false,
    "scrolled": true
   },
   "outputs": [
    {
     "name": "stdout",
     "output_type": "stream",
     "text": [
      "[1,   250] --- Losss = 37745.15704\n",
      "[1,   500] --- Losss = 23476.56359\n",
      "[1,   750] --- Losss = 18416.40112\n",
      "[1,  1000] --- Losss = 15648.23448\n",
      "[1,  1250] --- Losss = 13879.36377\n",
      "[1,  1500] --- Losss = 12673.34727\n",
      "[1,  1750] --- Losss = 11768.43228\n",
      "[1,  2000] --- Losss = 11043.54460\n",
      "[1,  2250] --- Losss = 10460.28357\n",
      "[1,  2500] --- Losss = 9976.26557\n",
      "[1,  2750] --- Losss = 9556.01112\n",
      "[1,  3000] --- Losss = 9209.94554\n",
      "[1,  3250] --- Losss = 8893.89771\n",
      "[1,  3500] --- Losss = 8629.72333\n",
      "[1,  3750] --- Losss = 8380.46741\n",
      "[1,  4000] --- Losss = 8164.18968\n",
      "[1,  4250] --- Losss = 7971.32846\n",
      "[1,  4500] --- Losss = 7791.28573\n",
      "[1,  4750] --- Losss = 7621.48570\n",
      "[1,  5000] --- Losss = 7472.50150\n",
      "[1,  5250] --- Losss = 7327.71463\n",
      "[1,  5500] --- Losss = 7195.49905\n",
      "Training loss iteration 1 = 7068.67875\n",
      "MSE on validation set: 4054.882523\n",
      "[2,   250] --- Losss = 4046.25083\n",
      "[2,   500] --- Losss = 4086.69898\n",
      "[2,   750] --- Losss = 4039.22348\n",
      "[2,  1000] --- Losss = 3994.07555\n",
      "[2,  1250] --- Losss = 3957.32892\n",
      "[2,  1500] --- Losss = 3945.72435\n",
      "[2,  1750] --- Losss = 3918.74913\n",
      "[2,  2000] --- Losss = 3895.68956\n",
      "[2,  2250] --- Losss = 3875.90722\n",
      "[2,  2500] --- Losss = 3858.05952\n",
      "[2,  2750] --- Losss = 3830.62521\n",
      "[2,  3000] --- Losss = 3803.06820\n",
      "[2,  3250] --- Losss = 3778.76733\n",
      "[2,  3500] --- Losss = 3761.31381\n",
      "[2,  3750] --- Losss = 3738.99136\n",
      "[2,  4000] --- Losss = 3721.00162\n",
      "[2,  4250] --- Losss = 3709.36656\n",
      "[2,  4500] --- Losss = 3691.48034\n",
      "[2,  4750] --- Losss = 3685.03101\n",
      "[2,  5000] --- Losss = 3670.36852\n",
      "[2,  5250] --- Losss = 3655.71274\n",
      "[2,  5500] --- Losss = 3646.98142\n",
      "Training loss iteration 2 = 3631.00774\n",
      "MSE on validation set: 3466.346579\n",
      "[3,   250] --- Losss = 3070.44125\n",
      "[3,   500] --- Losss = 3149.06783\n",
      "[3,   750] --- Losss = 3124.10961\n",
      "[3,  1000] --- Losss = 3108.10216\n",
      "[3,  1250] --- Losss = 3106.11179\n",
      "[3,  1500] --- Losss = 3114.92499\n",
      "[3,  1750] --- Losss = 3098.44027\n",
      "[3,  2000] --- Losss = 3095.30396\n",
      "[3,  2250] --- Losss = 3104.78603\n",
      "[3,  2500] --- Losss = 3101.19989\n",
      "[3,  2750] --- Losss = 3101.69264\n",
      "[3,  3000] --- Losss = 3084.28538\n",
      "[3,  3250] --- Losss = 3077.54576\n",
      "[3,  3500] --- Losss = 3061.56174\n",
      "[3,  3750] --- Losss = 3048.55198\n",
      "[3,  4000] --- Losss = 3047.63013\n",
      "[3,  4250] --- Losss = 3042.21365\n",
      "[3,  4500] --- Losss = 3040.28221\n",
      "[3,  4750] --- Losss = 3040.69592\n",
      "[3,  5000] --- Losss = 3035.15688\n",
      "[3,  5250] --- Losss = 3027.68730\n",
      "[3,  5500] --- Losss = 3016.95382\n",
      "Training loss iteration 3 = 3013.24595\n",
      "MSE on validation set: 2654.078375\n",
      "[4,   250] --- Losss = 2733.54372\n",
      "[4,   500] --- Losss = 2734.88859\n",
      "[4,   750] --- Losss = 2703.15636\n",
      "[4,  1000] --- Losss = 2689.28168\n",
      "[4,  1250] --- Losss = 2723.42343\n",
      "[4,  1500] --- Losss = 2715.25949\n",
      "[4,  1750] --- Losss = 2718.83004\n",
      "[4,  2000] --- Losss = 2714.56579\n",
      "[4,  2250] --- Losss = 2713.51234\n",
      "[4,  2500] --- Losss = 2716.16614\n",
      "[4,  2750] --- Losss = 2716.28276\n",
      "[4,  3000] --- Losss = 2706.65100\n",
      "[4,  3250] --- Losss = 2706.50000\n",
      "[4,  3500] --- Losss = 2698.11822\n",
      "[4,  3750] --- Losss = 2697.63043\n",
      "[4,  4000] --- Losss = 2695.24084\n",
      "[4,  4250] --- Losss = 2694.76900\n",
      "[4,  4500] --- Losss = 2687.26440\n",
      "[4,  4750] --- Losss = 2686.86961\n",
      "[4,  5000] --- Losss = 2679.03023\n",
      "[4,  5250] --- Losss = 2676.39325\n",
      "[4,  5500] --- Losss = 2686.47220\n",
      "Training loss iteration 4 = 2686.32491\n",
      "MSE on validation set: 2512.658428\n",
      "[5,   250] --- Losss = 2402.34598\n",
      "[5,   500] --- Losss = 2443.41120\n",
      "[5,   750] --- Losss = 2493.45305\n",
      "[5,  1000] --- Losss = 2473.33995\n",
      "[5,  1250] --- Losss = 2462.82978\n",
      "[5,  1500] --- Losss = 2478.49108\n",
      "[5,  1750] --- Losss = 2489.35602\n",
      "[5,  2000] --- Losss = 2489.03482\n",
      "[5,  2250] --- Losss = 2484.05710\n",
      "[5,  2500] --- Losss = 2475.25777\n",
      "[5,  2750] --- Losss = 2471.73609\n",
      "[5,  3000] --- Losss = 2471.48668\n",
      "[5,  3250] --- Losss = 2478.51687\n",
      "[5,  3500] --- Losss = 2483.83272\n",
      "[5,  3750] --- Losss = 2487.33151\n",
      "[5,  4000] --- Losss = 2483.69742\n",
      "[5,  4250] --- Losss = 2482.21284\n",
      "[5,  4500] --- Losss = 2478.17960\n",
      "[5,  4750] --- Losss = 2479.62780\n",
      "[5,  5000] --- Losss = 2478.52991\n",
      "[5,  5250] --- Losss = 2479.42621\n",
      "[5,  5500] --- Losss = 2477.89491\n",
      "Training loss iteration 5 = 2472.21828\n",
      "Epoch     4: reducing learning rate of group 0 to 1.0000e-03.\n",
      "MSE on validation set: 2363.969062\n",
      "[6,   250] --- Losss = 2128.82985\n",
      "[6,   500] --- Losss = 2060.71001\n",
      "[6,   750] --- Losss = 2014.82228\n",
      "[6,  1000] --- Losss = 2005.50616\n",
      "[6,  1250] --- Losss = 1991.17738\n",
      "[6,  1500] --- Losss = 1992.65363\n",
      "[6,  1750] --- Losss = 1976.67688\n",
      "[6,  2000] --- Losss = 1968.02012\n",
      "[6,  2250] --- Losss = 1965.08888\n",
      "[6,  2500] --- Losss = 1961.01301\n",
      "[6,  2750] --- Losss = 1956.22449\n",
      "[6,  3000] --- Losss = 1950.27783\n",
      "[6,  3250] --- Losss = 1947.07976\n",
      "[6,  3500] --- Losss = 1947.23760\n",
      "[6,  3750] --- Losss = 1942.16107\n",
      "[6,  4000] --- Losss = 1940.48481\n",
      "[6,  4250] --- Losss = 1940.26798\n",
      "[6,  4500] --- Losss = 1940.72585\n",
      "[6,  4750] --- Losss = 1937.62670\n",
      "[6,  5000] --- Losss = 1934.44330\n",
      "[6,  5250] --- Losss = 1933.72440\n",
      "[6,  5500] --- Losss = 1929.80373\n",
      "Training loss iteration 6 = 1927.66165\n",
      "MSE on validation set: 1827.810178\n",
      "[7,   250] --- Losss = 1849.17391\n",
      "[7,   500] --- Losss = 1834.81251\n",
      "[7,   750] --- Losss = 1828.41298\n",
      "[7,  1000] --- Losss = 1812.69868\n",
      "[7,  1250] --- Losss = 1815.96119\n",
      "[7,  1500] --- Losss = 1816.68344\n",
      "[7,  1750] --- Losss = 1826.36143\n",
      "[7,  2000] --- Losss = 1823.73762\n",
      "[7,  2250] --- Losss = 1827.42733\n",
      "[7,  2500] --- Losss = 1826.47027\n",
      "[7,  2750] --- Losss = 1820.59168\n",
      "[7,  3000] --- Losss = 1819.36432\n",
      "[7,  3250] --- Losss = 1821.84990\n",
      "[7,  3500] --- Losss = 1825.72037\n",
      "[7,  3750] --- Losss = 1823.95862\n",
      "[7,  4000] --- Losss = 1823.55314\n",
      "[7,  4250] --- Losss = 1826.92699\n",
      "[7,  4500] --- Losss = 1826.50140\n",
      "[7,  4750] --- Losss = 1827.89129\n",
      "[7,  5000] --- Losss = 1827.33927\n",
      "[7,  5250] --- Losss = 1828.20651\n",
      "[7,  5500] --- Losss = 1824.68694\n",
      "Training loss iteration 7 = 1824.88046\n",
      "Epoch     6: reducing learning rate of group 0 to 1.0000e-04.\n",
      "MSE on validation set: 1814.041824\n",
      "[8,   250] --- Losss = 1786.19542\n",
      "[8,   500] --- Losss = 1751.10523\n",
      "[8,   750] --- Losss = 1741.58674\n",
      "[8,  1000] --- Losss = 1745.39566\n",
      "[8,  1250] --- Losss = 1742.57530\n",
      "[8,  1500] --- Losss = 1744.02034\n",
      "[8,  1750] --- Losss = 1745.51760\n",
      "[8,  2000] --- Losss = 1741.43613\n",
      "[8,  2250] --- Losss = 1742.50500\n",
      "[8,  2500] --- Losss = 1744.61055\n",
      "[8,  2750] --- Losss = 1742.60045\n",
      "[8,  3000] --- Losss = 1741.25641\n",
      "[8,  3250] --- Losss = 1743.95506\n",
      "[8,  3500] --- Losss = 1741.71876\n",
      "[8,  3750] --- Losss = 1742.48773\n",
      "[8,  4000] --- Losss = 1743.18746\n",
      "[8,  4250] --- Losss = 1743.26368\n",
      "[8,  4500] --- Losss = 1743.72824\n",
      "[8,  4750] --- Losss = 1746.89840\n",
      "[8,  5000] --- Losss = 1744.34709\n",
      "[8,  5250] --- Losss = 1744.75985\n",
      "[8,  5500] --- Losss = 1748.18326\n",
      "Training loss iteration 8 = 1747.52797\n",
      "Epoch     7: reducing learning rate of group 0 to 1.0000e-05.\n",
      "MSE on validation set: 1797.941523\n",
      "[9,   250] --- Losss = 1711.46621\n",
      "[9,   500] --- Losss = 1715.09922\n",
      "[9,   750] --- Losss = 1706.78956\n",
      "[9,  1000] --- Losss = 1699.39466\n",
      "[9,  1250] --- Losss = 1691.04525\n",
      "[9,  1500] --- Losss = 1707.37962\n",
      "[9,  1750] --- Losss = 1712.45319\n",
      "[9,  2000] --- Losss = 1715.40389\n",
      "[9,  2250] --- Losss = 1716.51921\n",
      "[9,  2500] --- Losss = 1718.30726\n",
      "[9,  2750] --- Losss = 1723.65170\n",
      "[9,  3000] --- Losss = 1722.84662\n",
      "[9,  3250] --- Losss = 1723.58834\n",
      "[9,  3500] --- Losss = 1724.93715\n",
      "[9,  3750] --- Losss = 1730.27299\n",
      "[9,  4000] --- Losss = 1729.68442\n",
      "[9,  4250] --- Losss = 1730.70485\n",
      "[9,  4500] --- Losss = 1732.65943\n",
      "[9,  4750] --- Losss = 1731.83960\n",
      "[9,  5000] --- Losss = 1734.91611\n",
      "[9,  5250] --- Losss = 1737.01093\n",
      "[9,  5500] --- Losss = 1736.63631\n",
      "Training loss iteration 9 = 1735.89420\n",
      "Epoch     8: reducing learning rate of group 0 to 1.0000e-06.\n",
      "MSE on validation set: 1789.062423\n",
      "[10,   250] --- Losss = 1710.81919\n",
      "[10,   500] --- Losss = 1722.94729\n",
      "[10,   750] --- Losss = 1717.85679\n",
      "[10,  1000] --- Losss = 1727.57991\n",
      "[10,  1250] --- Losss = 1725.42834\n",
      "[10,  1500] --- Losss = 1721.60330\n",
      "[10,  1750] --- Losss = 1717.14984\n",
      "[10,  2000] --- Losss = 1716.86641\n",
      "[10,  2250] --- Losss = 1721.43220\n",
      "[10,  2500] --- Losss = 1720.17308\n",
      "[10,  2750] --- Losss = 1719.92622\n",
      "[10,  3000] --- Losss = 1722.50173\n",
      "[10,  3250] --- Losss = 1727.15973\n",
      "[10,  3500] --- Losss = 1728.22445\n",
      "[10,  3750] --- Losss = 1729.67251\n",
      "[10,  4000] --- Losss = 1728.67224\n",
      "[10,  4250] --- Losss = 1731.13083\n",
      "[10,  4500] --- Losss = 1729.70677\n",
      "[10,  4750] --- Losss = 1731.34065\n",
      "[10,  5000] --- Losss = 1731.93287\n",
      "[10,  5250] --- Losss = 1730.58047\n",
      "[10,  5500] --- Losss = 1729.84891\n",
      "Training loss iteration 10 = 1731.86788\n",
      "MSE on validation set: 1778.228527\n",
      "[11,   250] --- Losss = 1676.12827\n",
      "[11,   500] --- Losss = 1704.59670\n",
      "[11,   750] --- Losss = 1723.83227\n",
      "[11,  1000] --- Losss = 1733.34606\n",
      "[11,  1250] --- Losss = 1728.73976\n",
      "[11,  1500] --- Losss = 1729.78098\n",
      "[11,  1750] --- Losss = 1728.19377\n",
      "[11,  2000] --- Losss = 1726.91885\n",
      "[11,  2250] --- Losss = 1724.87283\n",
      "[11,  2500] --- Losss = 1723.93820\n",
      "[11,  2750] --- Losss = 1727.43329\n",
      "[11,  3000] --- Losss = 1723.14294\n",
      "[11,  3250] --- Losss = 1725.46652\n",
      "[11,  3500] --- Losss = 1726.45615\n",
      "[11,  3750] --- Losss = 1726.87500\n",
      "[11,  4000] --- Losss = 1726.02585\n",
      "[11,  4250] --- Losss = 1724.11159\n",
      "[11,  4500] --- Losss = 1725.31667\n",
      "[11,  4750] --- Losss = 1725.63636\n",
      "[11,  5000] --- Losss = 1726.91653\n",
      "[11,  5250] --- Losss = 1726.99925\n",
      "[11,  5500] --- Losss = 1732.86267\n",
      "Training loss iteration 11 = 1733.33019\n",
      "Epoch    10: reducing learning rate of group 0 to 1.0000e-07.\n",
      "MSE on validation set: 1779.510088\n",
      "[12,   250] --- Losss = 1728.17824\n",
      "[12,   500] --- Losss = 1733.18857\n",
      "[12,   750] --- Losss = 1737.12491\n",
      "[12,  1000] --- Losss = 1738.80107\n",
      "[12,  1250] --- Losss = 1736.98894\n",
      "[12,  1500] --- Losss = 1728.42407\n",
      "[12,  1750] --- Losss = 1726.65080\n",
      "[12,  2000] --- Losss = 1722.99979\n",
      "[12,  2250] --- Losss = 1725.34534\n",
      "[12,  2500] --- Losss = 1732.97211\n",
      "[12,  2750] --- Losss = 1734.04854\n",
      "[12,  3000] --- Losss = 1740.60772\n",
      "[12,  3250] --- Losss = 1739.95097\n",
      "[12,  3500] --- Losss = 1739.17830\n",
      "[12,  3750] --- Losss = 1736.94291\n",
      "[12,  4000] --- Losss = 1739.65057\n",
      "[12,  4250] --- Losss = 1737.75925\n",
      "[12,  4500] --- Losss = 1736.79348\n",
      "[12,  4750] --- Losss = 1737.37238\n",
      "[12,  5000] --- Losss = 1737.43380\n",
      "[12,  5250] --- Losss = 1735.69302\n",
      "[12,  5500] --- Losss = 1736.87777\n",
      "Training loss iteration 12 = 1736.54336\n",
      "Epoch    11: reducing learning rate of group 0 to 1.0000e-08.\n",
      "MSE on validation set: 1778.497585\n",
      "[13,   250] --- Losss = 1712.61384\n",
      "[13,   500] --- Losss = 1716.98856\n",
      "[13,   750] --- Losss = 1715.96410\n",
      "[13,  1000] --- Losss = 1718.85973\n",
      "[13,  1250] --- Losss = 1708.56219\n",
      "[13,  1500] --- Losss = 1722.30537\n",
      "[13,  1750] --- Losss = 1730.11368\n",
      "[13,  2000] --- Losss = 1730.54787\n",
      "[13,  2250] --- Losss = 1725.24153\n",
      "[13,  2500] --- Losss = 1724.95185\n",
      "[13,  2750] --- Losss = 1731.12584\n",
      "[13,  3000] --- Losss = 1735.22906\n",
      "[13,  3250] --- Losss = 1733.51552\n",
      "[13,  3500] --- Losss = 1734.63850\n",
      "[13,  3750] --- Losss = 1734.98854\n",
      "[13,  4000] --- Losss = 1732.40966\n",
      "[13,  4250] --- Losss = 1729.74398\n",
      "[13,  4500] --- Losss = 1731.14271\n",
      "[13,  4750] --- Losss = 1730.51941\n",
      "[13,  5000] --- Losss = 1731.27734\n",
      "[13,  5250] --- Losss = 1730.76717\n",
      "[13,  5500] --- Losss = 1730.38387\n",
      "Training loss iteration 13 = 1733.50060\n",
      "MSE on validation set: 1785.204802\n",
      "[14,   250] --- Losss = 1765.36060\n",
      "[14,   500] --- Losss = 1738.92774\n",
      "[14,   750] --- Losss = 1735.83728\n",
      "[14,  1000] --- Losss = 1732.79992\n",
      "[14,  1250] --- Losss = 1750.70303\n",
      "[14,  1500] --- Losss = 1745.39137\n",
      "[14,  1750] --- Losss = 1741.08532\n",
      "[14,  2000] --- Losss = 1745.41545\n",
      "[14,  2250] --- Losss = 1741.39753\n",
      "[14,  2500] --- Losss = 1741.24574\n",
      "[14,  2750] --- Losss = 1738.32210\n",
      "[14,  3000] --- Losss = 1740.93781\n",
      "[14,  3250] --- Losss = 1740.48320\n",
      "[14,  3500] --- Losss = 1742.92591\n",
      "[14,  3750] --- Losss = 1744.84823\n",
      "[14,  4000] --- Losss = 1743.80754\n",
      "[14,  4250] --- Losss = 1740.14025\n",
      "[14,  4500] --- Losss = 1735.58175\n",
      "[14,  4750] --- Losss = 1733.12881\n",
      "[14,  5000] --- Losss = 1733.03774\n",
      "[14,  5250] --- Losss = 1731.73217\n",
      "[14,  5500] --- Losss = 1732.67164\n",
      "Training loss iteration 14 = 1730.85055\n",
      "MSE on validation set: 1849.050692\n",
      "[15,   250] --- Losss = 1760.40188\n",
      "[15,   500] --- Losss = 1752.48152\n",
      "[15,   750] --- Losss = 1748.17439\n",
      "[15,  1000] --- Losss = 1754.69471\n",
      "[15,  1250] --- Losss = 1751.25682\n",
      "[15,  1500] --- Losss = 1734.33941\n",
      "[15,  1750] --- Losss = 1735.11008\n",
      "[15,  2000] --- Losss = 1736.80669\n",
      "[15,  2250] --- Losss = 1737.86270\n",
      "[15,  2500] --- Losss = 1736.90116\n",
      "[15,  2750] --- Losss = 1738.40068\n",
      "[15,  3000] --- Losss = 1737.01171\n",
      "[15,  3250] --- Losss = 1742.55851\n",
      "[15,  3500] --- Losss = 1739.22486\n",
      "[15,  3750] --- Losss = 1740.33144\n",
      "[15,  4000] --- Losss = 1740.36061\n",
      "[15,  4250] --- Losss = 1740.53164\n",
      "[15,  4500] --- Losss = 1743.08931\n",
      "[15,  4750] --- Losss = 1746.59776\n",
      "[15,  5000] --- Losss = 1747.58793\n",
      "[15,  5250] --- Losss = 1746.52166\n",
      "[15,  5500] --- Losss = 1745.57922\n",
      "Training loss iteration 15 = 1744.77700\n",
      "MSE on validation set: 1784.567081\n",
      "Finished Training\n"
     ]
    }
   ],
   "source": [
    "(trained_net, training_losses, validation_losses) = train(net, trainloader, valiloader, training_losses, validation_losses, optimizer, criterion, scheduler, 15)"
   ]
  },
  {
   "cell_type": "code",
   "execution_count": 135,
   "metadata": {
    "collapsed": false
   },
   "outputs": [
    {
     "data": {
      "image/png": "[encoded data removed]",
      "text/plain": [
       "<matplotlib.figure.Figure at 0x7f5c6ea3ae50>"
      ]
     },
     "metadata": {},
     "output_type": "display_data"
    }
   ],
   "source": [
    "plt_losses(training_losses, validation_losses)"
   ]
  },
  {
   "cell_type": "markdown",
   "metadata": {},
   "source": [
    "### Calculate the test error - Random patches"
   ]
  },
  {
   "cell_type": "code",
   "execution_count": 136,
   "metadata": {
    "collapsed": false
   },
   "outputs": [
    {
     "name": "stdout",
     "output_type": "stream",
     "text": [
      "250\n",
      "500\n",
      "750\n",
      "1000\n"
     ]
    }
   ],
   "source": [
    "# Calculate the error between the predicted voxel values and target1 -- this is from registered scan 1 of the output\n",
    "\n",
    "# First convert the testing targets to numpy arrays\n",
    "testing_target1_nump = np.asarray(testing_target1)\n",
    "testing_target2_nump = np.asarray(testing_target2)\n",
    "\n",
    "# Get the predicted voxel values of the test set\n",
    "test_predictions = get_predictions(trained_net, testloader)"
   ]
  },
  {
   "cell_type": "code",
   "execution_count": 137,
   "metadata": {
    "collapsed": false
   },
   "outputs": [
    {
     "name": "stdout",
     "output_type": "stream",
     "text": [
      "-----------------------------\n",
      "\n",
      "MSE on test patches: 1760.991821\n",
      "Mean absolute loss on test patches: 27.354359\n",
      "R2 loss on test patches (Coefficient of determination): 0.953029\n",
      "Percentage of predictions within target range: 28.872591\n"
     ]
    }
   ],
   "source": [
    "get_errors(test_predictions, testing_target1_nump, testing_target2_nump, \"patches\")"
   ]
  },
  {
   "cell_type": "code",
   "execution_count": 139,
   "metadata": {
    "collapsed": false
   },
   "outputs": [
    {
     "name": "stdout",
     "output_type": "stream",
     "text": [
      "MSE between targets: 2243.617432\n",
      "Mean absolute loss between targets: 27.967659\n",
      "R2 loss between targets (Coefficient of determination): 0.940156\n"
     ]
    }
   ],
   "source": [
    "get_errors_between_targets(testing_target1_nump, testing_target2_nump)"
   ]
  },
  {
   "cell_type": "code",
   "execution_count": 140,
   "metadata": {
    "collapsed": false
   },
   "outputs": [
    {
     "data": {
      "image/png": "[encoded data removed]",
      "text/plain": [
       "<matplotlib.figure.Figure at 0x7f5c6ea3ad10>"
      ]
     },
     "metadata": {},
     "output_type": "display_data"
    }
   ],
   "source": [
    "bland_altman_plot(test_predictions, testing_target1_nump, testing_target2_nump)"
   ]
  },
  {
   "cell_type": "code",
   "execution_count": 141,
   "metadata": {
    "collapsed": false
   },
   "outputs": [
    {
     "data": {
      "image/png": "[encoded data removed]",
      "text/plain": [
       "<matplotlib.figure.Figure at 0x7f5c7c9ff1d0>"
      ]
     },
     "metadata": {},
     "output_type": "display_data"
    }
   ],
   "source": [
    "plot_predicted(test_predictions, testing_target1_nump, testing_target2_nump)"
   ]
  },
  {
   "cell_type": "markdown",
   "metadata": {},
   "source": [
    "### Calculate the error on the final testing scan"
   ]
  },
  {
   "cell_type": "code",
   "execution_count": 29,
   "metadata": {
    "collapsed": true
   },
   "outputs": [
    {
     "name": "stdout",
     "output_type": "stream",
     "text": [
      "250\n",
      "500\n",
      "750\n",
      "1000\n",
      "1250\n",
      "1500\n",
      "1750\n",
      "2000\n",
      "2250\n",
      "2500\n",
      "2750\n",
      "3000\n",
      "3250\n",
      "3500\n",
      "3750\n",
      "4000\n",
      "4250\n",
      "4500\n",
      "4750\n",
      "5000\n",
      "5250\n",
      "5500\n",
      "5750\n"
     ]
    }
   ],
   "source": [
    "final_test_predictions = get_predictions(trained_net, final_test_loader)"
   ]
  },
  {
   "cell_type": "code",
   "execution_count": 30,
   "metadata": {
    "collapsed": true
   },
   "outputs": [],
   "source": [
    "final_predicted_brains = reconstruct_brain(final_test_predictions, final_test_inp)"
   ]
  },
  {
   "cell_type": "code",
   "execution_count": 31,
   "metadata": {
    "collapsed": false
   },
   "outputs": [
    {
     "name": "stdout",
     "output_type": "stream",
     "text": [
      "\n",
      "--------------Scan 1---------------\n",
      "MSE on test scan: 1816.899292\n",
      "Mean absolute loss on test scan: 18.634604\n",
      "R2 loss on test scan (Coefficient of determination): 0.959251\n",
      "Percentage of predictions within target range: 64.164776\n",
      "\n",
      "--------------Scan 2---------------\n",
      "MSE on test scan: 1672.943115\n",
      "Mean absolute loss on test scan: 18.360420\n",
      "R2 loss on test scan (Coefficient of determination): 0.960723\n",
      "Percentage of predictions within target range: 64.402674\n",
      "\n",
      "--------------Scan 3---------------\n",
      "MSE on test scan: 1503.728149\n",
      "Mean absolute loss on test scan: 17.868032\n",
      "R2 loss on test scan (Coefficient of determination): 0.964914\n",
      "Percentage of predictions within target range: 64.558630\n",
      "\n",
      "--------------Scan 4---------------\n",
      "MSE on test scan: 3199.220703\n",
      "Mean absolute loss on test scan: 23.510212\n",
      "R2 loss on test scan (Coefficient of determination): 0.924683\n",
      "Percentage of predictions within target range: 64.830681\n",
      "\n",
      "--------------Scan 5---------------\n",
      "MSE on test scan: 3241.624756\n",
      "Mean absolute loss on test scan: 25.598808\n",
      "R2 loss on test scan (Coefficient of determination): 0.927868\n",
      "Percentage of predictions within target range: 64.170782\n",
      "\n",
      "------Average of errors across all scans------\n",
      "Avg mse: 2286.883203\n",
      "Avg l1: 20.794415\n",
      "Avg r1: 0.947488\n"
     ]
    }
   ],
   "source": [
    "get_errors(final_predicted_brains, final_test_out1, final_test_out2, \"scan\")"
   ]
  },
  {
   "cell_type": "code",
   "execution_count": 17,
   "metadata": {
    "collapsed": false
   },
   "outputs": [
    {
     "name": "stdout",
     "output_type": "stream",
     "text": [
      "\n",
      "--------------Scan 1---------------\n",
      "MSE between targets: 4244.354980\n",
      "Mean absolute loss between targets: 23.931274\n",
      "R2 loss between targets (Coefficient of determination): 0.926246\n",
      "\n",
      "-------Average of errors--------\n",
      "Avg mse: 4244.354980\n",
      "Avg l1: 23.931274\n",
      "Avg r1: 0.926246\n"
     ]
    }
   ],
   "source": [
    "get_errors_between_targets([final_test_out1[0]], [final_test_out2[0]], \"scan\")"
   ]
  },
  {
   "cell_type": "code",
   "execution_count": 28,
   "metadata": {
    "collapsed": false
   },
   "outputs": [
    {
     "data": {
      "text/plain": [
       "4244.354836777478"
      ]
     },
     "execution_count": 28,
     "metadata": {},
     "output_type": "execute_result"
    }
   ],
   "source": [
    "np.square(final_test_out1[0] - final_test_out2[0]).sum()/ (53*70*54)"
   ]
  },
  {
   "cell_type": "code",
   "execution_count": 27,
   "metadata": {
    "collapsed": false
   },
   "outputs": [
    {
     "data": {
      "text/plain": [
       "(53, 70, 54, 1)"
      ]
     },
     "execution_count": 27,
     "metadata": {},
     "output_type": "execute_result"
    }
   ],
   "source": [
    "final_test_out1[0].shape"
   ]
  },
  {
   "cell_type": "markdown",
   "metadata": {},
   "source": [
    "### Visualise predictions"
   ]
  },
  {
   "cell_type": "code",
   "execution_count": 25,
   "metadata": {
    "collapsed": true
   },
   "outputs": [],
   "source": [
    "def viz_pred(inputs, predictions, labels, sliceNo):\n",
    "    maximum = 1500\n",
    "    plt.figure\n",
    "    plt.figure(figsize=(5,5))\n",
    "    plt.subplot(1, 3, 1).set_axis_off()\n",
    "    plt.imshow(inputs[:,:,sliceNo,0].T, cmap='gray', origin='lower', vmax = maximum, vmin=0)\n",
    "    plt.title(\"Input\")\n",
    "    plt.subplot(1, 3, 2).set_axis_off()\n",
    "    plt.imshow(predictions[:,:,sliceNo,0].T, cmap='gray', origin='lower', vmax = maximum, vmin=0)\n",
    "    plt.title(\"Predicted\")\n",
    "    plt.subplot(1, 3, 3).set_axis_off()\n",
    "    plt.imshow(labels[:,:,sliceNo,0].T, cmap='gray', origin='lower', vmax = maximum, vmin=0)\n",
    "    plt.title(\"Target\")\n",
    "    \n",
    "    plt.figure(figsize=(5,5))\n",
    "    plt.subplot(1, 3, 1).set_axis_off()\n",
    "    plt.imshow(inputs[:,sliceNo,:,0].T, cmap='gray', origin='lower', vmax = maximum, vmin=0)\n",
    "    plt.subplot(1, 3, 2).set_axis_off()\n",
    "    plt.imshow(predictions[:,sliceNo,:,0].T, cmap='gray', origin='lower', vmax = maximum, vmin=0)\n",
    "    plt.subplot(1, 3, 3).set_axis_off()\n",
    "    plt.imshow(labels[:,sliceNo,:,0].T, cmap='gray', origin='lower', vmax = maximum, vmin=0)\n",
    "    \n",
    "    plt.figure(figsize=(5,5))\n",
    "    plt.subplot(1, 3, 1).set_axis_off()\n",
    "    plt.imshow(inputs[sliceNo,:,:,0].T, cmap='gray', origin='lower', vmax = maximum, vmin=0)\n",
    "    plt.subplot(1, 3, 2).set_axis_off()\n",
    "    plt.imshow(predictions[sliceNo,:,:,0].T, cmap='gray', origin='lower', vmax = maximum, vmin=0)\n",
    "    plt.subplot(1, 3, 3).set_axis_off()\n",
    "    plt.imshow(labels[sliceNo,:,:,0].T, cmap='gray', origin='lower', vmax = maximum, vmin=0)\n",
    "    \n",
    "    plt.show()"
   ]
  },
  {
   "cell_type": "code",
   "execution_count": 39,
   "metadata": {
    "collapsed": false
   },
   "outputs": [
    {
     "ename": "TypeError",
     "evalue": "'tuple' object cannot be interpreted as an index",
     "output_type": "error",
     "traceback": [
      "\u001b[0;31m---------------------------------------------------------------------------\u001b[0m",
      "\u001b[0;31mTypeError\u001b[0m                                 Traceback (most recent call last)",
      "\u001b[0;32m<ipython-input-39-7f1288f9c248>\u001b[0m in \u001b[0;36m<module>\u001b[0;34m()\u001b[0m\n\u001b[0;32m----> 1\u001b[0;31m \u001b[0mnp\u001b[0m\u001b[0;34m.\u001b[0m\u001b[0mrandom\u001b[0m\u001b[0;34m.\u001b[0m\u001b[0mrand\u001b[0m\u001b[0;34m(\u001b[0m\u001b[0my\u001b[0m\u001b[0;34m.\u001b[0m\u001b[0mshape\u001b[0m\u001b[0;34m)\u001b[0m\u001b[0;34m\u001b[0m\u001b[0m\n\u001b[0m",
      "\u001b[0;32mmtrand.pyx\u001b[0m in \u001b[0;36mmtrand.RandomState.rand\u001b[0;34m()\u001b[0m\n",
      "\u001b[0;32mmtrand.pyx\u001b[0m in \u001b[0;36mmtrand.RandomState.random_sample\u001b[0;34m()\u001b[0m\n",
      "\u001b[0;32mmtrand.pyx\u001b[0m in \u001b[0;36mmtrand.cont0_array\u001b[0;34m()\u001b[0m\n",
      "\u001b[0;31mTypeError\u001b[0m: 'tuple' object cannot be interpreted as an index"
     ]
    }
   ],
   "source": [
    "np.random.rand(y.shape)\n"
   ]
  },
  {
   "cell_type": "code",
   "execution_count": 40,
   "metadata": {
    "collapsed": false
   },
   "outputs": [
    {
     "data": {
      "text/plain": [
       "(53, 70, 54, 1)"
      ]
     },
     "execution_count": 40,
     "metadata": {},
     "output_type": "execute_result"
    }
   ],
   "source": [
    "y.shape"
   ]
  },
  {
   "cell_type": "code",
   "execution_count": 45,
   "metadata": {
    "collapsed": false
   },
   "outputs": [],
   "source": [
    "y = final_test_out1[0]\n",
    "y = y - np.random.rand(53, 70, 54, 1)*150"
   ]
  },
  {
   "cell_type": "code",
   "execution_count": 46,
   "metadata": {
    "collapsed": false
   },
   "outputs": [
    {
     "data": {
      "image/png": "[encoded data removed]",
      "text/plain": [
       "<matplotlib.figure.Figure at 0x10de0be90>"
      ]
     },
     "metadata": {},
     "output_type": "display_data"
    },
    {
     "data": {
      "image/png": "[encoded data removed]",
      "text/plain": [
       "<matplotlib.figure.Figure at 0x10d14e650>"
      ]
     },
     "metadata": {},
     "output_type": "display_data"
    },
    {
     "data": {
      "image/png": "[encoded data removed]",
      "text/plain": [
       "<matplotlib.figure.Figure at 0x10d181ed0>"
      ]
     },
     "metadata": {},
     "output_type": "display_data"
    }
   ],
   "source": [
    "viz_pred(final_test_inp[0], y, final_test_out2[0], 25)"
   ]
  },
  {
   "cell_type": "code",
   "execution_count": 41,
   "metadata": {
    "collapsed": false
   },
   "outputs": [
    {
     "data": {
      "image/png": "[encoded data removed]",
      "text/plain": [
       "<matplotlib.figure.Figure at 0x7f858cde7950>"
      ]
     },
     "metadata": {},
     "output_type": "display_data"
    }
   ],
   "source": [
    "viz_diff(final_predicted_brains[0], final_test_inp[0], final_test_out1[0], 25)"
   ]
  },
  {
   "cell_type": "markdown",
   "metadata": {},
   "source": [
    "## Save the target and the predicted scans"
   ]
  },
  {
   "cell_type": "code",
   "execution_count": 251,
   "metadata": {
    "collapsed": true
   },
   "outputs": [],
   "source": [
    "save_to = \"/home/ubuntu/project/Dataset/Final_AWS_1\"\n",
    "\n",
    "predicted_scan = nib.Nifti1Image(final_predicted_brain, affine_mat)\n",
    "nib.save(predicted_scan, save_to + \"/Predicted_Subj9Scan2_AWS.nii.gz\" )"
   ]
  },
  {
   "cell_type": "markdown",
   "metadata": {},
   "source": [
    "## Store the model parameters"
   ]
  },
  {
   "cell_type": "code",
   "execution_count": 159,
   "metadata": {
    "collapsed": true
   },
   "outputs": [],
   "source": [
    "torch.save(trained_net.state_dict(), '/home/ubuntu/project/MRIDataHarmonisation/Development/Model_Params_AWS/Final_Model.pth') "
   ]
  },
  {
   "cell_type": "markdown",
   "metadata": {},
   "source": [
    "## Load the model parameters"
   ]
  },
  {
   "cell_type": "code",
   "execution_count": 28,
   "metadata": {
    "collapsed": true
   },
   "outputs": [],
   "source": [
    "trained_net = Net()\n",
    "trained_net.cuda()\n",
    "trained_net.load_state_dict(torch.load('/home/ubuntu/project/MRIDataHarmonisation/Development/Model_Params_AWS/Final_Model.pth'))"
   ]
  },
  {
   "cell_type": "code",
   "execution_count": null,
   "metadata": {
    "collapsed": true
   },
   "outputs": [],
   "source": []
  }
 ],
 "metadata": {
  "kernelspec": {
   "display_name": "Python 2",
   "language": "python",
   "name": "python2"
  },
  "language_info": {
   "codemirror_mode": {
    "name": "ipython",
    "version": 2
   },
   "file_extension": ".py",
   "mimetype": "text/x-python",
   "name": "python",
   "nbconvert_exporter": "python",
   "pygments_lexer": "ipython2",
   "version": "2.7.10"
  }
 },
 "nbformat": 4,
 "nbformat_minor": 2
}
