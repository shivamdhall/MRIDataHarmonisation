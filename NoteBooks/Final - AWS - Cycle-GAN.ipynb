{
 "cells": [
  {
   "cell_type": "markdown",
   "metadata": {},
   "source": [
    "# Fianl - AWS - Cycle-General Adversarial Network"
   ]
  },
  {
   "cell_type": "markdown",
   "metadata": {},
   "source": [
    "### Upload the data required"
   ]
  },
  {
   "cell_type": "markdown",
   "metadata": {},
   "source": [
    "We use both scans of subjects 1-8 from the PETMR and TRIO dataset for training.\n",
    "\n",
    "We used the scan of subjects 9-10 also from the PETMR and TRIO dataset for testing."
   ]
  },
  {
   "cell_type": "markdown",
   "metadata": {},
   "source": [
    "## FUNCTIONS"
   ]
  },
  {
   "cell_type": "code",
   "execution_count": 5,
   "metadata": {
    "collapsed": false
   },
   "outputs": [
    {
     "name": "stderr",
     "output_type": "stream",
     "text": [
      "/Library/Python/2.7/site-packages/h5py/__init__.py:36: FutureWarning: Conversion of the second argument of issubdtype from `float` to `np.floating` is deprecated. In future, it will be treated as `np.float64 == np.dtype(float).type`.\n",
      "  from ._conv import register_converters as _register_converters\n"
     ]
    }
   ],
   "source": [
    "import nibabel as nib\n",
    "import numpy as np\n",
    "import matplotlib.pyplot as plt\n",
    "import os\n",
    "%matplotlib inline\n",
    "import sys\n",
    "from dipy.io import read_bvals_bvecs\n",
    "from dipy.core.gradients import gradient_table\n",
    "import random"
   ]
  },
  {
   "cell_type": "code",
   "execution_count": 6,
   "metadata": {
    "collapsed": true
   },
   "outputs": [],
   "source": [
    "#this function simply uploads the testing and training scans into lists of numpy arrays\n",
    "#the data is not yet sliced or patched at this stage\n",
    "\n",
    "#specify in a list what scans to use for training and what scans to use for testing\n",
    "\n",
    "\n",
    "def get_data(petmr_path, trio_path, scans_dict, input_scanner):\n",
    "    \n",
    "    train_val_test_inp = []\n",
    "    train_val_test_out = []\n",
    "    test_data_inp = []\n",
    "    test_data_out = []\n",
    "    # only required for testing scans\n",
    "    test_data_affine_mat = []\n",
    "    \n",
    "    if input_scanner == \"PETMR\":\n",
    "        input_path = petmr_path\n",
    "        output_path = trio_path\n",
    "    else:\n",
    "        input_path = trio_path\n",
    "        output_path = petmr_path       \n",
    "    \n",
    "    for key, subjs in scans_dict.iteritems():\n",
    "        for subj_scan in subjs:\n",
    "                \n",
    "            input_scan_image = nib.load(str(input_path) + \"/Subj\" + str(subj_scan[0]) + \"Scan\" + str(subj_scan[1]) + \"/Brain_Matched.nii.gz\")\n",
    "            input_scan_data = input_scan_image.get_data()\n",
    "                \n",
    "            input_bvals_scan, input_bvecs_scan = read_bvals_bvecs(str(input_path) + \"/Subj\" + str(subj_scan[0]) + \"Scan\" + str(subj_scan[1]) + \"/NODDI.bval\",\\\n",
    "                                                          str(input_path) + \"/Subj\" + str(subj_scan[0]) + \"Scan\" + str(subj_scan[1]) + \"/NODDI.bvec\")\n",
    "            \n",
    "            # Important : Upload the output scan that is registered to the appropriate input scan\n",
    "            \n",
    "            output_scan_image = nib.load(str(output_path) + \"/Subj\" + str(subj_scan[0]) + \"Scan1\" + \"/Brain_Matched.nii.gz\")\n",
    "            output_scan_data = output_scan_image.get_data()\n",
    "            \n",
    "            output_bvals_scan, output_bvecs_scan = read_bvals_bvecs(str(output_path) + \"/Subj\" + str(subj_scan[0]) + \"Scan1/NODDI.bval\",\\\n",
    "                                                          str(output_path) + \"/Subj\" + str(subj_scan[0]) + \"Scan1/NODDI.bvec\")\n",
    "                    \n",
    "            #set a threshold value for b=0 values (due to TRIO dataset)\n",
    "            input_gtab_scan = gradient_table(input_bvals_scan, input_bvecs_scan, b0_threshold=5)\n",
    "            input_s0s_scan = input_scan_data[:, :, :, input_gtab_scan.b0s_mask]\n",
    "                \n",
    "            output_gtab_scan = gradient_table(output_bvals_scan, output_bvecs_scan, b0_threshold=5)\n",
    "            output_s0s_scan = output_scan_data[:, :, :, output_gtab_scan.b0s_mask]\n",
    "            \n",
    "            # Use only the first volume, ignore other volumes\n",
    "            if(key == \"train_val_test\"):\n",
    "                print (\"Uploading Subject %s Scan %s\" % (str(subj_scan[0]), str(subj_scan[1])))\n",
    "                #append the data to the lists containing the training inputs and outputs\n",
    "                train_val_test_inp.append(input_s0s_scan[:,:,:,[0]])\n",
    "                train_val_test_out.append(output_s0s_scan[:,:,:,[0]])\n",
    "            else:\n",
    "                print (\"Testing: Subject %s Scan %s\" % (str(subj_scan[0]), str(subj_scan[1])))\n",
    "                test_data_inp.append(input_s0s_scan[:,:,:,[0]])\n",
    "                test_data_out.append(output_s0s_scan[:,:,:,[0]])\n",
    "                test_data_affine_mat.append(input_scan_image.affine)\n",
    "    return (train_val_test_inp, train_val_test_out, test_data_inp, test_data_out, test_data_affine_mat)"
   ]
  },
  {
   "cell_type": "code",
   "execution_count": 7,
   "metadata": {
    "collapsed": true
   },
   "outputs": [],
   "source": [
    "#This function extracts patches from a scan and appends them to a list.\n",
    "#This is done for all volumes of a scan (for both the inputs and targets)\n",
    "\n",
    "def patchify(data_scans, patch_size=9, skip=0):\n",
    "    \n",
    "    patches_store = []\n",
    "    padded_scans = []\n",
    "    \n",
    "    for scan_no in range(0, len(data_scans)):\n",
    "        scan = data_scans[scan_no]\n",
    "        \n",
    "        # Pad the scan to ensure that the\n",
    "        (x,y,z,v) = scan.shape\n",
    "        x_padding = (patch_size - (x % patch_size)) % patch_size\n",
    "        y_padding = (patch_size - (y % patch_size)) % patch_size\n",
    "        z_padding = (patch_size - (z % patch_size)) % patch_size\n",
    "        x_padding_before = x_padding/2\n",
    "        x_padding_after = x_padding - x_padding_before\n",
    "        y_padding_before = y_padding/2\n",
    "        y_padding_after = y_padding - y_padding_before\n",
    "        z_padding_before = z_padding/2\n",
    "        z_padding_after = z_padding - z_padding_before\n",
    "        #pad the input scan\n",
    "        full_padding = ((x_padding_before, x_padding_after), (y_padding_before, y_padding_after), (z_padding_before, z_padding_after), (0,0))\n",
    "        padded_scan = np.pad(scan, full_padding, mode='constant', constant_values=0)\n",
    "        padded_scans.append(padded_scan)\n",
    "        \n",
    "        # Get new scan shape\n",
    "        (x,y,z,v) = padded_scan.shape\n",
    "        #iterate through each volume to extract the patches\n",
    "        for volume in range(0, v):\n",
    "            for pos_x in range(0, x-patch_size+1,skip):\n",
    "                for pos_y in range(0,y-patch_size+1,skip):\n",
    "                    for pos_z in range(0, z-patch_size+1,skip):\n",
    "                        patch = padded_scan[pos_x:pos_x+patch_size, pos_y:pos_y+patch_size, pos_z:pos_z+patch_size, volume]\n",
    "                        \n",
    "                        #store the patch and the target\n",
    "                        patches_store.append(patch)\n",
    "                        \n",
    "    return (padded_scans, patches_store)\n"
   ]
  },
  {
   "cell_type": "code",
   "execution_count": 56,
   "metadata": {
    "collapsed": true
   },
   "outputs": [],
   "source": [
    "def viz_pred(inputs, predictions, labels, sliceNo):\n",
    "    maximum = np.max([inputs.max(), predictions.max(), labels.max()])\n",
    "    plt.figure\n",
    "    plt.figure(figsize=(10,10))\n",
    "    plt.subplot(1, 3, 1).set_axis_off()\n",
    "    plt.imshow(inputs[:,:,sliceNo,0].T, cmap='gray', origin='lower', vmin=0, vmax=maximum)\n",
    "    plt.title(\"Input\")\n",
    "    plt.subplot(1, 3, 2).set_axis_off()\n",
    "    plt.imshow(predictions[:,:,sliceNo,0].T, cmap='gray', origin='lower', vmin=0, vmax=maximum)\n",
    "    plt.title(\"Predicted\")\n",
    "    plt.subplot(1, 3, 3).set_axis_off()\n",
    "    plt.imshow(labels[:,:,sliceNo,0].T, cmap='gray', origin='lower', vmin=0, vmax=maximum)\n",
    "    plt.title(\"Target\")\n",
    "    plt.show()"
   ]
  },
  {
   "cell_type": "code",
   "execution_count": 121,
   "metadata": {
    "collapsed": true
   },
   "outputs": [],
   "source": [
    "def viz_pred2(inputs, predictions, labels, sliceNo):\n",
    "    maximum = np.max([inputs.max(), predictions.max(), labels.max()])\n",
    "    plt.figure\n",
    "    plt.figure(figsize=(10,10))\n",
    "    plt.subplot(1, 3, 1).set_axis_off()\n",
    "    plt.imshow(inputs[:,:,sliceNo].T, cmap='gray', origin='lower', vmin=0, vmax=maximum)\n",
    "    plt.title(\"Input\")\n",
    "    plt.subplot(1, 3, 2).set_axis_off()\n",
    "    plt.imshow(predictions[:,:,sliceNo].T, cmap='gray', origin='lower', vmin=0, vmax=maximum)\n",
    "    plt.title(\"Predicted\")\n",
    "    plt.subplot(1, 3, 3).set_axis_off()\n",
    "    plt.imshow(labels[:,:,sliceNo].T, cmap='gray', origin='lower', vmin=0, vmax=maximum)\n",
    "    plt.title(\"Target\")\n",
    "    plt.show()"
   ]
  },
  {
   "cell_type": "markdown",
   "metadata": {},
   "source": [
    "-------------------------------------------------------------------------------------------------------\n",
    "---\n",
    "\n",
    "-------------------------------------------------------------------------------------------------------\n",
    "---\n",
    "\n"
   ]
  },
  {
   "cell_type": "markdown",
   "metadata": {},
   "source": [
    "#### Upload the data"
   ]
  },
  {
   "cell_type": "code",
   "execution_count": 10,
   "metadata": {
    "collapsed": false,
    "scrolled": true
   },
   "outputs": [
    {
     "name": "stdout",
     "output_type": "stream",
     "text": [
      "Uploading Subject 1 Scan 1\n",
      "Uploading Subject 2 Scan 1\n",
      "Testing: Subject 9 Scan 1\n",
      "Testing: Subject 9 Scan 2\n",
      "Number of scans used for training, validation and testing: 2\n",
      "Number of scans used for final testing: 2\n"
     ]
    }
   ],
   "source": [
    "#upload the data\n",
    "petmr_data_path = '/Volumes/Seagate Backup Plus Drive/Project/Dataset/TRIO_data'\n",
    "trio_data_path = '/Volumes/Seagate Backup Plus Drive/Project/Dataset/PETMR_data'\n",
    "\n",
    "# Enter a list of tuples (subject, scan_number)\n",
    "# Use this to get all scans then split into training, validation and testing\n",
    "training_scans = [(1,1), (2,1)]\n",
    "\n",
    "# This is a final test scan only - used to generate a complete scan from the trained CNN\n",
    "testing_scans = [(9,1), (9,2)]\n",
    "\n",
    "data_dict = {\"train_val_test\": training_scans, \"testing\":testing_scans}\n",
    "\n",
    "(training_inp, training_out, final_test_inp, final_test_out, final_test_affine_mat) = \\\n",
    "        get_data(petmr_data_path, trio_data_path, data_dict, input_scanner=\"PETMR\")\n",
    "print(\"Number of scans used for training, validation and testing: %d\" % len(training_inp))\n",
    "print (\"Number of scans used for final testing: %d\" % len(final_test_inp))"
   ]
  },
  {
   "cell_type": "code",
   "execution_count": 178,
   "metadata": {
    "collapsed": true
   },
   "outputs": [],
   "source": [
    "def pad_data(dataset, numb_slices):\n",
    "\n",
    "    # This function is used for paddiny a dataset with 0 values, we only pad the x and y\n",
    "    # dimension, it is not necessary to pad the z dimension as we will be extracting axial slices\n",
    "\n",
    "    max_width = 0\n",
    "    max_hight = 0\n",
    "    \n",
    "    #iterate through the scans and update the above stats\n",
    "    for scan in dataset:\n",
    "        (width, hight, depth, volume) = scan.shape\n",
    "        if width > max_width:\n",
    "            max_width = width\n",
    "        if hight > max_hight:\n",
    "            max_hight = hight\n",
    "            \n",
    "    #iterate throug the scans again and pad them based on the max stats\n",
    "    for index, scan in enumerate(dataset):\n",
    "        #get padding dimensions\n",
    "        (width, hight, depth, volume) = scan.shape\n",
    "        pad_width = max_width-width\n",
    "        pad_hight = max_hight-hight\n",
    "        # depth dimension should be compatible with numb_slices\n",
    "        pad_depth = (numb_slices - (depth % numb_slices)) % numb_slices\n",
    "        \n",
    "        pad_w_b = pad_width/2\n",
    "        pad_w_a = pad_width-pad_w_b\n",
    "        \n",
    "        pad_h_b = pad_hight/2\n",
    "        pad_h_a = pad_hight-pad_h_b\n",
    "        \n",
    "        pad_d_b = pad_depth/2\n",
    "        pad_d_a = pad_depth-pad_d_b\n",
    "        \n",
    "        \n",
    "        padding = ((pad_w_b, pad_w_a), (pad_h_b, pad_h_a), (pad_d_b, pad_d_a), (0,0))\n",
    "        aug_scan = np.pad(scan, padding, mode='constant', constant_values=0)\n",
    "        dataset[index] = aug_scan\n",
    "    return dataset\n",
    "\n",
    "\n",
    "\n",
    "def sliceify(scans_inp, numb_slices):\n",
    "\n",
    "    # This function extracts non-overlapping axial slices of thickness (numb_slices) from a scan and appends them to a list.\n",
    "    # This is done for all volumes of a scan\n",
    "\n",
    "    slices_store = []\n",
    "\n",
    "    # Since each scan can have different dimensions, it is first neccessary to pad each \n",
    "    # each scan to ensure that they have the same x and y dimension \n",
    "    # It is also necessary to ensure that the z component is divisible by numb_slices\n",
    "    # This helps with training and testing because we can use batches (must be same dimensions)\n",
    "    padded_scans = pad_data(scans_inp, 3)\n",
    "\n",
    "\n",
    "    for scan in padded_scans:\n",
    "        \n",
    "        (x,y,z,v) = scan.shape\n",
    "\n",
    "        for volume in range(0, v):\n",
    "            for i in range(0, z, numb_slices):\n",
    "                #check that there exists x slices below and above\n",
    "                slices_store.append(scan[:,:,i:i+numb_slices,volume])\n",
    "        \n",
    "    return (padded_scans, slices_store)"
   ]
  },
  {
   "cell_type": "code",
   "execution_count": 144,
   "metadata": {
    "collapsed": false
   },
   "outputs": [
    {
     "data": {
      "text/plain": [
       "0"
      ]
     },
     "execution_count": 144,
     "metadata": {},
     "output_type": "execute_result"
    }
   ],
   "source": [
    "\n",
    "(3 - (6 % 3)) % 3"
   ]
  },
  {
   "cell_type": "code",
   "execution_count": 191,
   "metadata": {
    "collapsed": true
   },
   "outputs": [],
   "source": [
    "def rec_brain(predictions, scans, slice_size):\n",
    "    # Scans is a list containing the input scans where each scan is stored as a 4d numpy array\n",
    "    # Iterate through all the scans and reconstruct them\n",
    "    i = 0\n",
    "    reconstructed_scans = []\n",
    "    for scan in scans:\n",
    "        dimensions = scan.shape\n",
    "        size_x = dimensions[0]\n",
    "        size_y = dimensions[1]\n",
    "        size_z = dimensions[2]\n",
    "        size_v = dimensions[3]\n",
    "        predicted_scan = np.zeros((size_x, size_y, size_z, size_v))\n",
    "        \n",
    "        for volume in range(0, size_v):\n",
    "            for pos_z in range(0, size_z-slice_size, slice_size):\n",
    "                predicted_scan[:, :, pos_z:pos_z+slice_size, volume] = predictions[:,:,:,0,i]\n",
    "                i += 1\n",
    "\n",
    "        reconstructed_scans.append(predicted_scan)\n",
    "        \n",
    "    return reconstructed_scans"
   ]
  },
  {
   "cell_type": "code",
   "execution_count": 146,
   "metadata": {
    "collapsed": false
   },
   "outputs": [
    {
     "data": {
      "text/plain": [
       "(56, 69, 52, 1)"
      ]
     },
     "execution_count": 146,
     "metadata": {},
     "output_type": "execute_result"
    }
   ],
   "source": [
    "final_test_inp[1].shape"
   ]
  },
  {
   "cell_type": "code",
   "execution_count": 179,
   "metadata": {
    "collapsed": false
   },
   "outputs": [],
   "source": [
    "final_scans_inp_padded, final_test_inp_slices = sliceify(final_test_inp, 3)"
   ]
  },
  {
   "cell_type": "code",
   "execution_count": 180,
   "metadata": {
    "collapsed": false
   },
   "outputs": [
    {
     "data": {
      "text/plain": [
       "(56, 69, 3)"
      ]
     },
     "execution_count": 180,
     "metadata": {},
     "output_type": "execute_result"
    }
   ],
   "source": [
    "final_test_inp_slices[0].shape"
   ]
  },
  {
   "cell_type": "code",
   "execution_count": 181,
   "metadata": {
    "collapsed": false
   },
   "outputs": [
    {
     "data": {
      "text/plain": [
       "(56, 69, 54, 1)"
      ]
     },
     "execution_count": 181,
     "metadata": {},
     "output_type": "execute_result"
    }
   ],
   "source": [
    "final_scans_inp_padded[1].shape"
   ]
  },
  {
   "cell_type": "code",
   "execution_count": 182,
   "metadata": {
    "collapsed": false
   },
   "outputs": [],
   "source": [
    "x_arr = np.array(final_test_inp_slices)"
   ]
  },
  {
   "cell_type": "code",
   "execution_count": 183,
   "metadata": {
    "collapsed": false
   },
   "outputs": [
    {
     "data": {
      "text/plain": [
       "(36, 56, 69, 3)"
      ]
     },
     "execution_count": 183,
     "metadata": {},
     "output_type": "execute_result"
    }
   ],
   "source": [
    "x_arr.shape"
   ]
  },
  {
   "cell_type": "code",
   "execution_count": 184,
   "metadata": {
    "collapsed": true
   },
   "outputs": [],
   "source": [
    "x_arr = np.transpose(x_arr, (1,2,3,0))"
   ]
  },
  {
   "cell_type": "code",
   "execution_count": 185,
   "metadata": {
    "collapsed": false
   },
   "outputs": [
    {
     "data": {
      "text/plain": [
       "(56, 69, 3, 36)"
      ]
     },
     "execution_count": 185,
     "metadata": {},
     "output_type": "execute_result"
    }
   ],
   "source": [
    "x_arr.shape"
   ]
  },
  {
   "cell_type": "code",
   "execution_count": 186,
   "metadata": {
    "collapsed": true
   },
   "outputs": [],
   "source": [
    "x_arr = np.expand_dims(x_arr, 3)"
   ]
  },
  {
   "cell_type": "code",
   "execution_count": 200,
   "metadata": {
    "collapsed": false
   },
   "outputs": [
    {
     "data": {
      "text/plain": [
       "(56, 69, 3, 1, 36)"
      ]
     },
     "execution_count": 200,
     "metadata": {},
     "output_type": "execute_result"
    }
   ],
   "source": [
    "x_arr.shape"
   ]
  },
  {
   "cell_type": "code",
   "execution_count": 201,
   "metadata": {
    "collapsed": false
   },
   "outputs": [
    {
     "data": {
      "text/plain": [
       "(56, 69, 3, 36)"
      ]
     },
     "execution_count": 201,
     "metadata": {},
     "output_type": "execute_result"
    }
   ],
   "source": [
    "np.squeeze(x_arr, 3).shape"
   ]
  },
  {
   "cell_type": "code",
   "execution_count": 192,
   "metadata": {
    "collapsed": false
   },
   "outputs": [],
   "source": [
    "res = rec_brain(x_arr, final_scans_inp_padded, 3)"
   ]
  },
  {
   "cell_type": "code",
   "execution_count": 193,
   "metadata": {
    "collapsed": false
   },
   "outputs": [
    {
     "name": "stdout",
     "output_type": "stream",
     "text": [
      "(56, 69, 54, 1)\n",
      "(56, 69, 54, 1)\n"
     ]
    }
   ],
   "source": [
    "print res[0].shape\n",
    "print final_scans_inp_padded[0].shape"
   ]
  },
  {
   "cell_type": "code",
   "execution_count": 196,
   "metadata": {
    "collapsed": false
   },
   "outputs": [
    {
     "data": {
      "image/png": "[encoded data removed]",
      "text/plain": [
       "<matplotlib.figure.Figure at 0x110049bd0>"
      ]
     },
     "metadata": {},
     "output_type": "display_data"
    }
   ],
   "source": [
    "viz_pred2(final_test_inp_slices[0], final_test_inp_slices[0], final_test_inp_slices[0], 1)"
   ]
  },
  {
   "cell_type": "code",
   "execution_count": 197,
   "metadata": {
    "collapsed": false
   },
   "outputs": [
    {
     "data": {
      "image/png": "[encoded data removed]",
      "text/plain": [
       "<matplotlib.figure.Figure at 0x10f59bb50>"
      ]
     },
     "metadata": {},
     "output_type": "display_data"
    }
   ],
   "source": [
    "viz_pred(final_scans_inp_padded[0], final_scans_inp_padded[0], final_scans_inp_padded[0], 1)"
   ]
  },
  {
   "cell_type": "code",
   "execution_count": 132,
   "metadata": {
    "collapsed": false
   },
   "outputs": [
    {
     "data": {
      "text/plain": [
       "661.740966796875"
      ]
     },
     "execution_count": 132,
     "metadata": {},
     "output_type": "execute_result"
    }
   ],
   "source": [
    "final_test_inp_slices[0][:,:,2].max()"
   ]
  },
  {
   "cell_type": "code",
   "execution_count": 133,
   "metadata": {
    "collapsed": false
   },
   "outputs": [
    {
     "data": {
      "text/plain": [
       "661.74097"
      ]
     },
     "execution_count": 133,
     "metadata": {},
     "output_type": "execute_result"
    }
   ],
   "source": [
    "final_scans_inp_padded[0][:,:,1,0].max()"
   ]
  },
  {
   "cell_type": "markdown",
   "metadata": {},
   "source": [
    "#### Patchify the data"
   ]
  },
  {
   "cell_type": "code",
   "execution_count": 7,
   "metadata": {
    "collapsed": false
   },
   "outputs": [
    {
     "name": "stdout",
     "output_type": "stream",
     "text": [
      "Patchifying training set\n",
      "Patchifying final testing scans\n"
     ]
    }
   ],
   "source": [
    "print \"Patchifying training set\"\n",
    "_, training_patches_input = patchify(training_inp, 9, 3)\n",
    "_, training_patches_target = patchify(training_out, 9, 3)\n",
    "\n",
    "print \"Patchifying final testing scans\"\n",
    "padded_testing_scans_input, testing_patches_input = patchify(final_test_inp, 9, 9)"
   ]
  },
  {
   "cell_type": "code",
   "execution_count": 8,
   "metadata": {
    "collapsed": false
   },
   "outputs": [
    {
     "name": "stdout",
     "output_type": "stream",
     "text": [
      "Number of training examples : PETMR: 95584, TRIO: 104032\n",
      "Number of final testing examples : 336\n"
     ]
    }
   ],
   "source": [
    "print (\"Number of training examples : PETMR: %d, TRIO: %d\" % (len(training_patches_input), len(training_patches_target)))\n",
    "print (\"Number of final testing examples : %d\" % len(testing_patches_input))"
   ]
  },
  {
   "cell_type": "markdown",
   "metadata": {},
   "source": [
    "# PyTorch Functions"
   ]
  },
  {
   "cell_type": "code",
   "execution_count": 9,
   "metadata": {
    "collapsed": true
   },
   "outputs": [],
   "source": [
    "import torch\n",
    "import torchvision\n",
    "import torchvision.transforms as transforms\n",
    "from torch.utils.data import Dataset\n",
    "from torch.utils.data import DataLoader\n",
    "import torch.optim as optim\n",
    "from torch.autograd import Variable\n",
    "import torch.nn as nn\n",
    "import torch.nn.functional as F\n",
    "import itertools"
   ]
  },
  {
   "cell_type": "code",
   "execution_count": 10,
   "metadata": {
    "collapsed": true
   },
   "outputs": [],
   "source": [
    "#create a dataset class for our data\n",
    "\n",
    "class MRIdataset(Dataset):\n",
    "    \"\"\"MRI b=0 dataset for patches.\"\"\"\n",
    "\n",
    "    def __init__(self, patches, transform=None):\n",
    "        \"\"\"\n",
    "        Args:\n",
    "            patches: patches\n",
    "            transform (callable, optional): Optional transform to be applied\n",
    "            on a sample.\n",
    "        \"\"\"\n",
    "        self.patches = patches\n",
    "        self.transform = transform\n",
    "\n",
    "    def __len__(self):\n",
    "        return len(self.patches)\n",
    "\n",
    "    def __getitem__(self, idx):\n",
    "        patch = np.array(self.patches[idx])\n",
    "        sample = {'patch': patch}\n",
    "\n",
    "        if self.transform:\n",
    "            sample = self.transform(sample)\n",
    "            \n",
    "        return sample\n"
   ]
  },
  {
   "cell_type": "code",
   "execution_count": 11,
   "metadata": {
    "collapsed": true
   },
   "outputs": [],
   "source": [
    "class To_Tensor(object):\n",
    "    \"\"\"Convert ndarrays in sample to Tensors.\"\"\"\n",
    "\n",
    "    def __call__(self, sample):\n",
    "        patch = sample['patch']\n",
    "        \n",
    "        #first expand dimension because torch expects H x W x D x C\n",
    "        #currently we only have H x W x D\n",
    "        aug_patch = np.expand_dims(patch, 3)\n",
    "\n",
    "        # swap channel axis because\n",
    "        # numpy: H x W x D x C\n",
    "        # torch: C x D x H x W\n",
    "        aug_patch = aug_patch.transpose((3, 2, 0, 1))\n",
    "        \n",
    "        return {'patch': torch.Tensor(aug_patch)}\n",
    "\n"
   ]
  },
  {
   "cell_type": "code",
   "execution_count": 12,
   "metadata": {
    "collapsed": true
   },
   "outputs": [],
   "source": [
    "class ImagePool():\n",
    "    def __init__(self, pool_size):\n",
    "        self.pool_size = pool_size\n",
    "        if self.pool_size > 0:\n",
    "            self.num_imgs = 0\n",
    "            self.images = []\n",
    "\n",
    "    def query(self, images):\n",
    "        if self.pool_size == 0:\n",
    "            return images\n",
    "        return_images = []\n",
    "        for image in images.data:\n",
    "            image = torch.unsqueeze(image, 0)\n",
    "            if self.num_imgs < self.pool_size:\n",
    "                self.num_imgs = self.num_imgs + 1\n",
    "                self.images.append(image)\n",
    "                return_images.append(image)\n",
    "            else:\n",
    "                p = random.uniform(0, 1)\n",
    "                if p > 0.5:\n",
    "                    random_id = random.randint(0, self.pool_size-1)\n",
    "                    tmp = self.images[random_id].clone()\n",
    "                    self.images[random_id] = image\n",
    "                    return_images.append(tmp)\n",
    "                else:\n",
    "                    return_images.append(image)\n",
    "        return_images = Variable(torch.cat(return_images, 0))\n",
    "        return return_images"
   ]
  },
  {
   "cell_type": "code",
   "execution_count": 37,
   "metadata": {
    "collapsed": true
   },
   "outputs": [],
   "source": [
    "def train(G_A, G_B, D_A, D_B, MSE_loss, L1_loss, optimizers, schedulers, trainloader_inp, trainloader_tar, epochs):\n",
    "    G_optimizer = optimizers[0]\n",
    "    D_A_optimizer = optimizers[1]\n",
    "    D_B_optimizer = optimizers[2]\n",
    "    G_scheduler = schedulers[0]\n",
    "    D_A_scheduler = schedulers[1]\n",
    "    D_B_scheduler = schedulers[2]\n",
    "    \n",
    "    # Generated image pool\n",
    "    num_pool = 50\n",
    "    fake_A_pool = ImagePool(num_pool)\n",
    "    fake_B_pool = ImagePool(num_pool)\n",
    "\n",
    "    G_A.train()\n",
    "    G_B.train()\n",
    "    D_A.train()\n",
    "    D_B.train()\n",
    "    \n",
    "    for epoch in range(epochs):\n",
    "        D_A_losses = []\n",
    "        D_B_losses = []\n",
    "        G_A_losses = []\n",
    "        G_B_losses = []\n",
    "        cycle_A_losses = []\n",
    "        cycle_B_losses = []\n",
    "        \n",
    "        running_D_A_loss = 0\n",
    "        running_D_B_loss = 0\n",
    "        running_G_A_loss = 0\n",
    "        running_G_B_loss = 0\n",
    "        running_G_loss = 0\n",
    "        running_cycle_A_loss = 0\n",
    "        running_cycle_B_loss =0\n",
    "\n",
    "        # training\n",
    "        for i, (data_inp, data_tar) in enumerate(zip(trainloader_inp, trainloader_tar)):\n",
    "\n",
    "            # input image data\n",
    "            real_A = data_inp['patch']\n",
    "            real_B = data_tar['patch']\n",
    "\n",
    "            real_A = Variable(real_A.cuda())\n",
    "            real_B = Variable(real_B.cuda())\n",
    "\n",
    "            # Train generator G\n",
    "            # A -> B\n",
    "            fake_B = G_A(real_A)\n",
    "            D_B_fake_decision = D_B(fake_B)\n",
    "            \n",
    "            G_A_loss = MSE_loss(D_B_fake_decision, Variable(torch.ones(D_B_fake_decision.size()).cuda()))\n",
    "            running_G_A_loss += G_A_loss.data[0]\n",
    "\n",
    "            # forward cycle loss\n",
    "            recon_A = G_B(fake_B)\n",
    "            cycle_A_loss = L1_loss(recon_A, real_A) * 5\n",
    "            running_cycle_A_loss += cycle_A_loss.data[0]\n",
    "\n",
    "            # B -> A\n",
    "            fake_A = G_B(real_B)\n",
    "            D_A_fake_decision = D_A(fake_A)\n",
    "            G_B_loss = MSE_loss(D_A_fake_decision, Variable(torch.ones(D_A_fake_decision.size()).cuda()))\n",
    "            running_G_B_loss += G_B_loss.data[0]\n",
    "\n",
    "            # backward cycle loss\n",
    "            recon_B = G_A(fake_A)\n",
    "            cycle_B_loss = L1_loss(recon_B, real_B) * 5\n",
    "            running_cycle_B_loss += cycle_B_loss.data[0]\n",
    "\n",
    "            # Back propagation\n",
    "            G_loss = G_A_loss + G_B_loss + cycle_A_loss + cycle_B_loss\n",
    "            running_G_loss += G_loss.data[0]\n",
    "            G_optimizer.zero_grad()\n",
    "            G_loss.backward()\n",
    "            G_optimizer.step()\n",
    "\n",
    "            # Train discriminator D_A\n",
    "            D_A_real_decision = D_A(real_A)\n",
    "            D_A_real_loss = MSE_loss(D_A_real_decision, Variable(torch.ones(D_A_real_decision.size()).cuda()))\n",
    "            fake_A = fake_A_pool.query(fake_A)\n",
    "            D_A_fake_decision = D_A(fake_A)\n",
    "            D_A_fake_loss = MSE_loss(D_A_fake_decision, Variable(torch.zeros(D_A_fake_decision.size()).cuda()))\n",
    "\n",
    "            # Back propagation\n",
    "            D_A_loss = (D_A_real_loss + D_A_fake_loss) * 0.5\n",
    "            running_D_A_loss += D_A_loss.data[0]\n",
    "            D_A_optimizer.zero_grad()\n",
    "            D_A_loss.backward()\n",
    "            D_A_optimizer.step()\n",
    "\n",
    "            # Train discriminator D_B\n",
    "            D_B_real_decision = D_B(real_B)\n",
    "            D_B_real_loss = MSE_loss(D_B_real_decision, Variable(torch.ones(D_B_real_decision.size()).cuda()))\n",
    "            fake_B = fake_B_pool.query(fake_A)\n",
    "            D_B_fake_decision = D_B(fake_B)\n",
    "            D_B_fake_loss = MSE_loss(D_B_fake_decision, Variable(torch.zeros(D_B_fake_decision.size()).cuda()))\n",
    "\n",
    "            # Back propagation\n",
    "            D_B_loss = (D_B_real_loss + D_B_fake_loss) * 0.5\n",
    "            running_D_B_loss += D_B_loss.data[0]\n",
    "            D_B_optimizer.zero_grad()\n",
    "            D_B_loss.backward()\n",
    "            D_B_optimizer.step()\n",
    "            \n",
    "            # loss values\n",
    "            D_A_losses.append(running_D_A_loss/(i+1))\n",
    "            D_B_losses.append(running_D_B_loss/(i+1))\n",
    "            G_A_losses.append(running_G_A_loss/(i+1))\n",
    "            G_B_losses.append(running_G_B_loss/(i+1))\n",
    "            cycle_A_losses.append(running_cycle_A_loss/(i+1))\n",
    "            cycle_B_losses.append(running_cycle_B_loss/(i+1))\n",
    "            \n",
    "            if i%50 == 49:\n",
    "                print('Epoch [%d/%d], Step [%d/%d], D_A_loss: %.4f, D_B_loss: %.4f, G_A_loss: %.4f, G_B_loss: %.4f'\n",
    "                  % (epoch+1, epochs, i+1, len(trainloader_inp), running_D_A_loss/(i+1), running_D_B_loss/(i+1), running_G_A_loss/(i+1), running_G_B_loss/(i+1)))\n",
    "        \n",
    "        # Change learning rate using the scheduler\n",
    "        G_scheduler.step(running_G_loss/(i+1))\n",
    "        D_A_scheduler.step(running_D_A_loss/(i+1))\n",
    "        D_B_scheduler.step(running_D_B_loss/(i+1))\n",
    "        \n",
    "    return  (D_A_losses, D_B_losses, G_A_losses, G_B_losses, cycle_A_losses, cycle_B_losses)"
   ]
  },
  {
   "cell_type": "code",
   "execution_count": 22,
   "metadata": {
    "collapsed": true
   },
   "outputs": [],
   "source": [
    "def plt_losses(training_losses, validation_losses):\n",
    "    plt.figure\n",
    "    plt.plot(range(1,len(training_losses)+1), training_losses, 'r-', label=\"Training error\")\n",
    "    plt.plot(range(1,len(validation_losses)+1), validation_losses, 'b-', label=\"Validation error\")\n",
    "    plt.legend()\n",
    "    plt.xlabel('iteration')\n",
    "    # Make the y-axis label, ticks and tick labels match the line color.\n",
    "    plt.ylabel('Loss - (MSE)')\n",
    "    plt.show()"
   ]
  },
  {
   "cell_type": "code",
   "execution_count": 23,
   "metadata": {
    "collapsed": true
   },
   "outputs": [],
   "source": [
    "def get_predictions(G_A, testloader):\n",
    "    G_A.eval()\n",
    "    for i, test_data in enumerate(testloader, 0):\n",
    "        real_A = test_data['patch']\n",
    "        real_A = Variable(real_A.cuda())\n",
    "\n",
    "        # A -> B\n",
    "        test_predictions = G_A(real_A)\n",
    "\n",
    "        #store the predictions in a numpy array which we can reshape later\n",
    "        if(i == 0):\n",
    "            predictions = test_predictions.data.cpu().numpy() \n",
    "        else:\n",
    "            predictions = np.concatenate((predictions, test_predictions.data.cpu().numpy()), axis=0)\n",
    "\n",
    "    # Transpose predictions from (NxCxDxHxW)\n",
    "    # to (NxCxHxWxD)\n",
    "    predictions = np.transpose(predictions, (0,1,3,4,2))\n",
    "    return predictions"
   ]
  },
  {
   "cell_type": "code",
   "execution_count": 16,
   "metadata": {
    "collapsed": true
   },
   "outputs": [],
   "source": [
    "def reconstruct_brain(predictions, scans, patch_size):\n",
    "    # Scans is a list containing the input scans where each scan is stored as a 4d numpy array\n",
    "    # Iterate through all the scans and reconstruct them\n",
    "    i = 0\n",
    "    reconstructed_scans = []\n",
    "    for scan in scans:\n",
    "        dimensions = scan.shape\n",
    "        size_x = dimensions[0]\n",
    "        size_y = dimensions[1]\n",
    "        size_z = dimensions[2]\n",
    "        size_v = dimensions[3]\n",
    "        predicted_scan = np.zeros((size_x, size_y, size_z, size_v))\n",
    "        \n",
    "        for volume in range(0, size_v):\n",
    "            for pos_x in range(0, size_x-patch_size+1, patch_size):\n",
    "                for pos_y in range(0,size_y-patch_size+1, patch_size):\n",
    "                    for pos_z in range(0, size_z-patch_size+1, patch_size):\n",
    "                        predicted_scan[pos_x:pos_x+patch_size, pos_y:pos_y+patch_size, pos_z:pos_z+patch_size, volume] = predictions[i,0,:,:,:]\n",
    "                        i += 1\n",
    "\n",
    "        reconstructed_scans.append(predicted_scan)\n",
    "        \n",
    "    return reconstructed_scans"
   ]
  },
  {
   "cell_type": "markdown",
   "metadata": {},
   "source": [
    "-------------------------------------------------------------------------------------------------------\n",
    "---\n",
    "\n",
    "-------------------------------------------------------------------------------------------------------\n",
    "---\n",
    "\n"
   ]
  },
  {
   "cell_type": "markdown",
   "metadata": {},
   "source": [
    "### Upload the data using pytorch data loaders"
   ]
  },
  {
   "cell_type": "code",
   "execution_count": 31,
   "metadata": {
    "collapsed": true
   },
   "outputs": [],
   "source": [
    "training_dataset_inputs = MRIdataset(training_patches_input, transform=transforms.Compose([To_Tensor()]))\n",
    "training_dataset_targets = MRIdataset(training_patches_target, transform=transforms.Compose([To_Tensor()]))\n",
    "\n",
    "final_testing_dataset = MRIdataset(testing_patches_input, transform=transforms.Compose([To_Tensor()]))"
   ]
  },
  {
   "cell_type": "code",
   "execution_count": 32,
   "metadata": {
    "collapsed": true
   },
   "outputs": [],
   "source": [
    "trainloader_inp = DataLoader(training_dataset_inputs, batch_size=256,\n",
    "                        shuffle=True, num_workers=16)\n",
    "\n",
    "trainloader_tar = DataLoader(training_dataset_targets, batch_size=256,\n",
    "                        shuffle=True, num_workers=16)\n",
    "\n",
    "final_test_loader = DataLoader(final_testing_dataset, batch_size=256,\n",
    "                        shuffle=False, num_workers=16)"
   ]
  },
  {
   "cell_type": "markdown",
   "metadata": {},
   "source": [
    "# Develop GAN"
   ]
  },
  {
   "cell_type": "code",
   "execution_count": 33,
   "metadata": {
    "collapsed": true
   },
   "outputs": [],
   "source": [
    "class ConvBlock(torch.nn.Module):\n",
    "    def __init__(self, input_size, output_size, kernel_size=3, stride=1, padding=0, activation='relu', batch_norm=True):\n",
    "        super(ConvBlock, self).__init__()\n",
    "        self.conv = torch.nn.Conv3d(input_size, output_size, kernel_size, stride, padding)\n",
    "        self.batch_norm = batch_norm\n",
    "        self.bn = torch.nn.BatchNorm3d(output_size)\n",
    "        self.activation = activation\n",
    "        self.relu = torch.nn.ReLU(True)\n",
    "        self.lrelu = torch.nn.LeakyReLU(0.2, True)\n",
    "        self.tanh = torch.nn.Tanh()\n",
    "\n",
    "    def forward(self, x):\n",
    "        if self.batch_norm:\n",
    "            out = self.bn(self.conv(x))\n",
    "        else:\n",
    "            out = self.conv(x)\n",
    "\n",
    "        if self.activation == 'relu':\n",
    "            return self.relu(out)\n",
    "        elif self.activation == 'lrelu':\n",
    "            return self.lrelu(out)\n",
    "        elif self.activation == 'tanh':\n",
    "            return self.tanh(out)\n",
    "        elif self.activation == 'no_act':\n",
    "            return out\n",
    "\n",
    "\n",
    "class DeconvBlock(torch.nn.Module):\n",
    "    def __init__(self, input_size, output_size, kernel_size=3, stride=1, padding=0, output_padding=0, activation='relu', batch_norm=True):\n",
    "        super(DeconvBlock, self).__init__()\n",
    "        self.deconv = torch.nn.ConvTranspose3d(input_size, output_size, kernel_size, stride, padding, output_padding)\n",
    "        self.batch_norm = batch_norm\n",
    "        self.bn = torch.nn.BatchNorm3d(output_size)\n",
    "        self.activation = activation\n",
    "        self.relu = torch.nn.ReLU(True)\n",
    "\n",
    "    def forward(self, x):\n",
    "        if self.batch_norm:\n",
    "            out = self.bn(self.deconv(x))\n",
    "        else:\n",
    "            out = self.deconv(x)\n",
    "\n",
    "        if self.activation == 'relu':\n",
    "            return self.relu(out)\n",
    "        elif self.activation == 'lrelu':\n",
    "            return self.lrelu(out)\n",
    "        elif self.activation == 'tanh':\n",
    "            return self.tanh(out)\n",
    "        elif self.activation == 'no_act':\n",
    "            return out\n",
    "\n",
    "\n",
    "class ResnetBlock(torch.nn.Module):\n",
    "    def __init__(self, num_filter, kernel_size=3, stride=1, padding=1):\n",
    "        super(ResnetBlock, self).__init__()\n",
    "        self.conv1 = torch.nn.Conv3d(num_filter, num_filter, kernel_size, stride, padding)\n",
    "        self.conv2 = torch.nn.Conv3d(num_filter, num_filter, kernel_size, stride, padding)\n",
    "        self.bn = torch.nn.BatchNorm3d(num_filter)\n",
    "        self.relu = torch.nn.ReLU(True)\n",
    "\n",
    "        self.resnet_block = torch.nn.Sequential(\n",
    "            self.conv1,\n",
    "            self.bn,\n",
    "            self.relu,\n",
    "            self.conv2,\n",
    "            self.bn\n",
    "        )\n",
    "\n",
    "    def forward(self, x):\n",
    "        residual = x\n",
    "        out = self.resnet_block(x)\n",
    "        out += residual\n",
    "        out = self.relu(out)\n",
    "        return out\n",
    "\n",
    "\n",
    "class Generator(torch.nn.Module):\n",
    "    def __init__(self, input_dim, num_filter, output_dim, num_resnet):\n",
    "        super(Generator, self).__init__()\n",
    "\n",
    "        # Encoder\n",
    "        self.conv1 = ConvBlock(input_dim, num_filter)\n",
    "        self.conv2 = ConvBlock(num_filter, num_filter * 2)\n",
    "        self.conv3 = ConvBlock(num_filter * 2, num_filter * 4)\n",
    "        # Resnet blocks\n",
    "        self.resnet_blocks = []\n",
    "        for i in range(num_resnet):\n",
    "            self.resnet_blocks.append(ResnetBlock(num_filter * 4))\n",
    "        self.resnet_blocks = torch.nn.Sequential(*self.resnet_blocks)\n",
    "        # Decoder\n",
    "        self.deconv1 = DeconvBlock(num_filter * 4, num_filter * 2)\n",
    "        self.deconv2 = DeconvBlock(num_filter * 2, num_filter)\n",
    "        self.deconv3 = DeconvBlock(num_filter, output_dim, batch_norm=False)\n",
    "\n",
    "    def forward(self, x):\n",
    "        # Encoder\n",
    "        enc1 = self.conv1(x)\n",
    "        enc2 = self.conv2(enc1)\n",
    "        enc3 = self.conv3(enc2)\n",
    "        # Resnet blocks\n",
    "        res = self.resnet_blocks(enc3)\n",
    "        # Decoder\n",
    "        dec1 = self.deconv1(res)\n",
    "        dec2 = self.deconv2(dec1)\n",
    "        out = self.deconv3(dec2)\n",
    "        return out\n",
    "\n",
    "    def normal_weight_init(self, mean=0.0, std=0.02):\n",
    "        for m in self.children():\n",
    "            if isinstance(m, ConvBlock):\n",
    "                torch.nn.init.normal(m.conv.weight, mean, std)\n",
    "            if isinstance(m, DeconvBlock):\n",
    "                torch.nn.init.normal(m.deconv.weight, mean, std)\n",
    "            if isinstance(m, ResnetBlock):\n",
    "                torch.nn.init.normal(m.conv.weight, mean, std)\n",
    "                torch.nn.init.constant(m.conv.bias, 0)\n",
    "\n",
    "\n",
    "class Discriminator(torch.nn.Module):\n",
    "    def __init__(self, input_dim, num_filter, output_dim):\n",
    "        super(Discriminator, self).__init__()\n",
    "\n",
    "        conv1 = ConvBlock(input_dim, num_filter, activation='lrelu', batch_norm=False)\n",
    "        conv2 = ConvBlock(num_filter, num_filter * 4, activation='lrelu')\n",
    "        conv3 = ConvBlock(num_filter * 4, output_dim, activation='no_act', batch_norm=False)\n",
    "\n",
    "        self.conv_blocks = torch.nn.Sequential(\n",
    "            conv1,\n",
    "            conv2,\n",
    "            conv3,\n",
    "        )\n",
    "\n",
    "    def forward(self, x):\n",
    "        out = self.conv_blocks(x)\n",
    "        return out\n",
    "\n",
    "    def normal_weight_init(self, mean=0.0, std=0.02):\n",
    "        for m in self.children():\n",
    "            if isinstance(m, ConvBlock):\n",
    "                torch.nn.init.normal(m.conv.weight, mean, std)\n",
    "    \n"
   ]
  },
  {
   "cell_type": "code",
   "execution_count": 38,
   "metadata": {
    "collapsed": false
   },
   "outputs": [
    {
     "data": {
      "text/plain": [
       "Discriminator(\n",
       "  (conv_blocks): Sequential(\n",
       "    (0): ConvBlock(\n",
       "      (conv): Conv3d (1, 10, kernel_size=(3, 3, 3), stride=(1, 1, 1))\n",
       "      (bn): BatchNorm3d(10, eps=1e-05, momentum=0.1, affine=True)\n",
       "      (relu): ReLU(inplace)\n",
       "      (lrelu): LeakyReLU(0.2, inplace)\n",
       "      (tanh): Tanh()\n",
       "    )\n",
       "    (1): ConvBlock(\n",
       "      (conv): Conv3d (10, 40, kernel_size=(3, 3, 3), stride=(1, 1, 1))\n",
       "      (bn): BatchNorm3d(40, eps=1e-05, momentum=0.1, affine=True)\n",
       "      (relu): ReLU(inplace)\n",
       "      (lrelu): LeakyReLU(0.2, inplace)\n",
       "      (tanh): Tanh()\n",
       "    )\n",
       "    (2): ConvBlock(\n",
       "      (conv): Conv3d (40, 1, kernel_size=(3, 3, 3), stride=(1, 1, 1))\n",
       "      (bn): BatchNorm3d(1, eps=1e-05, momentum=0.1, affine=True)\n",
       "      (relu): ReLU(inplace)\n",
       "      (lrelu): LeakyReLU(0.2, inplace)\n",
       "      (tanh): Tanh()\n",
       "    )\n",
       "  )\n",
       ")"
      ]
     },
     "execution_count": 38,
     "metadata": {},
     "output_type": "execute_result"
    }
   ],
   "source": [
    "# Define nets and initialise their weigths\n",
    "G_A = Generator(1, 10, 1, 3)\n",
    "G_B = Generator(1, 10, 1, 3)\n",
    "D_A = Discriminator(1, 10, 1)\n",
    "D_B = Discriminator(1, 10, 1)\n",
    "G_A.normal_weight_init(mean=0.0, std=0.02)\n",
    "G_B.normal_weight_init(mean=0.0, std=0.02)\n",
    "D_A.normal_weight_init(mean=0.0, std=0.02)\n",
    "D_B.normal_weight_init(mean=0.0, std=0.02)\n",
    "\n",
    "G_A.cuda()\n",
    "G_B.cuda()\n",
    "D_A.cuda()\n",
    "D_B.cuda()\n"
   ]
  },
  {
   "cell_type": "markdown",
   "metadata": {},
   "source": [
    "### Define loss function and optimization algorithm"
   ]
  },
  {
   "cell_type": "code",
   "execution_count": 39,
   "metadata": {
    "collapsed": true
   },
   "outputs": [],
   "source": [
    "# Loss function\n",
    "MSE_loss = nn.MSELoss().cuda()\n",
    "L1_loss = nn.L1Loss().cuda()\n",
    "\n",
    "# optimizers\n",
    "G_optimizer = torch.optim.Adam(itertools.chain(G_A.parameters(), G_B.parameters()), lr=0.01)\n",
    "D_A_optimizer = torch.optim.Adam(D_A.parameters(), lr=0.01)\n",
    "D_B_optimizer = torch.optim.Adam(D_B.parameters(), lr=0.01)\n",
    "\n",
    "G_scheduler = torch.optim.lr_scheduler.ReduceLROnPlateau(G_optimizer, 'min', patience=0, verbose=True, threshold=0.08)\n",
    "D_A_scheduler = torch.optim.lr_scheduler.ReduceLROnPlateau(D_A_optimizer, 'min', patience=0, verbose=True, threshold=0.08)\n",
    "D_B_scheduler = torch.optim.lr_scheduler.ReduceLROnPlateau(D_B_optimizer, 'min', patience=0, verbose=True, threshold=0.08)\n",
    "\n",
    "optimizers = [G_optimizer, D_A_optimizer, D_B_optimizer]\n",
    "schedulers = [G_scheduler, D_A_scheduler, D_B_scheduler]"
   ]
  },
  {
   "cell_type": "code",
   "execution_count": 40,
   "metadata": {
    "collapsed": true
   },
   "outputs": [],
   "source": [
    "D_A_avg_losses = []\n",
    "D_B_avg_losses = []\n",
    "G_A_avg_losses = []\n",
    "G_B_avg_losses = []\n",
    "cycle_A_avg_losses = []\n",
    "cycle_B_avg_losses = []"
   ]
  },
  {
   "cell_type": "markdown",
   "metadata": {},
   "source": [
    "### Train CNN"
   ]
  },
  {
   "cell_type": "code",
   "execution_count": 49,
   "metadata": {
    "collapsed": false
   },
   "outputs": [
    {
     "name": "stdout",
     "output_type": "stream",
     "text": [
      "Epoch [1/10], Step [50/374], D_A_loss: 0.0815, D_B_loss: 0.0613, G_A_loss: 0.0836, G_B_loss: 0.6508\n",
      "Epoch [1/10], Step [100/374], D_A_loss: 0.0867, D_B_loss: 0.0613, G_A_loss: 0.0866, G_B_loss: 0.6432\n",
      "Epoch [1/10], Step [150/374], D_A_loss: 0.0849, D_B_loss: 0.0624, G_A_loss: 0.0867, G_B_loss: 0.6571\n",
      "Epoch [1/10], Step [200/374], D_A_loss: 0.0859, D_B_loss: 0.0620, G_A_loss: 0.0865, G_B_loss: 0.6515\n",
      "Epoch [1/10], Step [250/374], D_A_loss: 0.0858, D_B_loss: 0.0613, G_A_loss: 0.0876, G_B_loss: 0.6535\n",
      "Epoch [1/10], Step [300/374], D_A_loss: 0.0847, D_B_loss: 0.0613, G_A_loss: 0.0875, G_B_loss: 0.6547\n",
      "Epoch [1/10], Step [350/374], D_A_loss: 0.0851, D_B_loss: 0.0608, G_A_loss: 0.0873, G_B_loss: 0.6562\n",
      "Epoch [2/10], Step [50/374], D_A_loss: 0.0823, D_B_loss: 0.0572, G_A_loss: 0.0857, G_B_loss: 0.6784\n",
      "Epoch [2/10], Step [100/374], D_A_loss: 0.0835, D_B_loss: 0.0567, G_A_loss: 0.0844, G_B_loss: 0.6688\n",
      "Epoch [2/10], Step [150/374], D_A_loss: 0.0844, D_B_loss: 0.0588, G_A_loss: 0.0871, G_B_loss: 0.6598\n",
      "Epoch [2/10], Step [200/374], D_A_loss: 0.0831, D_B_loss: 0.0589, G_A_loss: 0.0863, G_B_loss: 0.6610\n",
      "Epoch [2/10], Step [250/374], D_A_loss: 0.0836, D_B_loss: 0.0590, G_A_loss: 0.0849, G_B_loss: 0.6639\n",
      "Epoch [2/10], Step [300/374], D_A_loss: 0.0839, D_B_loss: 0.0600, G_A_loss: 0.0855, G_B_loss: 0.6613\n",
      "Epoch [2/10], Step [350/374], D_A_loss: 0.0846, D_B_loss: 0.0605, G_A_loss: 0.0862, G_B_loss: 0.6590\n",
      "Epoch [3/10], Step [50/374], D_A_loss: 0.0819, D_B_loss: 0.0595, G_A_loss: 0.0904, G_B_loss: 0.6730\n",
      "Epoch [3/10], Step [100/374], D_A_loss: 0.0830, D_B_loss: 0.0602, G_A_loss: 0.0885, G_B_loss: 0.6620\n",
      "Epoch [3/10], Step [150/374], D_A_loss: 0.0834, D_B_loss: 0.0603, G_A_loss: 0.0869, G_B_loss: 0.6595\n",
      "Epoch [3/10], Step [200/374], D_A_loss: 0.0839, D_B_loss: 0.0605, G_A_loss: 0.0861, G_B_loss: 0.6596\n",
      "Epoch [3/10], Step [250/374], D_A_loss: 0.0837, D_B_loss: 0.0608, G_A_loss: 0.0863, G_B_loss: 0.6592\n",
      "Epoch [3/10], Step [300/374], D_A_loss: 0.0841, D_B_loss: 0.0603, G_A_loss: 0.0862, G_B_loss: 0.6589\n",
      "Epoch [3/10], Step [350/374], D_A_loss: 0.0841, D_B_loss: 0.0608, G_A_loss: 0.0864, G_B_loss: 0.6596\n",
      "Epoch [4/10], Step [50/374], D_A_loss: 0.0822, D_B_loss: 0.0651, G_A_loss: 0.0862, G_B_loss: 0.6625\n",
      "Epoch [4/10], Step [100/374], D_A_loss: 0.0831, D_B_loss: 0.0628, G_A_loss: 0.0830, G_B_loss: 0.6583\n",
      "Epoch [4/10], Step [150/374], D_A_loss: 0.0850, D_B_loss: 0.0617, G_A_loss: 0.0847, G_B_loss: 0.6569\n",
      "Epoch [4/10], Step [200/374], D_A_loss: 0.0843, D_B_loss: 0.0613, G_A_loss: 0.0843, G_B_loss: 0.6575\n",
      "Epoch [4/10], Step [250/374], D_A_loss: 0.0838, D_B_loss: 0.0615, G_A_loss: 0.0863, G_B_loss: 0.6596\n",
      "Epoch [4/10], Step [300/374], D_A_loss: 0.0839, D_B_loss: 0.0611, G_A_loss: 0.0865, G_B_loss: 0.6618\n",
      "Epoch [4/10], Step [350/374], D_A_loss: 0.0839, D_B_loss: 0.0612, G_A_loss: 0.0867, G_B_loss: 0.6587\n",
      "Epoch [5/10], Step [50/374], D_A_loss: 0.0852, D_B_loss: 0.0639, G_A_loss: 0.0887, G_B_loss: 0.6590\n",
      "Epoch [5/10], Step [100/374], D_A_loss: 0.0821, D_B_loss: 0.0617, G_A_loss: 0.0886, G_B_loss: 0.6626\n",
      "Epoch [5/10], Step [150/374], D_A_loss: 0.0836, D_B_loss: 0.0630, G_A_loss: 0.0855, G_B_loss: 0.6558\n",
      "Epoch [5/10], Step [200/374], D_A_loss: 0.0847, D_B_loss: 0.0623, G_A_loss: 0.0855, G_B_loss: 0.6506\n",
      "Epoch [5/10], Step [250/374], D_A_loss: 0.0849, D_B_loss: 0.0622, G_A_loss: 0.0849, G_B_loss: 0.6523\n",
      "Epoch [5/10], Step [300/374], D_A_loss: 0.0847, D_B_loss: 0.0619, G_A_loss: 0.0868, G_B_loss: 0.6548\n",
      "Epoch [5/10], Step [350/374], D_A_loss: 0.0843, D_B_loss: 0.0621, G_A_loss: 0.0870, G_B_loss: 0.6576\n",
      "Epoch [6/10], Step [50/374], D_A_loss: 0.0857, D_B_loss: 0.0600, G_A_loss: 0.0837, G_B_loss: 0.6618\n",
      "Epoch [6/10], Step [100/374], D_A_loss: 0.0851, D_B_loss: 0.0601, G_A_loss: 0.0842, G_B_loss: 0.6618\n",
      "Epoch [6/10], Step [150/374], D_A_loss: 0.0842, D_B_loss: 0.0601, G_A_loss: 0.0835, G_B_loss: 0.6569\n",
      "Epoch [6/10], Step [200/374], D_A_loss: 0.0845, D_B_loss: 0.0608, G_A_loss: 0.0845, G_B_loss: 0.6620\n",
      "Epoch [6/10], Step [250/374], D_A_loss: 0.0838, D_B_loss: 0.0602, G_A_loss: 0.0847, G_B_loss: 0.6646\n",
      "Epoch [6/10], Step [300/374], D_A_loss: 0.0834, D_B_loss: 0.0603, G_A_loss: 0.0852, G_B_loss: 0.6631\n",
      "Epoch [6/10], Step [350/374], D_A_loss: 0.0838, D_B_loss: 0.0604, G_A_loss: 0.0859, G_B_loss: 0.6623\n",
      "Epoch [7/10], Step [50/374], D_A_loss: 0.0853, D_B_loss: 0.0607, G_A_loss: 0.0925, G_B_loss: 0.6552\n",
      "Epoch [7/10], Step [100/374], D_A_loss: 0.0835, D_B_loss: 0.0590, G_A_loss: 0.0886, G_B_loss: 0.6600\n",
      "Epoch [7/10], Step [150/374], D_A_loss: 0.0834, D_B_loss: 0.0594, G_A_loss: 0.0880, G_B_loss: 0.6539\n",
      "Epoch [7/10], Step [200/374], D_A_loss: 0.0829, D_B_loss: 0.0589, G_A_loss: 0.0885, G_B_loss: 0.6607\n",
      "Epoch [7/10], Step [250/374], D_A_loss: 0.0838, D_B_loss: 0.0594, G_A_loss: 0.0893, G_B_loss: 0.6589\n",
      "Epoch [7/10], Step [300/374], D_A_loss: 0.0842, D_B_loss: 0.0598, G_A_loss: 0.0885, G_B_loss: 0.6593\n",
      "Epoch [7/10], Step [350/374], D_A_loss: 0.0840, D_B_loss: 0.0602, G_A_loss: 0.0884, G_B_loss: 0.6586\n",
      "Epoch [8/10], Step [50/374], D_A_loss: 0.0862, D_B_loss: 0.0639, G_A_loss: 0.0842, G_B_loss: 0.6340\n",
      "Epoch [8/10], Step [100/374], D_A_loss: 0.0853, D_B_loss: 0.0609, G_A_loss: 0.0857, G_B_loss: 0.6533\n",
      "Epoch [8/10], Step [150/374], D_A_loss: 0.0844, D_B_loss: 0.0603, G_A_loss: 0.0873, G_B_loss: 0.6561\n",
      "Epoch [8/10], Step [200/374], D_A_loss: 0.0848, D_B_loss: 0.0606, G_A_loss: 0.0859, G_B_loss: 0.6529\n",
      "Epoch [8/10], Step [250/374], D_A_loss: 0.0849, D_B_loss: 0.0613, G_A_loss: 0.0866, G_B_loss: 0.6542\n",
      "Epoch [8/10], Step [300/374], D_A_loss: 0.0851, D_B_loss: 0.0615, G_A_loss: 0.0879, G_B_loss: 0.6553\n",
      "Epoch [8/10], Step [350/374], D_A_loss: 0.0849, D_B_loss: 0.0616, G_A_loss: 0.0879, G_B_loss: 0.6548\n",
      "Epoch [9/10], Step [50/374], D_A_loss: 0.0893, D_B_loss: 0.0591, G_A_loss: 0.0862, G_B_loss: 0.6453\n",
      "Epoch [9/10], Step [100/374], D_A_loss: 0.0867, D_B_loss: 0.0596, G_A_loss: 0.0866, G_B_loss: 0.6572\n",
      "Epoch [9/10], Step [150/374], D_A_loss: 0.0855, D_B_loss: 0.0601, G_A_loss: 0.0863, G_B_loss: 0.6651\n",
      "Epoch [9/10], Step [200/374], D_A_loss: 0.0851, D_B_loss: 0.0597, G_A_loss: 0.0860, G_B_loss: 0.6616\n",
      "Epoch [9/10], Step [250/374], D_A_loss: 0.0854, D_B_loss: 0.0596, G_A_loss: 0.0867, G_B_loss: 0.6623\n",
      "Epoch [9/10], Step [300/374], D_A_loss: 0.0848, D_B_loss: 0.0605, G_A_loss: 0.0865, G_B_loss: 0.6633\n",
      "Epoch [9/10], Step [350/374], D_A_loss: 0.0845, D_B_loss: 0.0608, G_A_loss: 0.0870, G_B_loss: 0.6614\n",
      "Epoch [10/10], Step [50/374], D_A_loss: 0.0845, D_B_loss: 0.0617, G_A_loss: 0.0882, G_B_loss: 0.6721\n",
      "Epoch [10/10], Step [100/374], D_A_loss: 0.0844, D_B_loss: 0.0607, G_A_loss: 0.0853, G_B_loss: 0.6693\n",
      "Epoch [10/10], Step [150/374], D_A_loss: 0.0840, D_B_loss: 0.0596, G_A_loss: 0.0857, G_B_loss: 0.6710\n",
      "Epoch [10/10], Step [200/374], D_A_loss: 0.0856, D_B_loss: 0.0597, G_A_loss: 0.0870, G_B_loss: 0.6599\n",
      "Epoch [10/10], Step [250/374], D_A_loss: 0.0855, D_B_loss: 0.0598, G_A_loss: 0.0879, G_B_loss: 0.6590\n",
      "Epoch [10/10], Step [300/374], D_A_loss: 0.0847, D_B_loss: 0.0600, G_A_loss: 0.0869, G_B_loss: 0.6592\n",
      "Epoch [10/10], Step [350/374], D_A_loss: 0.0846, D_B_loss: 0.0604, G_A_loss: 0.0866, G_B_loss: 0.6601\n"
     ]
    }
   ],
   "source": [
    "losses = train(G_A, G_B, D_A, D_B, MSE_loss, L1_loss, optimizers, schedulers, trainloader_inp, trainloader_tar, 10)"
   ]
  },
  {
   "cell_type": "code",
   "execution_count": 50,
   "metadata": {
    "collapsed": true
   },
   "outputs": [],
   "source": [
    "final_test_predictions = get_predictions(G_A, final_test_loader)"
   ]
  },
  {
   "cell_type": "code",
   "execution_count": 51,
   "metadata": {
    "collapsed": true
   },
   "outputs": [],
   "source": [
    "final_predicted_brains = reconstruct_brain(final_test_predictions, padded_testing_scans_input, 9)"
   ]
  },
  {
   "cell_type": "markdown",
   "metadata": {},
   "source": [
    "### Visualise predictions"
   ]
  },
  {
   "cell_type": "code",
   "execution_count": 55,
   "metadata": {
    "collapsed": false
   },
   "outputs": [
    {
     "data": {
      "image/png": "[encoded data removed]",
      "text/plain": [
       "<matplotlib.figure.Figure at 0x7f19cd4977d0>"
      ]
     },
     "metadata": {},
     "output_type": "display_data"
    }
   ],
   "source": [
    "viz_pred(padded_testing_scans_input[0], final_predicted_brains[0], padded_testing_scans_input[0], 30)"
   ]
  },
  {
   "cell_type": "code",
   "execution_count": null,
   "metadata": {
    "collapsed": true
   },
   "outputs": [],
   "source": [
    "viz_diff(final_predicted_brains[0], final_test_inp[0], final_test_out1[0], 25)"
   ]
  },
  {
   "cell_type": "markdown",
   "metadata": {},
   "source": [
    "## Save the target and the predicted scans"
   ]
  },
  {
   "cell_type": "code",
   "execution_count": null,
   "metadata": {
    "collapsed": true
   },
   "outputs": [],
   "source": [
    "save_to = \"/home/ubuntu/project/Dataset/Final_AWS_1\"\n",
    "\n",
    "predicted_scan = nib.Nifti1Image(final_predicted_brain, affine_mat)\n",
    "nib.save(predicted_scan, save_to + \"/Predicted_Subj9Scan2_AWS.nii.gz\" )"
   ]
  },
  {
   "cell_type": "markdown",
   "metadata": {},
   "source": [
    "## Store the model parameters"
   ]
  },
  {
   "cell_type": "code",
   "execution_count": null,
   "metadata": {
    "collapsed": true
   },
   "outputs": [],
   "source": [
    "torch.save(trained_net.state_dict(), '/home/ubuntu/project/MRIDataHarmonisation/Development/Model_Params_AWS/Final_Model_FC.pth') "
   ]
  },
  {
   "cell_type": "markdown",
   "metadata": {},
   "source": [
    "## Load the model parameters"
   ]
  },
  {
   "cell_type": "code",
   "execution_count": null,
   "metadata": {
    "collapsed": true
   },
   "outputs": [],
   "source": [
    "trained_net = Net()\n",
    "trained_net.cuda()\n",
    "trained_net.load_state_dict(torch.load('/home/ubuntu/project/MRIDataHarmonisation/Development/Model_Params_AWS/Final_Model_FC.pth'))"
   ]
  },
  {
   "cell_type": "code",
   "execution_count": 3,
   "metadata": {
    "collapsed": false
   },
   "outputs": [],
   "source": [
    "a= [1,2,3,4]\n",
    "b =[1,2]"
   ]
  },
  {
   "cell_type": "code",
   "execution_count": 4,
   "metadata": {
    "collapsed": false
   },
   "outputs": [
    {
     "data": {
      "text/plain": [
       "[(1, 1), (2, 2)]"
      ]
     },
     "execution_count": 4,
     "metadata": {},
     "output_type": "execute_result"
    }
   ],
   "source": [
    "zip(a,b)"
   ]
  },
  {
   "cell_type": "code",
   "execution_count": 202,
   "metadata": {
    "collapsed": true
   },
   "outputs": [],
   "source": [
    "x = np.array([0,1,2,3])"
   ]
  },
  {
   "cell_type": "code",
   "execution_count": 204,
   "metadata": {
    "collapsed": false
   },
   "outputs": [
    {
     "data": {
      "text/plain": [
       "array([0, 1, 2, 3])"
      ]
     },
     "execution_count": 204,
     "metadata": {},
     "output_type": "execute_result"
    }
   ],
   "source": [
    "[x>0]"
   ]
  },
  {
   "cell_type": "code",
   "execution_count": null,
   "metadata": {
    "collapsed": true
   },
   "outputs": [],
   "source": []
  }
 ],
 "metadata": {
  "kernelspec": {
   "display_name": "Python 2",
   "language": "python",
   "name": "python2"
  },
  "language_info": {
   "codemirror_mode": {
    "name": "ipython",
    "version": 2
   },
   "file_extension": ".py",
   "mimetype": "text/x-python",
   "name": "python",
   "nbconvert_exporter": "python",
   "pygments_lexer": "ipython2",
   "version": "2.7.10"
  }
 },
 "nbformat": 4,
 "nbformat_minor": 2
}
