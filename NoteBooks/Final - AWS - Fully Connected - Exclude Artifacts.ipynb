{
 "cells": [
  {
   "cell_type": "markdown",
   "metadata": {},
   "source": [
    "# Fianl - AWS - Fully Connected - Exclude Artifacts"
   ]
  },
  {
   "cell_type": "markdown",
   "metadata": {},
   "source": [
    "### Upload the data required"
   ]
  },
  {
   "cell_type": "markdown",
   "metadata": {},
   "source": [
    "We use both scans of subjects 1-8 from the PETMR and TRIO dataset for training.\n",
    "\n",
    "We used the scan of subjects 9-10 also from the PETMR and TRIO dataset for testing."
   ]
  },
  {
   "cell_type": "markdown",
   "metadata": {},
   "source": [
    "## FUNCTIONS"
   ]
  },
  {
   "cell_type": "code",
   "execution_count": 4,
   "metadata": {
    "collapsed": true
   },
   "outputs": [],
   "source": [
    "import nibabel as nib\n",
    "import numpy as np\n",
    "import matplotlib.pyplot as plt\n",
    "import os\n",
    "%matplotlib inline\n",
    "import sys\n",
    "from dipy.io import read_bvals_bvecs\n",
    "from dipy.core.gradients import gradient_table\n",
    "import random"
   ]
  },
  {
   "cell_type": "code",
   "execution_count": 5,
   "metadata": {
    "collapsed": true
   },
   "outputs": [],
   "source": [
    "# We threshold using b=700 values as this is more robust in identifying artifacts\n",
    "# Use all b=700 values then take the union of them\n",
    "def threshold(full_scan, gtab, threshold):\n",
    "    \n",
    "    b_700 = full_scan[:,:,:, (gtab.bvals == 700)]\n",
    "\n",
    "    # Identify the voxels that lie above the threshold level\n",
    "    bool_matrix = b_700 > threshold\n",
    "    \n",
    "    # Combine the identified voxels using a union opertaion in a single scan\n",
    "    bool_matrix = np.logical_or.reduce(bool_matrix, axis=3)\n",
    "    \n",
    "    return bool_matrix"
   ]
  },
  {
   "cell_type": "code",
   "execution_count": 48,
   "metadata": {
    "collapsed": true
   },
   "outputs": [],
   "source": [
    "#this function simply uploads the testing and training scans into lists of numpy arrays\n",
    "#the data is not yet sliced or patched at this stage\n",
    "\n",
    "#specify in a list what scans to use for training and what scans to use for testing\n",
    "\n",
    "\n",
    "def get_data(petmr_path, trio_path, scans_dict, input_scanner):\n",
    "    \n",
    "    petmr_threshold_val = 480\n",
    "    trio_threshold_val = 450\n",
    "    \n",
    "    train_val_test_inp = []\n",
    "    train_val_test_out1 = []\n",
    "    train_val_test_out2 = []\n",
    "    test_data_inp = []\n",
    "    test_data_out1 = []\n",
    "    test_data_out2 = []\n",
    "    \n",
    "    if input_scanner == \"PETMR\":\n",
    "        input_path = petmr_path\n",
    "        output_path = trio_path\n",
    "    else:\n",
    "        input_path = trio_path\n",
    "        output_path = petmr_path       \n",
    "    \n",
    "    for key, subjs in scans_dict.iteritems():\n",
    "        for subj_scan in subjs:\n",
    "                \n",
    "            input_scan_image = nib.load(str(input_path) + \"/Subj\" + str(subj_scan[0]) + \"Scan\" + str(subj_scan[1]) + \"/Brain_Matched.nii.gz\")\n",
    "            input_scan_data = input_scan_image.get_data()\n",
    "                \n",
    "            input_bvals_scan, input_bvecs_scan = read_bvals_bvecs(str(input_path) + \"/Subj\" + str(subj_scan[0]) + \"Scan\" + str(subj_scan[1]) + \"/NODDI.bval\",\\\n",
    "                                                          str(input_path) + \"/Subj\" + str(subj_scan[0]) + \"Scan\" + str(subj_scan[1]) + \"/NODDI.bvec\")\n",
    "            \n",
    "            # Important : Upload the output scan that is registered to the appropriate input scan\n",
    "            \n",
    "            output_scan_image1 = nib.load(str(output_path) + \"/Subj\" + str(subj_scan[0]) + \"Scan1\" + \"/Brain_Matched_Scan\" + str(subj_scan[1]) + \".nii.gz\")\n",
    "            output_scan_data1 = output_scan_image1.get_data()\n",
    "            \n",
    "            output_scan_image2 = nib.load(str(output_path) + \"/Subj\" + str(subj_scan[0]) + \"Scan2\" + \"/Brain_Matched_Scan\" + str(subj_scan[1]) + \".nii.gz\")\n",
    "            output_scan_data2 = output_scan_image2.get_data()\n",
    "                \n",
    "            output_bvals_scan1, output_bvecs_scan1 = read_bvals_bvecs(str(output_path) + \"/Subj\" + str(subj_scan[0]) + \"Scan1/NODDI.bval\",\\\n",
    "                                                          str(output_path) + \"/Subj\" + str(subj_scan[0]) + \"Scan1/NODDI.bvec\")\n",
    "            \n",
    "            output_bvals_scan2, output_bvecs_scan2 = read_bvals_bvecs(str(output_path) + \"/Subj\" + str(subj_scan[0]) + \"Scan2/NODDI.bval\",\\\n",
    "                                                          str(output_path) + \"/Subj\" + str(subj_scan[0]) + \"Scan2/NODDI.bvec\")\n",
    "\n",
    "            # Get gradient tables, set a threshold value for b=0 values (due to TRIO dataset)\n",
    "            input_gtab_scan = gradient_table(input_bvals_scan, input_bvecs_scan, b0_threshold=5)\n",
    "            output_gtab_scan1 = gradient_table(output_bvals_scan1, output_bvecs_scan1, b0_threshold=5)\n",
    "            output_gtab_scan2 = gradient_table(output_bvals_scan2, output_bvecs_scan2, b0_threshold=5)\n",
    "\n",
    "            # At this stage we can get rid of the artifacts in the input scan\n",
    "            # Do this only if key = train_val_test\n",
    "            if(key == \"train_val_test\"):\n",
    "                threshold_matrix = threshold(input_scan_data, input_gtab_scan, petmr_threshold_val)\n",
    "                input_scan_data[threshold_matrix, :] = -5\n",
    "                \n",
    "                threshold_matrix = threshold(output_scan_data1, output_gtab_scan1, trio_threshold_val)\n",
    "                output_scan_data1[threshold_matrix, :] = -5\n",
    "                \n",
    "                threshold_matrix = threshold(output_scan_data2, output_gtab_scan2, trio_threshold_val)\n",
    "                output_scan_data2[threshold_matrix, :] = -5\n",
    "                \n",
    "            \n",
    "            input_s0s_scan = input_scan_data[:, :, :, input_gtab_scan.b0s_mask]\n",
    "            temp_output_s0s_scan1 = output_scan_data1[:, :, :, output_gtab_scan1.b0s_mask]\n",
    "            temp_output_s0s_scan2 = output_scan_data2[:, :, :, output_gtab_scan2.b0s_mask]\n",
    "            \n",
    "            \n",
    "            # We do this to ensure the 1st target for scan 1 is corresponding scan 1, and the \n",
    "            # 1st target for scan 2 is corresponding scan 2\n",
    "            if subj_scan[1] == 1:\n",
    "                output_s0s_scan1 = temp_output_s0s_scan1\n",
    "                output_s0s_scan2 = temp_output_s0s_scan2\n",
    "            else:\n",
    "                output_s0s_scan1 = temp_output_s0s_scan2\n",
    "                output_s0s_scan2 = temp_output_s0s_scan1\n",
    "            \n",
    "            # Use only the first volume, ignore other volumes\n",
    "            if(key == \"train_val_test\"):\n",
    "                print (\"Uploading Subject %s Scan %s\" % (str(subj_scan[0]), str(subj_scan[1])))\n",
    "                #append the data to the lists containing the training inputs and outputs\n",
    "                train_val_test_inp.append(input_s0s_scan[:,:,:,[0]])\n",
    "                train_val_test_out1.append(output_s0s_scan1[:,:,:,[0]])\n",
    "                train_val_test_out2.append(output_s0s_scan2[:,:,:,[0]])\n",
    "            else:\n",
    "                print (\"Testing: Subject %s Scan %s\" % (str(subj_scan[0]), str(subj_scan[1])))\n",
    "                test_data_inp.append(input_s0s_scan[:,:,:,[0]])\n",
    "                test_data_out1.append(output_s0s_scan1[:,:,:,[0]])\n",
    "                test_data_out2.append(output_s0s_scan2[:,:,:,[0]])\n",
    "    return (train_val_test_inp, train_val_test_out1, train_val_test_out2, test_data_inp, test_data_out1, test_data_out2, output_scan_image1.affine)"
   ]
  },
  {
   "cell_type": "code",
   "execution_count": 7,
   "metadata": {
    "collapsed": true
   },
   "outputs": [],
   "source": [
    "#This function extracts patches from a scan and appends them to a list.\n",
    "#This is done for all volumes of a scan (for both the inputs and targets)\n",
    "\n",
    "def patchify(data_scans_inp, data_scans_out1, data_scans_out2, patch_size):\n",
    "    \n",
    "    input_patches_store = []\n",
    "    target_patches_store1 = []\n",
    "    target_patches_store2 = []\n",
    "    \n",
    "    for scan_no in range(0, len(data_scans_inp)):\n",
    "        input_scan = data_scans_inp[scan_no]\n",
    "        target_scan1 = data_scans_out1[scan_no]\n",
    "        target_scan2 = data_scans_out2[scan_no]\n",
    "        \n",
    "        (x,y,z,v) = input_scan.shape\n",
    "        if((patch_size-1) % 2 != 0):\n",
    "            print \"The patch size is not compatible\"\n",
    "            return\n",
    "        padding = ((patch_size-1)/2)\n",
    "        #pad the input scan\n",
    "        full_padding = ((padding, padding), (padding, padding), (padding,padding), (0,0))\n",
    "        padded_scan = np.pad(input_scan, full_padding, mode='constant', constant_values=0)\n",
    "\n",
    "        #extract patches from the input scan\n",
    "\n",
    "        #iterate through each volume to extract the patches\n",
    "        for volume in range(0, v):\n",
    "            for pos_x in range(0, x):\n",
    "                for pos_y in range(0,y):\n",
    "                    for pos_z in range(0, z):\n",
    "                        input_patch = padded_scan[pos_x:pos_x+patch_size, pos_y:pos_y+patch_size, pos_z:pos_z+patch_size, volume]\n",
    "                        target_voxel1 = target_scan1[pos_x,pos_y,pos_z,volume]\n",
    "                        target_voxel2 = target_scan2[pos_x,pos_y,pos_z,volume]\n",
    "                        \n",
    "                        #store the patch and the target\n",
    "                        input_patches_store.append(input_patch)\n",
    "                        target_patches_store1.append(target_voxel1)\n",
    "                        target_patches_store2.append(target_voxel2)\n",
    "                        \n",
    "    return (input_patches_store, target_patches_store1, target_patches_store2)\n",
    "\n",
    "\n",
    "\n"
   ]
  },
  {
   "cell_type": "code",
   "execution_count": 49,
   "metadata": {
    "collapsed": true
   },
   "outputs": [],
   "source": [
    "#This function extracts patches from a scan and appends them to a list.\n",
    "#This is done for all volumes of a scan (for both the inputs and targets)\n",
    "#This version of the functions only considers voxels wholly contained within the brain\n",
    "\n",
    "def patchify_brain_only(data_scans_inp, data_scans_out1, data_scans_out2, patch_size):\n",
    "    \n",
    "    input_patches_store = []\n",
    "    target_patches_store1 = []\n",
    "    target_patches_store2 = []\n",
    "    \n",
    "    for scan_no in range(0, len(data_scans_inp)):\n",
    "        input_scan = data_scans_inp[scan_no]\n",
    "        target_scan1 = data_scans_out1[scan_no]\n",
    "        target_scan2 = data_scans_out2[scan_no]\n",
    "        \n",
    "        (x,y,z,v) = input_scan.shape\n",
    "        if((patch_size-1) % 2 != 0):\n",
    "            print \"The patch size is not compatible\"\n",
    "            return\n",
    "        padding = ((patch_size-1)/2)\n",
    "        #pad the input scan\n",
    "        full_padding = ((padding, padding), (padding, padding), (padding,padding), (0,0))\n",
    "        padded_scan = np.pad(input_scan, full_padding, mode='constant', constant_values=0)\n",
    "\n",
    "        #extract patches from the input scan\n",
    "\n",
    "        #iterate through each volume to extract the patches\n",
    "        for volume in range(0, v):\n",
    "            for pos_x in range(0, x):\n",
    "                for pos_y in range(0,y):\n",
    "                    for pos_z in range(0, z):\n",
    "                        # Exclude all background voxels\n",
    "                        if(input_scan[pos_x,pos_y,pos_z,volume] == 0):\n",
    "                            continue\n",
    "                        input_patch = padded_scan[pos_x:pos_x+patch_size, pos_y:pos_y+patch_size, pos_z:pos_z+patch_size, volume]\n",
    "                        target_voxel1 = target_scan1[pos_x,pos_y,pos_z,volume]\n",
    "                        target_voxel2 = target_scan2[pos_x,pos_y,pos_z,volume]\n",
    "                        # Exclude all patches that contain artefacts\n",
    "                        if input_patch.min() < 0:\n",
    "                            continue\n",
    "                        if target_voxel1 < 0:\n",
    "                            continue\n",
    "                            \n",
    "                        #store the patch and the target\n",
    "                        input_patches_store.append(input_patch)\n",
    "                        target_patches_store1.append(target_voxel1)\n",
    "                        target_patches_store2.append(target_voxel2)\n",
    "                        \n",
    "    return (input_patches_store, target_patches_store1, target_patches_store2)"
   ]
  },
  {
   "cell_type": "code",
   "execution_count": 50,
   "metadata": {
    "collapsed": true
   },
   "outputs": [],
   "source": [
    "def split_data(input_list, output_list1, output_list2, train_prop, val_prop, test_prop):\n",
    "    length = len(input_list)\n",
    "    indexes = range(length)\n",
    "    # Randomly shuffle the indexes\n",
    "    random.shuffle(indexes)\n",
    "    \n",
    "    train_len = int(round(length * train_prop))\n",
    "    val_len = int(round(length * val_prop))\n",
    "    test_len = int(length - train_len - val_len)\n",
    "\n",
    "    train_indices = indexes[:train_len]\n",
    "    val_indices = indexes[train_len:train_len+val_len]\n",
    "    test_indices = indexes[train_len+val_len:]\n",
    "\n",
    "    training_input = [input_list[i] for i in train_indices]\n",
    "    training_output = [output_list1[i] for i in train_indices]\n",
    "    \n",
    "    validation_input = [input_list[i] for i in val_indices]\n",
    "    validation_output = [output_list1[i] for i in val_indices]\n",
    "    \n",
    "    testing_input = [input_list[i] for i in test_indices]\n",
    "    testing_output1 = [output_list1[i] for i in test_indices]\n",
    "    testing_output2 = [output_list2[i] for i in test_indices]\n",
    "    \n",
    "    return(training_input, training_output, validation_input, validation_output, testing_input, testing_output1, testing_output2)"
   ]
  },
  {
   "cell_type": "code",
   "execution_count": 51,
   "metadata": {
    "collapsed": true
   },
   "outputs": [],
   "source": [
    "def viz_pred(inputs, predictions, labels, sliceNo):\n",
    "    maximum = np.max([inputs.max(), predictions.max(), labels.max()])\n",
    "    plt.figure\n",
    "    plt.figure(figsize=(10,10))\n",
    "    plt.subplot(1, 3, 1).set_axis_off()\n",
    "    plt.imshow(inputs[:,:,sliceNo,0].T, cmap='gray', origin='lower', vmax = maximum, vmin=0)\n",
    "    plt.title(\"Input\")\n",
    "    plt.subplot(1, 3, 2).set_axis_off()\n",
    "    plt.imshow(predictions[:,:,sliceNo,0].T, cmap='gray', origin='lower', vmax = maximum, vmin=0)\n",
    "    plt.title(\"Predicted\")\n",
    "    plt.subplot(1, 3, 3).set_axis_off()\n",
    "    plt.imshow(labels[:,:,sliceNo,0].T, cmap='gray', origin='lower', vmax = maximum, vmin=0)\n",
    "    plt.title(\"Target\")\n",
    "    plt.show()"
   ]
  },
  {
   "cell_type": "code",
   "execution_count": 52,
   "metadata": {
    "collapsed": true
   },
   "outputs": [],
   "source": [
    "def viz_diff(predictions, inputs, labels, sliceNo):\n",
    "    maximum = np.max([inputs.max(), predictions.max(), labels.max()])\n",
    "    difference = np.abs(predictions[:,:,sliceNo,0] - labels[:,:,sliceNo,0])\n",
    "    plt.figure\n",
    "    plt.figure(figsize=(10,10))\n",
    "    plt.subplot(2, 3, 2).set_axis_off()\n",
    "    plt.imshow(np.absolute(difference).T, cmap='nipy_spectral', origin='lower')\n",
    "    #plt.colorbar(shrink=0.2)\n",
    "    plt.title(\"Predicted Error\")\n",
    "    plt.subplot(2, 3, 1).set_axis_off()\n",
    "    plt.imshow(inputs[:,:,sliceNo,0].T, cmap='gray', origin='lower', vmin=0, vmax=maximum)\n",
    "    plt.title(\"Input\")\n",
    "    plt.subplot(2, 3, 3).set_axis_off()\n",
    "    plt.imshow(labels[:,:,sliceNo,0].T, cmap='gray', origin='lower', vmin=0, vmax=maximum)\n",
    "    plt.title(\"Target\")\n",
    "    plt.subplot(2, 3, 5).set_axis_off()\n",
    "    plt.imshow(predictions[:,:,sliceNo,0].T, cmap='gray', origin='lower', vmin=0, vmax=maximum)\n",
    "    plt.title(\"Predicted\")\n",
    "    plt.show()"
   ]
  },
  {
   "cell_type": "code",
   "execution_count": 53,
   "metadata": {
    "collapsed": true
   },
   "outputs": [],
   "source": [
    "#bland-altman plot\n",
    "\n",
    "def bland_altman_plot(pred, output1, output2):\n",
    "\n",
    "    output_mean = np.mean([output1, output2], axis=0)\n",
    "    x_max = np.max(output_mean)\n",
    "    diff = pred - output_mean                   # Difference between predicted and mean\n",
    "    md = np.mean(diff)                   # Mean of the difference\n",
    "    sd = np.std(diff)            # Standard deviation of the difference\n",
    " \n",
    "    percentage_error = np.absolute(((diff)/(output_mean))*100)\n",
    "    #percentage_error[percentage_error > 50] = 50\n",
    "    #percentage_error[percentage_error < -50] = -50\n",
    "    plt.scatter(output_mean, diff, c=percentage_error, edgecolors='face', cmap='jet')\n",
    "    plt.axhline(md,           color='gray', linestyle='--')\n",
    "    plt.axhline(md + 1.96*sd, color='gray', linestyle='--')\n",
    "    plt.axhline(md - 1.96*sd, color='gray', linestyle='--')\n",
    "    plt.ylabel('Error')\n",
    "    plt.xlabel('Mean output value')\n",
    "    plt.xlim([0, x_max*1.1]) \n",
    "    plt.colorbar()"
   ]
  },
  {
   "cell_type": "code",
   "execution_count": 54,
   "metadata": {
    "collapsed": true
   },
   "outputs": [],
   "source": [
    "def plot_predicted(pred, output1, output2):\n",
    "\n",
    "    output_mean = np.mean([output1, output2], axis=0)\n",
    "    x_max = np.max(output_mean)\n",
    "    diff = pred - output_mean                   # Difference between predicted and mean\n",
    "    md = np.mean(diff)                   # Mean of the difference\n",
    "    sd = np.std(diff)            # Standard deviation of the difference\n",
    " \n",
    "    percentage_error = np.absolute(((diff)/(output_mean))*100)\n",
    "    #percentage_error[percentage_error > 50] = 50\n",
    "    #percentage_error[percentage_error < -50] = -50\n",
    "    plt.scatter(output_mean, pred, c=percentage_error, edgecolors='face', cmap='jet')\n",
    "    plt.ylabel('Predicted')\n",
    "    plt.xlabel('Mean output value')\n",
    "    plt.xlim([0, x_max*1.1])\n",
    "    plt.ylim([0, x_max*1.1]) \n",
    "    plt.colorbar()"
   ]
  },
  {
   "cell_type": "markdown",
   "metadata": {},
   "source": [
    "-------------------------------------------------------------------------------------------------------\n",
    "---\n",
    "\n",
    "-------------------------------------------------------------------------------------------------------\n",
    "---\n",
    "\n"
   ]
  },
  {
   "cell_type": "markdown",
   "metadata": {},
   "source": [
    "#### Upload the data"
   ]
  },
  {
   "cell_type": "code",
   "execution_count": 55,
   "metadata": {
    "collapsed": false,
    "scrolled": true
   },
   "outputs": [
    {
     "name": "stdout",
     "output_type": "stream",
     "text": [
      "Uploading Subject 1 Scan 1\n",
      "Uploading Subject 1 Scan 2\n",
      "Uploading Subject 2 Scan 1\n",
      "Uploading Subject 2 Scan 2\n",
      "Uploading Subject 3 Scan 1\n",
      "Uploading Subject 3 Scan 2\n",
      "Uploading Subject 4 Scan 1\n",
      "Uploading Subject 4 Scan 2\n",
      "Uploading Subject 5 Scan 1\n",
      "Uploading Subject 5 Scan 2\n",
      "Uploading Subject 6 Scan 1\n",
      "Uploading Subject 6 Scan 2\n",
      "Uploading Subject 7 Scan 1\n",
      "Uploading Subject 7 Scan 2\n",
      "Uploading Subject 8 Scan 2\n",
      "Testing: Subject 8 Scan 1\n",
      "Testing: Subject 9 Scan 1\n",
      "Testing: Subject 9 Scan 2\n",
      "Testing: Subject 10 Scan 1\n",
      "Testing: Subject 10 Scan 2\n",
      "Number of scans used for training, validation and testing: 15\n",
      "Number of scans used for final testing: 5\n"
     ]
    }
   ],
   "source": [
    "#upload the data\n",
    "petmr_data_path = '/home/ubuntu/project/Dataset/PETMR_data'\n",
    "trio_data_path = '/home/ubuntu/project/Dataset/TRIO_data'\n",
    "\n",
    "# Enter a list of tuples (subject, scan_number)\n",
    "# Use this to get all scans then split into training, validation and testing\n",
    "train_val_test_scans = [(1,1), (1,2), (2,1), (2,2), (3,1), (3,2), (4,1), (4,2), (5,1), (5,2), \\\n",
    "                        (6,1), (6,2), (7,1), (7,2), (8,2)]\n",
    "\n",
    "# This is a final test scan only - used to generate a complete scan from the trained CNN\n",
    "testing_scans = [(8,1), (9,1), (9,2), (10,1), (10,2)]\n",
    "\n",
    "data_dict = {\"train_val_test\": train_val_test_scans, \"testing\":testing_scans}\n",
    "\n",
    "(train_val_test_inp, train_val_test_out1, train_val_test_out2, final_test_inp, final_test_out1, final_test_out2, affine_mat) = \\\n",
    "        get_data(petmr_data_path, trio_data_path, data_dict, input_scanner=\"PETMR\")\n",
    "print(\"Number of scans used for training, validation and testing: %d\" % len(train_val_test_inp))\n",
    "print (\"Number of scans used for final testing: %d\" % len(final_test_inp))"
   ]
  },
  {
   "cell_type": "markdown",
   "metadata": {},
   "source": [
    "#### Patchify the data"
   ]
  },
  {
   "cell_type": "code",
   "execution_count": 56,
   "metadata": {
    "collapsed": false
   },
   "outputs": [
    {
     "name": "stdout",
     "output_type": "stream",
     "text": [
      "Patchifying training, validation and testing set\n",
      "Patchifying final testing scans\n"
     ]
    }
   ],
   "source": [
    "print \"Patchifying training, validation and testing set\"\n",
    "(train_val_test_input, train_val_test_target1, train_val_test_target2) = patchify_brain_only(train_val_test_inp, train_val_test_out1, train_val_test_out2, 9)\n",
    "\n",
    "print \"Patchifying final testing scans\"\n",
    "(final_testing_input, final_testing_target1, final_testing_target2) = patchify(final_test_inp, final_test_out1, final_test_out2, 9)"
   ]
  },
  {
   "cell_type": "code",
   "execution_count": 57,
   "metadata": {
    "collapsed": false
   },
   "outputs": [
    {
     "name": "stdout",
     "output_type": "stream",
     "text": [
      "Nember of training, validation and testing examples : 1168666\n",
      "Nember of final testing examples : 929429\n"
     ]
    }
   ],
   "source": [
    "print (\"Nember of training, validation and testing examples : %d\" % len(train_val_test_input))\n",
    "print (\"Nember of final testing examples : %d\" % len(final_testing_input))"
   ]
  },
  {
   "cell_type": "markdown",
   "metadata": {},
   "source": [
    "#### Randomly split the data into training validation and testing sets"
   ]
  },
  {
   "cell_type": "code",
   "execution_count": 58,
   "metadata": {
    "collapsed": true
   },
   "outputs": [],
   "source": [
    "training_input, training_target, validation_input, validation_target, testing_input, testing_target1, testing_target2 = \\\n",
    "        split_data(train_val_test_input, train_val_test_target1, train_val_test_target2, 0.70, 0.15, 0.15)"
   ]
  },
  {
   "cell_type": "code",
   "execution_count": 59,
   "metadata": {
    "collapsed": false
   },
   "outputs": [
    {
     "name": "stdout",
     "output_type": "stream",
     "text": [
      "Nember of training examples : 818066\n",
      "Nember of Validation examples : 175300\n",
      "Nember of testing examples : 175300\n"
     ]
    }
   ],
   "source": [
    "print (\"Nember of training examples : %d\" % len(training_input))\n",
    "print (\"Nember of Validation examples : %d\" % len(validation_input))\n",
    "print (\"Nember of testing examples : %d\" % len(testing_input))"
   ]
  },
  {
   "cell_type": "markdown",
   "metadata": {},
   "source": [
    "# PyTorch Functions"
   ]
  },
  {
   "cell_type": "code",
   "execution_count": 60,
   "metadata": {
    "collapsed": true
   },
   "outputs": [],
   "source": [
    "import torch\n",
    "import torchvision\n",
    "import torchvision.transforms as transforms\n",
    "from torch.utils.data import Dataset\n",
    "from torch.utils.data import DataLoader\n",
    "import torch.optim as optim\n",
    "from torch.autograd import Variable\n",
    "import torch.nn as nn\n",
    "import torch.nn.functional as F"
   ]
  },
  {
   "cell_type": "code",
   "execution_count": 61,
   "metadata": {
    "collapsed": true
   },
   "outputs": [],
   "source": [
    "#create a dataset class for our data\n",
    "\n",
    "class MRIdataset(Dataset):\n",
    "    \"\"\"MRI b=0 dataset for patches.\"\"\"\n",
    "\n",
    "    def __init__(self, input_patches, target_patches, transform=None):\n",
    "        \"\"\"\n",
    "        Args:\n",
    "            input_patches: Input patches\n",
    "            target_patches: Corresponding target patches of the input patches\n",
    "            transform (callable, optional): Optional transform to be applied\n",
    "            on a sample.\n",
    "        \"\"\"\n",
    "        self.input_patches = input_patches\n",
    "        self.target_patches = target_patches\n",
    "        self.transform = transform\n",
    "\n",
    "    def __len__(self):\n",
    "        return len(self.input_patches)\n",
    "\n",
    "    def __getitem__(self, idx):\n",
    "        input_patch = np.array(self.input_patches[idx])\n",
    "        target_patch = np.array(self.target_patches[idx])\n",
    "        sample = {'input': input_patch, 'target': target_patch}\n",
    "        \n",
    "\n",
    "        if self.transform:\n",
    "            sample = self.transform(sample)\n",
    "            \n",
    "        return sample\n"
   ]
  },
  {
   "cell_type": "code",
   "execution_count": 62,
   "metadata": {
    "collapsed": true
   },
   "outputs": [],
   "source": [
    "class To_Tensor(object):\n",
    "    \"\"\"Convert ndarrays in sample to Tensors.\"\"\"\n",
    "\n",
    "    def __call__(self, sample):\n",
    "        inp, out = sample['input'], sample['target']\n",
    "        \n",
    "        #first expand dimension because torch expects H x W x D x C\n",
    "        #currently we only have H x W x D\n",
    "        aug_inp = np.expand_dims(inp, 3)\n",
    "        \n",
    "        #The target is a single voxel,\n",
    "        #Conver it to an array\n",
    "        aug_out = np.array([out])\n",
    "\n",
    "        # swap channel axis because\n",
    "        # numpy: H x W x D x C\n",
    "        # torch: C x D x H x W\n",
    "        aug_inp = aug_inp.transpose((3, 2, 0, 1))\n",
    "        \n",
    "        return {'input': torch.Tensor(aug_inp),\n",
    "                'target': torch.Tensor(aug_out)}\n",
    "\n"
   ]
  },
  {
   "cell_type": "code",
   "execution_count": 63,
   "metadata": {
    "collapsed": true
   },
   "outputs": [],
   "source": [
    "def train(net, trainloader, valiloader, training_losses, validation_losses, optimizer, criterion, scheduler, epochs):\n",
    "\n",
    "    for epoch in range(epochs):  # loop over the dataset multiple times\n",
    "        net.train()\n",
    "        running_loss = 0.0\n",
    "        for i, data in enumerate(trainloader, 0): #done in batches\n",
    "            # get the inputs\n",
    "            inputs = data['input']\n",
    "            labels = data['target']\n",
    "\n",
    "           # wrap them in Variable\n",
    "            inputs, labels = Variable(inputs.cuda()), Variable(labels.cuda())\n",
    "\n",
    "            # zero the parameter gradients\n",
    "            optimizer.zero_grad()\n",
    "\n",
    "            # forward + backward + optimize/update weights\n",
    "            outputs = net(inputs)\n",
    "            loss = criterion(outputs, labels)\n",
    "            loss.backward()\n",
    "            optimizer.step()\n",
    "\n",
    "            # print statistics\n",
    "            running_loss += loss.data[0] #loss is a variable tensor of size 1, we index to get the value out\n",
    "            if i % 250 == 249:    # print every 250 mini-batches\n",
    "                total_loss = running_loss / (i+1)\n",
    "                print('[%d, %5d] --- Losss = %.5f' % (epoch + 1, i + 1, total_loss))\n",
    "                \n",
    "        total_loss = running_loss / (i+1)\n",
    "        training_losses.append(total_loss)        \n",
    "        print('Training loss iteration %d = %.5f' % (epoch+1, total_loss ))\n",
    "        # Update the learning rate dynamically\n",
    "        scheduler.step(total_loss)\n",
    "        \n",
    "        \n",
    "        # After each epoch evaluat the performance of the CNN on the validation set\n",
    "        net.eval()   \n",
    "        validation_error = 0\n",
    "        total = 0\n",
    "        for validation_data in valiloader: #batch processing\n",
    "            validation_inputs = validation_data['input']\n",
    "            validation_labels = validation_data['target']\n",
    "            total += 1\n",
    "            \n",
    "            validation_inputs, validation_labels = Variable(validation_inputs.cuda()), Variable(validation_labels.cuda())\n",
    "\n",
    "            validation_predictions = net(validation_inputs)\n",
    "            \n",
    "            validation_error += (torch.nn.functional.mse_loss(Variable(validation_predictions.data), validation_labels)).data[0]\n",
    "            \n",
    "        validation_error /= total\n",
    "        print('MSE on validation set: %f' % (validation_error))\n",
    "        validation_losses.append(validation_error)\n",
    " \n",
    "    print('Finished Training')\n",
    "    return (net, training_losses, validation_losses)"
   ]
  },
  {
   "cell_type": "code",
   "execution_count": 64,
   "metadata": {
    "collapsed": true
   },
   "outputs": [],
   "source": [
    "def plt_losses(training_losses, validation_losses):\n",
    "    plt.figure\n",
    "    plt.plot(range(1,len(training_losses)+1), training_losses, 'r-', label=\"Training error\")\n",
    "    plt.plot(range(1,len(validation_losses)+1), validation_losses, 'b-', label=\"Validation error\")\n",
    "    plt.legend()\n",
    "    plt.xlabel('iteration')\n",
    "    # Make the y-axis label, ticks and tick labels match the line color.\n",
    "    plt.ylabel('Loss - (MSE)')\n",
    "    plt.show()"
   ]
  },
  {
   "cell_type": "code",
   "execution_count": 65,
   "metadata": {
    "collapsed": true
   },
   "outputs": [],
   "source": [
    "def get_predictions(net, testloader):\n",
    "    net.eval()\n",
    "    for index, test_data in enumerate(testloader):\n",
    "        test_inputs = test_data['input']\n",
    "        test_labels = test_data['target']\n",
    "        if index % 250 == 249:\n",
    "            print index + 1\n",
    "        \n",
    "        test_inputs, test_labels = Variable(test_inputs.cuda()), Variable(test_labels.cuda())\n",
    "\n",
    "        #store the predictions in a numpy array which we can reshape later\n",
    "        test_predictions = net(test_inputs)\n",
    "        if(index == 0):\n",
    "            predictions = test_predictions.data.cpu().numpy() \n",
    "\n",
    "        else:\n",
    "            predictions = np.concatenate((predictions, test_predictions.data.cpu().numpy()), axis=0)\n",
    "            \n",
    "    #convert back to numpy dimensions of (HxWxDxCxNumbExpls)\n",
    "    predictions = predictions.transpose(1,0)\n",
    "    return predictions\n",
    "    "
   ]
  },
  {
   "cell_type": "code",
   "execution_count": 66,
   "metadata": {
    "collapsed": true
   },
   "outputs": [],
   "source": [
    "def replace_background(prediction, input_scan):\n",
    "    background_mask = input_scan <= 0\n",
    "    prediction[background_mask] = 0\n",
    "    \n",
    "    return prediction"
   ]
  },
  {
   "cell_type": "code",
   "execution_count": 67,
   "metadata": {
    "collapsed": true
   },
   "outputs": [],
   "source": [
    "def reconstruct_brain(predictions, scans):\n",
    "    # Scans is a list containing the input scans where each scan is stored as a 4d numpy array\n",
    "    # Iterate through all the scans and reconstruct them\n",
    "    start_voxel = 0\n",
    "    reconstructed_scans = []\n",
    "    for scan in scans:\n",
    "        dimensions = scan.shape\n",
    "        size_x = dimensions[0]\n",
    "        size_y = dimensions[1]\n",
    "        size_z = dimensions[2]\n",
    "        size_v = dimensions[3]\n",
    "        end_voxel = start_voxel + (size_x * size_y * size_z * size_v)\n",
    "        reconstructed = np.reshape(predictions[:,start_voxel:end_voxel], [size_v, size_x, size_y, size_z], order='C')\n",
    "        reconstructed = reconstructed.transpose(1,2,3,0)\n",
    "        start_voxel = end_voxel\n",
    "        \n",
    "        # Replace the background voxels of the scan with 0\n",
    "        reconstructed = replace_background(reconstructed, scan)\n",
    "        reconstructed_scans.append(reconstructed)\n",
    "        \n",
    "    return reconstructed_scans"
   ]
  },
  {
   "cell_type": "code",
   "execution_count": 68,
   "metadata": {
    "collapsed": true
   },
   "outputs": [],
   "source": [
    "def get_errors(predictions, output1, output2, data_type):\n",
    "    \n",
    "    scan = 0\n",
    "    mse_avg = 0\n",
    "    l1_avg = 0\n",
    "    r1_avg = 0\n",
    "    \n",
    "    while True:\n",
    "        if data_type == \"scan\":\n",
    "            scan_predictions = predictions[scan]\n",
    "            scan_output1 = output1[scan]\n",
    "            scan_output2 = output2[scan]\n",
    "            scan += 1\n",
    "            print('\\n--------------Scan %d---------------' % (scan))\n",
    "        else:\n",
    "            print('\\n----------------------------')\n",
    "            scan_predictions = predictions\n",
    "            scan_output1 = output1\n",
    "            scan_output2 = output2\n",
    "            \n",
    "        mse = ((scan_predictions - scan_output1) ** 2).mean()\n",
    "        print('MSE on test %s: %f' % (data_type, mse))\n",
    "\n",
    "        l1 = (np.absolute(scan_predictions -  scan_output1)).mean()\n",
    "        print('Mean absolute loss on test %s: %f' % (data_type, l1))\n",
    "\n",
    "        r1 = 1 - (np.sum((scan_output1 - scan_predictions) ** 2) / np.sum((scan_output1 - scan_output1.mean()) ** 2))\n",
    "        print('R2 loss on test %s (Coefficient of determination): %f' % (data_type, r1))\n",
    "\n",
    "        min_target = np.min([scan_output1, scan_output2], axis=0)\n",
    "        max_target = np.max([scan_output1, scan_output2], axis=0)\n",
    "        correct_predictions = np.logical_and(scan_predictions>=min_target, scan_predictions<=max_target)\n",
    "        correct_predictions = np.sum(correct_predictions)\n",
    "        percentage_correct = (float(correct_predictions) / float(scan_predictions.size)) * 100\n",
    "        print('Percentage of predictions within target range: %f' % (percentage_correct))\n",
    "        \n",
    "        mse_avg += mse\n",
    "        l1_avg += l1\n",
    "        r1_avg += r1\n",
    "        \n",
    "        if scan > 0 and scan < len(predictions):\n",
    "            # Get averages of all the data\n",
    "            continue\n",
    "        else:\n",
    "            break\n",
    "                    \n",
    "    if data_type == \"scan\":\n",
    "        print '\\n------Average of errors across all scans------'\n",
    "        print ('Avg mse: %f' % (mse_avg/scan))\n",
    "        print ('Avg l1: %f' % (l1_avg/scan))\n",
    "        print ('Avg r1: %f' % (r1_avg/scan))"
   ]
  },
  {
   "cell_type": "code",
   "execution_count": 69,
   "metadata": {
    "collapsed": true
   },
   "outputs": [],
   "source": [
    "def get_errors_between_targets(output1, output2, data_type):\n",
    "    \n",
    "    scan = 0\n",
    "    mse_avg = 0\n",
    "    l1_avg = 0\n",
    "    r1_avg = 0\n",
    "    \n",
    "    while True:\n",
    "        if data_type == \"scan\":\n",
    "            scan_output1 = output1[scan]\n",
    "            scan_output2 = output2[scan]\n",
    "            scan += 1\n",
    "            print('\\n--------------Scan %d---------------' % (scan))\n",
    "        else:\n",
    "            print('\\n----------------------------')\n",
    "            scan_output1 = output1\n",
    "            scan_output2 = output2\n",
    "        \n",
    "        target_mse = ((scan_output1 - scan_output2) ** 2).mean()\n",
    "        print('MSE between targets: %f' % (target_mse))\n",
    "\n",
    "        target_l1 = (np.absolute(scan_output2 - scan_output1)).mean()\n",
    "        print('Mean absolute loss between targets: %f' % (target_l1))\n",
    "\n",
    "        target_r1 = 1 - (np.sum((scan_output1 - scan_output2) ** 2) / np.sum((scan_output1 - scan_output1.mean()) ** 2))\n",
    "        print('R2 loss between targets (Coefficient of determination): %f' % (target_r1))\n",
    "        \n",
    "        mse_avg += target_mse\n",
    "        l1_avg += target_l1\n",
    "        r1_avg += target_r1\n",
    "        \n",
    "        if scan > 0 and scan < len(output1):\n",
    "            # Get averages of all the data\n",
    "            continue\n",
    "        else:\n",
    "            break\n",
    "                    \n",
    "    if data_type == \"scan\":\n",
    "        print '\\n-------Average of errors--------'\n",
    "        print ('Avg mse: %f' % (mse_avg/scan))\n",
    "        print ('Avg l1: %f' % (l1_avg/scan))\n",
    "        print ('Avg r1: %f' % (r1_avg/scan))"
   ]
  },
  {
   "cell_type": "markdown",
   "metadata": {},
   "source": [
    "-------------------------------------------------------------------------------------------------------\n",
    "---\n",
    "\n",
    "-------------------------------------------------------------------------------------------------------\n",
    "---\n",
    "\n"
   ]
  },
  {
   "cell_type": "markdown",
   "metadata": {},
   "source": [
    "### Upload the data using pytorch data loaders"
   ]
  },
  {
   "cell_type": "code",
   "execution_count": 70,
   "metadata": {
    "collapsed": true
   },
   "outputs": [],
   "source": [
    "training_dataset = MRIdataset(training_input, training_target, transform=transforms.Compose([To_Tensor()]))\n",
    "validation_dataset = MRIdataset(validation_input, validation_target, transform=transforms.Compose([To_Tensor()]))\n",
    "testing_dataset = MRIdataset(testing_input, testing_target1, transform=transforms.Compose([To_Tensor()]))\n",
    "\n",
    "final_testing_dataset = MRIdataset(final_testing_input, final_testing_target1, transform=transforms.Compose([To_Tensor()]))"
   ]
  },
  {
   "cell_type": "code",
   "execution_count": 71,
   "metadata": {
    "collapsed": true
   },
   "outputs": [],
   "source": [
    "trainloader = DataLoader(training_dataset, batch_size=256,\n",
    "                        shuffle=True, num_workers=16)\n",
    "\n",
    "valiloader = DataLoader(validation_dataset, batch_size=256,\n",
    "                        shuffle=True, num_workers=16)\n",
    "\n",
    "testloader = DataLoader(testing_dataset, batch_size=256,\n",
    "                        shuffle=False, num_workers=16)\n",
    "\n",
    "final_test_loader = DataLoader(final_testing_dataset, batch_size=256,\n",
    "                        shuffle=False, num_workers=16)"
   ]
  },
  {
   "cell_type": "markdown",
   "metadata": {},
   "source": [
    "### Develop CNN"
   ]
  },
  {
   "cell_type": "markdown",
   "metadata": {},
   "source": [
    "Conv -> Batch -> Relu -> Conv -> Batch -> Relu -> Conv -> Batch -> Relu -> Conv -> Relu\n",
    "\n",
    "--(WxHx2x1)--\n",
    "\n",
    "conv1 = receptive field -> (3x3x3), zero padding -> 2,  number of filters -> 10\n",
    "\n",
    "--(W+2xH+2x4x10)--\n",
    "\n",
    "--BATCH then RELU--\n",
    "\n",
    "conv2 = receptive field -> (1x1x1), number of filters -> 15\n",
    "\n",
    "--(W+2xH+2x4x15)--\n",
    "\n",
    "--BATCH then RELU--\n",
    "\n",
    "conv3 = receptive field -> (3x3x3), number of filters -> 15\n",
    "\n",
    "--(WxHx2x15)--\n",
    "\n",
    "--BATCH then RELU--\n",
    "\n",
    "conv4 = receptive field -> (1x1x2), number of filters -> 1\n",
    "\n",
    "--(WxHx1x1)--\n",
    "\n",
    "--RELU--\n",
    "\n",
    "\n"
   ]
  },
  {
   "cell_type": "code",
   "execution_count": 72,
   "metadata": {
    "collapsed": false
   },
   "outputs": [
    {
     "name": "stdout",
     "output_type": "stream",
     "text": [
      "Net(\n",
      "  (conv1): Conv3d (1, 50, kernel_size=(3, 3, 3), stride=(1, 1, 1))\n",
      "  (batch1): BatchNorm3d(50, eps=1e-05, momentum=0.1, affine=True)\n",
      "  (drop1): Dropout(p=0.15)\n",
      "  (conv2): Conv3d (50, 100, kernel_size=(1, 1, 1), stride=(1, 1, 1))\n",
      "  (batch2): BatchNorm3d(100, eps=1e-05, momentum=0.1, affine=True)\n",
      "  (drop2): Dropout(p=0.15)\n",
      "  (conv3): Conv3d (100, 100, kernel_size=(3, 3, 3), stride=(1, 1, 1))\n",
      "  (batch3): BatchNorm3d(100, eps=1e-05, momentum=0.1, affine=True)\n",
      "  (drop3): Dropout(p=0.15)\n",
      "  (fc1): Linear(in_features=12500, out_features=500)\n",
      "  (batch4): BatchNorm1d(500, eps=1e-05, momentum=0.1, affine=True)\n",
      "  (drop6): Dropout(p=0.15)\n",
      "  (fc2): Linear(in_features=500, out_features=500)\n",
      "  (batch5): BatchNorm1d(500, eps=1e-05, momentum=0.1, affine=True)\n",
      "  (drop7): Dropout(p=0.15)\n",
      "  (fc3): Linear(in_features=500, out_features=250)\n",
      "  (batch6): BatchNorm1d(250, eps=1e-05, momentum=0.1, affine=True)\n",
      "  (drop8): Dropout(p=0.15)\n",
      "  (fc4): Linear(in_features=250, out_features=250)\n",
      "  (batch7): BatchNorm1d(250, eps=1e-05, momentum=0.1, affine=True)\n",
      "  (fc5): Linear(in_features=250, out_features=100)\n",
      "  (batch8): BatchNorm1d(100, eps=1e-05, momentum=0.1, affine=True)\n",
      "  (fc6): Linear(in_features=100, out_features=1)\n",
      ")\n"
     ]
    }
   ],
   "source": [
    "class Net(nn.Module):\n",
    "    \n",
    "    def __init__(self):\n",
    "        super(Net, self).__init__()\n",
    "        self.conv1 = nn.Conv3d(1, 50, 3)\n",
    "        self.batch1 = nn.BatchNorm3d(50)\n",
    "        self.drop1 = nn.Dropout(p=0.15)\n",
    "        self.conv2 = nn.Conv3d(50, 100, 1)\n",
    "        self.batch2 = nn.BatchNorm3d(100)\n",
    "        self.drop2 = nn.Dropout(p=0.15)\n",
    "        self.conv3 = nn.Conv3d(100, 100, 3)\n",
    "        self.batch3 = nn.BatchNorm3d(100)\n",
    "        self.drop3 = nn.Dropout(p=0.15)\n",
    "        self.fc1 = nn.Linear(100*5*5*5, 500)\n",
    "        self.batch4 = nn.BatchNorm1d(500)\n",
    "        self.drop6 = nn.Dropout(p=0.15)\n",
    "        self.fc2 = nn.Linear(500, 500)\n",
    "        self.batch5 = nn.BatchNorm1d(500)\n",
    "        self.drop7 = nn.Dropout(p=0.15)\n",
    "        self.fc3 = nn.Linear(500, 250)\n",
    "        self.batch6 = nn.BatchNorm1d(250)\n",
    "        self.drop8 = nn.Dropout(p=0.15)\n",
    "        self.fc4 = nn.Linear(250, 250)\n",
    "        self.batch7 = nn.BatchNorm1d(250)\n",
    "        self.drop8 = nn.Dropout(p=0.15)\n",
    "        self.fc5 = nn.Linear(250, 100)\n",
    "        self.batch8 = nn.BatchNorm1d(100)\n",
    "        self.drop8 = nn.Dropout(p=0.15)\n",
    "        self.fc6 = nn.Linear(100, 1)\n",
    "\n",
    "        \n",
    "        \n",
    "\n",
    "    #note this method isn't called explicitly during train, \n",
    "    #rather the instance object is called as pytorch is then \n",
    "    #able to take care of other stuff in the background\n",
    "    def forward(self, x):\n",
    "        x = (F.relu(self.batch1(self.conv1(x))))\n",
    "        x = (F.relu(self.batch2(self.conv2(x))))\n",
    "        x = (F.relu(self.batch3(self.conv3(x))))\n",
    "        x = x.view(-1, 100*5*5*5)\n",
    "        x = (F.relu(self.batch4(self.fc1(x))))\n",
    "        x = (F.relu(self.batch5(self.fc2(x))))\n",
    "        x = (F.relu(self.batch6(self.fc3(x))))\n",
    "        x = (F.relu(self.batch7(self.fc4(x))))\n",
    "        x = (F.relu(self.batch8(self.fc5(x))))\n",
    "        x = F.relu(self.fc6(x))\n",
    "        return x\n",
    "\n",
    "\n",
    "net = Net()\n",
    "net.cuda()\n",
    "print(net)"
   ]
  },
  {
   "cell_type": "markdown",
   "metadata": {},
   "source": [
    "### Define loss function and optimization algorithm"
   ]
  },
  {
   "cell_type": "code",
   "execution_count": 73,
   "metadata": {
    "collapsed": true
   },
   "outputs": [],
   "source": [
    "#here we use MSE loss\n",
    "criterion = nn.MSELoss() #returns the average over a mini-batch as opposed to the sum\n",
    "optimizer = optim.Adam(net.parameters(), lr=0.01)\n",
    "scheduler = torch.optim.lr_scheduler.ReduceLROnPlateau(optimizer, 'min', patience=0, verbose=True, threshold=0.08)"
   ]
  },
  {
   "cell_type": "code",
   "execution_count": 74,
   "metadata": {
    "collapsed": true
   },
   "outputs": [],
   "source": [
    "training_losses = []\n",
    "validation_losses = []"
   ]
  },
  {
   "cell_type": "markdown",
   "metadata": {},
   "source": [
    "### Train CNN"
   ]
  },
  {
   "cell_type": "code",
   "execution_count": 75,
   "metadata": {
    "collapsed": false,
    "scrolled": true
   },
   "outputs": [
    {
     "name": "stdout",
     "output_type": "stream",
     "text": [
      "[1,   250] --- Losss = 47334.12233\n",
      "[1,   500] --- Losss = 27139.06424\n",
      "[1,   750] --- Losss = 20062.39256\n",
      "[1,  1000] --- Losss = 16421.15704\n",
      "[1,  1250] --- Losss = 14165.00154\n",
      "[1,  1500] --- Losss = 12594.50637\n",
      "[1,  1750] --- Losss = 11418.40060\n",
      "[1,  2000] --- Losss = 10532.33315\n",
      "[1,  2250] --- Losss = 9839.83093\n",
      "[1,  2500] --- Losss = 9272.72540\n",
      "[1,  2750] --- Losss = 8786.19038\n",
      "[1,  3000] --- Losss = 8393.44719\n",
      "Training loss iteration 1 = 8102.14979\n",
      "MSE on validation set: 3972.925780\n",
      "[2,   250] --- Losss = 3540.65865\n",
      "[2,   500] --- Losss = 3546.72731\n",
      "[2,   750] --- Losss = 3537.92208\n",
      "[2,  1000] --- Losss = 3476.12546\n",
      "[2,  1250] --- Losss = 3453.24675\n",
      "[2,  1500] --- Losss = 3416.85373\n",
      "[2,  1750] --- Losss = 3386.18532\n",
      "[2,  2000] --- Losss = 3358.77102\n",
      "[2,  2250] --- Losss = 3330.92733\n",
      "[2,  2500] --- Losss = 3304.81119\n",
      "[2,  2750] --- Losss = 3274.70288\n",
      "[2,  3000] --- Losss = 3250.46129\n",
      "Training loss iteration 2 = 3231.19170\n",
      "MSE on validation set: 3468.861063\n",
      "[3,   250] --- Losss = 2709.01518\n",
      "[3,   500] --- Losss = 2671.13910\n",
      "[3,   750] --- Losss = 2676.11155\n",
      "[3,  1000] --- Losss = 2673.21249\n",
      "[3,  1250] --- Losss = 2664.38699\n",
      "[3,  1500] --- Losss = 2653.91459\n",
      "[3,  1750] --- Losss = 2661.48240\n",
      "[3,  2000] --- Losss = 2639.69289\n",
      "[3,  2250] --- Losss = 2623.35715\n",
      "[3,  2500] --- Losss = 2616.37624\n",
      "[3,  2750] --- Losss = 2599.05798\n",
      "[3,  3000] --- Losss = 2596.00831\n",
      "Training loss iteration 3 = 2591.79100\n",
      "MSE on validation set: 2391.925206\n",
      "[4,   250] --- Losss = 2263.68365\n",
      "[4,   500] --- Losss = 2188.47152\n",
      "[4,   750] --- Losss = 2184.41800\n",
      "[4,  1000] --- Losss = 2195.31196\n",
      "[4,  1250] --- Losss = 2187.44043\n",
      "[4,  1500] --- Losss = 2193.72620\n",
      "[4,  1750] --- Losss = 2201.64108\n",
      "[4,  2000] --- Losss = 2191.62204\n",
      "[4,  2250] --- Losss = 2183.98436\n",
      "[4,  2500] --- Losss = 2178.68849\n",
      "[4,  2750] --- Losss = 2171.97297\n",
      "[4,  3000] --- Losss = 2169.35966\n",
      "Training loss iteration 4 = 2166.91483\n",
      "MSE on validation set: 2153.160789\n",
      "[5,   250] --- Losss = 1850.68397\n",
      "[5,   500] --- Losss = 1876.97043\n",
      "[5,   750] --- Losss = 1875.26063\n",
      "[5,  1000] --- Losss = 1883.27764\n",
      "[5,  1250] --- Losss = 1893.01522\n",
      "[5,  1500] --- Losss = 1893.67517\n",
      "[5,  1750] --- Losss = 1889.48018\n",
      "[5,  2000] --- Losss = 1884.66337\n",
      "[5,  2250] --- Losss = 1887.48169\n",
      "[5,  2500] --- Losss = 1893.04065\n",
      "[5,  2750] --- Losss = 1900.02693\n",
      "[5,  3000] --- Losss = 1898.91199\n",
      "Training loss iteration 5 = 1893.20057\n",
      "MSE on validation set: 2020.349584\n",
      "[6,   250] --- Losss = 1571.59392\n",
      "[6,   500] --- Losss = 1576.18377\n",
      "[6,   750] --- Losss = 1593.75239\n",
      "[6,  1000] --- Losss = 1617.91315\n",
      "[6,  1250] --- Losss = 1623.90883\n",
      "[6,  1500] --- Losss = 1639.51694\n",
      "[6,  1750] --- Losss = 1644.67217\n",
      "[6,  2000] --- Losss = 1645.77729\n",
      "[6,  2250] --- Losss = 1650.80413\n",
      "[6,  2500] --- Losss = 1650.19207\n",
      "[6,  2750] --- Losss = 1646.63593\n",
      "[6,  3000] --- Losss = 1644.65479\n",
      "Training loss iteration 6 = 1644.22075\n",
      "MSE on validation set: 2022.960398\n",
      "[7,   250] --- Losss = 1386.17773\n",
      "[7,   500] --- Losss = 1396.73789\n",
      "[7,   750] --- Losss = 1424.20680\n",
      "[7,  1000] --- Losss = 1419.38875\n",
      "[7,  1250] --- Losss = 1422.69491\n",
      "[7,  1500] --- Losss = 1423.46923\n",
      "[7,  1750] --- Losss = 1426.40388\n",
      "[7,  2000] --- Losss = 1437.66573\n",
      "[7,  2250] --- Losss = 1439.99198\n",
      "[7,  2500] --- Losss = 1442.12610\n",
      "[7,  2750] --- Losss = 1443.12114\n",
      "[7,  3000] --- Losss = 1445.93947\n",
      "Training loss iteration 7 = 1445.46292\n",
      "MSE on validation set: 2054.342817\n",
      "[8,   250] --- Losss = 1220.73532\n",
      "[8,   500] --- Losss = 1257.72534\n",
      "[8,   750] --- Losss = 1249.69936\n",
      "[8,  1000] --- Losss = 1269.22504\n",
      "[8,  1250] --- Losss = 1288.83358\n",
      "[8,  1500] --- Losss = 1297.51647\n",
      "[8,  1750] --- Losss = 1302.38876\n",
      "[8,  2000] --- Losss = 1296.86147\n",
      "[8,  2250] --- Losss = 1298.63768\n",
      "[8,  2500] --- Losss = 1298.22035\n",
      "[8,  2750] --- Losss = 1302.75726\n",
      "[8,  3000] --- Losss = 1301.08368\n",
      "Training loss iteration 8 = 1303.12162\n",
      "MSE on validation set: 1931.706432\n",
      "[9,   250] --- Losss = 1090.38078\n",
      "[9,   500] --- Losss = 1082.69806\n",
      "[9,   750] --- Losss = 1096.80130\n",
      "[9,  1000] --- Losss = 1111.41883\n",
      "[9,  1250] --- Losss = 1114.09091\n",
      "[9,  1500] --- Losss = 1115.96237\n",
      "[9,  1750] --- Losss = 1117.21596\n",
      "[9,  2000] --- Losss = 1119.59870\n",
      "[9,  2250] --- Losss = 1129.38845\n",
      "[9,  2500] --- Losss = 1131.68451\n",
      "[9,  2750] --- Losss = 1139.55349\n",
      "[9,  3000] --- Losss = 1141.89861\n",
      "Training loss iteration 9 = 1144.24191\n",
      "MSE on validation set: 1726.956612\n",
      "[10,   250] --- Losss = 1000.75050\n",
      "[10,   500] --- Losss = 989.16909\n",
      "[10,   750] --- Losss = 997.73149\n",
      "[10,  1000] --- Losss = 1025.28159\n",
      "[10,  1250] --- Losss = 1027.46636\n",
      "[10,  1500] --- Losss = 1030.93638\n",
      "[10,  1750] --- Losss = 1036.84989\n",
      "[10,  2000] --- Losss = 1038.23898\n",
      "[10,  2250] --- Losss = 1042.20640\n",
      "[10,  2500] --- Losss = 1041.92455\n",
      "[10,  2750] --- Losss = 1041.86430\n",
      "[10,  3000] --- Losss = 1042.79814\n",
      "Training loss iteration 10 = 1044.49553\n",
      "MSE on validation set: 1791.929190\n",
      "[11,   250] --- Losss = 914.77361\n",
      "[11,   500] --- Losss = 923.59591\n",
      "[11,   750] --- Losss = 926.33446\n",
      "[11,  1000] --- Losss = 930.30594\n",
      "[11,  1250] --- Losss = 937.03272\n",
      "[11,  1500] --- Losss = 932.92217\n",
      "[11,  1750] --- Losss = 943.84191\n",
      "[11,  2000] --- Losss = 944.72262\n",
      "[11,  2250] --- Losss = 948.67205\n",
      "[11,  2500] --- Losss = 950.38993\n",
      "[11,  2750] --- Losss = 950.41528\n",
      "[11,  3000] --- Losss = 956.08744\n",
      "Training loss iteration 11 = 955.16157\n",
      "MSE on validation set: 1699.657398\n",
      "[12,   250] --- Losss = 864.47828\n",
      "[12,   500] --- Losss = 858.85201\n",
      "[12,   750] --- Losss = 851.02438\n",
      "[12,  1000] --- Losss = 842.00243\n",
      "[12,  1250] --- Losss = 849.30645\n",
      "[12,  1500] --- Losss = 847.64564\n",
      "[12,  1750] --- Losss = 846.39411\n",
      "[12,  2000] --- Losss = 848.59740\n",
      "[12,  2250] --- Losss = 853.22423\n",
      "[12,  2500] --- Losss = 854.57853\n",
      "[12,  2750] --- Losss = 859.39646\n",
      "[12,  3000] --- Losss = 863.47077\n",
      "Training loss iteration 12 = 866.77628\n",
      "MSE on validation set: 1659.110654\n",
      "[13,   250] --- Losss = 747.51080\n",
      "[13,   500] --- Losss = 765.37006\n",
      "[13,   750] --- Losss = 768.23588\n",
      "[13,  1000] --- Losss = 779.02539\n",
      "[13,  1250] --- Losss = 781.69113\n",
      "[13,  1500] --- Losss = 782.00694\n",
      "[13,  1750] --- Losss = 789.56062\n",
      "[13,  2000] --- Losss = 797.63842\n",
      "[13,  2250] --- Losss = 796.24354\n",
      "[13,  2500] --- Losss = 796.60930\n",
      "[13,  2750] --- Losss = 798.40913\n",
      "[13,  3000] --- Losss = 800.35237\n",
      "Training loss iteration 13 = 803.02302\n",
      "Epoch    12: reducing learning rate of group 0 to 1.0000e-03.\n",
      "MSE on validation set: 1678.594394\n",
      "[14,   250] --- Losss = 611.67095\n",
      "[14,   500] --- Losss = 589.96302\n",
      "[14,   750] --- Losss = 577.18501\n",
      "[14,  1000] --- Losss = 567.74192\n",
      "[14,  1250] --- Losss = 559.87512\n",
      "[14,  1500] --- Losss = 554.08807\n",
      "[14,  1750] --- Losss = 551.30905\n",
      "[14,  2000] --- Losss = 547.17039\n",
      "[14,  2250] --- Losss = 544.29521\n",
      "[14,  2500] --- Losss = 540.77845\n",
      "[14,  2750] --- Losss = 537.50626\n",
      "[14,  3000] --- Losss = 535.17623\n",
      "Training loss iteration 14 = 533.20160\n",
      "MSE on validation set: 1438.223903\n",
      "[15,   250] --- Losss = 485.44758\n",
      "[15,   500] --- Losss = 476.37575\n",
      "[15,   750] --- Losss = 475.55902\n",
      "[15,  1000] --- Losss = 473.72939\n",
      "[15,  1250] --- Losss = 473.83706\n",
      "[15,  1500] --- Losss = 473.73479\n",
      "[15,  1750] --- Losss = 472.79287\n",
      "[15,  2000] --- Losss = 472.53973\n",
      "[15,  2250] --- Losss = 473.06197\n",
      "[15,  2500] --- Losss = 473.27199\n",
      "[15,  2750] --- Losss = 472.64558\n",
      "[15,  3000] --- Losss = 473.94387\n",
      "Training loss iteration 15 = 473.68072\n",
      "MSE on validation set: 1434.673472\n",
      "Finished Training\n"
     ]
    }
   ],
   "source": [
    "(trained_net, training_losses, validation_losses) = train(net, trainloader, valiloader, training_losses, validation_losses, optimizer, criterion, scheduler, 15)"
   ]
  },
  {
   "cell_type": "code",
   "execution_count": 76,
   "metadata": {
    "collapsed": false
   },
   "outputs": [
    {
     "data": {
      "image/png": "[encoded data removed]",
      "text/plain": [
       "<matplotlib.figure.Figure at 0x7efe7c0d6590>"
      ]
     },
     "metadata": {},
     "output_type": "display_data"
    }
   ],
   "source": [
    "plt_losses(training_losses, validation_losses)"
   ]
  },
  {
   "cell_type": "markdown",
   "metadata": {},
   "source": [
    "### Calculate the test error - Random patches"
   ]
  },
  {
   "cell_type": "code",
   "execution_count": 77,
   "metadata": {
    "collapsed": false
   },
   "outputs": [
    {
     "name": "stdout",
     "output_type": "stream",
     "text": [
      "250\n",
      "500\n"
     ]
    }
   ],
   "source": [
    "# Calculate the error between the predicted voxel values and target1 -- this is from registered scan 1 of the output\n",
    "\n",
    "# First convert the testing targets to numpy arrays\n",
    "testing_target1_nump = np.asarray(testing_target1)\n",
    "testing_target2_nump = np.asarray(testing_target2)\n",
    "\n",
    "# Get the predicted voxel values of the test set\n",
    "test_predictions = get_predictions(trained_net, testloader)"
   ]
  },
  {
   "cell_type": "code",
   "execution_count": 78,
   "metadata": {
    "collapsed": false
   },
   "outputs": [
    {
     "name": "stdout",
     "output_type": "stream",
     "text": [
      "\n",
      "----------------------------\n",
      "MSE on test patches: 1418.546265\n",
      "Mean absolute loss on test patches: 24.805944\n",
      "R2 loss on test patches (Coefficient of determination): 0.961262\n",
      "Percentage of predictions within target range: 31.975471\n"
     ]
    }
   ],
   "source": [
    "get_errors(test_predictions, testing_target1_nump, testing_target2_nump, \"patches\")"
   ]
  },
  {
   "cell_type": "code",
   "execution_count": 79,
   "metadata": {
    "collapsed": false
   },
   "outputs": [
    {
     "name": "stdout",
     "output_type": "stream",
     "text": [
      "\n",
      "----------------------------\n",
      "MSE between targets: 2429.082764\n",
      "Mean absolute loss between targets: 27.695858\n",
      "R2 loss between targets (Coefficient of determination): 0.933667\n"
     ]
    }
   ],
   "source": [
    "get_errors_between_targets(testing_target1_nump, testing_target2_nump, \"patches\")"
   ]
  },
  {
   "cell_type": "code",
   "execution_count": 80,
   "metadata": {
    "collapsed": false
   },
   "outputs": [
    {
     "data": {
      "image/png": "[encoded data removed]",
      "text/plain": [
       "<matplotlib.figure.Figure at 0x7efe4df2a090>"
      ]
     },
     "metadata": {},
     "output_type": "display_data"
    }
   ],
   "source": [
    "bland_altman_plot(test_predictions, testing_target1_nump, testing_target2_nump)"
   ]
  },
  {
   "cell_type": "code",
   "execution_count": 81,
   "metadata": {
    "collapsed": false
   },
   "outputs": [
    {
     "data": {
      "image/png": "[encoded data removed]",
      "text/plain": [
       "<matplotlib.figure.Figure at 0x7efe6a6d3090>"
      ]
     },
     "metadata": {},
     "output_type": "display_data"
    }
   ],
   "source": [
    "plot_predicted(test_predictions, testing_target1_nump, testing_target2_nump)"
   ]
  },
  {
   "cell_type": "markdown",
   "metadata": {},
   "source": [
    "### Calculate the error on the final testing scan"
   ]
  },
  {
   "cell_type": "code",
   "execution_count": 82,
   "metadata": {
    "collapsed": false
   },
   "outputs": [
    {
     "name": "stdout",
     "output_type": "stream",
     "text": [
      "250\n",
      "500\n",
      "750\n",
      "1000\n",
      "1250\n",
      "1500\n",
      "1750\n",
      "2000\n",
      "2250\n",
      "2500\n",
      "2750\n",
      "3000\n",
      "3250\n",
      "3500\n"
     ]
    }
   ],
   "source": [
    "final_test_predictions = get_predictions(trained_net, final_test_loader)"
   ]
  },
  {
   "cell_type": "code",
   "execution_count": 83,
   "metadata": {
    "collapsed": true
   },
   "outputs": [],
   "source": [
    "final_predicted_brains = reconstruct_brain(final_test_predictions, final_test_inp)"
   ]
  },
  {
   "cell_type": "code",
   "execution_count": 84,
   "metadata": {
    "collapsed": false
   },
   "outputs": [
    {
     "name": "stdout",
     "output_type": "stream",
     "text": [
      "\n",
      "--------------Scan 1---------------\n",
      "MSE on test scan: 1898.706177\n",
      "Mean absolute loss on test scan: 18.072893\n",
      "R2 loss on test scan (Coefficient of determination): 0.957416\n",
      "Percentage of predictions within target range: 65.357015\n",
      "\n",
      "--------------Scan 2---------------\n",
      "MSE on test scan: 1735.828369\n",
      "Mean absolute loss on test scan: 18.526932\n",
      "R2 loss on test scan (Coefficient of determination): 0.959247\n",
      "Percentage of predictions within target range: 64.154011\n",
      "\n",
      "--------------Scan 3---------------\n",
      "MSE on test scan: 1573.382568\n",
      "Mean absolute loss on test scan: 18.078381\n",
      "R2 loss on test scan (Coefficient of determination): 0.963289\n",
      "Percentage of predictions within target range: 64.438244\n",
      "\n",
      "--------------Scan 4---------------\n",
      "MSE on test scan: 3433.918701\n",
      "Mean absolute loss on test scan: 24.072926\n",
      "R2 loss on test scan (Coefficient of determination): 0.919157\n",
      "Percentage of predictions within target range: 64.668100\n",
      "\n",
      "--------------Scan 5---------------\n",
      "MSE on test scan: 3216.927490\n",
      "Mean absolute loss on test scan: 25.170029\n",
      "R2 loss on test scan (Coefficient of determination): 0.928418\n",
      "Percentage of predictions within target range: 64.059671\n",
      "\n",
      "------Average of errors across all scans------\n",
      "Avg mse: 2371.752661\n",
      "Avg l1: 20.784232\n",
      "Avg r1: 0.945505\n"
     ]
    }
   ],
   "source": [
    "get_errors(final_predicted_brains, final_test_out1, final_test_out2, \"scan\")"
   ]
  },
  {
   "cell_type": "code",
   "execution_count": 85,
   "metadata": {
    "collapsed": false
   },
   "outputs": [
    {
     "name": "stdout",
     "output_type": "stream",
     "text": [
      "\n",
      "--------------Scan 1---------------\n",
      "MSE between targets: 2217.234863\n",
      "Mean absolute loss between targets: 18.006639\n",
      "R2 loss between targets (Coefficient of determination): 0.950272\n",
      "\n",
      "--------------Scan 2---------------\n",
      "MSE between targets: 789.372437\n",
      "Mean absolute loss between targets: 12.520751\n",
      "R2 loss between targets (Coefficient of determination): 0.981467\n",
      "\n",
      "--------------Scan 3---------------\n",
      "MSE between targets: 820.377014\n",
      "Mean absolute loss between targets: 12.804914\n",
      "R2 loss between targets (Coefficient of determination): 0.980858\n",
      "\n",
      "--------------Scan 4---------------\n",
      "MSE between targets: 2180.887207\n",
      "Mean absolute loss between targets: 19.055370\n",
      "R2 loss between targets (Coefficient of determination): 0.948657\n",
      "\n",
      "--------------Scan 5---------------\n",
      "MSE between targets: 1640.194946\n",
      "Mean absolute loss between targets: 17.898153\n",
      "R2 loss between targets (Coefficient of determination): 0.963503\n",
      "\n",
      "-------Average of errors--------\n",
      "Avg mse: 1529.613293\n",
      "Avg l1: 16.057166\n",
      "Avg r1: 0.964951\n"
     ]
    }
   ],
   "source": [
    "get_errors_between_targets(final_test_out1, final_test_out2, \"scan\")"
   ]
  },
  {
   "cell_type": "markdown",
   "metadata": {},
   "source": [
    "### Visualise predictions"
   ]
  },
  {
   "cell_type": "code",
   "execution_count": 86,
   "metadata": {
    "collapsed": false
   },
   "outputs": [
    {
     "data": {
      "image/png": "[encoded data removed]",
      "text/plain": [
       "<matplotlib.figure.Figure at 0x7eff125425d0>"
      ]
     },
     "metadata": {},
     "output_type": "display_data"
    }
   ],
   "source": [
    "viz_pred(final_test_inp[0], final_predicted_brains[0], final_test_out1[0], 25)"
   ]
  },
  {
   "cell_type": "code",
   "execution_count": 94,
   "metadata": {
    "collapsed": false
   },
   "outputs": [
    {
     "data": {
      "image/png": "[encoded data removed]",
      "text/plain": [
       "<matplotlib.figure.Figure at 0x7eff18b58290>"
      ]
     },
     "metadata": {},
     "output_type": "display_data"
    }
   ],
   "source": [
    "viz_diff(final_predicted_brains[0], final_test_inp[0], final_test_out1[0], 25)"
   ]
  },
  {
   "cell_type": "markdown",
   "metadata": {},
   "source": [
    "## Save the target and the predicted scans"
   ]
  },
  {
   "cell_type": "code",
   "execution_count": 251,
   "metadata": {
    "collapsed": true
   },
   "outputs": [],
   "source": [
    "save_to = \"/home/ubuntu/project/Dataset/Final_AWS_1\"\n",
    "\n",
    "predicted_scan = nib.Nifti1Image(final_predicted_brain, affine_mat)\n",
    "nib.save(predicted_scan, save_to + \"/Predicted_Subj9Scan2_AWS.nii.gz\" )"
   ]
  },
  {
   "cell_type": "markdown",
   "metadata": {},
   "source": [
    "## Store the model parameters"
   ]
  },
  {
   "cell_type": "code",
   "execution_count": 95,
   "metadata": {
    "collapsed": true
   },
   "outputs": [],
   "source": [
    "torch.save(trained_net.state_dict(), '/home/ubuntu/project/MRIDataHarmonisation/Development/Model_Params_AWS/Final_Model_FC_Artifact.pth') "
   ]
  },
  {
   "cell_type": "markdown",
   "metadata": {},
   "source": [
    "## Load the model parameters"
   ]
  },
  {
   "cell_type": "code",
   "execution_count": 96,
   "metadata": {
    "collapsed": true
   },
   "outputs": [],
   "source": [
    "trained_net = Net()\n",
    "trained_net.cuda()\n",
    "trained_net.load_state_dict(torch.load('/home/ubuntu/project/MRIDataHarmonisation/Development/Model_Params_AWS/Final_Model_FC_Artifact.pth'))"
   ]
  },
  {
   "cell_type": "code",
   "execution_count": null,
   "metadata": {
    "collapsed": true
   },
   "outputs": [],
   "source": []
  }
 ],
 "metadata": {
  "kernelspec": {
   "display_name": "Python 2",
   "language": "python",
   "name": "python2"
  },
  "language_info": {
   "codemirror_mode": {
    "name": "ipython",
    "version": 2
   },
   "file_extension": ".py",
   "mimetype": "text/x-python",
   "name": "python",
   "nbconvert_exporter": "python",
   "pygments_lexer": "ipython2",
   "version": "2.7.10"
  }
 },
 "nbformat": 4,
 "nbformat_minor": 2
}
