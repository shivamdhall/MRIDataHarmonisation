{
 "cells": [
  {
   "cell_type": "code",
   "execution_count": 315,
   "metadata": {
    "collapsed": true
   },
   "outputs": [],
   "source": [
    "import os\n",
    "import shutil\n",
    "import subprocess"
   ]
  },
  {
   "cell_type": "code",
   "execution_count": 76,
   "metadata": {
    "collapsed": false
   },
   "outputs": [],
   "source": [
    "#create a separated directory for the cleaned (PETMR) data scans - to save space\n",
    "os.chdir('/Users/ShivamDhall/Desktop/Project/Dataset/PETMR_data')\n",
    "for direc in os.listdir(os.getcwd())[1:]:\n",
    "    os.chdir('./' + direc)\n",
    "    if not os.path.exists('Data_separated'):\n",
    "        os.makedirs('Data_separated')\n",
    "    os.chdir('./Data_separated')\n",
    "    if not os.path.exists('b_300'):\n",
    "        os.makedirs('b_300')\n",
    "    if not os.path.exists('b_700'):\n",
    "        os.makedirs('b_700')\n",
    "    if not os.path.exists('b_2000'):\n",
    "        os.makedirs('b_2000')\n",
    "    os.chdir('/Users/ShivamDhall/Desktop/Project/Dataset/PETMR_data/' + direc)\n",
    "    if os.path.exists('DFC'):\n",
    "        os.chdir('./DFC')\n",
    "        files = os.listdir(os.getcwd())\n",
    "        shutil.copy(files[0] , '../Data_separated/b_700')\n",
    "        shutil.copy(files[1] , '../Data_separated/b_700')\n",
    "        shutil.copy(files[3] , '../Data_separated/b_2000')\n",
    "        shutil.copy(files[4] , '../Data_separated/b_2000')\n",
    "        shutil.copy(files[6] , '../Data_separated/b_300')\n",
    "        shutil.copy(files[7] , '../Data_separated/b_300')\n",
    "        os.chdir('../ORIG')\n",
    "        files = os.listdir(os.getcwd())\n",
    "        shutil.copy(files[2] , '../Data_separated/b_700')\n",
    "        shutil.copy(files[5] , '../Data_separated/b_2000')\n",
    "        shutil.copy(files[8] , '../Data_separated/b_300')\n",
    "        os.chdir('..')\n",
    "        shutil.rmtree('DFC')\n",
    "        shutil.rmtree('ORIG')\n",
    "    os.chdir('/Users/ShivamDhall/Desktop/Project/Dataset/PETMR_data/')    \n",
    "#os.path.exists('Subj1Scan1')"
   ]
  },
  {
   "cell_type": "code",
   "execution_count": 154,
   "metadata": {
    "collapsed": false
   },
   "outputs": [],
   "source": [
    "#create folder structure for TRIO dataset\n",
    "os.chdir('/Users/ShivamDhall/Desktop/Project/Dataset')\n",
    "if not os.path.exists('TRIO_data'):\n",
    "    os.makedirs('TRIO_data')\n",
    "    os.chdir('./TRIO_data')\n",
    "    for i in range(1, 11):\n",
    "        for j in range(1, 3):\n",
    "            dir_name = 'Subj' + str(i) + 'Scan' + str(j)\n",
    "            os.makedirs(dir_name)\n",
    "    for direc in os.listdir(os.getcwd()):\n",
    "        os.chdir('./' + direc)\n",
    "        if not os.path.exists('Data_separated'):\n",
    "            os.makedirs('Data_separated')\n",
    "        os.chdir('./Data_separated')\n",
    "        if not os.path.exists('b_300'):\n",
    "            os.makedirs('b_300')\n",
    "        if not os.path.exists('b_700'):\n",
    "            os.makedirs('b_700')\n",
    "        if not os.path.exists('b_2000'):\n",
    "            os.makedirs('b_2000')\n",
    "        os.chdir('/Users/ShivamDhall/Desktop/Project/Dataset/TRIO_data')\n",
    "    #directories for each subject/scan have been made"
   ]
  },
  {
   "cell_type": "code",
   "execution_count": 155,
   "metadata": {
    "collapsed": false
   },
   "outputs": [
    {
     "name": "stdout",
     "output_type": "stream",
     "text": [
      "/Users/ShivamDhall/Desktop/Project/Dataset/rawImages/AB_280670\n",
      "/Users/ShivamDhall/Desktop/Project/Dataset/rawImages/AC010490\n",
      "/Users/ShivamDhall/Desktop/Project/Dataset/rawImages/CL130684\n",
      "/Users/ShivamDhall/Desktop/Project/Dataset/rawImages/DB190976\n",
      "/Users/ShivamDhall/Desktop/Project/Dataset/rawImages/IM240781\n",
      "/Users/ShivamDhall/Desktop/Project/Dataset/rawImages/JK050479\n",
      "/Users/ShivamDhall/Desktop/Project/Dataset/rawImages/MC230390\n",
      "/Users/ShivamDhall/Desktop/Project/Dataset/rawImages/ML170183\n",
      "/Users/ShivamDhall/Desktop/Project/Dataset/rawImages/SL301280\n",
      "/Users/ShivamDhall/Desktop/Project/Dataset/rawImages/TM011085\n"
     ]
    }
   ],
   "source": [
    "#clean up trio data\n",
    "#populating Data_separated folders\n",
    "scan1_dfc = [8, 10, 12] #used for bvec and bval \n",
    "scan1_orig = [7, 9, 11] #used for the niFti data\n",
    "scan2_dfc = [20, 22, 24]\n",
    "scan2_orig = [19, 21, 23]\n",
    "dfc = [scan1_dfc, scan2_dfc]\n",
    "orig = [scan1_orig, scan2_orig]\n",
    "subj = [1,2,3,4,5,6,7,8,9,10]\n",
    "bval_ordering = [2000, 300, 700]\n",
    "subj_iter = 0\n",
    "os.chdir('/Users/ShivamDhall/Desktop/Project/Dataset/rawImages')\n",
    "for direc in os.listdir(os.getcwd())[1:]:\n",
    "    os.chdir('./' + direc)\n",
    "    print os.getcwd()\n",
    "    direc2 = os.listdir(os.getcwd())[-1]\n",
    "    os.chdir('./' + direc2 + '/scans')\n",
    "    for scan in range(0,2):\n",
    "        bval_iter = 0\n",
    "        #for loop for bvals and bvecs\n",
    "        for file_iterator in dfc[scan]:\n",
    "            os.chdir('./' + str(file_iterator) + '/DICOM')\n",
    "            files = os.listdir(os.getcwd())\n",
    "            shutil.copy(files[-2] , '/Users/ShivamDhall/Desktop/Project/Dataset/TRIO_data/Subj'+str(subj[subj_iter])+'Scan'+str(scan+1)+'/Data_separated/b_'+str(bval_ordering[bval_iter]))\n",
    "            shutil.copy(files[-3] , '/Users/ShivamDhall/Desktop/Project/Dataset/TRIO_data/Subj'+str(subj[subj_iter])+'Scan'+str(scan+1)+'/Data_separated/b_'+str(bval_ordering[bval_iter]))\n",
    "            os.chdir('../..')\n",
    "            bval_iter += 1\n",
    "        #for loop for niFti data\n",
    "        bval_iter = 0\n",
    "        for file_iterator in orig[scan]:\n",
    "            os.chdir('./' + str(file_iterator) + '/DICOM')\n",
    "            files = os.listdir(os.getcwd())\n",
    "            shutil.copy(files[-1] , '/Users/ShivamDhall/Desktop/Project/Dataset/TRIO_data/Subj'+str(subj[subj_iter])+'Scan'+str(scan+1)+'/Data_separated/b_'+str(bval_ordering[bval_iter]))\n",
    "            os.chdir('../..')\n",
    "            bval_iter += 1\n",
    "    subj_iter += 1\n",
    "    os.chdir('/Users/ShivamDhall/Desktop/Project/Dataset/rawImages')\n"
   ]
  },
  {
   "cell_type": "code",
   "execution_count": 328,
   "metadata": {
    "collapsed": false
   },
   "outputs": [
    {
     "name": "stdout",
     "output_type": "stream",
     "text": [
      "/Users/ShivamDhall/Desktop/Project/Dataset/TRIO_data/Subj10Scan1\n",
      "/Users/ShivamDhall/Desktop/Project/Dataset/TRIO_data/Subj10Scan2\n",
      "/Users/ShivamDhall/Desktop/Project/Dataset/TRIO_data/Subj1Scan1\n",
      "/Users/ShivamDhall/Desktop/Project/Dataset/TRIO_data/Subj1Scan2\n",
      "/Users/ShivamDhall/Desktop/Project/Dataset/TRIO_data/Subj2Scan1\n",
      "/Users/ShivamDhall/Desktop/Project/Dataset/TRIO_data/Subj2Scan2\n",
      "/Users/ShivamDhall/Desktop/Project/Dataset/TRIO_data/Subj3Scan1\n",
      "/Users/ShivamDhall/Desktop/Project/Dataset/TRIO_data/Subj3Scan2\n",
      "/Users/ShivamDhall/Desktop/Project/Dataset/TRIO_data/Subj4Scan1\n",
      "/Users/ShivamDhall/Desktop/Project/Dataset/TRIO_data/Subj4Scan2\n",
      "/Users/ShivamDhall/Desktop/Project/Dataset/TRIO_data/Subj5Scan1\n",
      "/Users/ShivamDhall/Desktop/Project/Dataset/TRIO_data/Subj5Scan2\n",
      "/Users/ShivamDhall/Desktop/Project/Dataset/TRIO_data/Subj6Scan1\n",
      "/Users/ShivamDhall/Desktop/Project/Dataset/TRIO_data/Subj6Scan2\n",
      "/Users/ShivamDhall/Desktop/Project/Dataset/TRIO_data/Subj7Scan1\n",
      "/Users/ShivamDhall/Desktop/Project/Dataset/TRIO_data/Subj7Scan2\n",
      "/Users/ShivamDhall/Desktop/Project/Dataset/TRIO_data/Subj8Scan1\n",
      "/Users/ShivamDhall/Desktop/Project/Dataset/TRIO_data/Subj8Scan2\n",
      "/Users/ShivamDhall/Desktop/Project/Dataset/TRIO_data/Subj9Scan1\n",
      "/Users/ShivamDhall/Desktop/Project/Dataset/TRIO_data/Subj9Scan2\n"
     ]
    }
   ],
   "source": [
    "#Create combined nifti dataset for all bvals/bvecs\n",
    "#also create combined bvec and bval files\n",
    "os.chdir('/Users/ShivamDhall/Desktop/Project/Dataset/TRIO_data')\n",
    "#first create the bval and the bvec files\n",
    "bval_list = [700, 2000, 300]\n",
    "b300_nifti_file = ''\n",
    "for direc in os.listdir(os.getcwd())[1:]:\n",
    "    final_bvals = []\n",
    "    final_bvecs_x = []\n",
    "    final_bvecs_y = []\n",
    "    final_bvecs_z = []\n",
    "    os.chdir('./' + direc + '/Data_separated')\n",
    "    for bval in bval_list:\n",
    "        os.chdir('./b_' + str(bval))\n",
    "        \n",
    "        files = os.listdir(os.getcwd())\n",
    "        bval_file = open(files[-2],\"r\")\n",
    "        bvals = bval_file.readlines()\n",
    "        bvals = bvals[0].split()\n",
    "        \n",
    "        bvec_file = open(files[-1], \"r\")\n",
    "        bvecs = bvec_file.readlines()\n",
    "        bvecs_x = bvecs[0].split()\n",
    "        bvecs_y = bvecs[1].split()\n",
    "        bvecs_z = bvecs[2].split()\n",
    "        \n",
    "        if bval == 700 or bval == 2000:\n",
    "            bvals = bvals[:-1]\n",
    "            bvecs_x = bvecs_x[:-1]\n",
    "            bvecs_y = bvecs_y[:-1]\n",
    "            bvecs_z = bvecs_z[:-1]\n",
    "            if bval == 700:\n",
    "                subprocess.call([\"fslroi\", files[-3], \"temp.nii.gz\", \"0\", \"36\"])\n",
    "            if bval == 2000:\n",
    "                subprocess.call([\"fslroi\", files[-3], \"temp.nii.gz\", \"0\", \"72\"])\n",
    "        else:\n",
    "            #store handel to niFti file for b_300\n",
    "            b300_nifti_file = files[-3]\n",
    "              \n",
    "        final_bvals = final_bvals + bvals\n",
    "        final_bvecs_x = final_bvecs_x + bvecs_x\n",
    "        final_bvecs_y = final_bvecs_y + bvecs_y\n",
    "        final_bvecs_z = final_bvecs_z + bvecs_z\n",
    "        \n",
    "        os.chdir('..')\n",
    "        \n",
    "    os.chdir('..')\n",
    "    #write the final bval/bvec files here\n",
    "    bval_str = \" \".join(final_bvals)\n",
    "    bvec_str = \" \".join(final_bvecs_x) + '\\n' + \" \".join(final_bvecs_y) + '\\n' + \" \".join(final_bvecs_z)\n",
    "\n",
    "    bval_write_file = open('NODDI.bval','w')\n",
    "    bval_write_file.write(bval_str)\n",
    "    \n",
    "    bvec_write_file = open('NODDI.bvec','w')\n",
    "    bvec_write_file.write(bvec_str)\n",
    "    \n",
    "    subprocess.call([\"fslmerge\", \"-a\", \"NODDI_3Shells.nii.gz\", \"./Data_separated/b_700/temp.nii.gz\", \"./Data_separated/b_2000/temp.nii.gz\", \"./Data_separated/b_300/\" + b300_nifti_file])\n",
    "    \n",
    "    #recursively remove the temp files\n",
    "    print os.getcwd()\n",
    "    os.chdir('./Data_separated')\n",
    "    for bval in bval_list:\n",
    "        os.chdir('./b_' + str(bval))\n",
    "        if os.path.exists('temp.nii.gz'):\n",
    "            os.remove('temp.nii.gz')\n",
    "        os.chdir('..')\n",
    "    \n",
    "    os.chdir('/Users/ShivamDhall/Desktop/Project/Dataset/TRIO_data')    \n",
    "        \n",
    "        \n"
   ]
  },
  {
   "cell_type": "code",
   "execution_count": 327,
   "metadata": {
    "collapsed": false
   },
   "outputs": [
    {
     "name": "stdout",
     "output_type": "stream",
     "text": [
      "\u001b[34mSubj10Scan1\u001b[m\u001b[m/ \u001b[34mSubj2Scan1\u001b[m\u001b[m/  \u001b[34mSubj4Scan1\u001b[m\u001b[m/  \u001b[34mSubj6Scan1\u001b[m\u001b[m/  \u001b[34mSubj8Scan1\u001b[m\u001b[m/\r\n",
      "\u001b[34mSubj10Scan2\u001b[m\u001b[m/ \u001b[34mSubj2Scan2\u001b[m\u001b[m/  \u001b[34mSubj4Scan2\u001b[m\u001b[m/  \u001b[34mSubj6Scan2\u001b[m\u001b[m/  \u001b[34mSubj8Scan2\u001b[m\u001b[m/\r\n",
      "\u001b[34mSubj1Scan1\u001b[m\u001b[m/  \u001b[34mSubj3Scan1\u001b[m\u001b[m/  \u001b[34mSubj5Scan1\u001b[m\u001b[m/  \u001b[34mSubj7Scan1\u001b[m\u001b[m/  \u001b[34mSubj9Scan1\u001b[m\u001b[m/\r\n",
      "\u001b[34mSubj1Scan2\u001b[m\u001b[m/  \u001b[34mSubj3Scan2\u001b[m\u001b[m/  \u001b[34mSubj5Scan2\u001b[m\u001b[m/  \u001b[34mSubj7Scan2\u001b[m\u001b[m/  \u001b[34mSubj9Scan2\u001b[m\u001b[m/\r\n"
     ]
    }
   ],
   "source": [
    "ls"
   ]
  },
  {
   "cell_type": "code",
   "execution_count": null,
   "metadata": {
    "collapsed": true
   },
   "outputs": [],
   "source": []
  }
 ],
 "metadata": {
  "kernelspec": {
   "display_name": "Python 2",
   "language": "python",
   "name": "python2"
  },
  "language_info": {
   "codemirror_mode": {
    "name": "ipython",
    "version": 2
   },
   "file_extension": ".py",
   "mimetype": "text/x-python",
   "name": "python",
   "nbconvert_exporter": "python",
   "pygments_lexer": "ipython2",
   "version": "2.7.10"
  }
 },
 "nbformat": 4,
 "nbformat_minor": 2
}
