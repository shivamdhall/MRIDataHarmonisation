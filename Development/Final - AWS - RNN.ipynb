{
 "cells": [
  {
   "cell_type": "markdown",
   "metadata": {},
   "source": [
    "# Fianl - AWS - RNN"
   ]
  },
  {
   "cell_type": "markdown",
   "metadata": {},
   "source": [
    "### Upload the data required"
   ]
  },
  {
   "cell_type": "markdown",
   "metadata": {},
   "source": [
    "We use both scans of subjects 1-8 from the PETMR and TRIO dataset for training.\n",
    "\n",
    "We used the scan of subjects 9-10 also from the PETMR and TRIO dataset for testing."
   ]
  },
  {
   "cell_type": "markdown",
   "metadata": {},
   "source": [
    "## FUNCTIONS"
   ]
  },
  {
   "cell_type": "code",
   "execution_count": 12,
   "metadata": {},
   "outputs": [],
   "source": [
    "import nibabel as nib\n",
    "import numpy as np\n",
    "import matplotlib.pyplot as plt\n",
    "import os\n",
    "%matplotlib inline\n",
    "import sys\n",
    "from dipy.io import read_bvals_bvecs\n",
    "from dipy.core.gradients import gradient_table\n",
    "import random"
   ]
  },
  {
   "cell_type": "code",
   "execution_count": 2,
   "metadata": {},
   "outputs": [],
   "source": [
    "#this function simply uploads the testing and training scans into lists of numpy arrays\n",
    "#the data is not yet sliced or patched at this stage\n",
    "\n",
    "#specify in a list what scans to use for training and what scans to use for testing\n",
    "\n",
    "\n",
    "def get_data(petmr_path, trio_path, scans_dict, input_scanner):\n",
    "    \n",
    "    train_val_test_inp = []\n",
    "    train_val_test_out1 = []\n",
    "    test_data_inp = []\n",
    "    test_data_out1 = []\n",
    "    \n",
    "    if input_scanner == \"PETMR\":\n",
    "        input_path = petmr_path\n",
    "        output_path = trio_path\n",
    "    else:\n",
    "        input_path = trio_path\n",
    "        output_path = petmr_path       \n",
    "    \n",
    "    for key, subjs in scans_dict.iteritems():\n",
    "        for subj_scan in subjs:\n",
    "                \n",
    "            input_scan_image = nib.load(str(input_path) + \"/Subj\" + str(subj_scan[0]) + \"Scan\" + str(subj_scan[1]) + \"/Brain_Matched.nii.gz\")\n",
    "            input_scan_data = input_scan_image.get_data()\n",
    "                \n",
    "            input_bvals_scan, input_bvecs_scan = read_bvals_bvecs(str(input_path) + \"/Subj\" + str(subj_scan[0]) + \"Scan\" + str(subj_scan[1]) + \"/NODDI.bval\",\\\n",
    "                                                          str(input_path) + \"/Subj\" + str(subj_scan[0]) + \"Scan\" + str(subj_scan[1]) + \"/NODDI.bvec\")\n",
    "            \n",
    "            \n",
    "            output_scan_image1 = nib.load(str(output_path) + \"/Subj\" + str(subj_scan[0]) + \"Scan1\" + \"/Brain_Matched.nii.gz\")\n",
    "            output_scan_data1 = output_scan_image1.get_data()\n",
    "\n",
    "                \n",
    "            output_bvals_scan1, output_bvecs_scan1 = read_bvals_bvecs(str(output_path) + \"/Subj\" + str(subj_scan[0]) + \"Scan1/NODDI.bval\",\\\n",
    "                                                          str(output_path) + \"/Subj\" + str(subj_scan[0]) + \"Scan1/NODDI.bvec\")\n",
    "            \n",
    "            #set a threshold value for b=0 values (due to TRIO dataset)\n",
    "            input_gtab_scan = gradient_table(input_bvals_scan, input_bvecs_scan, b0_threshold=5)\n",
    "            input_s0s_scan = input_scan_data[:, :, :, input_gtab_scan.b0s_mask]\n",
    "                \n",
    "            output_gtab_scan1 = gradient_table(output_bvals_scan1, output_bvecs_scan1, b0_threshold=5)\n",
    "            output_s0s_scan1 = output_scan_data1[:, :, :, output_gtab_scan1.b0s_mask]\n",
    "            \n",
    "            # Use only the first volume, ignore other volumes\n",
    "            if(key == \"train_val_test\"):\n",
    "                print (\"Uploading Subject %s Scan %s\" % (str(subj_scan[0]), str(subj_scan[1])))\n",
    "                #append the data to the lists containing the training inputs and outputs\n",
    "                train_val_test_inp.append(input_s0s_scan[:,:,:,[0]])\n",
    "                train_val_test_out1.append(output_s0s_scan1[:,:,:,[0]])\n",
    "            else:\n",
    "                print (\"Testing: Subject %s Scan %s\" % (str(subj_scan[0]), str(subj_scan[1])))\n",
    "                test_data_inp.append(input_s0s_scan[:,:,:,[0]])\n",
    "                test_data_out1.append(output_s0s_scan1[:,:,:,[0]])\n",
    "    return (train_val_test_inp, train_val_test_out1, , test_data_inp, test_data_out1, test_data_out2, output_scan_image1.affine)"
   ]
  },
  {
   "cell_type": "code",
   "execution_count": 3,
   "metadata": {},
   "outputs": [],
   "source": [
    "#This function extracts patches from a scan and appends them to a list.\n",
    "#This is done for all volumes of a scan (for both the inputs and targets)\n",
    "\n",
    "def patchify(data_scans_inp, data_scans_out1, data_scans_out2, patch_size):\n",
    "    \n",
    "    input_patches_store = []\n",
    "    target_patches_store1 = []\n",
    "    target_patches_store2 = []\n",
    "    \n",
    "    for scan_no in range(0, len(data_scans_inp)):\n",
    "        input_scan = data_scans_inp[scan_no]\n",
    "        target_scan1 = data_scans_out1[scan_no]\n",
    "        target_scan2 = data_scans_out2[scan_no]\n",
    "        \n",
    "        (x,y,z,v) = input_scan.shape\n",
    "        if((patch_size-1) % 2 != 0):\n",
    "            print \"The patch size is not compatible\"\n",
    "            return\n",
    "        padding = ((patch_size-1)/2)\n",
    "        #pad the input scan\n",
    "        full_padding = ((padding, padding), (padding, padding), (padding,padding), (0,0))\n",
    "        padded_scan = np.pad(input_scan, full_padding, mode='constant', constant_values=0)\n",
    "\n",
    "        #extract patches from the input scan\n",
    "\n",
    "        #iterate through each volume to extract the patches\n",
    "        for volume in range(0, v):\n",
    "            for pos_x in range(0, x):\n",
    "                for pos_y in range(0,y):\n",
    "                    for pos_z in range(0, z):\n",
    "                        input_patch = padded_scan[pos_x:pos_x+patch_size, pos_y:pos_y+patch_size, pos_z:pos_z+patch_size, volume]\n",
    "                        target_voxel1 = target_scan1[pos_x,pos_y,pos_z,volume]\n",
    "                        target_voxel2 = target_scan2[pos_x,pos_y,pos_z,volume]\n",
    "                        \n",
    "                        #store the patch and the target\n",
    "                        input_patches_store.append(input_patch)\n",
    "                        target_patches_store1.append(target_voxel1)\n",
    "                        target_patches_store2.append(target_voxel2)\n",
    "                        \n",
    "    return (input_patches_store, target_patches_store1, target_patches_store2)\n",
    "\n",
    "\n",
    "\n"
   ]
  },
  {
   "cell_type": "code",
   "execution_count": 4,
   "metadata": {},
   "outputs": [],
   "source": [
    "#This function extracts patches from a scan and appends them to a list.\n",
    "#This is done for all volumes of a scan (for both the inputs and targets)\n",
    "#This version of the functions only considers voxels wholly contained within the brain\n",
    "\n",
    "def patchify_brain_only(data_scans_inp, data_scans_out1, data_scans_out2, patch_size):\n",
    "    \n",
    "    input_patches_store = []\n",
    "    target_patches_store1 = []\n",
    "    target_patches_store2 = []\n",
    "    \n",
    "    for scan_no in range(0, len(data_scans_inp)):\n",
    "        input_scan = data_scans_inp[scan_no]\n",
    "        target_scan1 = data_scans_out1[scan_no]\n",
    "        target_scan2 = data_scans_out2[scan_no]\n",
    "        \n",
    "        (x,y,z,v) = input_scan.shape\n",
    "        if((patch_size-1) % 2 != 0):\n",
    "            print \"The patch size is not compatible\"\n",
    "            return\n",
    "        padding = ((patch_size-1)/2)\n",
    "        #pad the input scan\n",
    "        full_padding = ((padding, padding), (padding, padding), (padding,padding), (0,0))\n",
    "        padded_scan = np.pad(input_scan, full_padding, mode='constant', constant_values=0)\n",
    "\n",
    "        #extract patches from the input scan\n",
    "\n",
    "        #iterate through each volume to extract the patches\n",
    "        for volume in range(0, v):\n",
    "            for pos_x in range(0, x):\n",
    "                for pos_y in range(0,y):\n",
    "                    for pos_z in range(0, z):\n",
    "                        # Exclude all background voxels\n",
    "                        if(input_scan[pos_x,pos_y,pos_z,volume] == 0):\n",
    "                            continue\n",
    "                        input_patch = padded_scan[pos_x:pos_x+patch_size, pos_y:pos_y+patch_size, pos_z:pos_z+patch_size, volume]\n",
    "                        target_voxel1 = target_scan1[pos_x,pos_y,pos_z,volume]\n",
    "                        target_voxel2 = target_scan2[pos_x,pos_y,pos_z,volume]\n",
    "                        # Exclude all patches that contain artefacts\n",
    "                        if input_patch.min() < 0:\n",
    "                            continue\n",
    "                            \n",
    "                        #store the patch and the target\n",
    "                        input_patches_store.append(input_patch)\n",
    "                        target_patches_store1.append(target_voxel1)\n",
    "                        target_patches_store2.append(target_voxel2)\n",
    "                        \n",
    "    return (input_patches_store, target_patches_store1, target_patches_store2)"
   ]
  },
  {
   "cell_type": "code",
   "execution_count": 5,
   "metadata": {},
   "outputs": [],
   "source": [
    "def split_data(input_list, output_list1, output_list2, train_prop, val_prop, test_prop):\n",
    "    length = len(input_list)\n",
    "    indexes = range(length)\n",
    "    # Randomly shuffle the indexes\n",
    "    random.shuffle(indexes)\n",
    "    \n",
    "    train_len = int(round(length * train_prop))\n",
    "    val_len = int(round(length * val_prop))\n",
    "    test_len = int(length - train_len - val_len)\n",
    "\n",
    "    train_indices = indexes[:train_len]\n",
    "    val_indices = indexes[train_len:train_len+val_len]\n",
    "    test_indices = indexes[train_len+val_len:]\n",
    "\n",
    "    training_input = [input_list[i] for i in train_indices]\n",
    "    training_output = [output_list1[i] for i in train_indices]\n",
    "    \n",
    "    validation_input = [input_list[i] for i in val_indices]\n",
    "    validation_output = [output_list1[i] for i in val_indices]\n",
    "    \n",
    "    testing_input = [input_list[i] for i in test_indices]\n",
    "    testing_output1 = [output_list1[i] for i in test_indices]\n",
    "    testing_output2 = [output_list2[i] for i in test_indices]\n",
    "    \n",
    "    return(training_input, training_output, validation_input, validation_output, testing_input, testing_output1, testing_output2)"
   ]
  },
  {
   "cell_type": "code",
   "execution_count": 6,
   "metadata": {},
   "outputs": [],
   "source": [
    "def viz_pred(inputs, predictions, labels, sliceNo):\n",
    "    maximum = np.max([inputs.max(), predictions.max(), labels.max()])\n",
    "    plt.figure\n",
    "    plt.figure(figsize=(10,10))\n",
    "    plt.subplot(1, 3, 1).set_axis_off()\n",
    "    plt.imshow(inputs[:,:,sliceNo,0].T, cmap='gray', origin='lower', vmax = maximum, vmin=0)\n",
    "    plt.title(\"Input\")\n",
    "    plt.subplot(1, 3, 2).set_axis_off()\n",
    "    plt.imshow(predictions[:,:,sliceNo,0].T, cmap='gray', origin='lower', vmax = maximum, vmin=0)\n",
    "    plt.title(\"Predicted\")\n",
    "    plt.subplot(1, 3, 3).set_axis_off()\n",
    "    plt.imshow(labels[:,:,sliceNo,0].T, cmap='gray', origin='lower', vmax = maximum, vmin=0)\n",
    "    plt.title(\"Target\")\n",
    "    plt.show()"
   ]
  },
  {
   "cell_type": "code",
   "execution_count": 7,
   "metadata": {},
   "outputs": [],
   "source": [
    "def viz_diff(predictions, inputs, labels, sliceNo):\n",
    "    maximum = np.max([inputs.max(), predictions.max(), labels.max()])\n",
    "    difference = np.abs(predictions[:,:,sliceNo,0] - labels[:,:,sliceNo,0])\n",
    "    plt.figure\n",
    "    plt.figure(figsize=(10,10))\n",
    "    plt.subplot(2, 3, 2).set_axis_off()\n",
    "    plt.imshow(np.absolute(difference).T, cmap='nipy_spectral', origin='lower')\n",
    "    #plt.colorbar(shrink=0.2)\n",
    "    plt.title(\"Predicted Error\")\n",
    "    plt.subplot(2, 3, 1).set_axis_off()\n",
    "    plt.imshow(inputs[:,:,sliceNo,0].T, cmap='gray', origin='lower', vmin=0, vmax=maximum)\n",
    "    plt.title(\"Input\")\n",
    "    plt.subplot(2, 3, 3).set_axis_off()\n",
    "    plt.imshow(labels[:,:,sliceNo,0].T, cmap='gray', origin='lower', vmin=0, vmax=maximum)\n",
    "    plt.title(\"Target\")\n",
    "    plt.subplot(2, 3, 5).set_axis_off()\n",
    "    plt.imshow(predictions[:,:,sliceNo,0].T, cmap='gray', origin='lower', vmin=0, vmax=maximum)\n",
    "    plt.title(\"Predicted\")\n",
    "    plt.show()"
   ]
  },
  {
   "cell_type": "code",
   "execution_count": 8,
   "metadata": {},
   "outputs": [],
   "source": [
    "#bland-altman plot\n",
    "\n",
    "def bland_altman_plot(pred, output1, output2):\n",
    "\n",
    "    output_mean = np.mean([output1, output2], axis=0)\n",
    "    x_max = np.max(output_mean)\n",
    "    diff = pred - output_mean                   # Difference between predicted and mean\n",
    "    md = np.mean(diff)                   # Mean of the difference\n",
    "    sd = np.std(diff)            # Standard deviation of the difference\n",
    " \n",
    "    percentage_error = np.absolute(((diff)/(output_mean))*100)\n",
    "    #percentage_error[percentage_error > 50] = 50\n",
    "    #percentage_error[percentage_error < -50] = -50\n",
    "    plt.scatter(output_mean, diff, c=percentage_error, edgecolors='face', cmap='jet')\n",
    "    plt.axhline(md,           color='gray', linestyle='--')\n",
    "    plt.axhline(md + 1.96*sd, color='gray', linestyle='--')\n",
    "    plt.axhline(md - 1.96*sd, color='gray', linestyle='--')\n",
    "    plt.ylabel('Error')\n",
    "    plt.xlabel('Mean output value')\n",
    "    plt.xlim([0, x_max*1.1]) \n",
    "    plt.colorbar()"
   ]
  },
  {
   "cell_type": "code",
   "execution_count": 9,
   "metadata": {},
   "outputs": [],
   "source": [
    "def plot_predicted(pred, output1, output2):\n",
    "\n",
    "    output_mean = np.mean([output1, output2], axis=0)\n",
    "    x_max = np.max(output_mean)\n",
    "    diff = pred - output_mean                   # Difference between predicted and mean\n",
    "    md = np.mean(diff)                   # Mean of the difference\n",
    "    sd = np.std(diff)            # Standard deviation of the difference\n",
    " \n",
    "    percentage_error = np.absolute(((diff)/(output_mean))*100)\n",
    "    #percentage_error[percentage_error > 50] = 50\n",
    "    #percentage_error[percentage_error < -50] = -50\n",
    "    plt.scatter(output_mean, pred, c=percentage_error, edgecolors='face', cmap='jet')\n",
    "    plt.ylabel('Predicted')\n",
    "    plt.xlabel('Mean output value')\n",
    "    plt.xlim([0, x_max*1.1])\n",
    "    plt.ylim([0, x_max*1.1]) \n",
    "    plt.colorbar()"
   ]
  },
  {
   "cell_type": "markdown",
   "metadata": {},
   "source": [
    "-------------------------------------------------------------------------------------------------------\n",
    "---\n",
    "\n",
    "-------------------------------------------------------------------------------------------------------\n",
    "---\n",
    "\n"
   ]
  },
  {
   "cell_type": "markdown",
   "metadata": {},
   "source": [
    "#### Upload the data"
   ]
  },
  {
   "cell_type": "code",
   "execution_count": 11,
   "metadata": {
    "scrolled": true
   },
   "outputs": [
    {
     "name": "stdout",
     "output_type": "stream",
     "text": [
      "Uploading Subject 1 Scan 1\n",
      "Uploading Subject 1 Scan 2\n",
      "Uploading Subject 2 Scan 1\n",
      "Uploading Subject 2 Scan 2\n",
      "Uploading Subject 3 Scan 1\n",
      "Uploading Subject 3 Scan 2\n",
      "Uploading Subject 4 Scan 1\n",
      "Uploading Subject 4 Scan 2\n",
      "Uploading Subject 5 Scan 1\n",
      "Uploading Subject 5 Scan 2\n",
      "Uploading Subject 6 Scan 1\n",
      "Uploading Subject 6 Scan 2\n",
      "Uploading Subject 7 Scan 1\n",
      "Uploading Subject 7 Scan 2\n",
      "Uploading Subject 8 Scan 1\n",
      "Uploading Subject 8 Scan 2\n",
      "Testing: Subject 8 Scan 1\n",
      "Testing: Subject 9 Scan 1\n",
      "Testing: Subject 9 Scan 2\n",
      "Testing: Subject 10 Scan 1\n",
      "Testing: Subject 10 Scan 2\n",
      "Number of scans used for training, validation and testing: 16\n",
      "Number of scans used for final testing: 5\n"
     ]
    }
   ],
   "source": [
    "#upload the data\n",
    "petmr_data_path = '/home/ubuntu/project/Dataset/PETMR_data'\n",
    "trio_data_path = '/home/ubuntu/project/Dataset/TRIO_data'\n",
    "\n",
    "# Enter a list of tuples (subject, scan_number)\n",
    "# Use this to get all scans then split into training, validation and testing\n",
    "train_val_test_scans = [(1,1), (1,2), (2,1), (2,2), (3,1), (3,2), (4,1), (4,2), (5,1), (5,2), \\\n",
    "                        (6,1), (6,2), (7,1), (7,2), (8,1), (8,2)]\n",
    "\n",
    "# This is a final test scan only - used to generate a complete scan from the trained CNN\n",
    "testing_scans = [(8,1), (9,1), (9,2), (10,1), (10,2)]\n",
    "\n",
    "data_dict = {\"train_val_test\": train_val_test_scans, \"testing\":testing_scans}\n",
    "\n",
    "(train_val_test_inp, train_val_test_out1, train_val_test_out2, final_test_inp, final_test_out1, final_test_out2, affine_mat) = \\\n",
    "        get_data(petmr_data_path, trio_data_path, data_dict, input_scanner=\"PETMR\")\n",
    "print(\"Number of scans used for training, validation and testing: %d\" % len(train_val_test_inp))\n",
    "print (\"Number of scans used for final testing: %d\" % len(final_test_inp))"
   ]
  },
  {
   "cell_type": "markdown",
   "metadata": {},
   "source": [
    "#### Patchify the data"
   ]
  },
  {
   "cell_type": "code",
   "execution_count": 12,
   "metadata": {},
   "outputs": [
    {
     "name": "stdout",
     "output_type": "stream",
     "text": [
      "Patchifying training, validation and testing set\n",
      "Patchifying final testing scans\n"
     ]
    }
   ],
   "source": [
    "print \"Patchifying training, validation and testing set\"\n",
    "(train_val_test_input, train_val_test_target1, train_val_test_target2) = patchify_brain_only(train_val_test_inp, train_val_test_out1, train_val_test_out2, 9)\n",
    "\n",
    "print \"Patchifying final testing scans\"\n",
    "(final_testing_input, final_testing_target1, final_testing_target2) = patchify(final_test_inp, final_test_out1, final_test_out2, 9)"
   ]
  },
  {
   "cell_type": "code",
   "execution_count": 13,
   "metadata": {},
   "outputs": [
    {
     "name": "stdout",
     "output_type": "stream",
     "text": [
      "Nember of training, validation and testing examples : 1392748\n",
      "Nember of final testing examples : 929429\n"
     ]
    }
   ],
   "source": [
    "print (\"Nember of training, validation and testing examples : %d\" % len(train_val_test_input))\n",
    "print (\"Nember of final testing examples : %d\" % len(final_testing_input))"
   ]
  },
  {
   "cell_type": "markdown",
   "metadata": {},
   "source": [
    "#### Randomly split the data into training validation and testing sets"
   ]
  },
  {
   "cell_type": "code",
   "execution_count": 14,
   "metadata": {},
   "outputs": [],
   "source": [
    "training_input, training_target, validation_input, validation_target, testing_input, testing_target1, testing_target2 = \\\n",
    "        split_data(train_val_test_input, train_val_test_target1, train_val_test_target2, 0.70, 0.15, 0.15)"
   ]
  },
  {
   "cell_type": "code",
   "execution_count": 15,
   "metadata": {},
   "outputs": [
    {
     "name": "stdout",
     "output_type": "stream",
     "text": [
      "Nember of training examples : 974924\n",
      "Nember of Validation examples : 208912\n",
      "Nember of testing examples : 208912\n"
     ]
    }
   ],
   "source": [
    "print (\"Nember of training examples : %d\" % len(training_input))\n",
    "print (\"Nember of Validation examples : %d\" % len(validation_input))\n",
    "print (\"Nember of testing examples : %d\" % len(testing_input))"
   ]
  },
  {
   "cell_type": "markdown",
   "metadata": {},
   "source": [
    "# PyTorch Functions"
   ]
  },
  {
   "cell_type": "code",
   "execution_count": 16,
   "metadata": {},
   "outputs": [],
   "source": [
    "import torch\n",
    "import torchvision\n",
    "import torchvision.transforms as transforms\n",
    "from torch.utils.data import Dataset\n",
    "from torch.utils.data import DataLoader\n",
    "import torch.optim as optim\n",
    "from torch.autograd import Variable\n",
    "import torch.nn as nn\n",
    "import torch.nn.functional as F"
   ]
  },
  {
   "cell_type": "code",
   "execution_count": 17,
   "metadata": {},
   "outputs": [],
   "source": [
    "#create a dataset class for our data\n",
    "\n",
    "class MRIdataset(Dataset):\n",
    "    \"\"\"MRI b=0 dataset for patches.\"\"\"\n",
    "\n",
    "    def __init__(self, input_patches, target_patches, transform=None):\n",
    "        \"\"\"\n",
    "        Args:\n",
    "            input_patches: Input patches\n",
    "            target_patches: Corresponding target patches of the input patches\n",
    "            transform (callable, optional): Optional transform to be applied\n",
    "            on a sample.\n",
    "        \"\"\"\n",
    "        self.input_patches = input_patches\n",
    "        self.target_patches = target_patches\n",
    "        self.transform = transform\n",
    "\n",
    "    def __len__(self):\n",
    "        return len(self.input_patches)\n",
    "\n",
    "    def __getitem__(self, idx):\n",
    "        input_patch = np.array(self.input_patches[idx])\n",
    "        target_patch = np.array(self.target_patches[idx])\n",
    "        sample = {'input': input_patch, 'target': target_patch}\n",
    "        \n",
    "\n",
    "        if self.transform:\n",
    "            sample = self.transform(sample)\n",
    "            \n",
    "        return sample\n"
   ]
  },
  {
   "cell_type": "code",
   "execution_count": 18,
   "metadata": {},
   "outputs": [],
   "source": [
    "class To_Tensor(object):\n",
    "    \"\"\"Convert ndarrays in sample to Tensors.\"\"\"\n",
    "\n",
    "    def __call__(self, sample):\n",
    "        inp, out = sample['input'], sample['target']\n",
    "        \n",
    "        #first expand dimension because torch expects H x W x D x C\n",
    "        #currently we only have H x W x D\n",
    "        aug_inp = np.expand_dims(inp, 3)\n",
    "        \n",
    "        #The target is a single voxel,\n",
    "        #Conver it to an array\n",
    "        aug_out = np.array([out])\n",
    "\n",
    "        # swap channel axis because\n",
    "        # numpy: H x W x D x C\n",
    "        # torch: C x D x H x W\n",
    "        aug_inp = aug_inp.transpose((3, 2, 0, 1))\n",
    "        \n",
    "        return {'input': torch.Tensor(aug_inp),\n",
    "                'target': torch.Tensor(aug_out)}\n",
    "\n"
   ]
  },
  {
   "cell_type": "code",
   "execution_count": 19,
   "metadata": {},
   "outputs": [],
   "source": [
    "def train(net, trainloader, valiloader, training_losses, validation_losses, optimizer, criterion, scheduler, epochs):\n",
    "\n",
    "    for epoch in range(epochs):  # loop over the dataset multiple times\n",
    "        net.train()\n",
    "        running_loss = 0.0\n",
    "        for i, data in enumerate(trainloader, 0): #done in batches\n",
    "            # get the inputs\n",
    "            inputs = data['input']\n",
    "            labels = data['target']\n",
    "\n",
    "           # wrap them in Variable\n",
    "            inputs, labels = Variable(inputs.cuda()), Variable(labels.cuda())\n",
    "\n",
    "            # zero the parameter gradients\n",
    "            optimizer.zero_grad()\n",
    "\n",
    "            # forward + backward + optimize/update weights\n",
    "            outputs = net(inputs)\n",
    "            loss = criterion(outputs, labels)\n",
    "            loss.backward()\n",
    "            optimizer.step()\n",
    "\n",
    "            # print statistics\n",
    "            running_loss += loss.data[0] #loss is a variable tensor of size 1, we index to get the value out\n",
    "            if i % 250 == 249:    # print every 250 mini-batches\n",
    "                total_loss = running_loss / (i+1)\n",
    "                print('[%d, %5d] --- Losss = %.5f' % (epoch + 1, i + 1, total_loss))\n",
    "                \n",
    "        total_loss = running_loss / (i+1)\n",
    "        training_losses.append(total_loss)        \n",
    "        print('Training loss iteration %d = %.5f' % (epoch+1, total_loss ))\n",
    "        # Update the learning rate dynamically\n",
    "        scheduler.step(total_loss)\n",
    "        \n",
    "        \n",
    "        # After each epoch evaluat the performance of the CNN on the validation set\n",
    "        net.eval()   \n",
    "        validation_error = 0\n",
    "        total = 0\n",
    "        for validation_data in valiloader: #batch processing\n",
    "            validation_inputs = validation_data['input']\n",
    "            validation_labels = validation_data['target']\n",
    "            total += 1\n",
    "            \n",
    "            validation_inputs, validation_labels = Variable(validation_inputs.cuda()), Variable(validation_labels.cuda())\n",
    "\n",
    "            validation_predictions = net(validation_inputs)\n",
    "            \n",
    "            validation_error += (torch.nn.functional.mse_loss(Variable(validation_predictions.data), validation_labels)).data[0]\n",
    "            \n",
    "        validation_error /= total\n",
    "        print('MSE on validation set: %f' % (validation_error))\n",
    "        validation_losses.append(validation_error)\n",
    " \n",
    "    print('Finished Training')\n",
    "    return (net, training_losses, validation_losses)"
   ]
  },
  {
   "cell_type": "code",
   "execution_count": 20,
   "metadata": {},
   "outputs": [],
   "source": [
    "def plt_losses(training_losses, validation_losses):\n",
    "    plt.figure\n",
    "    plt.plot(range(1,len(training_losses)+1), training_losses, 'r-', label=\"Training error\")\n",
    "    plt.plot(range(1,len(validation_losses)+1), validation_losses, 'b-', label=\"Validation error\")\n",
    "    plt.legend()\n",
    "    plt.xlabel('iteration')\n",
    "    # Make the y-axis label, ticks and tick labels match the line color.\n",
    "    plt.ylabel('Loss - (MSE)')\n",
    "    plt.show()"
   ]
  },
  {
   "cell_type": "code",
   "execution_count": 21,
   "metadata": {},
   "outputs": [],
   "source": [
    "def get_predictions(net, testloader):\n",
    "    net.eval()\n",
    "    for index, test_data in enumerate(testloader):\n",
    "        test_inputs = test_data['input']\n",
    "        test_labels = test_data['target']\n",
    "        if index % 250 == 249:\n",
    "            print index + 1\n",
    "        \n",
    "        test_inputs, test_labels = Variable(test_inputs.cuda()), Variable(test_labels.cuda())\n",
    "\n",
    "        #store the predictions in a numpy array which we can reshape later\n",
    "        test_predictions = net(test_inputs)\n",
    "        if(index == 0):\n",
    "            predictions = test_predictions.data.cpu().numpy() \n",
    "\n",
    "        else:\n",
    "            predictions = np.concatenate((predictions, test_predictions.data.cpu().numpy()), axis=0)\n",
    "            \n",
    "    #convert back to numpy dimensions of (HxWxDxCxNumbExpls)\n",
    "    predictions = predictions.transpose(1,0)\n",
    "    return predictions\n",
    "    "
   ]
  },
  {
   "cell_type": "code",
   "execution_count": 22,
   "metadata": {},
   "outputs": [],
   "source": [
    "def replace_background(prediction, input_scan):\n",
    "    background_mask = input_scan <= 0\n",
    "    prediction[background_mask] = 0\n",
    "    \n",
    "    return prediction"
   ]
  },
  {
   "cell_type": "code",
   "execution_count": 23,
   "metadata": {},
   "outputs": [],
   "source": [
    "def reconstruct_brain(predictions, scans):\n",
    "    # Scans is a list containing the input scans where each scan is stored as a 4d numpy array\n",
    "    # Iterate through all the scans and reconstruct them\n",
    "    start_voxel = 0\n",
    "    reconstructed_scans = []\n",
    "    for scan in scans:\n",
    "        dimensions = scan.shape\n",
    "        size_x = dimensions[0]\n",
    "        size_y = dimensions[1]\n",
    "        size_z = dimensions[2]\n",
    "        size_v = dimensions[3]\n",
    "        end_voxel = start_voxel + (size_x * size_y * size_z * size_v)\n",
    "        reconstructed = np.reshape(predictions[:,start_voxel:end_voxel], [size_v, size_x, size_y, size_z], order='C')\n",
    "        reconstructed = reconstructed.transpose(1,2,3,0)\n",
    "        start_voxel = end_voxel\n",
    "        \n",
    "        # Replace the background voxels of the scan with 0\n",
    "        reconstructed = replace_background(reconstructed, scan)\n",
    "        reconstructed_scans.append(reconstructed)\n",
    "        \n",
    "    return reconstructed_scans"
   ]
  },
  {
   "cell_type": "code",
   "execution_count": 24,
   "metadata": {},
   "outputs": [],
   "source": [
    "def get_errors(predictions, output1, output2, data_type):\n",
    "    \n",
    "    scan = 0\n",
    "    mse_avg = 0\n",
    "    l1_avg = 0\n",
    "    r1_avg = 0\n",
    "    \n",
    "    while True:\n",
    "        if data_type == \"scan\":\n",
    "            scan_predictions = predictions[scan]\n",
    "            scan_output1 = output1[scan]\n",
    "            scan_output2 = output2[scan]\n",
    "            scan += 1\n",
    "            print('\\n--------------Scan %d---------------' % (scan))\n",
    "        else:\n",
    "            print('\\n----------------------------')\n",
    "            scan_predictions = predictions\n",
    "            scan_output1 = output1\n",
    "            scan_output2 = output2\n",
    "            \n",
    "        mse = ((scan_predictions - scan_output1) ** 2).mean()\n",
    "        print('MSE on test %s: %f' % (data_type, mse))\n",
    "\n",
    "        l1 = (np.absolute(scan_predictions -  scan_output1)).mean()\n",
    "        print('Mean absolute loss on test %s: %f' % (data_type, l1))\n",
    "\n",
    "        r1 = 1 - (np.sum((scan_output1 - scan_predictions) ** 2) / np.sum((scan_output1 - scan_output1.mean()) ** 2))\n",
    "        print('R2 loss on test %s (Coefficient of determination): %f' % (data_type, r1))\n",
    "\n",
    "        min_target = np.min([scan_output1, scan_output2], axis=0)\n",
    "        max_target = np.max([scan_output1, scan_output2], axis=0)\n",
    "        correct_predictions = np.logical_and(scan_predictions>=min_target, scan_predictions<=max_target)\n",
    "        correct_predictions = np.sum(correct_predictions)\n",
    "        percentage_correct = (float(correct_predictions) / float(scan_predictions.size)) * 100\n",
    "        print('Percentage of predictions within target range: %f' % (percentage_correct))\n",
    "        \n",
    "        mse_avg += mse\n",
    "        l1_avg += l1\n",
    "        r1_avg += r1\n",
    "        \n",
    "        if scan > 0 and scan < len(predictions):\n",
    "            # Get averages of all the data\n",
    "            continue\n",
    "        else:\n",
    "            break\n",
    "                    \n",
    "    if data_type == \"scan\":\n",
    "        print '\\n------Average of errors across all scans------'\n",
    "        print ('Avg mse: %f' % (mse_avg/scan))\n",
    "        print ('Avg l1: %f' % (l1_avg/scan))\n",
    "        print ('Avg r1: %f' % (r1_avg/scan))"
   ]
  },
  {
   "cell_type": "code",
   "execution_count": 25,
   "metadata": {},
   "outputs": [],
   "source": [
    "def get_errors_between_targets(output1, output2, data_type):\n",
    "    \n",
    "    scan = 0\n",
    "    mse_avg = 0\n",
    "    l1_avg = 0\n",
    "    r1_avg = 0\n",
    "    \n",
    "    while True:\n",
    "        if data_type == \"scan\":\n",
    "            scan_output1 = output1[scan]\n",
    "            scan_output2 = output2[scan]\n",
    "            scan += 1\n",
    "            print('\\n--------------Scan %d---------------' % (scan))\n",
    "        else:\n",
    "            print('\\n----------------------------')\n",
    "            scan_output1 = output1\n",
    "            scan_output2 = output2\n",
    "        \n",
    "        target_mse = ((scan_output1 - scan_output2) ** 2).mean()\n",
    "        print('MSE between targets: %f' % (target_mse))\n",
    "\n",
    "        target_l1 = (np.absolute(scan_output2 - scan_output1)).mean()\n",
    "        print('Mean absolute loss between targets: %f' % (target_l1))\n",
    "\n",
    "        target_r1 = 1 - (np.sum((scan_output1 - scan_output2) ** 2) / np.sum((scan_output1 - scan_output1.mean()) ** 2))\n",
    "        print('R2 loss between targets (Coefficient of determination): %f' % (target_r1))\n",
    "        \n",
    "        mse_avg += target_mse\n",
    "        l1_avg += target_l1\n",
    "        r1_avg += target_r1\n",
    "        \n",
    "        if scan > 0 and scan < len(output1):\n",
    "            # Get averages of all the data\n",
    "            continue\n",
    "        else:\n",
    "            break\n",
    "                    \n",
    "    if data_type == \"scan\":\n",
    "        print '\\n-------Average of errors--------'\n",
    "        print ('Avg mse: %f' % (mse_avg/scan))\n",
    "        print ('Avg l1: %f' % (l1_avg/scan))\n",
    "        print ('Avg r1: %f' % (r1_avg/scan))"
   ]
  },
  {
   "cell_type": "markdown",
   "metadata": {},
   "source": [
    "-------------------------------------------------------------------------------------------------------\n",
    "---\n",
    "\n",
    "-------------------------------------------------------------------------------------------------------\n",
    "---\n",
    "\n"
   ]
  },
  {
   "cell_type": "markdown",
   "metadata": {},
   "source": [
    "### Upload the data using pytorch data loaders"
   ]
  },
  {
   "cell_type": "code",
   "execution_count": 26,
   "metadata": {},
   "outputs": [],
   "source": [
    "training_dataset = MRIdataset(training_input, training_target, transform=transforms.Compose([To_Tensor()]))\n",
    "validation_dataset = MRIdataset(validation_input, validation_target, transform=transforms.Compose([To_Tensor()]))\n",
    "testing_dataset = MRIdataset(testing_input, testing_target1, transform=transforms.Compose([To_Tensor()]))\n",
    "\n",
    "final_testing_dataset = MRIdataset(final_testing_input, final_testing_target1, transform=transforms.Compose([To_Tensor()]))"
   ]
  },
  {
   "cell_type": "code",
   "execution_count": 27,
   "metadata": {},
   "outputs": [],
   "source": [
    "trainloader = DataLoader(training_dataset, batch_size=256,\n",
    "                        shuffle=True, num_workers=16)\n",
    "\n",
    "valiloader = DataLoader(validation_dataset, batch_size=256,\n",
    "                        shuffle=True, num_workers=16)\n",
    "\n",
    "testloader = DataLoader(testing_dataset, batch_size=256,\n",
    "                        shuffle=False, num_workers=16)\n",
    "\n",
    "final_test_loader = DataLoader(final_testing_dataset, batch_size=256,\n",
    "                        shuffle=False, num_workers=16)"
   ]
  },
  {
   "cell_type": "markdown",
   "metadata": {},
   "source": [
    "### Develop CNN"
   ]
  },
  {
   "cell_type": "markdown",
   "metadata": {},
   "source": [
    "Conv -> Batch -> Relu -> Conv -> Batch -> Relu -> Conv -> Batch -> Relu -> Conv -> Relu\n",
    "\n",
    "--(WxHx2x1)--\n",
    "\n",
    "conv1 = receptive field -> (3x3x3), zero padding -> 2,  number of filters -> 10\n",
    "\n",
    "--(W+2xH+2x4x10)--\n",
    "\n",
    "--BATCH then RELU--\n",
    "\n",
    "conv2 = receptive field -> (1x1x1), number of filters -> 15\n",
    "\n",
    "--(W+2xH+2x4x15)--\n",
    "\n",
    "--BATCH then RELU--\n",
    "\n",
    "conv3 = receptive field -> (3x3x3), number of filters -> 15\n",
    "\n",
    "--(WxHx2x15)--\n",
    "\n",
    "--BATCH then RELU--\n",
    "\n",
    "conv4 = receptive field -> (1x1x2), number of filters -> 1\n",
    "\n",
    "--(WxHx1x1)--\n",
    "\n",
    "--RELU--\n",
    "\n",
    "\n"
   ]
  },
  {
   "cell_type": "code",
   "execution_count": 36,
   "metadata": {},
   "outputs": [
    {
     "name": "stdout",
     "output_type": "stream",
     "text": [
      "Net(\n",
      "  (conv1): Conv3d (1, 100, kernel_size=(3, 3, 3), stride=(1, 1, 1), padding=(1, 1, 1))\n",
      "  (batch1): BatchNorm3d(100, eps=1e-05, momentum=0.1, affine=True)\n",
      "  (drop1): Dropout(p=0.1)\n",
      "  (conv2): Conv3d (100, 100, kernel_size=(3, 3, 3), stride=(1, 1, 1), padding=(1, 1, 1))\n",
      "  (batch2): BatchNorm3d(100, eps=1e-05, momentum=0.1, affine=True)\n",
      "  (drop2): Dropout(p=0.1)\n",
      "  (conv3): Conv3d (100, 100, kernel_size=(3, 3, 3), stride=(1, 1, 1), padding=(1, 1, 1))\n",
      "  (batch3): BatchNorm3d(100, eps=1e-05, momentum=0.1, affine=True)\n",
      "  (drop3): Dropout(p=0.1)\n",
      "  (conv4): Conv3d (100, 100, kernel_size=(3, 3, 3), stride=(1, 1, 1), padding=(1, 1, 1))\n",
      "  (batch5): BatchNorm3d(100, eps=1e-05, momentum=0.1, affine=True)\n",
      "  (drop5): Dropout(p=0.1)\n",
      "  (fc1): Linear(in_features=72900, out_features=300)\n",
      "  (batch6): BatchNorm1d(300, eps=1e-05, momentum=0.1, affine=True)\n",
      "  (drop6): Dropout(p=0.1)\n",
      "  (fc2): Linear(in_features=300, out_features=300)\n",
      "  (batch7): BatchNorm1d(300, eps=1e-05, momentum=0.1, affine=True)\n",
      "  (drop7): Dropout(p=0.1)\n",
      "  (fc3): Linear(in_features=300, out_features=300)\n",
      "  (batch8): BatchNorm1d(300, eps=1e-05, momentum=0.1, affine=True)\n",
      "  (drop8): Dropout(p=0.1)\n",
      "  (fc4): Linear(in_features=300, out_features=100)\n",
      "  (batch9): BatchNorm1d(100, eps=1e-05, momentum=0.1, affine=True)\n",
      "  (drop9): Dropout(p=0.1)\n",
      "  (fc5): Linear(in_features=100, out_features=100)\n",
      "  (batch10): BatchNorm1d(100, eps=1e-05, momentum=0.1, affine=True)\n",
      "  (drop10): Dropout(p=0.1)\n",
      "  (fc6): Linear(in_features=100, out_features=100)\n",
      "  (batch11): BatchNorm1d(100, eps=1e-05, momentum=0.1, affine=True)\n",
      "  (drop11): Dropout(p=0.1)\n",
      "  (fc7): Linear(in_features=100, out_features=1)\n",
      ")\n"
     ]
    }
   ],
   "source": [
    "class Net(nn.Module):\n",
    "    \n",
    "    def __init__(self):\n",
    "        super(Net, self).__init__()\n",
    "        self.conv1 = nn.Conv3d(1, 100, 3, padding=1)\n",
    "        self.batch1 = nn.BatchNorm3d(100)\n",
    "        # Skip 1 start\n",
    "        self.drop1 = nn.Dropout(p=0.10)\n",
    "        self.conv2 = nn.Conv3d(100, 100, 3, padding=1)\n",
    "        self.batch2 = nn.BatchNorm3d(100)\n",
    "        self.drop2 = nn.Dropout(p=0.10)\n",
    "        self.conv3 = nn.Conv3d(100, 100, 3, padding=1)\n",
    "        # Skip 1 end\n",
    "        self.batch3 = nn.BatchNorm3d(100)\n",
    "        # Skip 2 start\n",
    "        self.drop3 = nn.Dropout(p=0.10)\n",
    "        self.conv4 = nn.Conv3d(100, 100, 3, padding=1)\n",
    "        #self.batch4 = nn.BatchNorm3d(100)\n",
    "        #self.drop4 = nn.Dropout(p=0.10)\n",
    "        #self.conv5 = nn.Conv3d(100, 100, 3, padding=1)\n",
    "        # Skip 2 end\n",
    "        self.batch5 = nn.BatchNorm3d(100)\n",
    "        self.drop5 = nn.Dropout(p=0.10)\n",
    "        self.fc1 = nn.Linear(100*9*9*9, 300)\n",
    "        self.batch6 = nn.BatchNorm1d(300)\n",
    "        # Skip 3 start\n",
    "        self.drop6 = nn.Dropout(p=0.10)\n",
    "        self.fc2 = nn.Linear(300, 300)\n",
    "        self.batch7 = nn.BatchNorm1d(300)\n",
    "        self.drop7 = nn.Dropout(p=0.10)\n",
    "        self.fc3 = nn.Linear(300, 300)\n",
    "        # Skip 3 end\n",
    "        self.batch8 = nn.BatchNorm1d(300)\n",
    "        self.drop8 = nn.Dropout(p=0.10)\n",
    "        self.fc4 = nn.Linear(300, 100)\n",
    "        self.batch9 = nn.BatchNorm1d(100)\n",
    "        # Skip 4 start\n",
    "        self.drop9 = nn.Dropout(p=0.10)\n",
    "        self.fc5 = nn.Linear(100, 100)\n",
    "        self.batch10 = nn.BatchNorm1d(100)\n",
    "        self.drop10 = nn.Dropout(p=0.10)\n",
    "        self.fc6 = nn.Linear(100, 100)\n",
    "        # Skip 4 end\n",
    "        self.batch11 = nn.BatchNorm1d(100)\n",
    "        self.drop11 = nn.Dropout(p=0.10)\n",
    "        self.fc7 = nn.Linear(100, 1)\n",
    " \n",
    "        \n",
    "        \n",
    "\n",
    "    #note this method isn't called explicitly during train, \n",
    "    #rather the instance object is called as pytorch is then \n",
    "    #able to take care of other stuff in the background\n",
    "    def forward(self, x):\n",
    "        x_skip1 = F.relu(self.batch1(self.conv1(x)))\n",
    "        x = self.drop2(F.relu(self.batch2(self.conv2(self.drop1(x_skip1)))))\n",
    "        x = self.drop3(F.relu(self.batch3(self.conv3(x))))\n",
    "        x = self.conv4(x)\n",
    "        x = self.batch5(F.relu(x + x_skip1))\n",
    "\n",
    "        x = x.view(-1, 100*9*9*9)\n",
    "        x_skip3 = self.drop6(F.relu(self.batch6(self.fc1(self.drop5(x)))))\n",
    "        x = self.drop7(F.relu(self.batch7(self.fc2(x_skip3))))\n",
    "        x = self.drop8(F.relu(self.batch8(self.fc3(x) + x_skip3)))\n",
    "        \n",
    "        x_skip4 = self.drop9(F.relu(self.batch9(self.fc4(x))))\n",
    "        x = self.drop10(F.relu(self.batch10(self.fc5(x_skip4))))\n",
    "        x = self.drop11(F.relu(self.batch11(self.fc6(x) + x_skip4)))\n",
    "        \n",
    "        x = F.relu(self.fc7(x))\n",
    "        \n",
    "        return x\n",
    "\n",
    "\n",
    "net = Net()\n",
    "net.cuda()\n",
    "print(net)"
   ]
  },
  {
   "cell_type": "markdown",
   "metadata": {},
   "source": [
    "### Define loss function and optimization algorithm"
   ]
  },
  {
   "cell_type": "code",
   "execution_count": 37,
   "metadata": {},
   "outputs": [],
   "source": [
    "#here we use MSE loss\n",
    "criterion = nn.MSELoss() #returns the average over a mini-batch as opposed to the sum\n",
    "optimizer = optim.Adam(net.parameters(), lr=0.01)\n",
    "scheduler = torch.optim.lr_scheduler.ReduceLROnPlateau(optimizer, 'min', patience=0, verbose=True, threshold=0.08)"
   ]
  },
  {
   "cell_type": "code",
   "execution_count": 38,
   "metadata": {},
   "outputs": [],
   "source": [
    "training_losses = []\n",
    "validation_losses = []"
   ]
  },
  {
   "cell_type": "markdown",
   "metadata": {},
   "source": [
    "### Train CNN"
   ]
  },
  {
   "cell_type": "code",
   "execution_count": 39,
   "metadata": {
    "scrolled": true
   },
   "outputs": [
    {
     "name": "stdout",
     "output_type": "stream",
     "text": [
      "[1,   250] --- Losss = 48553.24898\n",
      "[1,   500] --- Losss = 29011.77843\n",
      "[1,   750] --- Losss = 21838.45010\n",
      "[1,  1000] --- Losss = 18163.66925\n",
      "[1,  1250] --- Losss = 15854.81844\n",
      "[1,  1500] --- Losss = 14258.07124\n",
      "[1,  1750] --- Losss = 13086.67940\n",
      "[1,  2000] --- Losss = 12150.03545\n",
      "[1,  2250] --- Losss = 11413.81720\n",
      "[1,  2500] --- Losss = 10794.48281\n",
      "[1,  2750] --- Losss = 10290.33926\n",
      "[1,  3000] --- Losss = 9858.70123\n",
      "[1,  3250] --- Losss = 9482.52402\n",
      "[1,  3500] --- Losss = 9144.92021\n",
      "[1,  3750] --- Losss = 8847.40573\n",
      "Training loss iteration 1 = 8784.41635\n",
      "MSE on validation set: 4197.133442\n",
      "[2,   250] --- Losss = 4321.92461\n",
      "[2,   500] --- Losss = 4373.20187\n",
      "[2,   750] --- Losss = 4314.92400\n",
      "[2,  1000] --- Losss = 4281.08434\n",
      "[2,  1250] --- Losss = 4259.51858\n",
      "[2,  1500] --- Losss = 4239.08076\n",
      "[2,  1750] --- Losss = 4221.24365\n",
      "[2,  2000] --- Losss = 4201.70025\n",
      "[2,  2250] --- Losss = 4176.86307\n",
      "[2,  2500] --- Losss = 4139.59093\n",
      "[2,  2750] --- Losss = 4109.55540\n",
      "[2,  3250] --- Losss = 4072.27413\n",
      "[2,  3500] --- Losss = 4054.03190\n",
      "[2,  3750] --- Losss = 4034.32172\n",
      "Training loss iteration 2 = 4029.85700\n",
      "MSE on validation set: 2755.324814\n",
      "[3,   250] --- Losss = 3424.94914\n",
      "[3,   500] --- Losss = 3416.47753\n",
      "[3,   750] --- Losss = 3390.45577\n",
      "[3,  1000] --- Losss = 3377.73968\n",
      "[3,  1250] --- Losss = 3357.41910\n",
      "[3,  1500] --- Losss = 3352.45158\n",
      "[3,  1750] --- Losss = 3341.71479\n",
      "[3,  2000] --- Losss = 3344.66181\n",
      "[3,  2250] --- Losss = 3341.13933\n",
      "[3,  2500] --- Losss = 3340.45066\n",
      "[3,  2750] --- Losss = 3330.30374\n",
      "[3,  3000] --- Losss = 3319.77973\n",
      "[3,  3250] --- Losss = 3316.87907\n",
      "[3,  3500] --- Losss = 3307.86380\n",
      "[3,  3750] --- Losss = 3295.93920\n",
      "Training loss iteration 3 = 3295.47955\n",
      "MSE on validation set: 2734.332576\n",
      "[4,   250] --- Losss = 2865.95621\n",
      "[4,   500] --- Losss = 2833.71071\n",
      "[4,   750] --- Losss = 2829.67928\n",
      "[4,  1000] --- Losss = 2823.28397\n",
      "[4,  1250] --- Losss = 2839.18128\n",
      "[4,  1500] --- Losss = 2837.67941\n",
      "[4,  1750] --- Losss = 2840.99670\n",
      "[4,  2000] --- Losss = 2854.56244\n",
      "[4,  2250] --- Losss = 2861.60673\n",
      "[4,  2500] --- Losss = 2856.43078\n",
      "[4,  2750] --- Losss = 2845.39146\n",
      "[4,  3000] --- Losss = 2841.30170\n",
      "[4,  3500] --- Losss = 2839.05991\n",
      "[4,  3750] --- Losss = 2836.04440\n",
      "Training loss iteration 4 = 2835.13451\n",
      "MSE on validation set: 2330.542083\n",
      "[5,   250] --- Losss = 2469.41424\n",
      "[5,   500] --- Losss = 2451.05554\n",
      "[5,   750] --- Losss = 2464.18611\n",
      "[5,  1000] --- Losss = 2478.55915\n",
      "[5,  1250] --- Losss = 2483.34125\n",
      "[5,  1500] --- Losss = 2488.05949\n",
      "[5,  1750] --- Losss = 2481.38924\n",
      "[5,  2000] --- Losss = 2483.78370\n",
      "[5,  2250] --- Losss = 2495.76890\n",
      "[5,  2500] --- Losss = 2486.57588\n",
      "[5,  2750] --- Losss = 2490.29562\n",
      "[5,  3000] --- Losss = 2488.49824\n",
      "[5,  3250] --- Losss = 2490.47104\n",
      "[5,  3500] --- Losss = 2488.90267\n",
      "[5,  3750] --- Losss = 2489.56348\n",
      "Training loss iteration 5 = 2490.43449\n",
      "MSE on validation set: 2094.702857\n",
      "[6,   250] --- Losss = 2192.23002\n",
      "[6,   500] --- Losss = 2196.26346\n",
      "[6,   750] --- Losss = 2220.41906\n",
      "[6,  1000] --- Losss = 2225.95388\n",
      "[6,  1250] --- Losss = 2226.21635\n",
      "[6,  1500] --- Losss = 2236.39561\n",
      "[6,  1750] --- Losss = 2229.85907\n",
      "[6,  2000] --- Losss = 2223.55255\n",
      "[6,  2250] --- Losss = 2229.32062\n",
      "[6,  2500] --- Losss = 2238.16258\n",
      "[6,  2750] --- Losss = 2235.32722\n",
      "[6,  3000] --- Losss = 2239.48851\n",
      "[6,  3250] --- Losss = 2244.66602\n",
      "[6,  3500] --- Losss = 2240.36134\n",
      "[6,  3750] --- Losss = 2242.97538\n",
      "Training loss iteration 6 = 2243.73909\n",
      "MSE on validation set: 2092.738275\n",
      "[7,   250] --- Losss = 1984.41430\n",
      "[7,   500] --- Losss = 1987.65306\n",
      "[7,   750] --- Losss = 1978.89071\n",
      "[7,  1000] --- Losss = 1999.27020\n",
      "[7,  1250] --- Losss = 2016.38218\n",
      "[7,  1500] --- Losss = 2014.26805\n",
      "[7,  1750] --- Losss = 2028.79982\n",
      "[7,  2000] --- Losss = 2027.82603\n",
      "[7,  2500] --- Losss = 2037.65573\n",
      "[7,  2750] --- Losss = 2044.14025\n",
      "[7,  3000] --- Losss = 2043.69232\n",
      "[7,  3250] --- Losss = 2046.97941\n",
      "[7,  3500] --- Losss = 2047.34022\n",
      "[7,  3750] --- Losss = 2048.67311\n",
      "Training loss iteration 7 = 2046.36980\n",
      "MSE on validation set: 1909.151683\n",
      "[8,   250] --- Losss = 1850.21367\n",
      "[8,   500] --- Losss = 1857.52909\n",
      "[8,   750] --- Losss = 1869.47143\n",
      "[8,  1000] --- Losss = 1878.04253\n",
      "[8,  1250] --- Losss = 1878.17191\n",
      "[8,  1500] --- Losss = 1881.20173\n",
      "[8,  1750] --- Losss = 1878.42217\n",
      "[8,  2000] --- Losss = 1878.41572\n",
      "[8,  2250] --- Losss = 1877.20335\n",
      "[8,  2500] --- Losss = 1875.69229\n",
      "[8,  2750] --- Losss = 1877.16013\n",
      "[8,  3000] --- Losss = 1881.87562\n",
      "[8,  3250] --- Losss = 1884.71544\n",
      "[8,  3500] --- Losss = 1886.11328\n",
      "[8,  3750] --- Losss = 1883.90174\n",
      "Training loss iteration 8 = 1883.29042\n",
      "Epoch     7: reducing learning rate of group 0 to 1.0000e-03.\n",
      "MSE on validation set: 1922.775576\n",
      "[9,   250] --- Losss = 1603.24420\n",
      "[9,   500] --- Losss = 1565.53945\n",
      "[9,   750] --- Losss = 1541.18003\n",
      "[9,  1000] --- Losss = 1530.94473\n",
      "[9,  1250] --- Losss = 1523.62853\n",
      "[9,  1500] --- Losss = 1516.54999\n",
      "[9,  1750] --- Losss = 1506.87872\n",
      "[9,  2000] --- Losss = 1501.34658\n",
      "[9,  2250] --- Losss = 1494.54602\n",
      "[9,  2500] --- Losss = 1487.40031\n",
      "[9,  2750] --- Losss = 1481.10360\n",
      "[9,  3000] --- Losss = 1475.94713\n",
      "[9,  3250] --- Losss = 1471.98224\n",
      "[9,  3500] --- Losss = 1466.06510\n",
      "[9,  3750] --- Losss = 1462.37845\n",
      "Training loss iteration 9 = 1462.00641\n",
      "MSE on validation set: 1656.097918\n"
     ]
    },
    {
     "name": "stderr",
     "output_type": "stream",
     "text": [
      "Process Process-332:\n",
      "Process Process-331:\n",
      "Process Process-326:\n",
      "Process Process-328:\n",
      "Process Process-330:\n",
      "Process Process-336:\n",
      "Process Process-325:\n",
      "  File \"/home/ubuntu/anaconda3/envs/pytorch_p27/lib/python2.7/site-packages/torch/utils/data/dataloader.py\", line 36, in _worker_loop\n",
      "Process Process-322:\n",
      "Traceback (most recent call last):\n",
      "Process Process-334:\n",
      "Traceback (most recent call last):\n",
      "Traceback (most recent call last):\n",
      "Process Process-333:\n",
      "Process Process-324:\n",
      "Traceback (most recent call last):\n",
      "Traceback (most recent call last):\n",
      "  File \"/home/ubuntu/anaconda3/envs/pytorch_p27/lib/python2.7/multiprocessing/process.py\", line 258, in _bootstrap\n",
      "  File \"/home/ubuntu/anaconda3/envs/pytorch_p27/lib/python2.7/multiprocessing/process.py\", line 258, in _bootstrap\n",
      "  File \"/home/ubuntu/anaconda3/envs/pytorch_p27/lib/python2.7/multiprocessing/process.py\", line 258, in _bootstrap\n",
      "  File \"/home/ubuntu/anaconda3/envs/pytorch_p27/lib/python2.7/multiprocessing/process.py\", line 258, in _bootstrap\n",
      "Traceback (most recent call last):\n",
      "Traceback (most recent call last):\n",
      "Traceback (most recent call last):\n",
      "    self.run()\n",
      "    self.run()\n",
      "  File \"/home/ubuntu/anaconda3/envs/pytorch_p27/lib/python2.7/multiprocessing/process.py\", line 258, in _bootstrap\n",
      "    self.run()\n",
      "  File \"/home/ubuntu/anaconda3/envs/pytorch_p27/lib/python2.7/multiprocessing/process.py\", line 258, in _bootstrap\n",
      "Traceback (most recent call last):\n",
      "  File \"/home/ubuntu/anaconda3/envs/pytorch_p27/lib/python2.7/multiprocessing/process.py\", line 114, in run\n",
      "  File \"/home/ubuntu/anaconda3/envs/pytorch_p27/lib/python2.7/multiprocessing/process.py\", line 114, in run\n",
      "  File \"/home/ubuntu/anaconda3/envs/pytorch_p27/lib/python2.7/multiprocessing/process.py\", line 258, in _bootstrap\n",
      "    self._target(*self._args, **self._kwargs)\n",
      "Traceback (most recent call last):\n",
      "    self._target(*self._args, **self._kwargs)\n",
      "    self.run()\n",
      "  File \"/home/ubuntu/anaconda3/envs/pytorch_p27/lib/python2.7/multiprocessing/process.py\", line 114, in run\n",
      "Process Process-335:\n",
      "Process Process-321:\n",
      "Process Process-329:\n",
      "Process Process-323:\n",
      "Process Process-327:\n",
      "  File \"/home/ubuntu/anaconda3/envs/pytorch_p27/lib/python2.7/site-packages/torch/utils/data/dataloader.py\", line 36, in _worker_loop\n",
      "  File \"/home/ubuntu/anaconda3/envs/pytorch_p27/lib/python2.7/site-packages/torch/utils/data/dataloader.py\", line 36, in _worker_loop\n",
      "  File \"/home/ubuntu/anaconda3/envs/pytorch_p27/lib/python2.7/multiprocessing/process.py\", line 258, in _bootstrap\n",
      "    self.run()\n",
      "    self._target(*self._args, **self._kwargs)\n",
      "    r = index_queue.get()\n",
      "  File \"/home/ubuntu/anaconda3/envs/pytorch_p27/lib/python2.7/multiprocessing/process.py\", line 258, in _bootstrap\n",
      "    self.run()\n",
      "  File \"/home/ubuntu/anaconda3/envs/pytorch_p27/lib/python2.7/site-packages/torch/utils/data/dataloader.py\", line 36, in _worker_loop\n",
      "Traceback (most recent call last):\n",
      "Traceback (most recent call last):\n",
      "  File \"/home/ubuntu/anaconda3/envs/pytorch_p27/lib/python2.7/multiprocessing/queues.py\", line 376, in get\n",
      "    r = index_queue.get()\n",
      "  File \"/home/ubuntu/anaconda3/envs/pytorch_p27/lib/python2.7/multiprocessing/process.py\", line 114, in run\n",
      "    self.run()\n",
      "  File \"/home/ubuntu/anaconda3/envs/pytorch_p27/lib/python2.7/multiprocessing/process.py\", line 114, in run\n",
      "    racquire()\n",
      "    self.run()\n",
      "    self._target(*self._args, **self._kwargs)\n",
      "  File \"/home/ubuntu/anaconda3/envs/pytorch_p27/lib/python2.7/multiprocessing/process.py\", line 258, in _bootstrap\n",
      "    self._target(*self._args, **self._kwargs)\n",
      "KeyboardInterrupt\n",
      "  File \"/home/ubuntu/anaconda3/envs/pytorch_p27/lib/python2.7/multiprocessing/process.py\", line 258, in _bootstrap\n",
      "  File \"/home/ubuntu/anaconda3/envs/pytorch_p27/lib/python2.7/multiprocessing/process.py\", line 258, in _bootstrap\n",
      "    self.run()\n",
      "Traceback (most recent call last):\n",
      "  File \"/home/ubuntu/anaconda3/envs/pytorch_p27/lib/python2.7/multiprocessing/queues.py\", line 376, in get\n",
      "    self.run()\n",
      "  File \"/home/ubuntu/anaconda3/envs/pytorch_p27/lib/python2.7/site-packages/torch/utils/data/dataloader.py\", line 36, in _worker_loop\n",
      "  File \"/home/ubuntu/anaconda3/envs/pytorch_p27/lib/python2.7/site-packages/torch/utils/data/dataloader.py\", line 36, in _worker_loop\n",
      "    self.run()\n",
      "  File \"/home/ubuntu/anaconda3/envs/pytorch_p27/lib/python2.7/multiprocessing/process.py\", line 114, in run\n",
      "    r = index_queue.get()\n",
      "Traceback (most recent call last):\n",
      "Traceback (most recent call last):\n",
      "  File \"/home/ubuntu/anaconda3/envs/pytorch_p27/lib/python2.7/multiprocessing/process.py\", line 114, in run\n",
      "  File \"/home/ubuntu/anaconda3/envs/pytorch_p27/lib/python2.7/multiprocessing/process.py\", line 114, in run\n",
      "    self.run()\n",
      "  File \"/home/ubuntu/anaconda3/envs/pytorch_p27/lib/python2.7/multiprocessing/process.py\", line 114, in run\n",
      "    r = index_queue.get()\n",
      "Traceback (most recent call last):\n",
      "    racquire()\n",
      "  File \"/home/ubuntu/anaconda3/envs/pytorch_p27/lib/python2.7/multiprocessing/process.py\", line 114, in run\n",
      "  File \"/home/ubuntu/anaconda3/envs/pytorch_p27/lib/python2.7/multiprocessing/queues.py\", line 376, in get\n",
      "  File \"/home/ubuntu/anaconda3/envs/pytorch_p27/lib/python2.7/multiprocessing/process.py\", line 258, in _bootstrap\n",
      "    self._target(*self._args, **self._kwargs)\n",
      "  File \"/home/ubuntu/anaconda3/envs/pytorch_p27/lib/python2.7/multiprocessing/process.py\", line 114, in run\n",
      "    r = index_queue.get()\n",
      "  File \"/home/ubuntu/anaconda3/envs/pytorch_p27/lib/python2.7/multiprocessing/process.py\", line 258, in _bootstrap\n",
      "  File \"/home/ubuntu/anaconda3/envs/pytorch_p27/lib/python2.7/multiprocessing/process.py\", line 114, in run\n",
      "    self._target(*self._args, **self._kwargs)\n",
      "  File \"/home/ubuntu/anaconda3/envs/pytorch_p27/lib/python2.7/multiprocessing/process.py\", line 258, in _bootstrap\n",
      "  File \"/home/ubuntu/anaconda3/envs/pytorch_p27/lib/python2.7/multiprocessing/queues.py\", line 376, in get\n",
      "KeyboardInterrupt\n",
      "    self._target(*self._args, **self._kwargs)\n",
      "    self._target(*self._args, **self._kwargs)\n",
      "    racquire()\n",
      "  File \"/home/ubuntu/anaconda3/envs/pytorch_p27/lib/python2.7/site-packages/torch/utils/data/dataloader.py\", line 36, in _worker_loop\n",
      "    self.run()\n",
      "  File \"/home/ubuntu/anaconda3/envs/pytorch_p27/lib/python2.7/multiprocessing/queues.py\", line 376, in get\n",
      "    self._target(*self._args, **self._kwargs)\n",
      "    self.run()\n",
      "  File \"/home/ubuntu/anaconda3/envs/pytorch_p27/lib/python2.7/multiprocessing/process.py\", line 258, in _bootstrap\n",
      "    self._target(*self._args, **self._kwargs)\n",
      "    self._target(*self._args, **self._kwargs)\n",
      "  File \"/home/ubuntu/anaconda3/envs/pytorch_p27/lib/python2.7/site-packages/torch/utils/data/dataloader.py\", line 36, in _worker_loop\n",
      "    self.run()\n",
      "  File \"/home/ubuntu/anaconda3/envs/pytorch_p27/lib/python2.7/site-packages/torch/utils/data/dataloader.py\", line 36, in _worker_loop\n",
      "    racquire()\n",
      "  File \"/home/ubuntu/anaconda3/envs/pytorch_p27/lib/python2.7/multiprocessing/process.py\", line 114, in run\n",
      "    racquire()\n",
      "KeyboardInterrupt\n",
      "    r = index_queue.get()\n",
      "  File \"/home/ubuntu/anaconda3/envs/pytorch_p27/lib/python2.7/multiprocessing/process.py\", line 114, in run\n",
      "KeyboardInterrupt\n",
      "  File \"/home/ubuntu/anaconda3/envs/pytorch_p27/lib/python2.7/site-packages/torch/utils/data/dataloader.py\", line 36, in _worker_loop\n",
      "  File \"/home/ubuntu/anaconda3/envs/pytorch_p27/lib/python2.7/multiprocessing/process.py\", line 114, in run\n",
      "  File \"/home/ubuntu/anaconda3/envs/pytorch_p27/lib/python2.7/site-packages/torch/utils/data/dataloader.py\", line 36, in _worker_loop\n",
      "    r = index_queue.get()\n",
      "    self._target(*self._args, **self._kwargs)\n",
      "    r = index_queue.get()\n",
      "    self._target(*self._args, **self._kwargs)\n",
      "KeyboardInterrupt\n",
      "  File \"/home/ubuntu/anaconda3/envs/pytorch_p27/lib/python2.7/multiprocessing/queues.py\", line 376, in get\n",
      "    racquire()\n",
      "  File \"/home/ubuntu/anaconda3/envs/pytorch_p27/lib/python2.7/site-packages/torch/utils/data/dataloader.py\", line 36, in _worker_loop\n",
      "    self.run()\n",
      "    r = index_queue.get()\n",
      "KeyboardInterrupt\n",
      "    r = index_queue.get()\n",
      "  File \"/home/ubuntu/anaconda3/envs/pytorch_p27/lib/python2.7/multiprocessing/queues.py\", line 376, in get\n",
      "  File \"/home/ubuntu/anaconda3/envs/pytorch_p27/lib/python2.7/site-packages/torch/utils/data/dataloader.py\", line 36, in _worker_loop\n",
      "  File \"/home/ubuntu/anaconda3/envs/pytorch_p27/lib/python2.7/multiprocessing/queues.py\", line 376, in get\n"
     ]
    },
    {
     "name": "stderr",
     "output_type": "stream",
     "text": [
      "    r = index_queue.get()\n",
      "    self._target(*self._args, **self._kwargs)\n",
      "  File \"/home/ubuntu/anaconda3/envs/pytorch_p27/lib/python2.7/multiprocessing/process.py\", line 114, in run\n",
      "  File \"/home/ubuntu/anaconda3/envs/pytorch_p27/lib/python2.7/multiprocessing/queues.py\", line 376, in get\n",
      "    r = index_queue.get()\n",
      "    self._target(*self._args, **self._kwargs)\n",
      "    racquire()\n",
      "  File \"/home/ubuntu/anaconda3/envs/pytorch_p27/lib/python2.7/site-packages/torch/utils/data/dataloader.py\", line 36, in _worker_loop\n",
      "  File \"/home/ubuntu/anaconda3/envs/pytorch_p27/lib/python2.7/multiprocessing/queues.py\", line 376, in get\n",
      "    r = index_queue.get()\n",
      "  File \"/home/ubuntu/anaconda3/envs/pytorch_p27/lib/python2.7/site-packages/torch/utils/data/dataloader.py\", line 36, in _worker_loop\n",
      "    racquire()\n",
      "    r = index_queue.get()\n",
      "    racquire()\n",
      "    r = index_queue.get()\n",
      "KeyboardInterrupt\n",
      "    racquire()\n",
      "  File \"/home/ubuntu/anaconda3/envs/pytorch_p27/lib/python2.7/site-packages/torch/utils/data/dataloader.py\", line 36, in _worker_loop\n",
      "  File \"/home/ubuntu/anaconda3/envs/pytorch_p27/lib/python2.7/multiprocessing/queues.py\", line 376, in get\n",
      "  File \"/home/ubuntu/anaconda3/envs/pytorch_p27/lib/python2.7/multiprocessing/queues.py\", line 376, in get\n",
      "KeyboardInterrupt\n",
      "  File \"/home/ubuntu/anaconda3/envs/pytorch_p27/lib/python2.7/multiprocessing/queues.py\", line 378, in get\n",
      "  File \"/home/ubuntu/anaconda3/envs/pytorch_p27/lib/python2.7/multiprocessing/queues.py\", line 376, in get\n",
      "    r = index_queue.get()\n",
      "    racquire()\n",
      "KeyboardInterrupt\n",
      "KeyboardInterrupt\n",
      "    return recv()\n",
      "  File \"/home/ubuntu/anaconda3/envs/pytorch_p27/lib/python2.7/multiprocessing/queues.py\", line 376, in get\n",
      "  File \"/home/ubuntu/anaconda3/envs/pytorch_p27/lib/python2.7/multiprocessing/queues.py\", line 376, in get\n",
      "KeyboardInterrupt\n",
      "    racquire()\n",
      "    racquire()\n",
      "    racquire()\n",
      "  File \"/home/ubuntu/anaconda3/envs/pytorch_p27/lib/python2.7/site-packages/torch/multiprocessing/queue.py\", line 21, in recv\n",
      "    racquire()\n",
      "KeyboardInterrupt\n",
      "    buf = self.recv_bytes()\n",
      "KeyboardInterrupt\n"
     ]
    },
    {
     "ename": "KeyboardInterrupt",
     "evalue": "",
     "output_type": "error",
     "traceback": [
      "\u001b[0;31m\u001b[0m",
      "\u001b[0;31mKeyboardInterrupt\u001b[0mTraceback (most recent call last)",
      "\u001b[0;32m<ipython-input-39-28a7641443ea>\u001b[0m in \u001b[0;36m<module>\u001b[0;34m()\u001b[0m\n\u001b[0;32m----> 1\u001b[0;31m \u001b[0;34m(\u001b[0m\u001b[0mtrained_net\u001b[0m\u001b[0;34m,\u001b[0m \u001b[0mtraining_losses\u001b[0m\u001b[0;34m,\u001b[0m \u001b[0mvalidation_losses\u001b[0m\u001b[0;34m)\u001b[0m \u001b[0;34m=\u001b[0m \u001b[0mtrain\u001b[0m\u001b[0;34m(\u001b[0m\u001b[0mnet\u001b[0m\u001b[0;34m,\u001b[0m \u001b[0mtrainloader\u001b[0m\u001b[0;34m,\u001b[0m \u001b[0mvaliloader\u001b[0m\u001b[0;34m,\u001b[0m \u001b[0mtraining_losses\u001b[0m\u001b[0;34m,\u001b[0m \u001b[0mvalidation_losses\u001b[0m\u001b[0;34m,\u001b[0m \u001b[0moptimizer\u001b[0m\u001b[0;34m,\u001b[0m \u001b[0mcriterion\u001b[0m\u001b[0;34m,\u001b[0m \u001b[0mscheduler\u001b[0m\u001b[0;34m,\u001b[0m \u001b[0;36m15\u001b[0m\u001b[0;34m)\u001b[0m\u001b[0;34m\u001b[0m\u001b[0m\n\u001b[0m",
      "\u001b[0;32m<ipython-input-19-f49c2b85d9a1>\u001b[0m in \u001b[0;36mtrain\u001b[0;34m(net, trainloader, valiloader, training_losses, validation_losses, optimizer, criterion, scheduler, epochs)\u001b[0m\n\u001b[1;32m     17\u001b[0m             \u001b[0;31m# forward + backward + optimize/update weights\u001b[0m\u001b[0;34m\u001b[0m\u001b[0;34m\u001b[0m\u001b[0m\n\u001b[1;32m     18\u001b[0m             \u001b[0moutputs\u001b[0m \u001b[0;34m=\u001b[0m \u001b[0mnet\u001b[0m\u001b[0;34m(\u001b[0m\u001b[0minputs\u001b[0m\u001b[0;34m)\u001b[0m\u001b[0;34m\u001b[0m\u001b[0m\n\u001b[0;32m---> 19\u001b[0;31m             \u001b[0mloss\u001b[0m \u001b[0;34m=\u001b[0m \u001b[0mcriterion\u001b[0m\u001b[0;34m(\u001b[0m\u001b[0moutputs\u001b[0m\u001b[0;34m,\u001b[0m \u001b[0mlabels\u001b[0m\u001b[0;34m)\u001b[0m\u001b[0;34m\u001b[0m\u001b[0m\n\u001b[0m\u001b[1;32m     20\u001b[0m             \u001b[0mloss\u001b[0m\u001b[0;34m.\u001b[0m\u001b[0mbackward\u001b[0m\u001b[0;34m(\u001b[0m\u001b[0;34m)\u001b[0m\u001b[0;34m\u001b[0m\u001b[0m\n\u001b[1;32m     21\u001b[0m             \u001b[0moptimizer\u001b[0m\u001b[0;34m.\u001b[0m\u001b[0mstep\u001b[0m\u001b[0;34m(\u001b[0m\u001b[0;34m)\u001b[0m\u001b[0;34m\u001b[0m\u001b[0m\n",
      "\u001b[0;32m/home/ubuntu/anaconda3/envs/pytorch_p27/lib/python2.7/site-packages/torch/nn/modules/module.pyc\u001b[0m in \u001b[0;36m__call__\u001b[0;34m(self, *input, **kwargs)\u001b[0m\n\u001b[1;32m    323\u001b[0m         \u001b[0;32mfor\u001b[0m \u001b[0mhook\u001b[0m \u001b[0;32min\u001b[0m \u001b[0mself\u001b[0m\u001b[0;34m.\u001b[0m\u001b[0m_forward_pre_hooks\u001b[0m\u001b[0;34m.\u001b[0m\u001b[0mvalues\u001b[0m\u001b[0;34m(\u001b[0m\u001b[0;34m)\u001b[0m\u001b[0;34m:\u001b[0m\u001b[0;34m\u001b[0m\u001b[0m\n\u001b[1;32m    324\u001b[0m             \u001b[0mhook\u001b[0m\u001b[0;34m(\u001b[0m\u001b[0mself\u001b[0m\u001b[0;34m,\u001b[0m \u001b[0minput\u001b[0m\u001b[0;34m)\u001b[0m\u001b[0;34m\u001b[0m\u001b[0m\n\u001b[0;32m--> 325\u001b[0;31m         \u001b[0mresult\u001b[0m \u001b[0;34m=\u001b[0m \u001b[0mself\u001b[0m\u001b[0;34m.\u001b[0m\u001b[0mforward\u001b[0m\u001b[0;34m(\u001b[0m\u001b[0;34m*\u001b[0m\u001b[0minput\u001b[0m\u001b[0;34m,\u001b[0m \u001b[0;34m**\u001b[0m\u001b[0mkwargs\u001b[0m\u001b[0;34m)\u001b[0m\u001b[0;34m\u001b[0m\u001b[0m\n\u001b[0m\u001b[1;32m    326\u001b[0m         \u001b[0;32mfor\u001b[0m \u001b[0mhook\u001b[0m \u001b[0;32min\u001b[0m \u001b[0mself\u001b[0m\u001b[0;34m.\u001b[0m\u001b[0m_forward_hooks\u001b[0m\u001b[0;34m.\u001b[0m\u001b[0mvalues\u001b[0m\u001b[0;34m(\u001b[0m\u001b[0;34m)\u001b[0m\u001b[0;34m:\u001b[0m\u001b[0;34m\u001b[0m\u001b[0m\n\u001b[1;32m    327\u001b[0m             \u001b[0mhook_result\u001b[0m \u001b[0;34m=\u001b[0m \u001b[0mhook\u001b[0m\u001b[0;34m(\u001b[0m\u001b[0mself\u001b[0m\u001b[0;34m,\u001b[0m \u001b[0minput\u001b[0m\u001b[0;34m,\u001b[0m \u001b[0mresult\u001b[0m\u001b[0;34m)\u001b[0m\u001b[0;34m\u001b[0m\u001b[0m\n",
      "\u001b[0;32m/home/ubuntu/anaconda3/envs/pytorch_p27/lib/python2.7/site-packages/torch/nn/modules/loss.pyc\u001b[0m in \u001b[0;36mforward\u001b[0;34m(self, input, target)\u001b[0m\n\u001b[1;32m    327\u001b[0m     \u001b[0;32mdef\u001b[0m \u001b[0mforward\u001b[0m\u001b[0;34m(\u001b[0m\u001b[0mself\u001b[0m\u001b[0;34m,\u001b[0m \u001b[0minput\u001b[0m\u001b[0;34m,\u001b[0m \u001b[0mtarget\u001b[0m\u001b[0;34m)\u001b[0m\u001b[0;34m:\u001b[0m\u001b[0;34m\u001b[0m\u001b[0m\n\u001b[1;32m    328\u001b[0m         \u001b[0m_assert_no_grad\u001b[0m\u001b[0;34m(\u001b[0m\u001b[0mtarget\u001b[0m\u001b[0;34m)\u001b[0m\u001b[0;34m\u001b[0m\u001b[0m\n\u001b[0;32m--> 329\u001b[0;31m         \u001b[0;32mreturn\u001b[0m \u001b[0mF\u001b[0m\u001b[0;34m.\u001b[0m\u001b[0mmse_loss\u001b[0m\u001b[0;34m(\u001b[0m\u001b[0minput\u001b[0m\u001b[0;34m,\u001b[0m \u001b[0mtarget\u001b[0m\u001b[0;34m,\u001b[0m \u001b[0msize_average\u001b[0m\u001b[0;34m=\u001b[0m\u001b[0mself\u001b[0m\u001b[0;34m.\u001b[0m\u001b[0msize_average\u001b[0m\u001b[0;34m,\u001b[0m \u001b[0mreduce\u001b[0m\u001b[0;34m=\u001b[0m\u001b[0mself\u001b[0m\u001b[0;34m.\u001b[0m\u001b[0mreduce\u001b[0m\u001b[0;34m)\u001b[0m\u001b[0;34m\u001b[0m\u001b[0m\n\u001b[0m\u001b[1;32m    330\u001b[0m \u001b[0;34m\u001b[0m\u001b[0m\n\u001b[1;32m    331\u001b[0m \u001b[0;34m\u001b[0m\u001b[0m\n",
      "\u001b[0;31mKeyboardInterrupt\u001b[0m: "
     ]
    },
    {
     "name": "stderr",
     "output_type": "stream",
     "text": [
      "KeyboardInterrupt\n",
      "KeyboardInterrupt\n",
      "KeyboardInterrupt\n"
     ]
    }
   ],
   "source": [
    "(trained_net, training_losses, validation_losses) = train(net, trainloader, valiloader, training_losses, validation_losses, optimizer, criterion, scheduler, 15)"
   ]
  },
  {
   "cell_type": "code",
   "execution_count": 40,
   "metadata": {},
   "outputs": [
    {
     "data": {
      "image/png": "[encoded data removed]",
      "text/plain": [
       "<matplotlib.figure.Figure at 0x7ff0a38cec90>"
      ]
     },
     "metadata": {},
     "output_type": "display_data"
    }
   ],
   "source": [
    "plt_losses(training_losses, validation_losses)"
   ]
  },
  {
   "cell_type": "markdown",
   "metadata": {},
   "source": [
    "### Calculate the test error - Random patches"
   ]
  },
  {
   "cell_type": "code",
   "execution_count": 42,
   "metadata": {},
   "outputs": [
    {
     "name": "stdout",
     "output_type": "stream",
     "text": [
      "250\n",
      "500\n",
      "750\n"
     ]
    }
   ],
   "source": [
    "# Calculate the error between the predicted voxel values and target1 -- this is from registered scan 1 of the output\n",
    "\n",
    "# First convert the testing targets to numpy arrays\n",
    "testing_target1_nump = np.asarray(testing_target1)\n",
    "testing_target2_nump = np.asarray(testing_target2)\n",
    "\n",
    "# Get the predicted voxel values of the test set\n",
    "test_predictions = get_predictions(net, testloader)"
   ]
  },
  {
   "cell_type": "code",
   "execution_count": 43,
   "metadata": {},
   "outputs": [
    {
     "name": "stdout",
     "output_type": "stream",
     "text": [
      "\n",
      "----------------------------\n",
      "MSE on test patches: 1670.522583\n",
      "Mean absolute loss on test patches: 26.317799\n",
      "R2 loss on test patches (Coefficient of determination): 0.955790\n",
      "Percentage of predictions within target range: 31.572145\n"
     ]
    }
   ],
   "source": [
    "get_errors(test_predictions, testing_target1_nump, testing_target2_nump, \"patches\")"
   ]
  },
  {
   "cell_type": "code",
   "execution_count": 44,
   "metadata": {},
   "outputs": [
    {
     "name": "stdout",
     "output_type": "stream",
     "text": [
      "\n",
      "----------------------------\n",
      "MSE between targets: 2383.604248\n",
      "Mean absolute loss between targets: 28.584316\n",
      "R2 loss between targets (Coefficient of determination): 0.936919\n"
     ]
    }
   ],
   "source": [
    "get_errors_between_targets(testing_target1_nump, testing_target2_nump, \"patches\")"
   ]
  },
  {
   "cell_type": "code",
   "execution_count": 45,
   "metadata": {},
   "outputs": [
    {
     "data": {
      "image/png": "[encoded data removed]",
      "text/plain": [
       "<matplotlib.figure.Figure at 0x7ff111bdb090>"
      ]
     },
     "metadata": {},
     "output_type": "display_data"
    }
   ],
   "source": [
    "bland_altman_plot(test_predictions, testing_target1_nump, testing_target2_nump)"
   ]
  },
  {
   "cell_type": "code",
   "execution_count": 46,
   "metadata": {},
   "outputs": [
    {
     "data": {
      "image/png": "[encoded data removed]",
      "text/plain": [
       "<matplotlib.figure.Figure at 0x7ff111a983d0>"
      ]
     },
     "metadata": {},
     "output_type": "display_data"
    }
   ],
   "source": [
    "plot_predicted(test_predictions, testing_target1_nump, testing_target2_nump)"
   ]
  },
  {
   "cell_type": "markdown",
   "metadata": {},
   "source": [
    "### Calculate the error on the final testing scan"
   ]
  },
  {
   "cell_type": "code",
   "execution_count": 48,
   "metadata": {},
   "outputs": [
    {
     "name": "stdout",
     "output_type": "stream",
     "text": [
      "250\n",
      "500\n",
      "750\n",
      "1000\n",
      "1250\n",
      "1500\n",
      "1750\n",
      "2000\n",
      "2250\n",
      "2500\n",
      "2750\n",
      "3000\n",
      "3250\n",
      "3500\n"
     ]
    }
   ],
   "source": [
    "final_test_predictions = get_predictions(net, final_test_loader)"
   ]
  },
  {
   "cell_type": "code",
   "execution_count": 49,
   "metadata": {},
   "outputs": [],
   "source": [
    "final_predicted_brains = reconstruct_brain(final_test_predictions, final_test_inp)"
   ]
  },
  {
   "cell_type": "code",
   "execution_count": 50,
   "metadata": {},
   "outputs": [
    {
     "name": "stdout",
     "output_type": "stream",
     "text": [
      "\n",
      "--------------Scan 1---------------\n",
      "MSE on test scan: 542.986328\n",
      "Mean absolute loss on test scan: 10.907972\n",
      "R2 loss on test scan (Coefficient of determination): 0.987822\n",
      "Percentage of predictions within target range: 69.194627\n",
      "\n",
      "--------------Scan 2---------------\n",
      "MSE on test scan: 1563.626099\n",
      "Mean absolute loss on test scan: 17.370667\n",
      "R2 loss on test scan (Coefficient of determination): 0.963289\n",
      "Percentage of predictions within target range: 65.020321\n",
      "\n",
      "--------------Scan 3---------------\n",
      "MSE on test scan: 1417.940674\n",
      "Mean absolute loss on test scan: 16.981108\n",
      "R2 loss on test scan (Coefficient of determination): 0.966915\n",
      "Percentage of predictions within target range: 65.410628\n",
      "\n",
      "--------------Scan 4---------------\n",
      "MSE on test scan: 2812.837646\n",
      "Mean absolute loss on test scan: 21.716278\n",
      "R2 loss on test scan (Coefficient of determination): 0.933779\n",
      "Percentage of predictions within target range: 65.623797\n",
      "\n",
      "--------------Scan 5---------------\n",
      "MSE on test scan: 2821.066895\n",
      "Mean absolute loss on test scan: 23.694660\n",
      "R2 loss on test scan (Coefficient of determination): 0.937226\n",
      "Percentage of predictions within target range: 64.524691\n",
      "\n",
      "------Average of errors across all scans------\n",
      "Avg mse: 1831.691528\n",
      "Avg l1: 18.134137\n",
      "Avg r1: 0.957806\n"
     ]
    }
   ],
   "source": [
    "get_errors(final_predicted_brains, final_test_out1, final_test_out2, \"scan\")"
   ]
  },
  {
   "cell_type": "code",
   "execution_count": 31,
   "metadata": {},
   "outputs": [
    {
     "name": "stdout",
     "output_type": "stream",
     "text": [
      "\n",
      "--------------Scan 1---------------\n",
      "MSE between targets: 2217.234863\n",
      "Mean absolute loss between targets: 18.006639\n",
      "R2 loss between targets (Coefficient of determination): 0.950272\n",
      "\n",
      "--------------Scan 2---------------\n",
      "MSE between targets: 789.372437\n",
      "Mean absolute loss between targets: 12.520751\n",
      "R2 loss between targets (Coefficient of determination): 0.981467\n",
      "\n",
      "--------------Scan 3---------------\n",
      "MSE between targets: 820.377014\n",
      "Mean absolute loss between targets: 12.804914\n",
      "R2 loss between targets (Coefficient of determination): 0.980858\n",
      "\n",
      "--------------Scan 4---------------\n",
      "MSE between targets: 2180.887207\n",
      "Mean absolute loss between targets: 19.055370\n",
      "R2 loss between targets (Coefficient of determination): 0.948657\n",
      "\n",
      "--------------Scan 5---------------\n",
      "MSE between targets: 1640.194946\n",
      "Mean absolute loss between targets: 17.898153\n",
      "R2 loss between targets (Coefficient of determination): 0.963503\n",
      "\n",
      "-------Average of errors--------\n",
      "Avg mse: 1529.613293\n",
      "Avg l1: 16.057166\n",
      "Avg r1: 0.964951\n"
     ]
    }
   ],
   "source": [
    "get_errors_between_targets(final_test_out1, final_test_out2, \"scan\")"
   ]
  },
  {
   "cell_type": "markdown",
   "metadata": {},
   "source": [
    "### Visualise predictions"
   ]
  },
  {
   "cell_type": "code",
   "execution_count": 56,
   "metadata": {},
   "outputs": [
    {
     "data": {
      "image/png": "[encoded data removed]",
      "text/plain": [
       "<matplotlib.figure.Figure at 0x7ff1100607d0>"
      ]
     },
     "metadata": {},
     "output_type": "display_data"
    }
   ],
   "source": [
    "viz_pred(final_test_inp[1], final_predicted_brains[1], final_test_out1[1], 40)"
   ]
  },
  {
   "cell_type": "code",
   "execution_count": 59,
   "metadata": {},
   "outputs": [
    {
     "data": {
      "image/png": "[encoded data removed]",
      "text/plain": [
       "<matplotlib.figure.Figure at 0x7ff1101eb3d0>"
      ]
     },
     "metadata": {},
     "output_type": "display_data"
    }
   ],
   "source": [
    "viz_diff(final_predicted_brains[1], final_test_inp[1], final_test_out1[1], 40)"
   ]
  },
  {
   "cell_type": "markdown",
   "metadata": {},
   "source": [
    "## Save the target and the predicted scans"
   ]
  },
  {
   "cell_type": "code",
   "execution_count": 251,
   "metadata": {
    "collapsed": true
   },
   "outputs": [],
   "source": [
    "save_to = \"/home/ubuntu/project/Dataset/Final_AWS_1\"\n",
    "\n",
    "predicted_scan = nib.Nifti1Image(final_predicted_brain, affine_mat)\n",
    "nib.save(predicted_scan, save_to + \"/Predicted_Subj9Scan2_AWS.nii.gz\" )"
   ]
  },
  {
   "cell_type": "markdown",
   "metadata": {},
   "source": [
    "## Store the model parameters"
   ]
  },
  {
   "cell_type": "code",
   "execution_count": 60,
   "metadata": {},
   "outputs": [],
   "source": [
    "torch.save(net.state_dict(), '/home/ubuntu/project/MRIDataHarmonisation/Development/Model_Params_AWS/Final_Model_RNN.pth') "
   ]
  },
  {
   "cell_type": "markdown",
   "metadata": {},
   "source": [
    "## Load the model parameters"
   ]
  },
  {
   "cell_type": "code",
   "execution_count": 61,
   "metadata": {},
   "outputs": [],
   "source": [
    "trained_net = Net()\n",
    "trained_net.cuda()\n",
    "trained_net.load_state_dict(torch.load('/home/ubuntu/project/MRIDataHarmonisation/Development/Model_Params_AWS/Final_Model_RNN.pth'))"
   ]
  }
 ],
 "metadata": {
  "kernelspec": {
   "display_name": "Python [default]",
   "language": "python",
   "name": "python2"
  },
  "language_info": {
   "codemirror_mode": {
    "name": "ipython",
    "version": 2
   },
   "file_extension": ".py",
   "mimetype": "text/x-python",
   "name": "python",
   "nbconvert_exporter": "python",
   "pygments_lexer": "ipython2",
   "version": "2.7.11"
  }
 },
 "nbformat": 4,
 "nbformat_minor": 2
}
