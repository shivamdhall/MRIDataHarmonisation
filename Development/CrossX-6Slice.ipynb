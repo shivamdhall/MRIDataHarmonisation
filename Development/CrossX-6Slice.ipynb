{
 "cells": [
  {
   "cell_type": "markdown",
   "metadata": {},
   "source": [
    "# CNN - CrossX - 6 Slice"
   ]
  },
  {
   "cell_type": "markdown",
   "metadata": {},
   "source": [
    "Here we develop a CNN that takes as input 6 axial slices of a brain image (PETMR) and predicts the corresponding central axial slice of the TRIO scan. Note we only use b=0 intensity values"
   ]
  },
  {
   "cell_type": "markdown",
   "metadata": {},
   "source": [
    "### Upload the data required"
   ]
  },
  {
   "cell_type": "markdown",
   "metadata": {},
   "source": [
    "We use both scans of subjects 1-8 from the PETMR and TRIO dataset for training.\n",
    "\n",
    "We used the scan of subjects 9-10 also from the PETMR and TRIO dataset for testing."
   ]
  },
  {
   "cell_type": "markdown",
   "metadata": {},
   "source": [
    "## FUNCTIONS"
   ]
  },
  {
   "cell_type": "code",
   "execution_count": 1,
   "metadata": {},
   "outputs": [],
   "source": [
    "import nibabel as nib\n",
    "import numpy as np\n",
    "import matplotlib.pyplot as plt\n",
    "import os\n",
    "%matplotlib inline\n",
    "import sys\n",
    "from dipy.io import read_bvals_bvecs\n",
    "from dipy.core.gradients import gradient_table"
   ]
  },
  {
   "cell_type": "code",
   "execution_count": 2,
   "metadata": {},
   "outputs": [],
   "source": [
    "#this function simply uploads the testing and training scans into lists of numpy arrays\n",
    "#the data is not yet sliced or patched at this stage\n",
    "\n",
    "\n",
    "def get_data(petmr_path, trio_path, test_data_inp, test_data_out, train_data_inp, train_data_out, numb_training_scans, numb_testing_scans):\n",
    "    paths = [petmr_path, trio_path]\n",
    "    for data_path in paths:\n",
    "        if(data_path == petmr_path):\n",
    "            testing_data_store = test_data_inp\n",
    "            training_data_store = train_data_inp\n",
    "        else:\n",
    "            testing_data_store = test_data_out\n",
    "            training_data_store = train_data_out   \n",
    "        count = 0\n",
    "        os.chdir(data_path)\n",
    "        for direc in sorted(os.listdir(os.getcwd()))[1:]:\n",
    "            scan_image = nib.load(str(data_path) + \"/\" + str(direc) + \"/Brain_Extracted.nii.gz\")\n",
    "            scan_data = scan_image.get_data()\n",
    "            #all scans have the same affine mat because registration has already been performed\n",
    "            #we only need it for saving the predictions as a NIfTI file\n",
    "            affine_mat = scan_image.affine\n",
    "            #get b=0 volumes only\n",
    "            bvals_scan, bvecs_scan = read_bvals_bvecs(str(data_path) + \"/\" + str(direc) + \"/NODDI.bval\",\\\n",
    "                                                      str(data_path) + \"/\" + str(direc) + \"/NODDI.bvec\")\n",
    "            gtab_scan = gradient_table(bvals_scan, bvecs_scan, b0_threshold=5)\n",
    "            s0s_scan = scan_data[:, :, :, gtab_scan.b0s_mask]\n",
    "            \n",
    "            if(count < numb_training_scans):\n",
    "                #append this data to the list containing the training data\n",
    "                training_data_store.append(s0s_scan)\n",
    "            else:\n",
    "                print (data_path + direc)\n",
    "                testing_data_store.append(s0s_scan)\n",
    "            count += 1\n",
    "            if(count == (numb_training_scans + numb_testing_scans)):\n",
    "                break\n",
    "    return (training_data_inp, test_data_inp, training_data_out, test_data_out, affine_mat)"
   ]
  },
  {
   "cell_type": "code",
   "execution_count": 3,
   "metadata": {},
   "outputs": [],
   "source": [
    "#It is necessary to pad the data since each scan can be of a different size\n",
    "#This helps with the normalisation of the volumes\n",
    "#Also helps with training and testing because we can use batches (must be same dimensions)\n",
    "\n",
    "#Note we do not pad the depth dimension as we will be using axial slice volumes\n",
    "def pad_data(dataset):\n",
    "    max_width = 0\n",
    "    max_hight = 0\n",
    "    \n",
    "    #iterate through the scans and update the above stats\n",
    "    for scan in dataset:\n",
    "        (width, hight, depth, volume) = scan.shape\n",
    "        if width > max_width:\n",
    "            max_width = width\n",
    "        if hight > max_hight:\n",
    "            max_hight = hight\n",
    "            \n",
    "    #iterate throug the scans again and pad them based on the max stats\n",
    "    for index, scan in enumerate(dataset):\n",
    "        #get padding dimensions\n",
    "        (width, hight, depth, volume) = scan.shape\n",
    "        pad_width = max_width-width\n",
    "        pad_hight = max_hight-hight\n",
    "        \n",
    "        pad_w_b = pad_width/2\n",
    "        pad_w_a = pad_width-pad_w_b\n",
    "        \n",
    "        pad_h_b = pad_hight/2\n",
    "        pad_h_a = pad_hight-pad_h_b\n",
    "        \n",
    "        padding = ((pad_w_b, pad_w_a), (pad_h_b, pad_h_a), (0,0), (0,0))\n",
    "        aug_scan = np.pad(scan, padding, mode='constant', constant_values=0)\n",
    "        dataset[index] = aug_scan\n",
    "    return dataset"
   ]
  },
  {
   "cell_type": "code",
   "execution_count": 4,
   "metadata": {},
   "outputs": [],
   "source": [
    "#This function appends to a list each slice from a scan.\n",
    "#This is done for all volumes of a scan (for both the inputs and targets)\n",
    "\n",
    "def slicify(data_scan_inp, data_scan_out, slice_store_inputs, slice_store_targets, numb_slices):\n",
    "    (x,y,z,v) = data_scan_inp.shape\n",
    "    for volume in range(v):\n",
    "        for i in range(0,z):\n",
    "            #check that there exists a x slice below and above\n",
    "            difference_below = numb_slices-i\n",
    "            difference_above = z-i-1 #-1 so we can use 0\n",
    "            if(difference_below > 0):\n",
    "                #not enough slices below\n",
    "                slice_store_inputs.append(np.concatenate((np.zeros((x,y,difference_below)), data_scan_inp[:, :, 0:i+1+numb_slices, volume]), axis=2))\n",
    "            elif(difference_above < numb_slices):\n",
    "                #not enough slices above\n",
    "                slice_store_inputs.append(np.concatenate((data_scan_inp[:, :, i-numb_slices:z, volume], np.zeros((x,y,numb_slices-difference_above))), axis=2))\n",
    "            else:\n",
    "                slice_store_inputs.append(data_scan_inp[:, :, i-numb_slices:i+1+numb_slices, volume])\n",
    "            slice_store_targets.append(data_scan_out[:, :, i, volume])\n",
    "    return (slice_store_inputs, slice_store_targets)\n",
    "\n"
   ]
  },
  {
   "cell_type": "code",
   "execution_count": 5,
   "metadata": {},
   "outputs": [],
   "source": [
    "def normalise(dataset, mean=None, std=None):\n",
    "    data_array = np.array(dataset)\n",
    "    if mean==None and std==None:\n",
    "        #This is the training data\n",
    "        mean = np.mean(data_array)\n",
    "        std = np.std(data_array)\n",
    "    #normalise the data\n",
    "    data_array = (data_array - mean)/std\n",
    "    return (data_array, mean, std)"
   ]
  },
  {
   "cell_type": "code",
   "execution_count": 6,
   "metadata": {},
   "outputs": [],
   "source": [
    "def viz_data(input_data, target_data, volume):\n",
    "    plt.figure\n",
    "    plt.subplot(2, 7, 1).set_axis_off()\n",
    "    plt.imshow(input_data[volume][:, :, 0].T, cmap='gray', origin='lower')\n",
    "    plt.title(\"-3\")\n",
    "    plt.subplot(2, 7, 2).set_axis_off()\n",
    "    plt.imshow(input_data[volume][:,:, 1].T, cmap='gray', origin='lower')\n",
    "    plt.title(\"-2\")\n",
    "    plt.subplot(2, 7, 3).set_axis_off()\n",
    "    plt.imshow(input_data[volume][:,:, 2].T, cmap='gray', origin='lower')\n",
    "    plt.title(\"-1\")\n",
    "    plt.subplot(2, 7, 4).set_axis_off()\n",
    "    plt.imshow(input_data[volume][:, :, 3].T, cmap='gray', origin='lower')\n",
    "    plt.title(\"0\")\n",
    "    plt.subplot(2, 7, 5).set_axis_off()\n",
    "    plt.imshow(input_data[volume][:,:, 4].T, cmap='gray', origin='lower')\n",
    "    plt.title(\"1\")\n",
    "    plt.subplot(2, 7, 6).set_axis_off()\n",
    "    plt.imshow(input_data[volume][:,:, 5].T, cmap='gray', origin='lower')\n",
    "    plt.title(\"2\")\n",
    "    plt.subplot(2, 7, 7).set_axis_off()\n",
    "    plt.imshow(input_data[volume][:,:, 6].T, cmap='gray', origin='lower')\n",
    "    plt.title(\"3\")\n",
    "    plt.subplot(2, 7, 11).set_axis_off()\n",
    "    plt.imshow(target_data[volume][:,:].T, cmap='gray', origin='lower')\n",
    "    plt.title(\"Target\")\n",
    "    "
   ]
  },
  {
   "cell_type": "code",
   "execution_count": 34,
   "metadata": {},
   "outputs": [],
   "source": [
    "def viz_pred(inputs, predictions, labels, sliceNo):\n",
    "    plt.figure\n",
    "    plt.figure(figsize=(10,10))\n",
    "    plt.subplot(1, 3, 1).set_axis_off()\n",
    "    plt.imshow(inputs[:,:,3,0,sliceNo].T, cmap='gray', origin='lower')\n",
    "    plt.title(\"0\")\n",
    "                      \n",
    "    plt.subplot(1, 3, 2).set_axis_off()\n",
    "    plt.imshow(predictions[:,:,0,0,sliceNo].T, cmap='gray', origin='lower')\n",
    "    plt.title(\"Predicted\")\n",
    "                      \n",
    "    plt.subplot(1, 3, 3).set_axis_off()\n",
    "    plt.imshow(labels[:,:,0,0,sliceNo].T, cmap='gray', origin='lower')\n",
    "    plt.title(\"Target\")\n",
    "    plt.show()"
   ]
  },
  {
   "cell_type": "markdown",
   "metadata": {},
   "source": [
    "-------------------------------------------------------------------------------------------------------\n",
    "---\n",
    "\n",
    "-------------------------------------------------------------------------------------------------------\n",
    "---\n",
    "\n"
   ]
  },
  {
   "cell_type": "markdown",
   "metadata": {},
   "source": [
    "#### Upload the data"
   ]
  },
  {
   "cell_type": "code",
   "execution_count": 9,
   "metadata": {},
   "outputs": [
    {
     "name": "stdout",
     "output_type": "stream",
     "text": [
      "/home/ubuntu/project/Dataset/PETMR_dataSubj8Scan1\n",
      "/home/ubuntu/project/Dataset/PETMR_dataSubj8Scan2\n",
      "/home/ubuntu/project/Dataset/PETMR_dataSubj9Scan1\n",
      "/home/ubuntu/project/Dataset/PETMR_dataSubj9Scan2\n",
      "/home/ubuntu/project/Dataset/TRIO_dataSubj8Scan1\n",
      "/home/ubuntu/project/Dataset/TRIO_dataSubj8Scan2\n",
      "/home/ubuntu/project/Dataset/TRIO_dataSubj9Scan1\n",
      "/home/ubuntu/project/Dataset/TRIO_dataSubj9Scan2\n",
      "Number of scans used for training input: 16\n",
      "Number of scans used for training output: 16\n",
      "Number of scans used for testing input: 4\n",
      "Number of scans used for testing output: 4\n"
     ]
    }
   ],
   "source": [
    "#upload the data\n",
    "petmr_data_path = '/home/ubuntu/project/Dataset/PETMR_data'\n",
    "trio_data_path = '/home/ubuntu/project/Dataset/TRIO_data'\n",
    "training_data_inp = []\n",
    "testing_data_inp = []\n",
    "training_data_out = []\n",
    "testing_data_out = []\n",
    "\n",
    "(training_data_inp, testing_data_inp, training_data_out, testing_data_out, affine_mat) = get_data(petmr_data_path, trio_data_path, testing_data_inp, \\\n",
    "                                                     testing_data_out, training_data_inp, training_data_out, 16, 4)\n",
    "\n",
    "print (\"Number of scans used for training input: %d\" % len(training_data_inp))\n",
    "print (\"Number of scans used for training output: %d\" % len(training_data_out))\n",
    "print (\"Number of scans used for testing input: %d\" % len(testing_data_inp))\n",
    "print (\"Number of scans used for testing output: %d\" % len(testing_data_out))"
   ]
  },
  {
   "cell_type": "markdown",
   "metadata": {},
   "source": [
    "#### Pad the data"
   ]
  },
  {
   "cell_type": "code",
   "execution_count": 10,
   "metadata": {},
   "outputs": [],
   "source": [
    "training_data_inp = pad_data(training_data_inp)\n",
    "training_data_out = pad_data(training_data_out)\n",
    "testing_data_inp = pad_data(testing_data_inp)\n",
    "testing_data_out = pad_data(testing_data_out)"
   ]
  },
  {
   "cell_type": "markdown",
   "metadata": {},
   "source": [
    "#### Slice up the data (Axial slices)"
   ]
  },
  {
   "cell_type": "code",
   "execution_count": 11,
   "metadata": {},
   "outputs": [],
   "source": [
    "training_slices_input = []\n",
    "training_slices_target = []\n",
    "testing_slices_input = []\n",
    "testing_slices_target = []\n",
    "\n",
    "#Set to take 3 slices above and below (total of 7 slices in input)\n",
    "\n",
    "for scan in range(0, len(training_data_inp)):\n",
    "    (training_slices_input, training_slices_target) = slicify(training_data_inp[scan], training_data_out[scan], training_slices_input, training_slices_target, 3)\n",
    "\n",
    "for scan in range(0, len(testing_data_inp)):\n",
    "    (testing_slices_input, testing_slices_target) = slicify(testing_data_inp[scan], testing_data_out[scan], testing_slices_input, testing_slices_target, 3)"
   ]
  },
  {
   "cell_type": "code",
   "execution_count": 12,
   "metadata": {},
   "outputs": [
    {
     "name": "stdout",
     "output_type": "stream",
     "text": [
      "Nember of training examples : 10322\n",
      "Nember of testing examples : 2548\n"
     ]
    }
   ],
   "source": [
    "print (\"Nember of training examples : %d\" % len(training_slices_input))\n",
    "print (\"Nember of testing examples : %d\" % len(testing_slices_input))"
   ]
  },
  {
   "cell_type": "code",
   "execution_count": 13,
   "metadata": {},
   "outputs": [
    {
     "data": {
      "text/plain": [
       "(53, 70, 7)"
      ]
     },
     "execution_count": 13,
     "metadata": {},
     "output_type": "execute_result"
    }
   ],
   "source": [
    "training_slices_input[10].shape"
   ]
  },
  {
   "cell_type": "markdown",
   "metadata": {},
   "source": [
    "#### Visualise the data"
   ]
  },
  {
   "cell_type": "code",
   "execution_count": 14,
   "metadata": {},
   "outputs": [
    {
     "data": {
      "image/png": "[encoded data removed]",
      "text/plain": [
       "<matplotlib.figure.Figure at 0x7fa2c84232d0>"
      ]
     },
     "metadata": {},
     "output_type": "display_data"
    }
   ],
   "source": [
    "viz_data(training_slices_input, training_slices_target, 4540)"
   ]
  },
  {
   "cell_type": "markdown",
   "metadata": {},
   "source": [
    "#### Normalise the training data inputs"
   ]
  },
  {
   "cell_type": "code",
   "execution_count": 15,
   "metadata": {},
   "outputs": [],
   "source": [
    "#These are now numpy arrays\n",
    "training_slices_input, mean, std = normalise(training_slices_input)\n",
    "testing_slices_input, _, _ = normalise(testing_slices_input, mean, std)\n",
    "\n",
    "training_slices_target = np.array(training_slices_target)\n",
    "testing_slices_target = np.array(testing_slices_target)"
   ]
  },
  {
   "cell_type": "markdown",
   "metadata": {},
   "source": [
    "## PYTORCH FUNCTIONS"
   ]
  },
  {
   "cell_type": "code",
   "execution_count": 16,
   "metadata": {},
   "outputs": [],
   "source": [
    "import torch\n",
    "import torchvision\n",
    "import torchvision.transforms as transforms\n",
    "from torch.utils.data import Dataset\n",
    "from torch.utils.data import DataLoader\n",
    "import torch.optim as optim\n",
    "from torch.autograd import Variable\n",
    "import torch.nn as nn\n",
    "import torch.nn.functional as F"
   ]
  },
  {
   "cell_type": "code",
   "execution_count": 17,
   "metadata": {},
   "outputs": [],
   "source": [
    "#create a dataset class for our data\n",
    "\n",
    "class MRIdataset(Dataset):\n",
    "    \"\"\"MRI b=0 dataset for axial slice volumes.\"\"\"\n",
    "\n",
    "    def __init__(self, input_slices, target_slices, transform=None):\n",
    "        \"\"\"\n",
    "        Args:\n",
    "            input_slices: Input slices\n",
    "            target_slices: Corresponding target slice of the input slices\n",
    "            transform (callable, optional): Optional transform to be applied\n",
    "                on a sample.\n",
    "        \"\"\"\n",
    "        self.input_slices = input_slices\n",
    "        self.target_slices = target_slices\n",
    "        self.transform = transform\n",
    "\n",
    "    def __len__(self):\n",
    "        return self.input_slices.shape[0]\n",
    "\n",
    "    def __getitem__(self, idx):\n",
    "        input_slice = self.input_slices[idx]\n",
    "        #Exapnd dims of target to make it have a depth of 1\n",
    "        target_slice = np.expand_dims(self.target_slices[idx], 2)\n",
    "        sample = {'input': input_slice, 'target': target_slice}\n",
    "\n",
    "        if self.transform:\n",
    "            sample = self.transform(sample)\n",
    "\n",
    "        return sample\n"
   ]
  },
  {
   "cell_type": "code",
   "execution_count": 18,
   "metadata": {},
   "outputs": [],
   "source": [
    "class To_Tensor(object):\n",
    "    \"\"\"Convert ndarrays in sample to Tensors.\"\"\"\n",
    "\n",
    "    def __call__(self, sample):\n",
    "        inp, out = sample['input'], sample['target']\n",
    "        \n",
    "        #first expand dimension because torch expects H x W x D x C\n",
    "        #currently we only have H x W x D\n",
    "        aug_inp = np.expand_dims(inp, 3)\n",
    "        aug_out = np.expand_dims(out, 3)\n",
    "\n",
    "        # swap channel axis because\n",
    "        # numpy: H x W x D x C\n",
    "        # torch: C x D x H x W\n",
    "        aug_inp = aug_inp.transpose((3, 2, 0, 1))\n",
    "        aug_out = aug_out.transpose((3, 2, 0, 1))\n",
    "        return {'input': torch.Tensor(aug_inp),\n",
    "                'target': torch.Tensor(aug_out)}\n",
    "\n"
   ]
  },
  {
   "cell_type": "code",
   "execution_count": 19,
   "metadata": {},
   "outputs": [],
   "source": [
    "def train(net, training_dataset, trainloader, losses_list, optimizer, criterion, epochs):\n",
    "    net.train()\n",
    "    for epoch in range(epochs):  # loop over the dataset multiple times\n",
    "\n",
    "        running_loss = 0.0\n",
    "        for i, data in enumerate(trainloader, 0): #done in batches\n",
    "            # get the inputs\n",
    "            inputs = data['input']\n",
    "            labels = data['target']\n",
    "\n",
    "            # wrap them in Variable\n",
    "            inputs, labels = Variable(inputs.cuda()), Variable(labels.cuda())\n",
    "\n",
    "            # zero the parameter gradients\n",
    "            optimizer.zero_grad()\n",
    "\n",
    "            # forward + backward + optimize/update weights\n",
    "            outputs = net(inputs)\n",
    "            loss = criterion(outputs, labels)\n",
    "            loss.backward()\n",
    "            optimizer.step()\n",
    "\n",
    "            # print statistics\n",
    "            running_loss += loss.data[0] #loss is a variable tensor of size 1, we index to get the value out\n",
    "            if i % 250 == 249:    # print every 250 mini-batches\n",
    "                print('[%d, %5d]' % (epoch + 1, i + 1))\n",
    "        total_loss = running_loss / len(training_dataset)\n",
    "        losses_list.append(total_loss)\n",
    "        print('Loss iteration %d = %.5f' % (epoch+1, total_loss ))\n",
    "        '''   \n",
    "        test_error = 0\n",
    "        total = 0\n",
    "        for test_data in testloader: #batch processing\n",
    "            test_inputs = test_data['inp']\n",
    "            test_labels = test_data['out']\n",
    "            total += len(test_labels)\n",
    "\n",
    "            test_outputs = net(Variable(test_inputs))\n",
    "\n",
    "            test_error += (torch.nn.functional.mse_loss(test_outputs.data, test_labels, size_average=False)).data[0]\n",
    "\n",
    "        test_error /= total\n",
    "        print('MSE on test data: %f' % (test_error))\n",
    "        Adam_acc.append(test_error)\n",
    "        '''\n",
    "    print('Finished Training')\n",
    "    return (net, losses_list)"
   ]
  },
  {
   "cell_type": "code",
   "execution_count": 20,
   "metadata": {},
   "outputs": [],
   "source": [
    "def plt_losses(losses_list):\n",
    "    plt.figure\n",
    "    plt.plot(range(1,len(losses_list)+1), losses_list, 'r-')\n",
    "    plt.xlabel('iteration')\n",
    "    # Make the y-axis label, ticks and tick labels match the line color.\n",
    "    plt.ylabel('Loss')\n",
    "    plt.show()"
   ]
  },
  {
   "cell_type": "code",
   "execution_count": 21,
   "metadata": {},
   "outputs": [],
   "source": [
    " def testing_error(net, testloader):\n",
    "    net.eval()\n",
    "    test_error = 0\n",
    "    total = 0\n",
    "    for test_data in testloader: #batch processing\n",
    "        test_inputs = test_data['input']\n",
    "        test_labels = test_data['target']\n",
    "        \n",
    "        test_inputs, test_labels = Variable(test_inputs.cuda()), Variable(test_labels.cuda())\n",
    "        \n",
    "        total += len(test_labels)\n",
    "\n",
    "        test_outputs = net(test_inputs)\n",
    "        \n",
    "        #Use MSE loss\n",
    "        test_error += (torch.nn.functional.mse_loss(test_outputs, test_labels, size_average=False)).data[0]\n",
    "\n",
    "    test_error /= total\n",
    "    return test_error"
   ]
  },
  {
   "cell_type": "code",
   "execution_count": 22,
   "metadata": {},
   "outputs": [],
   "source": [
    "def get_predictions(net, testloader):\n",
    "    net.eval()\n",
    "    for index, test_data in enumerate(testloader): #batch processing\n",
    "            test_inputs = test_data['input']\n",
    "            test_labels = test_data['target']\n",
    "            \n",
    "            test_inputs, test_labels = Variable(test_inputs.cuda()), Variable(test_labels.cuda())\n",
    "\n",
    "            test_outputs = net(test_inputs)\n",
    "\n",
    "            if(index == 0):\n",
    "                predictions = test_outputs.data.cpu().numpy() \n",
    "                labels = test_labels.data.cpu().numpy()\n",
    "                inputs = test_inputs.data.cpu().numpy()\n",
    "\n",
    "            else:\n",
    "                predictions = np.concatenate((predictions, test_outputs.data.cpu().numpy()), axis=0)\n",
    "                labels = np.concatenate((labels, test_labels.data.cpu().numpy()), axis=0)\n",
    "                inputs = np.concatenate((inputs, test_inputs.data.cpu().numpy()), axis=0)\n",
    "\n",
    "    #convert back to numpy dimensions of (HxWxD)\n",
    "    predictions = predictions.transpose(3,4,2,1,0)\n",
    "    labels = labels.transpose(3,4,2,1,0)\n",
    "    inputs = inputs.transpose(3,4,2,1,0)\n",
    "    \n",
    "    return(predictions, labels, inputs)"
   ]
  },
  {
   "cell_type": "markdown",
   "metadata": {},
   "source": [
    "-------------------------------------------------------------------------------------------------------\n",
    "---\n",
    "\n",
    "-------------------------------------------------------------------------------------------------------\n",
    "---\n",
    "\n"
   ]
  },
  {
   "cell_type": "markdown",
   "metadata": {},
   "source": [
    "### Upload the data using pytorch data loaders"
   ]
  },
  {
   "cell_type": "code",
   "execution_count": 23,
   "metadata": {},
   "outputs": [],
   "source": [
    "training_dataset = MRIdataset(training_slices_input, training_slices_target, transform=transforms.Compose([To_Tensor()]))\n",
    "testing_dataset = MRIdataset(testing_slices_input, testing_slices_target, transform=transforms.Compose([To_Tensor()]))"
   ]
  },
  {
   "cell_type": "code",
   "execution_count": 24,
   "metadata": {},
   "outputs": [],
   "source": [
    "trainloader = DataLoader(training_dataset, batch_size=4,\n",
    "                        shuffle=True, num_workers=8)\n",
    "testloader = DataLoader(testing_dataset, batch_size=4,\n",
    "                        shuffle=False, num_workers=8)"
   ]
  },
  {
   "cell_type": "markdown",
   "metadata": {},
   "source": [
    "### Develop CNN"
   ]
  },
  {
   "cell_type": "markdown",
   "metadata": {},
   "source": [
    "Conv -> Batch -> Relu -> Conv -> Batch -> Relu -> Conv -> Batch -> Relu -> Conv -> Relu\n",
    "\n",
    "--(WxHx2x1)--\n",
    "\n",
    "conv1 = receptive field -> (3x3x3), zero padding -> 2,  number of filters -> 10\n",
    "\n",
    "--(W+2xH+2x4x10)--\n",
    "\n",
    "--BATCH then RELU--\n",
    "\n",
    "conv2 = receptive field -> (1x1x1), number of filters -> 15\n",
    "\n",
    "--(W+2xH+2x4x15)--\n",
    "\n",
    "--BATCH then RELU--\n",
    "\n",
    "conv3 = receptive field -> (3x3x3), number of filters -> 15\n",
    "\n",
    "--(WxHx2x15)--\n",
    "\n",
    "--BATCH then RELU--\n",
    "\n",
    "conv4 = receptive field -> (1x1x2), number of filters -> 1\n",
    "\n",
    "--(WxHx1x1)--\n",
    "\n",
    "--RELU--\n",
    "\n",
    "\n"
   ]
  },
  {
   "cell_type": "code",
   "execution_count": 26,
   "metadata": {},
   "outputs": [
    {
     "name": "stdout",
     "output_type": "stream",
     "text": [
      "Net(\n",
      "  (conv1): Conv3d (1, 50, kernel_size=(3, 3, 3), stride=(1, 1, 1), padding=(0, 2, 2))\n",
      "  (batch1): BatchNorm2d(50, eps=1e-05, momentum=0.1, affine=True)\n",
      "  (drop1): Dropout(p=0.2)\n",
      "  (conv2): Conv3d (50, 50, kernel_size=(1, 1, 1), stride=(1, 1, 1))\n",
      "  (batch2): BatchNorm2d(50, eps=1e-05, momentum=0.1, affine=True)\n",
      "  (drop2): Dropout(p=0.2)\n",
      "  (conv3): Conv3d (50, 50, kernel_size=(3, 3, 3), stride=(1, 1, 1))\n",
      "  (batch3): BatchNorm2d(50, eps=1e-05, momentum=0.1, affine=True)\n",
      "  (drop3): Dropout(p=0.2)\n",
      "  (conv4): Conv3d (50, 50, kernel_size=(1, 1, 1), stride=(1, 1, 1))\n",
      "  (batch4): BatchNorm2d(50, eps=1e-05, momentum=0.1, affine=True)\n",
      "  (drop4): Dropout(p=0.2)\n",
      "  (conv5): Conv3d (50, 1, kernel_size=(3, 1, 1), stride=(3, 1, 1))\n",
      ")\n"
     ]
    }
   ],
   "source": [
    "class Net(nn.Module):\n",
    "    \n",
    "    def __init__(self):\n",
    "        super(Net, self).__init__()\n",
    "        self.conv1 = nn.Conv3d(1, 50, 3, padding=(0,2,2))\n",
    "        self.batch1 = nn.BatchNorm2d(50)\n",
    "        self.drop1 = nn.Dropout(p=0.2)\n",
    "        self.conv2 = nn.Conv3d(50, 50, 1)\n",
    "        self.batch2 = nn.BatchNorm2d(50)\n",
    "        self.drop2 = nn.Dropout(p=0.2)\n",
    "        self.conv3 = nn.Conv3d(50, 50, 3)\n",
    "        self.batch3 = nn.BatchNorm2d(50)\n",
    "        self.drop3 = nn.Dropout(p=0.2)\n",
    "        self.conv4 = nn.Conv3d(50, 50, 1)\n",
    "        self.batch4 = nn.BatchNorm2d(50)\n",
    "        self.drop4 = nn.Dropout(p=0.2)\n",
    "        self.conv5 = nn.Conv3d(50, 1, (3,1,1), (3,1,1))\n",
    "\n",
    "    #note this method isn't called explicitly during train, \n",
    "    #rather the instance object is called as pytorch is then \n",
    "    #able to take care of other stuff in the background\n",
    "    def forward(self, x):\n",
    "        x = F.relu(self.batch1(self.conv1(x)))\n",
    "        x = F.relu(self.batch2(self.conv2(x)))\n",
    "        x = F.relu(self.batch3(self.conv3(x)))\n",
    "        x = F.relu(self.batch4(self.conv4(x)))\n",
    "        x = F.relu(self.conv5(x))\n",
    "        return x\n",
    "\n",
    "\n",
    "net = Net()\n",
    "net.cuda()\n",
    "print(net)"
   ]
  },
  {
   "cell_type": "markdown",
   "metadata": {},
   "source": [
    "### Define loss function and optimization algorithm"
   ]
  },
  {
   "cell_type": "code",
   "execution_count": 27,
   "metadata": {},
   "outputs": [],
   "source": [
    "#here we use MSE loss\n",
    "criterion = nn.MSELoss(size_average=False) #returns the sum over a mini-batch as opposed to the average\n",
    "optimizer = optim.Adam(net.parameters(), lr=0.1)"
   ]
  },
  {
   "cell_type": "markdown",
   "metadata": {},
   "source": [
    "### Train CNN"
   ]
  },
  {
   "cell_type": "code",
   "execution_count": 28,
   "metadata": {
    "scrolled": true
   },
   "outputs": [
    {
     "name": "stdout",
     "output_type": "stream",
     "text": [
      "[1,   250]\n",
      "[1,   500]\n",
      "[1,   750]\n",
      "[1,  1000]\n",
      "[1,  1250]\n",
      "[1,  1500]\n",
      "[1,  1750]\n",
      "[1,  2000]\n",
      "[1,  2250]\n",
      "[1,  2500]\n",
      "Loss iteration 1 = 40199504.09010\n",
      "[2,   250]\n",
      "[2,   500]\n",
      "[2,   750]\n",
      "[2,  1000]\n",
      "[2,  1250]\n",
      "[2,  1500]\n",
      "[2,  1750]\n",
      "[2,  2000]\n",
      "[2,  2250]\n",
      "[2,  2500]\n",
      "Loss iteration 2 = 33203317.50010\n",
      "[3,   250]\n",
      "[3,   500]\n",
      "[3,   750]\n",
      "[3,  1000]\n",
      "[3,  1250]\n",
      "[3,  1500]\n",
      "[3,  1750]\n",
      "[3,  2000]\n",
      "[3,  2250]\n",
      "[3,  2500]\n",
      "Loss iteration 3 = 30773344.23833\n",
      "[4,   250]\n",
      "[4,   500]\n",
      "[4,   750]\n",
      "[4,  1000]\n",
      "[4,  1250]\n",
      "[4,  1500]\n",
      "[4,  1750]\n",
      "[4,  2000]\n",
      "[4,  2250]\n",
      "[4,  2500]\n",
      "Loss iteration 4 = 29447704.84393\n",
      "[5,   250]\n",
      "[5,   500]\n",
      "[5,   750]\n",
      "[5,  1000]\n",
      "[5,  1250]\n",
      "[5,  1500]\n",
      "[5,  1750]\n",
      "[5,  2000]\n",
      "[5,  2250]\n",
      "[5,  2500]\n",
      "Loss iteration 5 = 28340295.21110\n",
      "[6,   250]\n",
      "[6,   500]\n",
      "[6,   750]\n",
      "[6,  1000]\n",
      "[6,  1250]\n",
      "[6,  1500]\n",
      "[6,  1750]\n",
      "[6,  2000]\n",
      "[6,  2250]\n",
      "[6,  2500]\n",
      "Loss iteration 6 = 27561634.18669\n",
      "[7,   250]\n",
      "[7,   500]\n",
      "[7,   750]\n",
      "[7,  1000]\n",
      "[7,  1250]\n",
      "[7,  1500]\n",
      "[7,  1750]\n",
      "[7,  2000]\n",
      "[7,  2250]\n",
      "[7,  2500]\n",
      "Loss iteration 7 = 26806864.08390\n",
      "[8,   250]\n",
      "[8,   500]\n",
      "[8,   750]\n",
      "[8,  1000]\n",
      "[8,  1250]\n",
      "[8,  1500]\n",
      "[8,  1750]\n",
      "[8,  2000]\n",
      "[8,  2250]\n",
      "[8,  2500]\n",
      "Loss iteration 8 = 26125889.90961\n",
      "[9,   250]\n",
      "[9,   500]\n",
      "[9,   750]\n",
      "[9,  1000]\n",
      "[9,  1250]\n",
      "[9,  1500]\n",
      "[9,  1750]\n",
      "[9,  2000]\n",
      "[9,  2250]\n",
      "[9,  2500]\n",
      "Loss iteration 9 = 25848232.87037\n",
      "[10,   250]\n",
      "[10,   500]\n",
      "[10,   750]\n",
      "[10,  1000]\n",
      "[10,  1250]\n",
      "[10,  1500]\n",
      "[10,  1750]\n",
      "[10,  2000]\n",
      "[10,  2250]\n",
      "[10,  2500]\n",
      "Loss iteration 10 = 25319954.77562\n",
      "Finished Training\n"
     ]
    }
   ],
   "source": [
    "(trained_net, adam_losses) = train(net, training_dataset, trainloader, [], optimizer, criterion, 10)"
   ]
  },
  {
   "cell_type": "code",
   "execution_count": 29,
   "metadata": {},
   "outputs": [
    {
     "data": {
      "image/png": "[encoded data removed]",
      "text/plain": [
       "<matplotlib.figure.Figure at 0x7fa2bf64fc90>"
      ]
     },
     "metadata": {},
     "output_type": "display_data"
    }
   ],
   "source": [
    "plt_losses(adam_losses)"
   ]
  },
  {
   "cell_type": "markdown",
   "metadata": {},
   "source": [
    "### Calculate MSE on testing data"
   ]
  },
  {
   "cell_type": "code",
   "execution_count": 30,
   "metadata": {},
   "outputs": [
    {
     "name": "stdout",
     "output_type": "stream",
     "text": [
      "MSE on test data: 50477356.739403\n",
      "\n",
      "Mean intensity per voxel : 160.311996\n",
      "Mean error per voxel : 1.915025\n"
     ]
    }
   ],
   "source": [
    "test_error = testing_error(trained_net, testloader)\n",
    "print('MSE on test data: %f\\n' % (test_error))\n",
    "\n",
    "print (\"Mean intensity per voxel : %f\" % mean)\n",
    "print (\"Mean error per voxel : %f\" % \\\n",
    "       (np.sqrt(test_error)/(training_dataset[0]['target'].shape[2] * training_dataset[0]['target'].shape[3])))"
   ]
  },
  {
   "cell_type": "markdown",
   "metadata": {},
   "source": [
    "### Store predictions in a numpy array"
   ]
  },
  {
   "cell_type": "code",
   "execution_count": 31,
   "metadata": {},
   "outputs": [],
   "source": [
    "(predictions, labels, inputs) = get_predictions(trained_net, testloader)"
   ]
  },
  {
   "cell_type": "code",
   "execution_count": 32,
   "metadata": {},
   "outputs": [
    {
     "data": {
      "text/plain": [
       "(53, 63, 1, 1, 2548)"
      ]
     },
     "execution_count": 32,
     "metadata": {},
     "output_type": "execute_result"
    }
   ],
   "source": [
    "predictions.shape"
   ]
  },
  {
   "cell_type": "markdown",
   "metadata": {},
   "source": [
    "### Visualise predictions"
   ]
  },
  {
   "cell_type": "code",
   "execution_count": 46,
   "metadata": {},
   "outputs": [
    {
     "data": {
      "image/png": "[encoded data removed]",
      "text/plain": [
       "<matplotlib.figure.Figure at 0x7fa1b1eb8810>"
      ]
     },
     "metadata": {},
     "output_type": "display_data"
    }
   ],
   "source": [
    "viz_pred(inputs, predictions, labels, 155)"
   ]
  },
  {
   "cell_type": "code",
   "execution_count": 244,
   "metadata": {},
   "outputs": [
    {
     "data": {
      "text/plain": [
       "array([[-0.65606922, -0.65606922, -0.65606922, ..., -0.65606922,\n",
       "        -0.65606922, -0.65606922],\n",
       "       [-0.65606922, -0.65606922, -0.65606922, ..., -0.65606922,\n",
       "        -0.65606922, -0.65606922],\n",
       "       [-0.65606922, -0.65606922, -0.65606922, ..., -0.65606922,\n",
       "        -0.65606922, -0.65606922],\n",
       "       ..., \n",
       "       [-0.65606922, -0.65606922, -0.65606922, ..., -0.65606922,\n",
       "        -0.65606922, -0.65606922],\n",
       "       [-0.65606922, -0.65606922, -0.65606922, ..., -0.65606922,\n",
       "        -0.65606922, -0.65606922],\n",
       "       [-0.65606922, -0.65606922, -0.65606922, ..., -0.65606922,\n",
       "        -0.65606922, -0.65606922]], dtype=float32)"
      ]
     },
     "execution_count": 244,
     "metadata": {},
     "output_type": "execute_result"
    }
   ],
   "source": [
    "training_slices_input[0]"
   ]
  },
  {
   "cell_type": "code",
   "execution_count": 275,
   "metadata": {},
   "outputs": [
    {
     "data": {
      "image/png": "[encoded data removed]",
      "text/plain": [
       "<matplotlib.figure.Figure at 0x1187a10d0>"
      ]
     },
     "metadata": {},
     "output_type": "display_data"
    }
   ],
   "source": [
    " for i, data in enumerate(trainloader, 0): #done in batches\n",
    "            # get the inputs\n",
    "            inputs = data['input']\n",
    "            labels = data['target']\n",
    "            plt.figure\n",
    "            plt.figure(figsize=(6,6))\n",
    "            plt.subplot(1, 2, 1).set_axis_off()\n",
    "            plt.imshow(inputs[0,0,:,:].numpy().T, cmap='gray', origin='lower')\n",
    "            plt.title(\"Input\")\n",
    "            plt.subplot(1, 2, 2).set_axis_off()\n",
    "            plt.imshow(labels[0,0,:,:].numpy().T, cmap='gray', origin='lower')\n",
    "            plt.title(\"Target\")\n",
    "            break;"
   ]
  },
  {
   "cell_type": "code",
   "execution_count": null,
   "metadata": {
    "collapsed": true
   },
   "outputs": [],
   "source": [
    "torch.save(trained_net.state_dict(), '/home/ubuntu/project/MRIDataHarmonisation/Development/Model_Params_AWS/model_B0.pth')"
   ]
  },
  {
   "cell_type": "code",
   "execution_count": 47,
   "metadata": {},
   "outputs": [
    {
     "name": "stdout",
     "output_type": "stream",
     "text": [
      "\u001b[0m\u001b[01;34mSubj10Scan1\u001b[0m/  \u001b[01;34mSubj2Scan1\u001b[0m/  \u001b[01;34mSubj4Scan1\u001b[0m/  \u001b[01;34mSubj6Scan1\u001b[0m/  \u001b[01;34mSubj8Scan1\u001b[0m/\r\n",
      "\u001b[01;34mSubj10Scan2\u001b[0m/  \u001b[01;34mSubj2Scan2\u001b[0m/  \u001b[01;34mSubj4Scan2\u001b[0m/  \u001b[01;34mSubj6Scan2\u001b[0m/  \u001b[01;34mSubj8Scan2\u001b[0m/\r\n",
      "\u001b[01;34mSubj1Scan1\u001b[0m/   \u001b[01;34mSubj3Scan1\u001b[0m/  \u001b[01;34mSubj5Scan1\u001b[0m/  \u001b[01;34mSubj7Scan1\u001b[0m/  \u001b[01;34mSubj9Scan1\u001b[0m/\r\n",
      "\u001b[01;34mSubj1Scan2\u001b[0m/   \u001b[01;34mSubj3Scan2\u001b[0m/  \u001b[01;34mSubj5Scan2\u001b[0m/  \u001b[01;34mSubj7Scan2\u001b[0m/  \u001b[01;34mSubj9Scan2\u001b[0m/\r\n"
     ]
    }
   ],
   "source": [
    "ls"
   ]
  },
  {
   "cell_type": "code",
   "execution_count": null,
   "metadata": {},
   "outputs": [],
   "source": []
  }
 ],
 "metadata": {
  "kernelspec": {
   "display_name": "Python [default]",
   "language": "python",
   "name": "python2"
  },
  "language_info": {
   "codemirror_mode": {
    "name": "ipython",
    "version": 2
   },
   "file_extension": ".py",
   "mimetype": "text/x-python",
   "name": "python",
   "nbconvert_exporter": "python",
   "pygments_lexer": "ipython2",
   "version": "2.7.11"
  }
 },
 "nbformat": 4,
 "nbformat_minor": 2
}
