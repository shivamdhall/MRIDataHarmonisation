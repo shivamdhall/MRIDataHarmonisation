{
 "cells": [
  {
   "cell_type": "markdown",
   "metadata": {},
   "source": [
    "# CNN - Slice Predictor-2"
   ]
  },
  {
   "cell_type": "markdown",
   "metadata": {},
   "source": [
    "Here we develop a CNN that takes as input 2 axial slices of a brain image and predicts the central axial slice. Note we only use b=0 intensity values"
   ]
  },
  {
   "cell_type": "markdown",
   "metadata": {},
   "source": [
    "### Upload the data required"
   ]
  },
  {
   "cell_type": "markdown",
   "metadata": {},
   "source": [
    "We use both scans of subjects 1-8 from the PETMR dataset for training.\n",
    "\n",
    "We used the scan of subjects 9-10 also from the PETMR dataset for testing."
   ]
  },
  {
   "cell_type": "markdown",
   "metadata": {},
   "source": [
    "## FUNCTIONS"
   ]
  },
  {
   "cell_type": "code",
   "execution_count": 14,
   "metadata": {},
   "outputs": [],
   "source": [
    "import nibabel as nib\n",
    "import numpy as np\n",
    "import matplotlib.pyplot as plt\n",
    "import os\n",
    "%matplotlib inline\n",
    "import sys\n",
    "from dipy.io import read_bvals_bvecs\n",
    "from dipy.core.gradients import gradient_table"
   ]
  },
  {
   "cell_type": "code",
   "execution_count": 2,
   "metadata": {},
   "outputs": [],
   "source": [
    "def get_data(petmr_path, test_data, training_data, numb_training_scans, numb_testing_scans):\n",
    "    os.chdir(petmr_path)\n",
    "    count = 0\n",
    "    for direc in sorted(os.listdir(os.getcwd()))[1:]:\n",
    "        scan_image = nib.load(str(petmr_path) + \"/\" + str(direc) + \"/Brain_Extracted.nii.gz\")\n",
    "        scan_data = scan_image.get_data()\n",
    "        #get b=0 volumes only\n",
    "        bvals_scan, bvecs_scan = read_bvals_bvecs(str(petmr_path) + \"/\" + str(direc) + \"/NODDI.bval\",\\\n",
    "                                                  str(petmr_path) + \"/\" + str(direc) + \"/NODDI.bvec\")\n",
    "        gtab_scan = gradient_table(bvals_scan, bvecs_scan)\n",
    "        s0s_scan = scan_data[:, :, :, gtab_scan.b0s_mask]\n",
    "        \n",
    "        if(count < numb_training_scans):\n",
    "            #append this data to the list containing the training data\n",
    "            training_data.append(s0s_scan)\n",
    "        else:\n",
    "            testing_data.append(s0s_scan)\n",
    "        count += 1\n",
    "        if(count == (numb_training_scans + numb_testing_scans)):\n",
    "            break\n",
    "    return (training_data, test_data)"
   ]
  },
  {
   "cell_type": "code",
   "execution_count": 3,
   "metadata": {},
   "outputs": [],
   "source": [
    "#It is necessary to pad the data since each scan can be of a different size\n",
    "#This helps with the normalisation of the volumes\n",
    "#Also helps with training and testing because we can use batches (must be same dimensions)\n",
    "\n",
    "#Note we do not pad the depth dimension as we will be using axial slice volumes\n",
    "def pad_data(dataset):\n",
    "    max_width = 0\n",
    "    max_hight = 0\n",
    "    \n",
    "    #iterate through the scans and update the above stats\n",
    "    for scan in dataset:\n",
    "        (width, hight, depth, volume) = scan.shape\n",
    "        if width > max_width:\n",
    "            max_width = width\n",
    "        if hight > max_hight:\n",
    "            max_hight = hight\n",
    "            \n",
    "    #iterate throug the scans again and pad them based on the max stats\n",
    "    for index, scan in enumerate(dataset):\n",
    "        #get padding dimensions\n",
    "        (width, hight, depth, volume) = scan.shape\n",
    "        pad_width = max_width-width\n",
    "        pad_hight = max_hight-hight\n",
    "        \n",
    "        pad_w_b = pad_width/2\n",
    "        pad_w_a = pad_width-pad_w_b\n",
    "        \n",
    "        pad_h_b = pad_hight/2\n",
    "        pad_h_a = pad_hight-pad_h_b\n",
    "        \n",
    "        padding = ((pad_w_b, pad_w_a), (pad_h_b, pad_h_a), (0,0), (0,0))\n",
    "        aug_scan = np.pad(scan, padding, mode='constant', constant_values=0)\n",
    "        dataset[index] = aug_scan\n",
    "    return dataset"
   ]
  },
  {
   "cell_type": "code",
   "execution_count": 4,
   "metadata": {},
   "outputs": [],
   "source": [
    "#This function appends to a list all sets of 3-adjacent slices from a scan.\n",
    "#This is done for all volumes of a scan\n",
    "\n",
    "#Note we can also calculate the mean and std of the data at this stage in prep for normalisatioin\n",
    "def slicify(data_scan, slice_store_inputs, slice_store_targets):\n",
    "    (x,y,z,v) = data_scan.shape\n",
    "    for volume in range(v):\n",
    "        for i in range(0,z,2):\n",
    "            #check that there exists a slice above\n",
    "            if(i+2 < z):\n",
    "                slice_store_inputs.append(np.stack((data_scan[:, :, i, volume], data_scan[:, :, i+2, volume]), axis=2))\n",
    "                slice_store_targets.append(data_scan[:, :, i+1, volume])\n",
    "            else:\n",
    "                break\n",
    "        for i in range(1,z,2):\n",
    "            #check that there exists a slice above\n",
    "            if(i+2 < z):\n",
    "                slice_store_inputs.append(np.stack((data_scan[:, :, i, volume], data_scan[:, :, i+2, volume]), axis=2))\n",
    "                slice_store_targets.append(data_scan[:, :, i+1, volume])\n",
    "            else:\n",
    "                break\n",
    "    return (slice_store_inputs ,slice_store_targets)\n"
   ]
  },
  {
   "cell_type": "code",
   "execution_count": 5,
   "metadata": {},
   "outputs": [],
   "source": [
    "def normalise(dataset, mean=None, std=None):\n",
    "    data_array = np.array(dataset)\n",
    "    if mean==None and std==None:\n",
    "        #This is the training data\n",
    "        mean = np.mean(data_array)\n",
    "        std = np.std(data_array)\n",
    "    #normalise the data\n",
    "    data_array = (data_array - mean)/std\n",
    "    return (data_array, mean, std)"
   ]
  },
  {
   "cell_type": "code",
   "execution_count": 6,
   "metadata": {},
   "outputs": [],
   "source": [
    "def viz_data(input_data, target_data, volume):\n",
    "    plt.figure\n",
    "    plt.figure(figsize=(6,6))\n",
    "    plt.subplot(1, 3, 1).set_axis_off()\n",
    "    plt.imshow(input_data[volume][:, :, 0].T, cmap='gray', origin='lower')\n",
    "    plt.title(\"Lower\")\n",
    "    plt.subplot(1, 3, 2).set_axis_off()\n",
    "    plt.imshow(target_data[volume][:,:].T, cmap='gray', origin='lower')\n",
    "    plt.title(\"Target\")\n",
    "    plt.subplot(1, 3, 3).set_axis_off()\n",
    "    plt.imshow(input_data[volume][:, :, 1].T, cmap='gray', origin='lower')\n",
    "    plt.title(\"Upper\")\n",
    "    plt.show()"
   ]
  },
  {
   "cell_type": "code",
   "execution_count": 7,
   "metadata": {},
   "outputs": [],
   "source": [
    "def viz_pred(inputs, predictions, labels, volume):\n",
    "    plt.figure\n",
    "    plt.figure(figsize=(10,10))\n",
    "    plt.subplot(3, 3, 2).set_axis_off()\n",
    "    plt.imshow(inputs[:,:,1,0,volume].T, cmap='gray', origin='lower')\n",
    "    plt.title(\"Above\")\n",
    "    plt.subplot(3, 3, 4).set_axis_off()\n",
    "    plt.imshow(np.mean(inputs[:,:,:,0,volume], axis=2).T, cmap='gray', origin='lower')\n",
    "    plt.title(\"Average\")\n",
    "    plt.subplot(3, 3, 5).set_axis_off()\n",
    "    plt.imshow(predictions[:,:,0,0,volume].T, cmap='gray', origin='lower')\n",
    "    plt.title(\"Predicted\")\n",
    "    plt.subplot(3, 3, 6).set_axis_off()\n",
    "    plt.imshow(labels[:,:,0,0,volume].T, cmap='gray', origin='lower')\n",
    "    plt.title(\"Actual\")\n",
    "    plt.subplot(3, 3, 8).set_axis_off()\n",
    "    plt.imshow(inputs[:,:,0,0,volume].T, cmap='gray', origin='lower')\n",
    "    plt.title(\"Below\")\n",
    "    plt.show()"
   ]
  },
  {
   "cell_type": "code",
   "execution_count": 8,
   "metadata": {},
   "outputs": [],
   "source": [
    "def viz_diff(predictions, inputs, labels, volume):\n",
    "    difference = predictions[:,:,0,0,volume] - labels[:,:,0,0,volume]\n",
    "    difference_inputs = ((np.mean(inputs[:,:,:,0,volume], axis=2) * std) + mean) - labels[:,:,0,0,volume]\n",
    "    plt.figure\n",
    "    plt.figure(figsize=(6,6))\n",
    "    plt.subplot(1, 2, 1).set_axis_off()\n",
    "    plt.imshow(np.absolute(difference).T, cmap='nipy_spectral', origin='lower', clim=[1,1000])\n",
    "    plt.colorbar(shrink=0.5)\n",
    "    plt.title(\"Differnce Predicted\")\n",
    "    plt.subplot(1, 2, 2).set_axis_off()\n",
    "    plt.imshow(np.absolute(difference_inputs).T, cmap='nipy_spectral', origin='lower', clim=[1,1000])\n",
    "    plt.colorbar(shrink=0.5)\n",
    "    plt.title(\"Differnce Mean\")"
   ]
  },
  {
   "cell_type": "markdown",
   "metadata": {},
   "source": [
    "-------------------------------------------------------------------------------------------------------\n",
    "---\n",
    "\n",
    "-------------------------------------------------------------------------------------------------------\n",
    "---\n",
    "\n"
   ]
  },
  {
   "cell_type": "markdown",
   "metadata": {},
   "source": [
    "#### Upload the data"
   ]
  },
  {
   "cell_type": "code",
   "execution_count": 9,
   "metadata": {},
   "outputs": [
    {
     "name": "stdout",
     "output_type": "stream",
     "text": [
      "Number of scans used for training: 16\n",
      "Number of scans used for testing: 4\n"
     ]
    }
   ],
   "source": [
    "#upload the data\n",
    "petmr_data_path = '/home/ubuntu/project/Dataset/PETMR_data'\n",
    "training_data = []\n",
    "testing_data = []\n",
    "(training_data, testing_data) = get_data(petmr_data_path, testing_data, training_data, 16, 4)\n",
    "print (\"Number of scans used for training: %d\" % len(training_data))\n",
    "print (\"Number of scans used for testing: %d\" % len(testing_data))"
   ]
  },
  {
   "cell_type": "markdown",
   "metadata": {},
   "source": [
    "#### Pad the data"
   ]
  },
  {
   "cell_type": "code",
   "execution_count": 10,
   "metadata": {},
   "outputs": [],
   "source": [
    "training_data = pad_data(training_data)\n",
    "testing_data = pad_data(testing_data)"
   ]
  },
  {
   "cell_type": "markdown",
   "metadata": {},
   "source": [
    "#### Slice up the data (Axial slices)"
   ]
  },
  {
   "cell_type": "code",
   "execution_count": 11,
   "metadata": {},
   "outputs": [],
   "source": [
    "training_slices_input = []\n",
    "training_slices_target = []\n",
    "testing_slices_input = []\n",
    "testing_slices_target = []\n",
    "for scan in training_data:\n",
    "    (training_slices_input, training_slices_target) = slicify(scan, training_slices_input, training_slices_target)\n",
    "for scan in testing_data:\n",
    "    (testing_slices_input, testing_slices_target) = slicify(scan, testing_slices_input, testing_slices_target)"
   ]
  },
  {
   "cell_type": "code",
   "execution_count": 12,
   "metadata": {},
   "outputs": [
    {
     "name": "stdout",
     "output_type": "stream",
     "text": [
      "Nember of training examples : 9906\n",
      "Nember of testing examples : 2444\n"
     ]
    }
   ],
   "source": [
    "print (\"Nember of training examples : %d\" % len(training_slices_input))\n",
    "print (\"Nember of testing examples : %d\" % len(testing_slices_input))"
   ]
  },
  {
   "cell_type": "markdown",
   "metadata": {},
   "source": [
    "#### Visualise the data"
   ]
  },
  {
   "cell_type": "code",
   "execution_count": 15,
   "metadata": {},
   "outputs": [
    {
     "data": {
      "image/png": "[encoded data removed]",
      "text/plain": [
       "<matplotlib.figure.Figure at 0x7fbac9b98450>"
      ]
     },
     "metadata": {},
     "output_type": "display_data"
    }
   ],
   "source": [
    "viz_data(training_slices_input, training_slices_target, 4001)"
   ]
  },
  {
   "cell_type": "markdown",
   "metadata": {},
   "source": [
    "#### Normalise the training data inputs"
   ]
  },
  {
   "cell_type": "code",
   "execution_count": 16,
   "metadata": {},
   "outputs": [],
   "source": [
    "#These are now numpy arrays\n",
    "training_slices_input, mean, std = normalise(training_slices_input)\n",
    "testing_slices_input, _, _ = normalise(testing_slices_input, mean, std)\n",
    "\n",
    "training_slices_target = np.array(training_slices_target)\n",
    "testing_slices_target = np.array(testing_slices_target)"
   ]
  },
  {
   "cell_type": "markdown",
   "metadata": {},
   "source": [
    "## PYTORCH FUNCTIONS"
   ]
  },
  {
   "cell_type": "code",
   "execution_count": 17,
   "metadata": {},
   "outputs": [],
   "source": [
    "import torch\n",
    "import torchvision\n",
    "import torchvision.transforms as transforms\n",
    "from torch.utils.data import Dataset\n",
    "from torch.utils.data import DataLoader\n",
    "import torch.optim as optim\n",
    "from torch.autograd import Variable\n",
    "import torch.nn as nn\n",
    "import torch.nn.functional as F"
   ]
  },
  {
   "cell_type": "code",
   "execution_count": 18,
   "metadata": {},
   "outputs": [],
   "source": [
    "#create a dataset class for our data\n",
    "\n",
    "class MRIdataset(Dataset):\n",
    "    \"\"\"MRI b=0 dataset for axial slice volumes.\"\"\"\n",
    "\n",
    "    def __init__(self, input_slices, target_slices, transform=None):\n",
    "        \"\"\"\n",
    "        Args:\n",
    "            input_slices: Input slices\n",
    "            target_slices: Corresponding target slice of the input slices\n",
    "            transform (callable, optional): Optional transform to be applied\n",
    "                on a sample.\n",
    "        \"\"\"\n",
    "        self.input_slices = input_slices\n",
    "        self.target_slices = target_slices\n",
    "        self.transform = transform\n",
    "\n",
    "    def __len__(self):\n",
    "        return self.input_slices.shape[0]\n",
    "\n",
    "    def __getitem__(self, idx):\n",
    "        input_slice = self.input_slices[idx]\n",
    "        #Exapnd dims of target to make it have a depth of 1\n",
    "        target_slice = np.expand_dims(self.target_slices[idx], 2)\n",
    "        sample = {'input': input_slice, 'target': target_slice}\n",
    "\n",
    "        if self.transform:\n",
    "            sample = self.transform(sample)\n",
    "\n",
    "        return sample\n"
   ]
  },
  {
   "cell_type": "code",
   "execution_count": 19,
   "metadata": {},
   "outputs": [],
   "source": [
    "class To_Tensor(object):\n",
    "    \"\"\"Convert ndarrays in sample to Tensors.\"\"\"\n",
    "\n",
    "    def __call__(self, sample):\n",
    "        inp, out = sample['input'], sample['target']\n",
    "        \n",
    "        #first expand dimension because torch expects H x W x D x C\n",
    "        #currently we only have H x W x D\n",
    "        aug_inp = np.expand_dims(inp, 3)\n",
    "        aug_out = np.expand_dims(out, 3)\n",
    "\n",
    "        # swap channel axis because\n",
    "        # numpy: H x W x D x C\n",
    "        # torch: C x D x H x W\n",
    "        aug_inp = aug_inp.transpose((3, 2, 0, 1))\n",
    "        aug_out = aug_out.transpose((3, 2, 0, 1))\n",
    "        return {'input': torch.Tensor(aug_inp),\n",
    "                'target': torch.Tensor(aug_out)}\n"
   ]
  },
  {
   "cell_type": "code",
   "execution_count": 40,
   "metadata": {},
   "outputs": [],
   "source": [
    "def train(net, training_dataset, trainloader, losses_list, optimizer, criterion, epochs):\n",
    "    net.train()\n",
    "    for epoch in range(epochs):  # loop over the dataset multiple times\n",
    "\n",
    "        running_loss = 0.0\n",
    "        for i, data in enumerate(trainloader, 0): #done in batches\n",
    "            # get the inputs\n",
    "            inputs = data['input']\n",
    "            labels = data['target']\n",
    "\n",
    "            # wrap them in Variable\n",
    "            inputs, labels = Variable(inputs.cuda()), Variable(labels.cuda())\n",
    "\n",
    "            # zero the parameter gradients\n",
    "            optimizer.zero_grad()\n",
    "\n",
    "            # forward + backward + optimize/update weights\n",
    "            outputs = net(inputs)\n",
    "            loss = criterion(outputs, labels)\n",
    "            loss.backward()\n",
    "            optimizer.step()\n",
    "\n",
    "            # print statistics\n",
    "            running_loss += loss.data[0] #loss is a variable tensor of size 1, we index to get the value out\n",
    "            if i % 250 == 249:    # print every 2000 mini-batches\n",
    "                print('[%d, %5d]' % (epoch + 1, i + 1))\n",
    "        total_loss = running_loss / len(training_dataset)\n",
    "        losses_list.append(total_loss)\n",
    "        print('Loss iteration %d = %.5f' % (epoch+1, total_loss ))\n",
    "        '''   \n",
    "        test_error = 0\n",
    "        total = 0\n",
    "        for test_data in testloader: #batch processing\n",
    "            test_inputs = test_data['inp']\n",
    "            test_labels = test_data['out']\n",
    "            total += len(test_labels)\n",
    "\n",
    "            test_outputs = net(Variable(test_inputs))\n",
    "\n",
    "            test_error += (torch.nn.functional.mse_loss(test_outputs.data, test_labels, size_average=False)).data[0]\n",
    "\n",
    "        test_error /= total\n",
    "        print('MSE on test data: %f' % (test_error))\n",
    "        Adam_acc.append(test_error)\n",
    "        '''\n",
    "    print('Finished Training')\n",
    "    return (net, losses_list)"
   ]
  },
  {
   "cell_type": "code",
   "execution_count": 21,
   "metadata": {},
   "outputs": [],
   "source": [
    "def plt_losses(losses_list):\n",
    "    plt.figure\n",
    "    plt.plot(range(1,len(losses_list)+1), losses_list, 'r-')\n",
    "    plt.xlabel('iteration')\n",
    "    # Make the y-axis label, ticks and tick labels match the line color.\n",
    "    plt.ylabel('Loss')\n",
    "    plt.show()"
   ]
  },
  {
   "cell_type": "code",
   "execution_count": 61,
   "metadata": {},
   "outputs": [],
   "source": [
    " def testing_error(net, testloader):\n",
    "    net.eval()\n",
    "    test_error = 0\n",
    "    total = 0\n",
    "    for test_data in testloader: #batch processing\n",
    "        test_inputs = test_data['input']\n",
    "        test_labels = test_data['target']\n",
    "        \n",
    "        test_inputs, test_labels = Variable(test_inputs.cuda()), Variable(test_labels.cuda())\n",
    "        \n",
    "        total += len(test_labels)\n",
    "\n",
    "        test_outputs = net(test_inputs)\n",
    "        \n",
    "        #Use MSE loss\n",
    "        test_error += (torch.nn.functional.mse_loss(test_outputs, test_labels, size_average=False)).data[0]\n",
    "\n",
    "    test_error /= total\n",
    "    return test_error"
   ]
  },
  {
   "cell_type": "code",
   "execution_count": 33,
   "metadata": {},
   "outputs": [],
   "source": [
    " def mean_prediction_error(testloader):\n",
    "    test_error_average_prediction = 0\n",
    "    total = 0\n",
    "    for test_data in testloader: #batch processing\n",
    "        test_inputs_avg = test_data['input']\n",
    "        test_labels_avg = test_data['target']\n",
    "        total += len(test_labels_avg)\n",
    "\n",
    "        test_outputs_avg = torch.mean(test_inputs_avg, 2, keepdim=True)\n",
    "        test_outputs_avg = (test_outputs_avg * float(std)) + float(mean)\n",
    "\n",
    "        #Use MSE loss\n",
    "        test_error_average_prediction += (torch.nn.functional.mse_loss(Variable(test_outputs_avg), Variable(test_labels_avg), size_average=False)).data[0]\n",
    "    test_error_average_prediction /= total\n",
    "    return test_error_average_prediction"
   ]
  },
  {
   "cell_type": "code",
   "execution_count": 75,
   "metadata": {},
   "outputs": [],
   "source": [
    "def get_predictions(net, testloader):\n",
    "    net.eval()\n",
    "    for index, test_data in enumerate(testloader): #batch processing\n",
    "            test_inputs = test_data['input']\n",
    "            test_labels = test_data['target']\n",
    "            \n",
    "            test_inputs, test_labels = Variable(test_inputs.cuda()), Variable(test_labels.cuda())\n",
    "\n",
    "            test_outputs = net(test_inputs)\n",
    "\n",
    "            if(index == 0):\n",
    "                predictions = test_outputs.data.cpu().numpy() \n",
    "                labels = test_labels.data.cpu().numpy()\n",
    "                inputs = test_inputs.data.cpu().numpy()\n",
    "\n",
    "            else:\n",
    "                predictions = np.concatenate((predictions, test_outputs.data.cpu().numpy()), axis=0)\n",
    "                labels = np.concatenate((labels, test_labels.data.cpu().numpy()), axis=0)\n",
    "                inputs = np.concatenate((inputs, test_inputs.data.cpu().numpy()), axis=0)\n",
    "\n",
    "    #convert back to numpy dimensions of (HxWxD)\n",
    "    predictions = predictions.transpose(3,4,2,1,0)\n",
    "    labels = labels.transpose(3,4,2,1,0)\n",
    "    inputs = inputs.transpose(3,4,2,1,0)\n",
    "    \n",
    "    return(predictions, labels, inputs)"
   ]
  },
  {
   "cell_type": "markdown",
   "metadata": {},
   "source": [
    "-------------------------------------------------------------------------------------------------------\n",
    "---\n",
    "\n",
    "-------------------------------------------------------------------------------------------------------\n",
    "---\n",
    "\n"
   ]
  },
  {
   "cell_type": "markdown",
   "metadata": {},
   "source": [
    "### Upload the data using pytorch data loaders"
   ]
  },
  {
   "cell_type": "code",
   "execution_count": 25,
   "metadata": {},
   "outputs": [],
   "source": [
    "training_dataset = MRIdataset(training_slices_input, training_slices_target, transform=transforms.Compose([To_Tensor()]))\n",
    "testing_dataset = MRIdataset(testing_slices_input, testing_slices_target, transform=transforms.Compose([To_Tensor()]))"
   ]
  },
  {
   "cell_type": "code",
   "execution_count": 47,
   "metadata": {},
   "outputs": [],
   "source": [
    "#Note: we keep a batch size of 1 due to inconsistent tensor sizes\n",
    "trainloader = DataLoader(training_dataset, batch_size=2,\n",
    "                        shuffle=True, num_workers=10)\n",
    "testloader = DataLoader(testing_dataset, batch_size=2,\n",
    "                        shuffle=True, num_workers=10)"
   ]
  },
  {
   "cell_type": "markdown",
   "metadata": {},
   "source": [
    "### Develop CNN"
   ]
  },
  {
   "cell_type": "markdown",
   "metadata": {},
   "source": [
    "Conv -> Batch -> Relu -> Drop -> Conv -> Batch -> Relu -> Drop -> Conv -> Batch -> Relu -> Drop -> Conv -> Relu\n",
    "\n",
    "--(WxHx2x1)--\n",
    "\n",
    "conv1 = receptive field -> (3x3x3), zero padding -> 2,  number of filters -> 50\n",
    "\n",
    "--(W+2xH+2x4x50)--\n",
    "\n",
    "--BATCH then RELU then DROP--\n",
    "\n",
    "conv2 = receptive field -> (1x1x1), number of filters -> 100\n",
    "\n",
    "--(W+2xH+2x4x100)--\n",
    "\n",
    "--BATCH then RELU then DROP--\n",
    "\n",
    "conv3 = receptive field -> (3x3x3), number of filters -> 50\n",
    "\n",
    "--(WxHx2x50)--\n",
    "\n",
    "--BATCH then RELU then DROP--\n",
    "\n",
    "conv4 = receptive field -> (1x1x2), number of filters -> 1\n",
    "\n",
    "--(WxHx1x1)--\n",
    "\n",
    "--RELU--\n",
    "\n"
   ]
  },
  {
   "cell_type": "code",
   "execution_count": 54,
   "metadata": {},
   "outputs": [
    {
     "name": "stdout",
     "output_type": "stream",
     "text": [
      "Net(\n",
      "  (conv1): Conv3d (1, 50, kernel_size=(3, 3, 3), stride=(1, 1, 1), padding=(2, 2, 2))\n",
      "  (batch1): BatchNorm3d(50, eps=1e-05, momentum=0.1, affine=True)\n",
      "  (drop1): Dropout(p=0.1)\n",
      "  (conv2): Conv3d (50, 100, kernel_size=(1, 1, 1), stride=(1, 1, 1))\n",
      "  (batch2): BatchNorm3d(100, eps=1e-05, momentum=0.1, affine=True)\n",
      "  (drop2): Dropout(p=0.1)\n",
      "  (conv3): Conv3d (100, 50, kernel_size=(3, 3, 3), stride=(1, 1, 1))\n",
      "  (batch3): BatchNorm3d(50, eps=1e-05, momentum=0.1, affine=True)\n",
      "  (drop3): Dropout(p=0.1)\n",
      "  (conv4): Conv3d (50, 1, kernel_size=(2, 1, 1), stride=(2, 1, 1))\n",
      ")\n"
     ]
    }
   ],
   "source": [
    "class Net(nn.Module):\n",
    "    \n",
    "    def __init__(self):\n",
    "        super(Net, self).__init__()\n",
    "        self.conv1 = nn.Conv3d(1, 50, 3, padding=2)\n",
    "        self.batch1 = nn.BatchNorm3d(50)\n",
    "        self.drop1 = nn.Dropout(p=0.1)\n",
    "        self.conv2 = nn.Conv3d(50, 100, 1)\n",
    "        self.batch2 = nn.BatchNorm3d(100)\n",
    "        self.drop2 = nn.Dropout(p=0.1)\n",
    "        self.conv3 = nn.Conv3d(100, 50, 3)\n",
    "        self.batch3 = nn.BatchNorm3d(50)\n",
    "        self.drop3 = nn.Dropout(p=0.1)\n",
    "        self.conv4 = nn.Conv3d(50, 1, (2,1,1), (2,1,1))\n",
    "\n",
    "\n",
    "    def forward(self, x):\n",
    "        x = self.drop1(F.relu(self.batch1(self.conv1(x))))\n",
    "        x = self.drop2(F.relu(self.batch2(self.conv2(x))))\n",
    "        x = self.drop3(F.relu(self.batch3(self.conv3(x))))\n",
    "        x = F.relu(self.conv4(x))\n",
    "        return x\n",
    "\n",
    "\n",
    "net = Net()\n",
    "net.cuda()\n",
    "print(net)"
   ]
  },
  {
   "cell_type": "markdown",
   "metadata": {},
   "source": [
    "### Define loss functiona and optimization algorithm"
   ]
  },
  {
   "cell_type": "code",
   "execution_count": 55,
   "metadata": {},
   "outputs": [],
   "source": [
    "#here we use MSE loss\n",
    "criterion = nn.MSELoss(size_average=False) #returns the sum over a mini-batch as opposed to the average\n",
    "optimizer = optim.Adam(net.parameters(), lr=0.1)"
   ]
  },
  {
   "cell_type": "code",
   "execution_count": null,
   "metadata": {},
   "outputs": [],
   "source": [
    "adam_losses = []"
   ]
  },
  {
   "cell_type": "markdown",
   "metadata": {},
   "source": [
    "### Train CNN"
   ]
  },
  {
   "cell_type": "code",
   "execution_count": 56,
   "metadata": {
    "scrolled": true
   },
   "outputs": [
    {
     "name": "stdout",
     "output_type": "stream",
     "text": [
      "[1,   250]\n",
      "[1,   500]\n",
      "[1,   750]\n",
      "[1,  1000]\n",
      "[1,  1250]\n",
      "[1,  1500]\n",
      "[1,  1750]\n",
      "[1,  2000]\n",
      "[1,  2250]\n",
      "[1,  2500]\n",
      "[1,  2750]\n",
      "[1,  3000]\n",
      "[1,  3250]\n",
      "[1,  3500]\n",
      "[1,  3750]\n",
      "[1,  4000]\n",
      "[1,  4250]\n",
      "[1,  4500]\n",
      "[1,  4750]\n",
      "Loss iteration 1 = 22300800.66970\n",
      "[2,   250]\n",
      "[2,   500]\n",
      "[2,   750]\n",
      "[2,  1000]\n",
      "[2,  1250]\n",
      "[2,  1500]\n",
      "[2,  1750]\n",
      "[2,  2000]\n",
      "[2,  2250]\n",
      "[2,  2500]\n",
      "[2,  2750]\n",
      "[2,  3000]\n",
      "[2,  3250]\n",
      "[2,  3500]\n",
      "[2,  3750]\n",
      "[2,  4000]\n",
      "[2,  4250]\n",
      "[2,  4500]\n",
      "[2,  4750]\n",
      "Loss iteration 2 = 18196775.09802\n",
      "[3,   250]\n",
      "[3,   500]\n",
      "[3,   750]\n",
      "[3,  1000]\n",
      "[3,  1250]\n",
      "[3,  1500]\n",
      "[3,  1750]\n",
      "[3,  2000]\n",
      "[3,  2250]\n",
      "[3,  2500]\n",
      "[3,  2750]\n",
      "[3,  3000]\n",
      "[3,  3250]\n",
      "[3,  3500]\n",
      "[3,  3750]\n",
      "[3,  4000]\n",
      "[3,  4250]\n",
      "[3,  4500]\n",
      "[3,  4750]\n",
      "Loss iteration 3 = 17411661.60491\n",
      "[4,   250]\n",
      "[4,   500]\n",
      "[4,   750]\n",
      "[4,  1000]\n",
      "[4,  1250]\n",
      "[4,  1500]\n",
      "[4,  1750]\n",
      "[4,  2000]\n",
      "[4,  2250]\n",
      "[4,  2500]\n",
      "[4,  2750]\n",
      "[4,  3000]\n",
      "[4,  3250]\n",
      "[4,  3500]\n",
      "[4,  3750]\n",
      "[4,  4000]\n",
      "[4,  4250]\n",
      "[4,  4500]\n",
      "[4,  4750]\n",
      "Loss iteration 4 = 16944918.60516\n",
      "[5,   250]\n",
      "[5,   500]\n",
      "[5,   750]\n",
      "[5,  1000]\n",
      "[5,  1250]\n",
      "[5,  1500]\n",
      "[5,  1750]\n",
      "[5,  2000]\n",
      "[5,  2250]\n",
      "[5,  2500]\n",
      "[5,  2750]\n",
      "[5,  3000]\n",
      "[5,  3250]\n",
      "[5,  3500]\n",
      "[5,  3750]\n",
      "[5,  4000]\n",
      "[5,  4250]\n",
      "[5,  4500]\n",
      "[5,  4750]\n",
      "Loss iteration 5 = 16594954.93320\n",
      "[6,   250]\n",
      "[6,   500]\n",
      "[6,   750]\n",
      "[6,  1000]\n",
      "[6,  1250]\n",
      "[6,  1500]\n",
      "[6,  1750]\n",
      "[6,  2000]\n",
      "[6,  2250]\n",
      "[6,  2500]\n",
      "[6,  2750]\n",
      "[6,  3000]\n",
      "[6,  3250]\n",
      "[6,  3500]\n",
      "[6,  3750]\n",
      "[6,  4000]\n",
      "[6,  4250]\n",
      "[6,  4500]\n",
      "[6,  4750]\n",
      "Loss iteration 6 = 16315713.14920\n",
      "[7,   250]\n",
      "[7,   500]\n",
      "[7,   750]\n",
      "[7,  1000]\n",
      "[7,  1250]\n",
      "[7,  1500]\n",
      "[7,  1750]\n",
      "[7,  2000]\n",
      "[7,  2250]\n",
      "[7,  2500]\n",
      "[7,  2750]\n",
      "[7,  3000]\n",
      "[7,  3250]\n",
      "[7,  3500]\n",
      "[7,  3750]\n",
      "[7,  4000]\n",
      "[7,  4250]\n",
      "[7,  4500]\n",
      "[7,  4750]\n",
      "Loss iteration 7 = 16161807.15263\n",
      "[8,   250]\n",
      "[8,   500]\n",
      "[8,   750]\n",
      "[8,  1000]\n",
      "[8,  1250]\n",
      "[8,  1500]\n",
      "[8,  1750]\n",
      "[8,  2000]\n",
      "[8,  2250]\n",
      "[8,  2500]\n",
      "[8,  2750]\n",
      "[8,  3000]\n",
      "[8,  3250]\n",
      "[8,  3500]\n",
      "[8,  3750]\n",
      "[8,  4000]\n",
      "[8,  4250]\n",
      "[8,  4500]\n",
      "[8,  4750]\n",
      "Loss iteration 8 = 15844739.65539\n",
      "[9,   250]\n",
      "[9,   500]\n",
      "[9,   750]\n",
      "[9,  1000]\n",
      "[9,  1250]\n",
      "[9,  1500]\n",
      "[9,  1750]\n",
      "[9,  2000]\n",
      "[9,  2250]\n",
      "[9,  2500]\n",
      "[9,  2750]\n",
      "[9,  3000]\n",
      "[9,  3250]\n",
      "[9,  3500]\n",
      "[9,  3750]\n",
      "[9,  4000]\n",
      "[9,  4250]\n",
      "[9,  4500]\n",
      "[9,  4750]\n",
      "Loss iteration 9 = 15696646.82339\n",
      "[10,   250]\n",
      "[10,   500]\n",
      "[10,   750]\n",
      "[10,  1000]\n",
      "[10,  1250]\n",
      "[10,  1500]\n",
      "[10,  1750]\n",
      "[10,  2000]\n",
      "[10,  2250]\n",
      "[10,  2500]\n",
      "[10,  2750]\n",
      "[10,  3000]\n",
      "[10,  3250]\n",
      "[10,  3500]\n",
      "[10,  3750]\n",
      "[10,  4000]\n",
      "[10,  4250]\n",
      "[10,  4500]\n",
      "[10,  4750]\n",
      "Loss iteration 10 = 15622783.54550\n",
      "[11,   250]\n",
      "[11,   500]\n",
      "[11,   750]\n",
      "[11,  1000]\n",
      "[11,  1250]\n",
      "[11,  1500]\n",
      "[11,  1750]\n",
      "[11,  2000]\n",
      "[11,  2250]\n",
      "[11,  2500]\n",
      "[11,  2750]\n",
      "[11,  3000]\n",
      "[11,  3250]\n",
      "[11,  3500]\n",
      "[11,  3750]\n",
      "[11,  4000]\n",
      "[11,  4250]\n",
      "[11,  4500]\n",
      "[11,  4750]\n",
      "Loss iteration 11 = 15495752.80328\n",
      "[12,   250]\n",
      "[12,   500]\n",
      "[12,   750]\n",
      "[12,  1000]\n",
      "[12,  1250]\n",
      "[12,  1500]\n",
      "[12,  1750]\n",
      "[12,  2000]\n",
      "[12,  2250]\n",
      "[12,  2500]\n",
      "[12,  2750]\n",
      "[12,  3000]\n",
      "[12,  3250]\n",
      "[12,  3500]\n",
      "[12,  3750]\n",
      "[12,  4000]\n",
      "[12,  4250]\n",
      "[12,  4500]\n",
      "[12,  4750]\n",
      "Loss iteration 12 = 15398704.19980\n",
      "[13,   250]\n",
      "[13,   500]\n",
      "[13,   750]\n",
      "[13,  1000]\n",
      "[13,  1250]\n",
      "[13,  1500]\n",
      "[13,  1750]\n",
      "[13,  2000]\n",
      "[13,  2250]\n",
      "[13,  2500]\n",
      "[13,  2750]\n",
      "[13,  3000]\n",
      "[13,  3250]\n",
      "[13,  3500]\n",
      "[13,  3750]\n",
      "[13,  4000]\n",
      "[13,  4250]\n",
      "[13,  4500]\n",
      "[13,  4750]\n",
      "Loss iteration 13 = 15324017.94988\n",
      "[14,   250]\n",
      "[14,   500]\n",
      "[14,   750]\n",
      "[14,  1000]\n",
      "[14,  1250]\n",
      "[14,  1500]\n",
      "[14,  1750]\n",
      "[14,  2000]\n",
      "[14,  2250]\n",
      "[14,  2500]\n",
      "[14,  2750]\n",
      "[14,  3000]\n",
      "[14,  3250]\n",
      "[14,  3500]\n",
      "[14,  3750]\n",
      "[14,  4000]\n",
      "[14,  4250]\n",
      "[14,  4500]\n",
      "[14,  4750]\n",
      "Loss iteration 14 = 15279612.50989\n",
      "[15,   250]\n",
      "[15,   500]\n",
      "[15,   750]\n",
      "[15,  1000]\n",
      "[15,  1250]\n",
      "[15,  1500]\n",
      "[15,  1750]\n",
      "[15,  2000]\n",
      "[15,  2250]\n",
      "[15,  2500]\n",
      "[15,  2750]\n",
      "[15,  3000]\n",
      "[15,  3250]\n",
      "[15,  3500]\n",
      "[15,  3750]\n",
      "[15,  4000]\n",
      "[15,  4250]\n",
      "[15,  4500]\n",
      "[15,  4750]\n",
      "Loss iteration 15 = 15195272.62985\n",
      "Finished Training\n"
     ]
    }
   ],
   "source": [
    "(trained_net, adam_losses) = train(net, training_dataset, trainloader, adam_losses, optimizer, criterion, 15)"
   ]
  },
  {
   "cell_type": "code",
   "execution_count": 57,
   "metadata": {},
   "outputs": [
    {
     "data": {
      "image/png": "[encoded data removed]",
      "text/plain": [
       "<matplotlib.figure.Figure at 0x7fba6118c690>"
      ]
     },
     "metadata": {},
     "output_type": "display_data"
    }
   ],
   "source": [
    "plt_losses(adam_losses)"
   ]
  },
  {
   "cell_type": "markdown",
   "metadata": {},
   "source": [
    "### Calculate MSE on training data"
   ]
  },
  {
   "cell_type": "code",
   "execution_count": 62,
   "metadata": {},
   "outputs": [
    {
     "name": "stdout",
     "output_type": "stream",
     "text": [
      "MSE on test data: 19821455.085925\n",
      "\n",
      "Mean intensity per voxel : 166.930344\n",
      "Mean error per voxel : 1.200035\n"
     ]
    }
   ],
   "source": [
    "test_error = testing_error(trained_net, testloader)\n",
    "print('MSE on test data: %f\\n' % (test_error))\n",
    "\n",
    "print (\"Mean intensity per voxel : %f\" % mean)\n",
    "print (\"Mean error per voxel : %f\" % \\\n",
    "       (np.sqrt(test_error)/(training_dataset[0]['target'].shape[2] * training_dataset[0]['target'].shape[3])))"
   ]
  },
  {
   "cell_type": "markdown",
   "metadata": {},
   "source": [
    "### Calculate MSE of predictions found by averaging the 2 input slices"
   ]
  },
  {
   "cell_type": "code",
   "execution_count": 63,
   "metadata": {},
   "outputs": [
    {
     "name": "stdout",
     "output_type": "stream",
     "text": [
      "MSE of CNN prediction on test data: 19821455.085925\n",
      "MSE of mean prediction on test data: 39991509.820376\n",
      "MSE of mean predictions is 2.017587 times larger than that of the CNN predictions\n"
     ]
    }
   ],
   "source": [
    "test_error_average_prediction = mean_prediction_error(testloader)\n",
    "print('MSE of CNN prediction on test data: %f' % (test_error))\n",
    "print('MSE of mean prediction on test data: %f' % (test_error_average_prediction))\n",
    "\n",
    "print (\"MSE of mean predictions is %f times larger than that of the CNN predictions\"\\\n",
    "       % (test_error_average_prediction/test_error))\n"
   ]
  },
  {
   "cell_type": "markdown",
   "metadata": {},
   "source": [
    "### Store predictions in a numpy array"
   ]
  },
  {
   "cell_type": "code",
   "execution_count": 76,
   "metadata": {},
   "outputs": [],
   "source": [
    "(predictions, labels, inputs) = get_predictions(trained_net, testloader)"
   ]
  },
  {
   "cell_type": "markdown",
   "metadata": {},
   "source": [
    "### Visualise predictions"
   ]
  },
  {
   "cell_type": "code",
   "execution_count": 79,
   "metadata": {},
   "outputs": [
    {
     "data": {
      "image/png": "[encoded data removed]",
      "text/plain": [
       "<matplotlib.figure.Figure at 0x7fb932a9fe10>"
      ]
     },
     "metadata": {},
     "output_type": "display_data"
    }
   ],
   "source": [
    "viz_pred(inputs, predictions, labels, 1000)"
   ]
  },
  {
   "cell_type": "markdown",
   "metadata": {},
   "source": [
    "### Visualise error"
   ]
  },
  {
   "cell_type": "code",
   "execution_count": 80,
   "metadata": {},
   "outputs": [
    {
     "data": {
      "image/png": "[encoded data removed]",
      "text/plain": [
       "<matplotlib.figure.Figure at 0x7fbac9af0350>"
      ]
     },
     "metadata": {},
     "output_type": "display_data"
    }
   ],
   "source": [
    "viz_diff(predictions, inputs, labels, 1000)"
   ]
  },
  {
   "cell_type": "code",
   "execution_count": 86,
   "metadata": {},
   "outputs": [],
   "source": [
    "np.save('inputs.npy', inputs)\n",
    "np.save('predictions.npy', predictions)\n",
    "np.save('labels.npy', labels)"
   ]
  },
  {
   "cell_type": "code",
   "execution_count": 85,
   "metadata": {},
   "outputs": [
    {
     "name": "stdout",
     "output_type": "stream",
     "text": [
      "\u001b[0m\u001b[01;34mDataset\u001b[0m/  \u001b[01;34mMRIDataHarmonisation\u001b[0m/\r\n"
     ]
    }
   ],
   "source": [
    "ls"
   ]
  },
  {
   "cell_type": "code",
   "execution_count": null,
   "metadata": {},
   "outputs": [],
   "source": []
  }
 ],
 "metadata": {
  "kernelspec": {
   "display_name": "Python [default]",
   "language": "python",
   "name": "python2"
  },
  "language_info": {
   "codemirror_mode": {
    "name": "ipython",
    "version": 2
   },
   "file_extension": ".py",
   "mimetype": "text/x-python",
   "name": "python",
   "nbconvert_exporter": "python",
   "pygments_lexer": "ipython2",
   "version": "2.7.11"
  }
 },
 "nbformat": 4,
 "nbformat_minor": 2
}
