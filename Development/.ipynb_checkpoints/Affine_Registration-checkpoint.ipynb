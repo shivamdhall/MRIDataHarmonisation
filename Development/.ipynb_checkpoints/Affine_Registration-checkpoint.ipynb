{
 "cells": [
  {
   "cell_type": "code",
   "execution_count": 1,
   "metadata": {
    "collapsed": true
   },
   "outputs": [],
   "source": [
    "import nibabel as nib\n",
    "import numpy as np\n",
    "import matplotlib.pyplot as plt\n",
    "import os\n",
    "%matplotlib inline\n",
    "import sys"
   ]
  },
  {
   "cell_type": "code",
   "execution_count": 2,
   "metadata": {
    "collapsed": true
   },
   "outputs": [],
   "source": [
    "import os\n",
    "import nibabel as nib\n",
    "import numpy as np\n",
    "from dipy.io import read_bvals_bvecs\n",
    "from dipy.core.gradients import gradient_table\n",
    "from dipy.segment.mask import median_otsu\n",
    "from dipy.segment.mask import applymask\n",
    "from dipy.segment.mask import bounding_box\n",
    "from dipy.segment.mask import crop"
   ]
  },
  {
   "cell_type": "code",
   "execution_count": 3,
   "metadata": {
    "collapsed": true
   },
   "outputs": [],
   "source": [
    "from dipy.viz import regtools\n",
    "from dipy.align.imaffine import (transform_centers_of_mass,\n",
    "                                 AffineMap,\n",
    "                                 MutualInformationMetric,\n",
    "                                 AffineRegistration)\n",
    "from dipy.align.transforms import (TranslationTransform3D,\n",
    "                                   RigidTransform3D,\n",
    "                                   AffineTransform3D)"
   ]
  },
  {
   "cell_type": "code",
   "execution_count": 76,
   "metadata": {
    "collapsed": false
   },
   "outputs": [],
   "source": [
    "def plot_chart(scan1, scan2, sagital=0, coronal=0, axial=0):\n",
    "    plt.figure\n",
    "    plt.figure(figsize=(8,8))\n",
    "    plt.subplot(3,2,1).set_axis_off()\n",
    "    plt.imshow(scan1[:, :, axial, 0].T, cmap='gray', origin='lower')\n",
    "    plt.title(\"Scan 1\")\n",
    "    plt.subplot(3,2,2).set_axis_off()\n",
    "    plt.imshow(scan2[:, :, axial, 0].T, cmap='gray', origin='lower')\n",
    "    plt.title(\"Scan 2\")\n",
    "    plt.subplot(3,2,3).set_axis_off()\n",
    "    plt.imshow(scan1[sagital, :, :, 0].T, cmap='gray', origin='lower')\n",
    "    plt.subplot(3, 2, 4).set_axis_off()\n",
    "    plt.imshow(scan2[sagital, :, :, 0].T, cmap='gray', origin='lower')\n",
    "    plt.subplot(3,2,5).set_axis_off()\n",
    "    plt.imshow(scan1[:, coronal, :, 0].T, cmap='gray', origin='lower')\n",
    "    plt.subplot(3,2,6).set_axis_off()\n",
    "    plt.imshow(scan2[:, coronal, :, 0].T, cmap='gray', origin='lower')"
   ]
  },
  {
   "cell_type": "markdown",
   "metadata": {},
   "source": [
    "# Functions for performing affine transformation"
   ]
  },
  {
   "cell_type": "code",
   "execution_count": 5,
   "metadata": {
    "collapsed": false
   },
   "outputs": [],
   "source": [
    "def affine_registration(scan1, scan1_grid2world, scan2, scan2_grid2world):\n",
    "    #get first b0 volumes for both scans\n",
    "    scan1_b0 = scan1[:,:,:,0]\n",
    "    scan2_b0 = scan2[:,:,:,0]\n",
    "    \n",
    "    #In this function we use multiple stages to register the 2 scans\n",
    "    #providng previous results as initialisation to the next stage, \n",
    "    #the reason we do this is because registration is a non-convex \n",
    "    #problem thus it is important to initialise as close to the \n",
    "    #optiaml value as possible\n",
    "    \n",
    "    #Stage1: we obtain a very rough (and fast) registration by just aligning \n",
    "    #the centers of mass of the two images\n",
    "    \n",
    "    center_of_mass = transform_centers_of_mass(scan1_b0, scan1_grid2world, scan2_b0, scan2_grid2world)\n",
    "    \n",
    "    #create the similarity metric (Mutual Information) to be used:\n",
    "    nbins = 32\n",
    "    sampling_prop = None\n",
    "    metric = MutualInformationMetric(nbins, sampling_prop)\n",
    "    \n",
    "    #We use a multi-resolution stratergy to accelerate convergence and avoid\n",
    "    #getting stuck at local optimas (below are the parameters)\n",
    "    level_iters = [10000, 1000, 100]\n",
    "    sigmas = [3.0, 1.0, 0.0]\n",
    "    factors = [4, 2, 1]\n",
    "    affreg = AffineRegistration(metric=metric, level_iters=level_iters, sigmas=sigmas, factors=factors)\n",
    "    \n",
    "    #Stage2: Perform a basic translation transform\n",
    "    transform = TranslationTransform3D()\n",
    "    translation = affreg.optimize(scan1_b0, scan2_b0, transform, None, scan1_grid2world, scan2_grid2world, starting_affine=center_of_mass.affine)\n",
    "    \n",
    "    #Stage3 : optimize previous result with a rigid transform\n",
    "    #(Includes translation, rotation)\n",
    "    transform = RigidTransform3D()\n",
    "    rigid = affreg.optimize(scan1_b0, scan2_b0, transform, None, scan1_grid2world, scan2_grid2world, starting_affine=translation.affine)\n",
    "    \n",
    "    #Stage4 : optimize previous result with a affine transform\n",
    "    #(Includes translation, rotation, scale, shear)\n",
    "    transform = AffineTransform3D()\n",
    "    affine = affreg.optimize(scan1_b0, scan2_b0, transform, None, scan1_grid2world, scan2_grid2world, starting_affine=rigid.affine)\n",
    "    \n",
    "    \n",
    "    #Once this is completed we can perform the affine transformation on each \n",
    "    #volume of scan2\n",
    "    \n",
    "    for volume in range(0, scan2.shape[3]):\n",
    "        #note affine is an AffineMap object\n",
    "        scan2[:,:,:,volume] = affine.transform(scan2[:,:,:,volume])\n",
    "        \n",
    "    return scan2\n",
    "    "
   ]
  },
  {
   "cell_type": "code",
   "execution_count": 6,
   "metadata": {
    "collapsed": false
   },
   "outputs": [],
   "source": [
    "def compute_masks_crop(petmr_scan1, petmr_scan2, trio_scan1, trio_scan2):\n",
    "    #Median_otsu is a segmnentation technique that is a hybridisation of median filtering and otsu thresholding\n",
    "    #the combination (4,4) is shown to be the most robust\n",
    "    _, petmr_scan1_mask = median_otsu(petmr_scan1, median_radius=4, numpass=4, autocrop=False, dilate=2)\n",
    "    _, petmr_scan2_mask = median_otsu(petmr_scan2, median_radius=4, numpass=4, autocrop=False, dilate=2)\n",
    "    _, trio_scan1_mask = median_otsu(trio_scan1, median_radius=4, numpass=4, autocrop=False, dilate=2)\n",
    "    _, trio_scan2_mask = median_otsu(trio_scan2, median_radius=4, numpass=4, autocrop=False, dilate=2)\n",
    "    \n",
    "    #Get the union of the masks\n",
    "    mask_union = np.logical_and(np.logical_and(petmr_scan1_mask, petmr_scan2_mask), np.logical_and(trio_scan1_mask, trio_scan2_mask))\n",
    "    \n",
    "    #Apply the unoioned mask to the scans\n",
    "    petmr_scan1_brain = applymask(petmr_scan1, mask_union)\n",
    "    petmr_scan2_brain = applymask(petmr_scan2, mask_union)\n",
    "    trio_scan1_brain = applymask(trio_scan1, mask_union)\n",
    "    trio_scan2_brain = applymask(trio_scan2, mask_union)\n",
    "    \n",
    "    #Crop the scans using the unoined mask\n",
    "    (mins, maxs) = bounding_box(mask_union)\n",
    "    petmr_scan1_brain = crop(petmr_scan1_brain, mins, maxs)\n",
    "    petmr_scan2_brain = crop(petmr_scan2_brain, mins, maxs)\n",
    "    trio_scan1_brain = crop(trio_scan1_brain, mins, maxs)\n",
    "    trio_scan2_brain = crop(trio_scan2_brain, mins, maxs)\n",
    "    \n",
    "    return (petmr_scan1_brain, petmr_scan2_brain, trio_scan1_brain, trio_scan2_brain)  "
   ]
  },
  {
   "cell_type": "code",
   "execution_count": 29,
   "metadata": {
    "collapsed": false
   },
   "outputs": [],
   "source": [
    "def perform_registration(dataset_path_petmr, dataset_path_trio, dataset_path_store_petmr, dataset_path_store_trio):\n",
    "    os.chdir(dataset_path_store_trio)\n",
    "    #iterate through the subjects in the directory\n",
    "    subj_scans = os.listdir(os.getcwd())[1:]\n",
    "    for scan in range(0, (len(subj_scans)/2)):\n",
    "        print (\"Processing %s and %s (PETMR and TRIO scans)\" % (str(subj_scans[(scan*2)]), str(subj_scans[(scan*2)+1])))\n",
    "        #load all 4 scans of a subject (images) \n",
    "        petmr_scan1 = nib.load(str(dataset_path_store_petmr) + \"/\" + str(subj_scans[(scan*2)]) + \"/NODDI_3Shells.nii.gz\")\n",
    "        trio_scan1 = nib.load(str(dataset_path_store_trio) + \"/\" + str(subj_scans[(scan*2)]) + \"/NODDI_3Shells.nii.gz\")\n",
    "        petmr_scan2 = nib.load(str(dataset_path_store_petmr) + \"/\" + str(subj_scans[(scan*2)+1]) + \"/NODDI_3Shells.nii.gz\")\n",
    "        trio_scan2 = nib.load(str(dataset_path_store_trio) + \"/\" + str(subj_scans[(scan*2)+1]) + \"/NODDI_3Shells.nii.gz\")\n",
    "        \n",
    "        #Convert the images to dipy format\n",
    "        petmr_scan1_data = petmr_scan1.get_data()\n",
    "        trio_scan1_data = trio_scan1.get_data()\n",
    "        petmr_scan2_data = petmr_scan2.get_data()\n",
    "        trio_scan2_data = trio_scan2.get_data()\n",
    "        \n",
    "        #get the grid2world matrices for each scan\n",
    "        petmr_scan1_grid2world = petmr_scan1.affine\n",
    "        trio_scan1_grid2world = trio_scan1.affine\n",
    "        petmr_scan2_grid2world = petmr_scan2.affine\n",
    "        trio_scan2_grid2world = trio_scan2.affine\n",
    "        \n",
    "        #perform registration using petmr scan1 as the static/reference scan\n",
    "        print (\"Performing Registration for: PETMR scan2\")\n",
    "        petmr_scan2_transformed = affine_registration(petmr_scan1_data, petmr_scan1_grid2world, petmr_scan2_data, petmr_scan2_grid2world)\n",
    "        print (\"Performing Registration for: TRIO scan1\")\n",
    "        trio_scan1_transformed = affine_registration(petmr_scan1_data, petmr_scan1_grid2world, trio_scan1_data, trio_scan1_grid2world)\n",
    "        print (\"Performing Registration for: TRIO scan2\")\n",
    "        trio_scan2_transformed = affine_registration(petmr_scan1_data, petmr_scan1_grid2world, trio_scan2_data, trio_scan2_grid2world)\n",
    "        print (\"---Registration Completed---\")\n",
    "        \n",
    "        \n",
    "        #Compute brain masks for each scan\n",
    "        print (\"Computing brain masks\")\n",
    "        (petmr_scan1_brain, petmr_scan2_brain, trio_scan1_brain, trio_scan2_brain) = \\\n",
    "        compute_masks_crop(petmr_scan1_data, petmr_scan2_transformed, trio_scan1_transformed, trio_scan2_transformed)\n",
    "        \n",
    "        #save the new masked/cropped scans\n",
    "        print (\"Saving the masks\")\n",
    "        petmr_scan1_img = nib.Nifti1Image(petmr_scan1_brain.astype(np.float32), petmr_scan1.affine)\n",
    "        nib.save(petmr_scan1_img, str(dataset_path_petmr)+ \"/\" + str(subj_scans[(scan*2)]) + \"/Brain_Extracted.nii.gz\" )\n",
    "        \n",
    "        petmr_scan2_img = nib.Nifti1Image(petmr_scan2_brain.astype(np.float32), petmr_scan1.affine)\n",
    "        nib.save(petmr_scan2_img, str(dataset_path_petmr)+ \"/\" + str(subj_scans[(scan*2)+1]) + \"/Brain_Extracted.nii.gz\" )\n",
    "        \n",
    "        trio_scan1_img = nib.Nifti1Image(trio_scan1_brain.astype(np.float32), petmr_scan1.affine)\n",
    "        nib.save(trio_scan1_img, str(dataset_path_trio)+ \"/\" + str(subj_scans[(scan*2)]) + \"/Brain_Extracted.nii.gz\" )\n",
    "        \n",
    "        trio_scan2_img = nib.Nifti1Image(trio_scan2_brain.astype(np.float32), petmr_scan1.affine)\n",
    "        nib.save(trio_scan2_img, str(dataset_path_trio)+ \"/\" + str(subj_scans[(scan*2)+1]) + \"/Brain_Extracted.nii.gz\" )\n",
    "        print (\"---Iteration Complete---\")"
   ]
  },
  {
   "cell_type": "markdown",
   "metadata": {},
   "source": [
    "----------------------------------------------------------------------------------------------------------\n",
    "---"
   ]
  },
  {
   "cell_type": "markdown",
   "metadata": {},
   "source": [
    "# Without automation"
   ]
  },
  {
   "cell_type": "markdown",
   "metadata": {},
   "source": [
    "#### Get PETMR data for subject 1 scan 1"
   ]
  },
  {
   "cell_type": "code",
   "execution_count": null,
   "metadata": {
    "collapsed": false
   },
   "outputs": [],
   "source": [
    "os.chdir('/Users/ShivamDhall/Desktop/Project/Dataset/PETMR_data/Subj1Scan1/')\n",
    "imgScan1 = nib.load(\"NODDI_3Shells.nii.gz\")\n",
    "dataScan1 = imgScan1.get_data()\n",
    "print(\"Shape of data: (%d, %d, %d, %d)\" % dataScan1.shape)\n",
    "\n",
    "bvalsScan1, bvecsScan1 = read_bvals_bvecs('NODDI.bval', 'NODDI.bvec')\n",
    "\n",
    "gtabScan1 = gradient_table(bvalsScan1, bvecsScan1)\n",
    "\n",
    "dataScan1_b0 = dataScan1[:,:,:,0]\n",
    "\n",
    "scan1_grid2world = imgScan1.affine"
   ]
  },
  {
   "cell_type": "markdown",
   "metadata": {},
   "source": [
    "#### Get PETMR data for subject 1 scan 2"
   ]
  },
  {
   "cell_type": "code",
   "execution_count": null,
   "metadata": {
    "collapsed": false
   },
   "outputs": [],
   "source": [
    "os.chdir('/Users/ShivamDhall/Desktop/Project/Dataset/PETMR_data/Subj1Scan2/')\n",
    "imgScan2 = nib.load(\"NODDI_3Shells.nii.gz\")\n",
    "dataScan2 = imgScan2.get_data()\n",
    "print(\"Shape of data: (%d, %d, %d, %d)\" % dataScan2.shape)\n",
    "\n",
    "bvalsScan2, bvecsScan2 = read_bvals_bvecs('NODDI.bval', 'NODDI.bvec')\n",
    "\n",
    "gtabScan2 = gradient_table(bvalsScan2, bvecsScan2)\n",
    "\n",
    "dataScan2_b0 = dataScan2[:,:,:,0]\n",
    "\n",
    "scan2_grid2world = imgScan2.affine"
   ]
  },
  {
   "cell_type": "code",
   "execution_count": null,
   "metadata": {
    "collapsed": false
   },
   "outputs": [],
   "source": [
    "scan2 = affine_registration(dataScan1, scan1_grid2world, dataScan2, scan2_grid2world)"
   ]
  },
  {
   "cell_type": "code",
   "execution_count": null,
   "metadata": {
    "collapsed": false
   },
   "outputs": [],
   "source": [
    "regtools.overlay_slices(dataScan1[:,:,:,0], scan2[:,:,:,0], None, 0, \"Scan1\", \"Transformed Scan2\")\n",
    "regtools.overlay_slices(dataScan1[:,:,:,0], scan2[:,:,:,0], None, 1, \"Scan1\", \"Transformed Scan2\")\n",
    "regtools.overlay_slices(dataScan1[:,:,:,0], scan2[:,:,:,0], None, 2, \"Scan1\", \"Transformed Scan2\")"
   ]
  },
  {
   "cell_type": "markdown",
   "metadata": {},
   "source": [
    "### Save the new transformed scan"
   ]
  },
  {
   "cell_type": "code",
   "execution_count": null,
   "metadata": {
    "collapsed": false
   },
   "outputs": [],
   "source": [
    "transformed_Scan2 = nib.Nifti1Image(scan2.astype(np.float32), imgScan1.affine)\n",
    "nib.save(transformed_Scan2, '/Users/ShivamDhall/Desktop/Project/Dataset/PETMR_data/Subj1Scan2/Transformed_Scan.nii.gz' )"
   ]
  },
  {
   "cell_type": "markdown",
   "metadata": {},
   "source": [
    "### Compute brain masks for each scan"
   ]
  },
  {
   "cell_type": "code",
   "execution_count": null,
   "metadata": {
    "collapsed": false
   },
   "outputs": [],
   "source": [
    "maskDataScan1, maskScan1 = median_otsu(dataScan1, 3, 3, autocrop=False, dilate=2)\n",
    "\n",
    "maskDataScan2, maskScan2 = median_otsu(scan2, 3, 3, autocrop=False, dilate=2)"
   ]
  },
  {
   "cell_type": "markdown",
   "metadata": {},
   "source": [
    "### Find the union of the masks"
   ]
  },
  {
   "cell_type": "code",
   "execution_count": null,
   "metadata": {
    "collapsed": true
   },
   "outputs": [],
   "source": [
    "mask_union = np.logical_and(maskScan1, maskScan2)"
   ]
  },
  {
   "cell_type": "markdown",
   "metadata": {},
   "source": [
    "### Apply the mask to the scans"
   ]
  },
  {
   "cell_type": "code",
   "execution_count": null,
   "metadata": {
    "collapsed": true
   },
   "outputs": [],
   "source": [
    "scan1_brain = applymask(dataScan1, mask_union)\n",
    "scan2_brain = applymask(scan2, mask_union)"
   ]
  },
  {
   "cell_type": "markdown",
   "metadata": {},
   "source": [
    "### Crop the scans using the mask"
   ]
  },
  {
   "cell_type": "code",
   "execution_count": null,
   "metadata": {
    "collapsed": true
   },
   "outputs": [],
   "source": [
    "#We need to get the bounding box of the mask_union \n",
    "(mins, maxs) = bounding_box(mask_union)\n",
    "\n",
    "scan1_brain = crop(scan1_brain, mins, maxs)\n",
    "scan2_brain = crop(scan2_brain, mins, maxs)"
   ]
  },
  {
   "cell_type": "code",
   "execution_count": null,
   "metadata": {
    "collapsed": false,
    "scrolled": true
   },
   "outputs": [],
   "source": [
    "plot_chart(scan1_brain, scan2_brain, 40, 50, 34)"
   ]
  },
  {
   "cell_type": "code",
   "execution_count": null,
   "metadata": {
    "collapsed": true
   },
   "outputs": [],
   "source": [
    "brainScan1 = nib.Nifti1Image(scan1_brain.astype(np.float32), imgScan1.affine)\n",
    "nib.save(brainScan1, '/Users/ShivamDhall/Desktop/Project/Dataset/PETMR_data/Subj1Scan1/brain.nii.gz' )\n",
    "\n",
    "brainScan2 = nib.Nifti1Image(scan2_brain.astype(np.float32), imgScan1.affine)\n",
    "nib.save(brainScan2, '/Users/ShivamDhall/Desktop/Project/Dataset/PETMR_data/Subj1Scan2/brain.nii.gz' )"
   ]
  },
  {
   "cell_type": "markdown",
   "metadata": {},
   "source": [
    "----------------------------------------------------------------------------------------------------------\n",
    "---"
   ]
  },
  {
   "cell_type": "markdown",
   "metadata": {},
   "source": [
    "# With automated functions"
   ]
  },
  {
   "cell_type": "code",
   "execution_count": 30,
   "metadata": {
    "collapsed": false,
    "scrolled": true
   },
   "outputs": [
    {
     "name": "stdout",
     "output_type": "stream",
     "text": [
      "Processing Subj10Scan1 and Subj10Scan2 (PETMR and TRIO scans)\n",
      "Performing Registration for: PETMR scan2\n",
      "Optimizing level 2 [max iter: 10000]\n",
      "Optimizing level 1 [max iter: 1000]\n",
      "Optimizing level 0 [max iter: 100]\n",
      "Optimizing level 2 [max iter: 10000]\n",
      "Optimizing level 1 [max iter: 1000]\n",
      "Optimizing level 0 [max iter: 100]\n",
      "Optimizing level 2 [max iter: 10000]\n",
      "Optimizing level 1 [max iter: 1000]\n",
      "Optimizing level 0 [max iter: 100]\n",
      "Performing Registration for: TRIO scan1\n",
      "Optimizing level 2 [max iter: 10000]\n",
      "Optimizing level 1 [max iter: 1000]\n",
      "Optimizing level 0 [max iter: 100]\n",
      "Optimizing level 2 [max iter: 10000]\n",
      "Optimizing level 1 [max iter: 1000]\n",
      "Optimizing level 0 [max iter: 100]\n",
      "Optimizing level 2 [max iter: 10000]\n",
      "Optimizing level 1 [max iter: 1000]\n",
      "Optimizing level 0 [max iter: 100]\n",
      "Performing Registration for: TRIO scan2\n",
      "Optimizing level 2 [max iter: 10000]\n",
      "Optimizing level 1 [max iter: 1000]\n",
      "Optimizing level 0 [max iter: 100]\n",
      "Optimizing level 2 [max iter: 10000]\n",
      "Optimizing level 1 [max iter: 1000]\n",
      "Optimizing level 0 [max iter: 100]\n",
      "Optimizing level 2 [max iter: 10000]\n",
      "Optimizing level 1 [max iter: 1000]\n",
      "Optimizing level 0 [max iter: 100]\n",
      "---Registration Completed---\n",
      "Computing brain masks\n",
      "Saving the masks\n",
      "---Iteration Complete---\n",
      "Processing Subj1Scan1 and Subj1Scan2 (PETMR and TRIO scans)\n",
      "Performing Registration for: PETMR scan2\n",
      "Optimizing level 2 [max iter: 10000]\n",
      "Optimizing level 1 [max iter: 1000]\n",
      "Optimizing level 0 [max iter: 100]\n",
      "Optimizing level 2 [max iter: 10000]\n",
      "Optimizing level 1 [max iter: 1000]\n",
      "Optimizing level 0 [max iter: 100]\n",
      "Optimizing level 2 [max iter: 10000]\n",
      "Optimizing level 1 [max iter: 1000]\n",
      "Optimizing level 0 [max iter: 100]\n",
      "Performing Registration for: TRIO scan1\n",
      "Optimizing level 2 [max iter: 10000]\n",
      "Optimizing level 1 [max iter: 1000]\n",
      "Optimizing level 0 [max iter: 100]\n",
      "Optimizing level 2 [max iter: 10000]\n",
      "Optimizing level 1 [max iter: 1000]\n",
      "Optimizing level 0 [max iter: 100]\n",
      "Optimizing level 2 [max iter: 10000]\n",
      "Optimizing level 1 [max iter: 1000]\n",
      "Optimizing level 0 [max iter: 100]\n",
      "Performing Registration for: TRIO scan2\n",
      "Optimizing level 2 [max iter: 10000]\n",
      "Optimizing level 1 [max iter: 1000]\n",
      "Optimizing level 0 [max iter: 100]\n",
      "Optimizing level 2 [max iter: 10000]\n",
      "Optimizing level 1 [max iter: 1000]\n",
      "Optimizing level 0 [max iter: 100]\n",
      "Optimizing level 2 [max iter: 10000]\n",
      "Optimizing level 1 [max iter: 1000]\n",
      "Optimizing level 0 [max iter: 100]\n",
      "---Registration Completed---\n",
      "Computing brain masks\n",
      "Saving the masks\n",
      "---Iteration Complete---\n",
      "Processing Subj2Scan1 and Subj2Scan2 (PETMR and TRIO scans)\n",
      "Performing Registration for: PETMR scan2\n",
      "Optimizing level 2 [max iter: 10000]\n",
      "Optimizing level 1 [max iter: 1000]\n",
      "Optimizing level 0 [max iter: 100]\n",
      "Optimizing level 2 [max iter: 10000]\n",
      "Optimizing level 1 [max iter: 1000]\n",
      "Optimizing level 0 [max iter: 100]\n",
      "Optimizing level 2 [max iter: 10000]\n",
      "Optimizing level 1 [max iter: 1000]\n",
      "Optimizing level 0 [max iter: 100]\n",
      "Performing Registration for: TRIO scan1\n",
      "Optimizing level 2 [max iter: 10000]\n",
      "Optimizing level 1 [max iter: 1000]\n",
      "Optimizing level 0 [max iter: 100]\n",
      "Optimizing level 2 [max iter: 10000]\n",
      "Optimizing level 1 [max iter: 1000]\n",
      "Optimizing level 0 [max iter: 100]\n",
      "Optimizing level 2 [max iter: 10000]\n",
      "Optimizing level 1 [max iter: 1000]\n",
      "Optimizing level 0 [max iter: 100]\n",
      "Performing Registration for: TRIO scan2\n",
      "Optimizing level 2 [max iter: 10000]\n",
      "Optimizing level 1 [max iter: 1000]\n",
      "Optimizing level 0 [max iter: 100]\n",
      "Optimizing level 2 [max iter: 10000]\n",
      "Optimizing level 1 [max iter: 1000]\n",
      "Optimizing level 0 [max iter: 100]\n",
      "Optimizing level 2 [max iter: 10000]\n",
      "Optimizing level 1 [max iter: 1000]\n",
      "Optimizing level 0 [max iter: 100]\n",
      "---Registration Completed---\n",
      "Computing brain masks\n",
      "Saving the masks\n",
      "---Iteration Complete---\n",
      "Processing Subj3Scan1 and Subj3Scan2 (PETMR and TRIO scans)\n",
      "Performing Registration for: PETMR scan2\n",
      "Optimizing level 2 [max iter: 10000]\n",
      "Optimizing level 1 [max iter: 1000]\n",
      "Optimizing level 0 [max iter: 100]\n",
      "Optimizing level 2 [max iter: 10000]\n",
      "Optimizing level 1 [max iter: 1000]\n",
      "Optimizing level 0 [max iter: 100]\n",
      "Optimizing level 2 [max iter: 10000]\n",
      "Optimizing level 1 [max iter: 1000]\n",
      "Optimizing level 0 [max iter: 100]\n",
      "Performing Registration for: TRIO scan1\n",
      "Optimizing level 2 [max iter: 10000]\n",
      "Optimizing level 1 [max iter: 1000]\n",
      "Optimizing level 0 [max iter: 100]\n",
      "Optimizing level 2 [max iter: 10000]\n",
      "Optimizing level 1 [max iter: 1000]\n",
      "Optimizing level 0 [max iter: 100]\n",
      "Optimizing level 2 [max iter: 10000]\n",
      "Optimizing level 1 [max iter: 1000]\n",
      "Optimizing level 0 [max iter: 100]\n",
      "Performing Registration for: TRIO scan2\n",
      "Optimizing level 2 [max iter: 10000]\n",
      "Optimizing level 1 [max iter: 1000]\n",
      "Optimizing level 0 [max iter: 100]\n",
      "Optimizing level 2 [max iter: 10000]\n",
      "Optimizing level 1 [max iter: 1000]\n",
      "Optimizing level 0 [max iter: 100]\n",
      "Optimizing level 2 [max iter: 10000]\n",
      "Optimizing level 1 [max iter: 1000]\n",
      "Optimizing level 0 [max iter: 100]\n",
      "---Registration Completed---\n",
      "Computing brain masks\n",
      "Saving the masks\n",
      "---Iteration Complete---\n",
      "Processing Subj4Scan1 and Subj4Scan2 (PETMR and TRIO scans)\n",
      "Performing Registration for: PETMR scan2\n",
      "Optimizing level 2 [max iter: 10000]\n",
      "Optimizing level 1 [max iter: 1000]\n",
      "Optimizing level 0 [max iter: 100]\n",
      "Optimizing level 2 [max iter: 10000]\n",
      "Optimizing level 1 [max iter: 1000]\n",
      "Optimizing level 0 [max iter: 100]\n",
      "Optimizing level 2 [max iter: 10000]\n",
      "Optimizing level 1 [max iter: 1000]\n",
      "Optimizing level 0 [max iter: 100]\n",
      "Performing Registration for: TRIO scan1\n",
      "Optimizing level 2 [max iter: 10000]\n",
      "Optimizing level 1 [max iter: 1000]\n",
      "Optimizing level 0 [max iter: 100]\n",
      "Optimizing level 2 [max iter: 10000]\n",
      "Optimizing level 1 [max iter: 1000]\n",
      "Optimizing level 0 [max iter: 100]\n",
      "Optimizing level 2 [max iter: 10000]\n",
      "Optimizing level 1 [max iter: 1000]\n",
      "Optimizing level 0 [max iter: 100]\n",
      "Performing Registration for: TRIO scan2\n",
      "Optimizing level 2 [max iter: 10000]\n",
      "Optimizing level 1 [max iter: 1000]\n",
      "Optimizing level 0 [max iter: 100]\n",
      "Optimizing level 2 [max iter: 10000]\n",
      "Optimizing level 1 [max iter: 1000]\n",
      "Optimizing level 0 [max iter: 100]\n",
      "Optimizing level 2 [max iter: 10000]\n",
      "Optimizing level 1 [max iter: 1000]\n",
      "Optimizing level 0 [max iter: 100]\n",
      "---Registration Completed---\n",
      "Computing brain masks\n",
      "Saving the masks\n",
      "---Iteration Complete---\n",
      "Processing Subj5Scan1 and Subj5Scan2 (PETMR and TRIO scans)\n",
      "Performing Registration for: PETMR scan2\n",
      "Optimizing level 2 [max iter: 10000]\n",
      "Optimizing level 1 [max iter: 1000]\n",
      "Optimizing level 0 [max iter: 100]\n",
      "Optimizing level 2 [max iter: 10000]\n",
      "Optimizing level 1 [max iter: 1000]\n",
      "Optimizing level 0 [max iter: 100]\n",
      "Optimizing level 2 [max iter: 10000]\n",
      "Optimizing level 1 [max iter: 1000]\n",
      "Optimizing level 0 [max iter: 100]\n",
      "Performing Registration for: TRIO scan1\n",
      "Optimizing level 2 [max iter: 10000]\n",
      "Optimizing level 1 [max iter: 1000]\n",
      "Optimizing level 0 [max iter: 100]\n",
      "Optimizing level 2 [max iter: 10000]\n",
      "Optimizing level 1 [max iter: 1000]\n",
      "Optimizing level 0 [max iter: 100]\n",
      "Optimizing level 2 [max iter: 10000]\n",
      "Optimizing level 1 [max iter: 1000]\n",
      "Optimizing level 0 [max iter: 100]\n",
      "Performing Registration for: TRIO scan2\n",
      "Optimizing level 2 [max iter: 10000]\n",
      "Optimizing level 1 [max iter: 1000]\n",
      "Optimizing level 0 [max iter: 100]\n",
      "Optimizing level 2 [max iter: 10000]\n",
      "Optimizing level 1 [max iter: 1000]\n",
      "Optimizing level 0 [max iter: 100]\n",
      "Optimizing level 2 [max iter: 10000]\n",
      "Optimizing level 1 [max iter: 1000]\n",
      "Optimizing level 0 [max iter: 100]\n",
      "---Registration Completed---\n",
      "Computing brain masks\n",
      "Saving the masks\n",
      "---Iteration Complete---\n",
      "Processing Subj6Scan1 and Subj6Scan2 (PETMR and TRIO scans)\n",
      "Performing Registration for: PETMR scan2\n",
      "Optimizing level 2 [max iter: 10000]\n",
      "Optimizing level 1 [max iter: 1000]\n",
      "Optimizing level 0 [max iter: 100]\n",
      "Optimizing level 2 [max iter: 10000]\n",
      "Optimizing level 1 [max iter: 1000]\n",
      "Optimizing level 0 [max iter: 100]\n",
      "Optimizing level 2 [max iter: 10000]\n",
      "Optimizing level 1 [max iter: 1000]\n",
      "Optimizing level 0 [max iter: 100]\n",
      "Performing Registration for: TRIO scan1\n",
      "Optimizing level 2 [max iter: 10000]\n",
      "Optimizing level 1 [max iter: 1000]\n",
      "Optimizing level 0 [max iter: 100]\n",
      "Optimizing level 2 [max iter: 10000]\n",
      "Optimizing level 1 [max iter: 1000]\n",
      "Optimizing level 0 [max iter: 100]\n",
      "Optimizing level 2 [max iter: 10000]\n",
      "Optimizing level 1 [max iter: 1000]\n",
      "Optimizing level 0 [max iter: 100]\n",
      "Performing Registration for: TRIO scan2\n",
      "Optimizing level 2 [max iter: 10000]\n",
      "Optimizing level 1 [max iter: 1000]\n",
      "Optimizing level 0 [max iter: 100]\n",
      "Optimizing level 2 [max iter: 10000]\n",
      "Optimizing level 1 [max iter: 1000]\n",
      "Optimizing level 0 [max iter: 100]\n",
      "Optimizing level 2 [max iter: 10000]\n",
      "Optimizing level 1 [max iter: 1000]\n",
      "Optimizing level 0 [max iter: 100]\n",
      "---Registration Completed---\n",
      "Computing brain masks\n",
      "Saving the masks\n",
      "---Iteration Complete---\n",
      "Processing Subj7Scan1 and Subj7Scan2 (PETMR and TRIO scans)\n",
      "Performing Registration for: PETMR scan2\n",
      "Optimizing level 2 [max iter: 10000]\n",
      "Optimizing level 1 [max iter: 1000]\n",
      "Optimizing level 0 [max iter: 100]\n",
      "Optimizing level 2 [max iter: 10000]\n",
      "Optimizing level 1 [max iter: 1000]\n",
      "Optimizing level 0 [max iter: 100]\n",
      "Optimizing level 2 [max iter: 10000]\n",
      "Optimizing level 1 [max iter: 1000]\n",
      "Optimizing level 0 [max iter: 100]\n",
      "Performing Registration for: TRIO scan1\n",
      "Optimizing level 2 [max iter: 10000]\n",
      "Optimizing level 1 [max iter: 1000]\n",
      "Optimizing level 0 [max iter: 100]\n",
      "Optimizing level 2 [max iter: 10000]\n",
      "Optimizing level 1 [max iter: 1000]\n",
      "Optimizing level 0 [max iter: 100]\n",
      "Optimizing level 2 [max iter: 10000]\n",
      "Optimizing level 1 [max iter: 1000]\n",
      "Optimizing level 0 [max iter: 100]\n",
      "Performing Registration for: TRIO scan2\n",
      "Optimizing level 2 [max iter: 10000]\n",
      "Optimizing level 1 [max iter: 1000]\n",
      "Optimizing level 0 [max iter: 100]\n",
      "Optimizing level 2 [max iter: 10000]\n",
      "Optimizing level 1 [max iter: 1000]\n",
      "Optimizing level 0 [max iter: 100]\n",
      "Optimizing level 2 [max iter: 10000]\n",
      "Optimizing level 1 [max iter: 1000]\n",
      "Optimizing level 0 [max iter: 100]\n",
      "---Registration Completed---\n",
      "Computing brain masks\n",
      "Saving the masks\n",
      "---Iteration Complete---\n",
      "Processing Subj8Scan1 and Subj8Scan2 (PETMR and TRIO scans)\n",
      "Performing Registration for: PETMR scan2\n",
      "Optimizing level 2 [max iter: 10000]\n",
      "Optimizing level 1 [max iter: 1000]\n",
      "Optimizing level 0 [max iter: 100]\n",
      "Optimizing level 2 [max iter: 10000]\n",
      "Optimizing level 1 [max iter: 1000]\n",
      "Optimizing level 0 [max iter: 100]\n",
      "Optimizing level 2 [max iter: 10000]\n",
      "Optimizing level 1 [max iter: 1000]\n",
      "Optimizing level 0 [max iter: 100]\n",
      "Performing Registration for: TRIO scan1\n",
      "Optimizing level 2 [max iter: 10000]\n",
      "Optimizing level 1 [max iter: 1000]\n",
      "Optimizing level 0 [max iter: 100]\n",
      "Optimizing level 2 [max iter: 10000]\n",
      "Optimizing level 1 [max iter: 1000]\n",
      "Optimizing level 0 [max iter: 100]\n",
      "Optimizing level 2 [max iter: 10000]\n",
      "Optimizing level 1 [max iter: 1000]\n",
      "Optimizing level 0 [max iter: 100]\n",
      "Performing Registration for: TRIO scan2\n",
      "Optimizing level 2 [max iter: 10000]\n",
      "Optimizing level 1 [max iter: 1000]\n",
      "Optimizing level 0 [max iter: 100]\n",
      "Optimizing level 2 [max iter: 10000]\n",
      "Optimizing level 1 [max iter: 1000]\n",
      "Optimizing level 0 [max iter: 100]\n",
      "Optimizing level 2 [max iter: 10000]\n",
      "Optimizing level 1 [max iter: 1000]\n",
      "Optimizing level 0 [max iter: 100]\n",
      "---Registration Completed---\n",
      "Computing brain masks\n",
      "Saving the masks\n",
      "---Iteration Complete---\n",
      "Processing Subj9Scan1 and Subj9Scan2 (PETMR and TRIO scans)\n",
      "Performing Registration for: PETMR scan2\n",
      "Optimizing level 2 [max iter: 10000]\n",
      "Optimizing level 1 [max iter: 1000]\n",
      "Optimizing level 0 [max iter: 100]\n",
      "Optimizing level 2 [max iter: 10000]\n",
      "Optimizing level 1 [max iter: 1000]\n",
      "Optimizing level 0 [max iter: 100]\n",
      "Optimizing level 2 [max iter: 10000]\n",
      "Optimizing level 1 [max iter: 1000]\n",
      "Optimizing level 0 [max iter: 100]\n",
      "Performing Registration for: TRIO scan1\n",
      "Optimizing level 2 [max iter: 10000]\n",
      "Optimizing level 1 [max iter: 1000]\n",
      "Optimizing level 0 [max iter: 100]\n",
      "Optimizing level 2 [max iter: 10000]\n",
      "Optimizing level 1 [max iter: 1000]\n",
      "Optimizing level 0 [max iter: 100]\n",
      "Optimizing level 2 [max iter: 10000]\n",
      "Optimizing level 1 [max iter: 1000]\n",
      "Optimizing level 0 [max iter: 100]\n",
      "Performing Registration for: TRIO scan2\n",
      "Optimizing level 2 [max iter: 10000]\n",
      "Optimizing level 1 [max iter: 1000]\n",
      "Optimizing level 0 [max iter: 100]\n",
      "Optimizing level 2 [max iter: 10000]\n",
      "Optimizing level 1 [max iter: 1000]\n",
      "Optimizing level 0 [max iter: 100]\n",
      "Optimizing level 2 [max iter: 10000]\n",
      "Optimizing level 1 [max iter: 1000]\n",
      "Optimizing level 0 [max iter: 100]\n",
      "---Registration Completed---\n",
      "Computing brain masks\n",
      "Saving the masks\n",
      "---Iteration Complete---\n"
     ]
    }
   ],
   "source": [
    "dataset_path_trio = '/Users/ShivamDhall/Desktop/Project/Dataset/TRIO_data'\n",
    "dataset_path_petmr = '/Users/ShivamDhall/Desktop/Project/Dataset/PETMR_data'\n",
    "dataset_path_store_petmr = '/Volumes/Seagate Backup Plus Drive/Project/PETMR_data'\n",
    "dataset_path_store_trio = '/Volumes/Seagate Backup Plus Drive/Project/TRIO_data_organised'\n",
    "perform_registration(dataset_path_petmr, dataset_path_trio, dataset_path_store_petmr, dataset_path_store_trio)"
   ]
  },
  {
   "cell_type": "markdown",
   "metadata": {},
   "source": [
    "## Check results"
   ]
  },
  {
   "cell_type": "code",
   "execution_count": 72,
   "metadata": {
    "collapsed": false
   },
   "outputs": [],
   "source": [
    "os.chdir('/Users/ShivamDhall/Desktop/Project/Dataset/PETMR_data/Subj1Scan1/')\n",
    "imgScan1 = nib.load(\"NODDI_3Shells.nii.gz\")\n",
    "petmr_scan1 = imgScan1.get_data()\n",
    "\n",
    "os.chdir('/Users/ShivamDhall/Desktop/Project/Dataset/PETMR_data/Subj1Scan2/')\n",
    "imgScan2 = nib.load(\"NODDI_3Shells.nii.gz\")\n",
    "petmr_scan2 = imgScan2.get_data()\n",
    "\n",
    "os.chdir('/Users/ShivamDhall/Desktop/Project/Dataset/TRIO_data/Subj5Scan1/')\n",
    "imgScan3 = nib.load(\"Brain_Extracted.nii.gz\")\n",
    "trio_scan1 = imgScan3.get_data()\n",
    "\n",
    "os.chdir('/Users/ShivamDhall/Desktop/Project/Dataset/TRIO_data/Subj5Scan2/')\n",
    "imgScan4 = nib.load(\"Brain_Extracted.nii.gz\")\n",
    "trio_scan2 = imgScan4.get_data()"
   ]
  },
  {
   "cell_type": "code",
   "execution_count": 77,
   "metadata": {
    "collapsed": false
   },
   "outputs": [
    {
     "data": {
      "image/png": "[encoded data removed]",
      "text/plain": [
       "<matplotlib.figure.Figure at 0x1084a0c90>"
      ]
     },
     "metadata": {},
     "output_type": "display_data"
    }
   ],
   "source": [
    "plot_chart(trio_scan1, trio_scan2, 40, 40, 40)"
   ]
  },
  {
   "cell_type": "code",
   "execution_count": null,
   "metadata": {
    "collapsed": true
   },
   "outputs": [],
   "source": []
  }
 ],
 "metadata": {
  "kernelspec": {
   "display_name": "Python 2",
   "language": "python",
   "name": "python2"
  },
  "language_info": {
   "codemirror_mode": {
    "name": "ipython",
    "version": 2
   },
   "file_extension": ".py",
   "mimetype": "text/x-python",
   "name": "python",
   "nbconvert_exporter": "python",
   "pygments_lexer": "ipython2",
   "version": "2.7.10"
  }
 },
 "nbformat": 4,
 "nbformat_minor": 2
}
