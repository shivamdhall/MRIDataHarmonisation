{
 "cells": [
  {
   "cell_type": "code",
   "execution_count": 1,
   "metadata": {
    "collapsed": true
   },
   "outputs": [],
   "source": [
    "import nibabel as nib\n",
    "import numpy as np\n",
    "import matplotlib.pyplot as plt\n",
    "import os\n",
    "%matplotlib inline\n",
    "import sys"
   ]
  },
  {
   "cell_type": "code",
   "execution_count": 2,
   "metadata": {
    "collapsed": true
   },
   "outputs": [],
   "source": [
    "import os\n",
    "import nibabel as nib\n",
    "import numpy as np\n",
    "from dipy.io import read_bvals_bvecs\n",
    "from dipy.core.gradients import gradient_table\n",
    "from dipy.segment.mask import median_otsu\n",
    "from dipy.segment.mask import applymask\n",
    "from dipy.segment.mask import bounding_box"
   ]
  },
  {
   "cell_type": "code",
   "execution_count": 6,
   "metadata": {
    "collapsed": true
   },
   "outputs": [],
   "source": [
    "from dipy.viz import regtools\n",
    "from dipy.align.imaffine import (transform_centers_of_mass,\n",
    "                                 AffineMap,\n",
    "                                 MutualInformationMetric,\n",
    "                                 AffineRegistration)\n",
    "from dipy.align.transforms import (TranslationTransform3D,\n",
    "                                   RigidTransform3D,\n",
    "                                   AffineTransform3D)"
   ]
  },
  {
   "cell_type": "markdown",
   "metadata": {},
   "source": [
    "#### Get PETMR data for subject 1 scan 1"
   ]
  },
  {
   "cell_type": "code",
   "execution_count": 13,
   "metadata": {
    "collapsed": false
   },
   "outputs": [
    {
     "name": "stdout",
     "output_type": "stream",
     "text": [
      "Shape of data: (96, 96, 55, 117)\n"
     ]
    }
   ],
   "source": [
    "os.chdir('/Users/ShivamDhall/Desktop/Project/Dataset/PETMR_data/Subj1Scan1/')\n",
    "imgScan1 = nib.load(\"NODDI_3Shells.nii.gz\")\n",
    "dataScan1 = imgScan1.get_data()\n",
    "print(\"Shape of data: (%d, %d, %d, %d)\" % dataScan1.shape)\n",
    "\n",
    "bvalsScan1, bvecsScan1 = read_bvals_bvecs('NODDI.bval', 'NODDI.bvec')\n",
    "\n",
    "gtabScan1 = gradient_table(bvalsScan1, bvecsScan1)\n",
    "\n",
    "dataScan1_b0 = dataScan1[:,:,:,0]\n",
    "\n",
    "scan1_grid2world = imgScan1.affine"
   ]
  },
  {
   "cell_type": "markdown",
   "metadata": {},
   "source": [
    "#### Get PETMR data for subject 1 scan 2"
   ]
  },
  {
   "cell_type": "code",
   "execution_count": 14,
   "metadata": {
    "collapsed": false
   },
   "outputs": [
    {
     "name": "stdout",
     "output_type": "stream",
     "text": [
      "Shape of data: (96, 96, 55, 117)\n"
     ]
    }
   ],
   "source": [
    "os.chdir('/Users/ShivamDhall/Desktop/Project/Dataset/PETMR_data/Subj1Scan2/')\n",
    "imgScan2 = nib.load(\"NODDI_3Shells.nii.gz\")\n",
    "dataScan2 = imgScan2.get_data()\n",
    "print(\"Shape of data: (%d, %d, %d, %d)\" % dataScan2.shape)\n",
    "\n",
    "bvalsScan2, bvecsScan2 = read_bvals_bvecs('NODDI.bval', 'NODDI.bvec')\n",
    "\n",
    "gtabScan2 = gradient_table(bvalsScan2, bvecsScan2)\n",
    "\n",
    "dataScan2_b0 = dataScan2[:,:,:,0]\n",
    "\n",
    "scan2_grid2world = imgScan2.affine"
   ]
  },
  {
   "cell_type": "code",
   "execution_count": 24,
   "metadata": {
    "collapsed": true
   },
   "outputs": [],
   "source": [
    "identity = np.eye(4)\n",
    "affine_map = AffineMap(identity,\n",
    "                       dataScan1_b0.shape, scan1_grid2world,\n",
    "                       dataScan2_b0.shape, scan2_grid2world)\n",
    "resampled = affine_map.transform(dataScan2_b0)\n",
    "\n",
    "regtools.overlay_slices(dataScan1_b0, resampled, None, 0, \"Scan1\", \"Scan2\", \"resampled_0.png\")\n",
    "regtools.overlay_slices(dataScan1_b0, resampled, None, 1, \"Scan1\", \"Scan2\", \"resampled_1.png\")\n",
    "regtools.overlay_slices(dataScan1_b0, resampled, None, 2, \"Scan1\", \"Scan2\", \"resampled_2.png\")"
   ]
  },
  {
   "cell_type": "code",
   "execution_count": null,
   "metadata": {
    "collapsed": true
   },
   "outputs": [],
   "source": []
  }
 ],
 "metadata": {
  "kernelspec": {
   "display_name": "Python 2",
   "language": "python",
   "name": "python2"
  },
  "language_info": {
   "codemirror_mode": {
    "name": "ipython",
    "version": 2
   },
   "file_extension": ".py",
   "mimetype": "text/x-python",
   "name": "python",
   "nbconvert_exporter": "python",
   "pygments_lexer": "ipython2",
   "version": "2.7.10"
  }
 },
 "nbformat": 4,
 "nbformat_minor": 2
}
