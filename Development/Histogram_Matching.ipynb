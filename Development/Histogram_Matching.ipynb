{
 "cells": [
  {
   "cell_type": "markdown",
   "metadata": {},
   "source": [
    "*This notebook defines functions that are used to further preprocess and clean the brain scans. Firstly, the functions get rid of any artefacts that may be present in a scan -- this is done by setting the intensity value of those voxels to the threshold value. Secondly, we apply histogram matching to all the scans using a unique reference scan for the PETMR and TRIO datasets.*"
   ]
  },
  {
   "cell_type": "code",
   "execution_count": 1,
   "metadata": {
    "collapsed": true
   },
   "outputs": [],
   "source": [
    "import nibabel as nib\n",
    "import numpy as np\n",
    "import matplotlib.pyplot as plt\n",
    "import os\n",
    "%matplotlib inline\n",
    "import sys"
   ]
  },
  {
   "cell_type": "code",
   "execution_count": 2,
   "metadata": {
    "collapsed": true
   },
   "outputs": [],
   "source": [
    "import nibabel as nib\n",
    "import numpy as np\n",
    "from dipy.io import read_bvals_bvecs\n",
    "from dipy.core.gradients import gradient_table"
   ]
  },
  {
   "cell_type": "code",
   "execution_count": 3,
   "metadata": {
    "collapsed": false
   },
   "outputs": [],
   "source": [
    "#this function simply uploads the selected scan\n",
    "\n",
    "def get_data(subjects, petmr=False, trio=False):\n",
    "    \n",
    "    # Paths to the data scans\n",
    "    petmr_data_path = '/Volumes/Seagate Backup Plus Drive/Project/Dataset/PETMR_data'\n",
    "    trio_data_path = '/Volumes/Seagate Backup Plus Drive/Project/Dataset/TRIO_data'\n",
    "    \n",
    "    scans = []\n",
    "    gtab = []\n",
    "    \n",
    "    if(petmr == True):\n",
    "        print \"Uploading PETMR scans:\"\n",
    "        data_path = petmr_data_path\n",
    "    else:\n",
    "        print \"Uploading Trio scans:\"\n",
    "        data_path = trio_data_path\n",
    "    os.chdir(data_path)\n",
    "    for subj_scan in subjects:\n",
    "        print \"Subj%s\" % (subj_scan)\n",
    "        scan_image = nib.load(str(data_path) + \"/Subj\" + subj_scan + \"/Brain_Extracted.nii.gz\")\n",
    "        scan_data = scan_image.get_data()\n",
    "        #all scans have the same affine mat because registration has already been performed\n",
    "        #we only need it for saving the predictions as a NIfTI file\n",
    "        affine_mat = scan_image.affine\n",
    "        bvals_scan, bvecs_scan = read_bvals_bvecs(str(data_path) + \"/Subj\" + subj_scan + \"/NODDI.bval\",\\\n",
    "                                                          str(data_path) + \"/Subj\" + subj_scan + \"/NODDI.bvec\")\n",
    "        #set a threshold value for b=0 values (due to TRIO dataset)\n",
    "        gtab_scan = gradient_table(bvals_scan, bvecs_scan, b0_threshold=5)\n",
    "        scans.append(scan_data)\n",
    "        gtab.append(gtab_scan)\n",
    "    return (scans, gtab, affine_mat)"
   ]
  },
  {
   "cell_type": "code",
   "execution_count": 17,
   "metadata": {
    "collapsed": false
   },
   "outputs": [],
   "source": [
    "def analysis(scan, gtable, title, threshold):\n",
    "    \n",
    "    # Extract the b=0 volumes from the scan\n",
    "    b_0s = scan[:,:,:,gtable.b0s_mask]\n",
    "    \n",
    "    mask = b_0s>0\n",
    "    brain = b_0s[mask]\n",
    "    \n",
    "    \n",
    "    print(\"maximum: %d\" % brain.max())\n",
    "    print(\"minimum: %d\" % brain.min())\n",
    "    print(\"average: %d\" % brain.mean())\n",
    "    print(\"median: %d\" % np.median(brain))\n",
    "\n",
    "    print(\"Total number of voxels: %d\" % brain.shape[0])\n",
    "    print(\"Voxels greater than threshold value (%d): %f\" % (threshold, (brain>threshold).sum()))\n",
    "\n",
    "    plt.hist(brain.flatten(), bins = 1024);\n",
    "    plt.title(title)\n",
    "\n",
    "\n"
   ]
  },
  {
   "cell_type": "code",
   "execution_count": 22,
   "metadata": {
    "collapsed": false
   },
   "outputs": [],
   "source": [
    "def threshold(full_scan, gtable, threshold):\n",
    "\n",
    "    # Apply the thresholding (replace values above threshold with the threshold value)\n",
    "    full_scan[full_scan > threshold] = threshold\n",
    "    \n",
    "    return full_scan"
   ]
  },
  {
   "cell_type": "code",
   "execution_count": 6,
   "metadata": {
    "collapsed": true
   },
   "outputs": [],
   "source": [
    "# Paths to the data scans\n",
    "petmr_data_path = '/Volumes/Seagate Backup Plus Drive/Project/Dataset/PETMR_data'\n",
    "trio_data_path = '/Volumes/Seagate Backup Plus Drive/Project/Dataset/TRIO_data'"
   ]
  },
  {
   "cell_type": "markdown",
   "metadata": {},
   "source": [
    "### Create PETMR referece scan\n",
    " \n",
    "We identify a reference scan based on how *clean* the scan is -- it should contain minimal artefacts and should have a reasonable range with minimal high intensity voxels.\n",
    " \n",
    "##### Use Subject 1 Scan 2 as the refernce scan"
   ]
  },
  {
   "cell_type": "markdown",
   "metadata": {},
   "source": [
    "### Create TRIO referece scan\n",
    " \n",
    "We identify a reference scan based on how *clean* the scan is -- it should contain minimal artefacts and should have a reasonable range with minimal high intensity voxels.\n",
    " \n",
    "##### Use Subject 2 Scan 2 as the refernce scan"
   ]
  },
  {
   "cell_type": "code",
   "execution_count": 24,
   "metadata": {
    "collapsed": false
   },
   "outputs": [
    {
     "name": "stdout",
     "output_type": "stream",
     "text": [
      "Uploading Trio scans:\n",
      "Subj1Scan1\n"
     ]
    }
   ],
   "source": [
    "(trio_refernce_scan, gtable, affine_mat) = get_data([\"1Scan1\"], trio=True)\n",
    "\n",
    "# Threshold the scan\n",
    "trio_reference_scan_thresholded = threshold(scan[0], gtable[0], 1000)\n",
    "\n",
    "# Store the thresholded scan\n",
    "thresholded_scan_img = nib.Nifti1Image(trio_reference_scan_thresholded.astype(np.float32), affine_mat)\n",
    "nib.save(thresholded_scan_img, str(trio_data_path)+ \"/ReferenceScan/TRIO_REF.nii.gz\" )"
   ]
  },
  {
   "cell_type": "code",
   "execution_count": null,
   "metadata": {
    "collapsed": true
   },
   "outputs": [],
   "source": []
  },
  {
   "cell_type": "code",
   "execution_count": null,
   "metadata": {
    "collapsed": true
   },
   "outputs": [],
   "source": []
  },
  {
   "cell_type": "code",
   "execution_count": null,
   "metadata": {
    "collapsed": true
   },
   "outputs": [],
   "source": []
  },
  {
   "cell_type": "code",
   "execution_count": null,
   "metadata": {
    "collapsed": true
   },
   "outputs": [],
   "source": []
  },
  {
   "cell_type": "code",
   "execution_count": null,
   "metadata": {
    "collapsed": true
   },
   "outputs": [],
   "source": []
  },
  {
   "cell_type": "code",
   "execution_count": 18,
   "metadata": {
    "collapsed": false
   },
   "outputs": [
    {
     "name": "stdout",
     "output_type": "stream",
     "text": [
      "Uploading PETMR scans:\n",
      "Subj1Scan1\n",
      "maximum: 4095\n",
      "minimum: 1\n",
      "average: 398\n",
      "median: 341\n",
      "Total number of voxels: 818045\n",
      "Voxels greater than threshold value (2400): 1261.000000\n"
     ]
    },
    {
     "data": {
      "image/png": "[encoded data removed]",
      "text/plain": [
       "<matplotlib.figure.Figure at 0x108ea2e10>"
      ]
     },
     "metadata": {},
     "output_type": "display_data"
    }
   ],
   "source": [
    "(petmr_refernce_scan, gtable, affine_mat) = get_data([\"1Scan1\"], petmr=True)\n",
    "\n",
    "# plot a histogram using these b_0s volume use this to identify an appropriate threshold range\n",
    "analysis(petmr_refernce_scan[0], gtable[0], \"PETMR - Reference scan\", 2400)\n",
    "\n",
    "petmr_reference_scan_thresholded = threshold(scan[0], gtable[0], 2400)\n",
    "\n",
    "# plot a histogram using these b_0s volume of the thresholded scan\n",
    "analysis(thresholded_scan, gtable[0], \"PETMR - Reference scan (Thresholded)\", 2400)\n",
    "\n",
    "# Store the thresholded scan\n",
    "thresholded_scan_img = nib.Nifti1Image(thresholded_scan.astype(np.float32), affine_mat)\n",
    "nib.save(thresholded_scan_img, str(petmr_data_path)+ \"/Subj1Scan1/Brain_Extracted_Thresholded.nii.gz\" )"
   ]
  },
  {
   "cell_type": "markdown",
   "metadata": {
    "collapsed": true
   },
   "source": [
    "#### Indentify the artifacts and get rid of them by replacing their intensity values with the threshold value, we use a threshold value of 2500"
   ]
  },
  {
   "cell_type": "code",
   "execution_count": 23,
   "metadata": {
    "collapsed": false
   },
   "outputs": [
    {
     "name": "stdout",
     "output_type": "stream",
     "text": [
      "maximum: 2400\n",
      "minimum: 1\n",
      "average: 396\n",
      "median: 341\n",
      "Total number of voxels: 818045\n",
      "Voxels greater than threshold value (2400): 0.000000\n"
     ]
    },
    {
     "data": {
      "image/png": "[encoded data removed]",
      "text/plain": [
       "<matplotlib.figure.Figure at 0x10964cc50>"
      ]
     },
     "metadata": {},
     "output_type": "display_data"
    }
   ],
   "source": [
    "thresholded_scan = threshold(scan[0], gtable[0], 2400)\n",
    "\n",
    "# plot a histogram using these b_0s volume of the thresholded scan\n",
    "analysis(thresholded_scan, gtable[0], \"PETMR - Reference scan (Thresholded)\", 2400)\n",
    "\n",
    "# Store the thresholded scan\n",
    "thresholded_scan_img = nib.Nifti1Image(thresholded_scan.astype(np.float32), affine_mat)\n",
    "nib.save(thresholded_scan_img, str(petmr_data_path)+ \"/Subj1Scan1/Brain_Extracted_Thresholded.nii.gz\" )"
   ]
  }
 ],
 "metadata": {
  "kernelspec": {
   "display_name": "Python 2",
   "language": "python",
   "name": "python2"
  },
  "language_info": {
   "codemirror_mode": {
    "name": "ipython",
    "version": 2
   },
   "file_extension": ".py",
   "mimetype": "text/x-python",
   "name": "python",
   "nbconvert_exporter": "python",
   "pygments_lexer": "ipython2",
   "version": "2.7.10"
  }
 },
 "nbformat": 4,
 "nbformat_minor": 2
}
