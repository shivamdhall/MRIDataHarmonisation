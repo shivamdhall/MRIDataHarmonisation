{
 "cells": [
  {
   "cell_type": "markdown",
   "metadata": {},
   "source": [
    "# CNN - Final model"
   ]
  },
  {
   "cell_type": "markdown",
   "metadata": {},
   "source": [
    "Here we develop a CNN that takes as input a square patch of voxels from the PETMR scans and predicts the corresponding central voxel of the TRIO scan. Note we only use b=0 intensity values"
   ]
  },
  {
   "cell_type": "markdown",
   "metadata": {},
   "source": [
    "### Upload the data required"
   ]
  },
  {
   "cell_type": "markdown",
   "metadata": {},
   "source": [
    "We use both scans of subjects 1-8 from the PETMR and TRIO dataset for training.\n",
    "\n",
    "We used the scan of subjects 9-10 also from the PETMR and TRIO dataset for testing."
   ]
  },
  {
   "cell_type": "markdown",
   "metadata": {},
   "source": [
    "## FUNCTIONS"
   ]
  },
  {
   "cell_type": "code",
   "execution_count": 1,
   "metadata": {
    "collapsed": true
   },
   "outputs": [],
   "source": [
    "import nibabel as nib\n",
    "import numpy as np\n",
    "import matplotlib.pyplot as plt\n",
    "import os\n",
    "%matplotlib inline\n",
    "import sys\n",
    "from dipy.io import read_bvals_bvecs\n",
    "from dipy.core.gradients import gradient_table\n",
    "from IPython import display\n",
    "import random"
   ]
  },
  {
   "cell_type": "code",
   "execution_count": 2,
   "metadata": {
    "collapsed": false
   },
   "outputs": [],
   "source": [
    "#this function simply uploads the testing and training scans into lists of numpy arrays\n",
    "#the data is not yet sliced or patched at this stage\n",
    "\n",
    "#specify in a list what scans to use for training and what scans to use for testing\n",
    "\n",
    "\n",
    "def get_data(petmr_path, trio_path, scans_dict, input_scanner):\n",
    "    \n",
    "    train_val_test_inp = []\n",
    "    train_val_test_out1 = []\n",
    "    train_val_test_out2 = []\n",
    "    test_data_inp = []\n",
    "    test_data_out1 = []\n",
    "    test_data_out2 = []\n",
    "    \n",
    "    if input_scanner == \"PETMR\":\n",
    "        input_path = petmr_path\n",
    "        output_path = trio_path\n",
    "    else:\n",
    "        input_path = trio_path\n",
    "        output_path = petmr_path       \n",
    "    \n",
    "    for key, subjs in scans_dict.iteritems():\n",
    "        for subj_scan in subjs:\n",
    "                \n",
    "            input_scan_image = nib.load(str(input_path) + \"/Subj\" + str(subj_scan[0]) + \"Scan\" + str(subj_scan[1]) + \"/Brain_Matched.nii.gz\")\n",
    "            input_scan_data = input_scan_image.get_data()\n",
    "                \n",
    "            # Important : Upload the output scan that is registered to the appropriate input scan\n",
    "            output_scan_image1 = nib.load(str(output_path) + \"/Subj\" + str(subj_scan[0]) + \"Scan1\" + \"/Brain_Matched_Scan\" + str(subj_scan[1]) + \".nii.gz\")\n",
    "            output_scan_data1 = output_scan_image1.get_data()\n",
    "            \n",
    "            output_scan_image2 = nib.load(str(output_path) + \"/Subj\" + str(subj_scan[0]) + \"Scan2\" + \"/Brain_Matched_Scan\" + str(subj_scan[1]) + \".nii.gz\")\n",
    "            output_scan_data2 = output_scan_image2.get_data()\n",
    "                \n",
    "            input_bvals_scan, input_bvecs_scan = read_bvals_bvecs(str(input_path) + \"/Subj\" + str(subj_scan[0]) + \"Scan\" + str(subj_scan[1]) + \"/NODDI.bval\",\\\n",
    "                                                          str(input_path) + \"/Subj\" + str(subj_scan[0]) + \"Scan\" + str(subj_scan[1]) + \"/NODDI.bvec\")\n",
    "                \n",
    "            output_bvals_scan1, output_bvecs_scan1 = read_bvals_bvecs(str(output_path) + \"/Subj\" + str(subj_scan[0]) + \"Scan1/NODDI.bval\",\\\n",
    "                                                          str(output_path) + \"/Subj\" + str(subj_scan[0]) + \"Scan1/NODDI.bvec\")\n",
    "            \n",
    "            output_bvals_scan2, output_bvecs_scan2 = read_bvals_bvecs(str(output_path) + \"/Subj\" + str(subj_scan[0]) + \"Scan2/NODDI.bval\",\\\n",
    "                                                          str(output_path) + \"/Subj\" + str(subj_scan[0]) + \"Scan2/NODDI.bvec\")\n",
    "                \n",
    "            #set a threshold value for b=0 values (due to TRIO dataset)\n",
    "            input_gtab_scan = gradient_table(input_bvals_scan, input_bvecs_scan, b0_threshold=5)\n",
    "            input_s0s_scan = input_scan_data[:, :, :, input_gtab_scan.b0s_mask]\n",
    "                \n",
    "            output_gtab_scan1 = gradient_table(output_bvals_scan1, output_bvecs_scan1, b0_threshold=5)\n",
    "            output_s0s_scan1 = output_scan_data1[:, :, :, output_gtab_scan1.b0s_mask]\n",
    "            \n",
    "            output_gtab_scan2 = gradient_table(output_bvals_scan2, output_bvecs_scan2, b0_threshold=5)\n",
    "            output_s0s_scan2 = output_scan_data2[:, :, :, output_gtab_scan2.b0s_mask]\n",
    "                \n",
    "            # Use only the first volume, ignore other volumes\n",
    "            if(key == \"train_val_test\"):\n",
    "                print (\"Uploading Subject %s Scan %s\" % (str(subj_scan[0]), str(subj_scan[1])))\n",
    "                #append the data to the lists containing the training inputs and outputs\n",
    "                train_val_test_inp.append(input_s0s_scan[:,:,:,[0]])\n",
    "                train_val_test_out1.append(output_s0s_scan1[:,:,:,[0]])\n",
    "                train_val_test_out2.append(output_s0s_scan2[:,:,:,[0]])\n",
    "            else:\n",
    "                print (\"Testing: Subject %s Scan %s\" % (str(subj_scan[0]), str(subj_scan[1])))\n",
    "                test_data_inp.append(input_s0s_scan[:,:,:,[0]])\n",
    "                test_data_out1.append(output_s0s_scan1[:,:,:,[0]])\n",
    "                test_data_out2.append(output_s0s_scan2[:,:,:,[0]])\n",
    "    return (train_val_test_inp, train_val_test_out1, train_val_test_out2, test_data_inp, test_data_out1, test_data_out2, output_scan_image1.affine)"
   ]
  },
  {
   "cell_type": "code",
   "execution_count": 3,
   "metadata": {
    "collapsed": true
   },
   "outputs": [],
   "source": [
    "#This function extracts patches from a scan and appends them to a list.\n",
    "#This is done for all volumes of a scan (for both the inputs and targets)\n",
    "\n",
    "def patchify(data_scans_inp, data_scans_out1, data_scans_out2, patch_size):\n",
    "    \n",
    "    input_patches_store = []\n",
    "    target_patches_store1 = []\n",
    "    target_patches_store2 = []\n",
    "    \n",
    "    for scan_no in range(0, len(data_scans_inp)):\n",
    "        input_scan = data_scans_inp[scan_no]\n",
    "        target_scan1 = data_scans_out1[scan_no]\n",
    "        target_scan2 = data_scans_out2[scan_no]\n",
    "        \n",
    "        (x,y,z,v) = input_scan.shape\n",
    "        if((patch_size-1) % 2 != 0):\n",
    "            print \"The patch size is not compatible\"\n",
    "            return\n",
    "        padding = ((patch_size-1)/2)\n",
    "        #pad the input scan\n",
    "        full_padding = ((padding, padding), (padding, padding), (padding,padding), (0,0))\n",
    "        padded_scan = np.pad(input_scan, full_padding, mode='constant', constant_values=0)\n",
    "\n",
    "        #extract patches from the input scan\n",
    "\n",
    "        #iterate through each volume to extract the patches\n",
    "        for volume in range(0, v):\n",
    "            for pos_x in range(0, x):\n",
    "                for pos_y in range(0,y):\n",
    "                    for pos_z in range(0, z):\n",
    "                        input_patch = padded_scan[pos_x:pos_x+patch_size, pos_y:pos_y+patch_size, pos_z:pos_z+patch_size, volume]\n",
    "                        target_voxel1 = target_scan1[pos_x,pos_y,pos_z,volume]\n",
    "                        target_voxel2 = target_scan2[pos_x,pos_y,pos_z,volume]\n",
    "                        \n",
    "                        #store the patch and the target\n",
    "                        input_patches_store.append(input_patch)\n",
    "                        target_patches_store1.append(target_voxel1)\n",
    "                        target_patches_store2.append(target_voxel2)\n",
    "                        \n",
    "    return (input_patches_store, target_patches_store1, target_patches_store2)\n",
    "\n",
    "\n"
   ]
  },
  {
   "cell_type": "code",
   "execution_count": 4,
   "metadata": {
    "collapsed": true
   },
   "outputs": [],
   "source": [
    "#This function extracts patches from a scan and appends them to a list.\n",
    "#This is done for all volumes of a scan (for both the inputs and targets)\n",
    "#This version of the functions only considers voxels wholly contained within the brain\n",
    "\n",
    "def patchify_brain_only(data_scans_inp, data_scans_out1, data_scans_out2, patch_size):\n",
    "    \n",
    "    input_patches_store = []\n",
    "    target_patches_store1 = []\n",
    "    target_patches_store2 = []\n",
    "    \n",
    "    for scan_no in range(0, len(data_scans_inp)):\n",
    "        input_scan = data_scans_inp[scan_no]\n",
    "        target_scan1 = data_scans_out1[scan_no]\n",
    "        target_scan2 = data_scans_out2[scan_no]\n",
    "        \n",
    "        (x,y,z,v) = input_scan.shape\n",
    "        if((patch_size-1) % 2 != 0):\n",
    "            print \"The patch size is not compatible\"\n",
    "            return\n",
    "        padding = ((patch_size-1)/2)\n",
    "        #pad the input scan\n",
    "        full_padding = ((padding, padding), (padding, padding), (padding,padding), (0,0))\n",
    "        padded_scan = np.pad(input_scan, full_padding, mode='constant', constant_values=0)\n",
    "\n",
    "        #extract patches from the input scan\n",
    "\n",
    "        #iterate through each volume to extract the patches\n",
    "        for volume in range(0, v):\n",
    "            for pos_x in range(0, x):\n",
    "                for pos_y in range(0,y):\n",
    "                    for pos_z in range(0, z):\n",
    "                        # Exclude all background voxels\n",
    "                        if(input_scan[pos_x,pos_y,pos_z,volume] == 0):\n",
    "                            continue\n",
    "                        input_patch = padded_scan[pos_x:pos_x+patch_size, pos_y:pos_y+patch_size, pos_z:pos_z+patch_size, volume]\n",
    "                        target_voxel1 = target_scan1[pos_x,pos_y,pos_z,volume]\n",
    "                        target_voxel2 = target_scan2[pos_x,pos_y,pos_z,volume]\n",
    "                        # Exclude all patches that contain artefacts\n",
    "                        if input_patch.min() < 0:\n",
    "                            continue\n",
    "                            \n",
    "                        #store the patch and the target\n",
    "                        input_patches_store.append(input_patch)\n",
    "                        target_patches_store1.append(target_voxel1)\n",
    "                        target_patches_store2.append(target_voxel2)\n",
    "                        \n",
    "    return (input_patches_store, target_patches_store1, target_patches_store2)"
   ]
  },
  {
   "cell_type": "code",
   "execution_count": 5,
   "metadata": {
    "collapsed": true
   },
   "outputs": [],
   "source": [
    "def split_data(input_list, output_list1, output_list2, train_prop, val_prop, test_prop):\n",
    "    length = len(input_list)\n",
    "    indexes = range(length)\n",
    "    # Randomly shuffle the indexes\n",
    "    random.shuffle(indexes)\n",
    "    \n",
    "    train_len = int(round(length * train_prop))\n",
    "    val_len = int(round(length * val_prop))\n",
    "    test_len = int(length - train_len - val_len)\n",
    "\n",
    "    train_indices = indexes[:train_len]\n",
    "    val_indices = indexes[train_len:train_len+val_len]\n",
    "    test_indices = indexes[train_len+val_len:]\n",
    "\n",
    "    training_input = [input_list[i] for i in train_indices]\n",
    "    training_output = [output_list1[i] for i in train_indices]\n",
    "    \n",
    "    validation_input = [input_list[i] for i in val_indices]\n",
    "    validation_output = [output_list1[i] for i in val_indices]\n",
    "    \n",
    "    testing_input = [input_list[i] for i in test_indices]\n",
    "    testing_output1 = [output_list1[i] for i in test_indices]\n",
    "    testing_output2 = [output_list2[i] for i in test_indices]\n",
    "    \n",
    "    return(training_input, training_output, validation_input, validation_output, testing_input, testing_output1, testing_output2)"
   ]
  },
  {
   "cell_type": "code",
   "execution_count": 6,
   "metadata": {
    "collapsed": true
   },
   "outputs": [],
   "source": [
    "def normalise(dataset, mean=None, std=None):\n",
    "    data_array = np.array(dataset)\n",
    "    if mean==None and std==None:\n",
    "        # This is the training data\n",
    "        mean = np.mean(data_array)\n",
    "        std = np.std(data_array)\n",
    "    # Normalise the data\n",
    "    data_array = (data_array - mean)/std\n",
    "    return (data_array, mean, std)"
   ]
  },
  {
   "cell_type": "code",
   "execution_count": 7,
   "metadata": {
    "collapsed": true
   },
   "outputs": [],
   "source": [
    "def viz_pred(inputs, predictions, labels, sliceNo):\n",
    "    plt.figure\n",
    "    plt.figure(figsize=(10,10))\n",
    "    plt.subplot(1, 3, 1).set_axis_off()\n",
    "    plt.imshow(inputs[:,:,sliceNo,0].T, cmap='gray', origin='lower')\n",
    "    plt.title(\"Input\")\n",
    "    plt.subplot(1, 3, 2).set_axis_off()\n",
    "    plt.imshow(predictions[:,:,sliceNo,0].T, cmap='gray', origin='lower')\n",
    "    plt.title(\"Predicted\")\n",
    "    plt.subplot(1, 3, 3).set_axis_off()\n",
    "    plt.imshow(labels[:,:,sliceNo,0].T, cmap='gray', origin='lower')\n",
    "    plt.title(\"Target\")\n",
    "    plt.show()"
   ]
  },
  {
   "cell_type": "markdown",
   "metadata": {},
   "source": [
    "-------------------------------------------------------------------------------------------------------\n",
    "---\n",
    "\n",
    "-------------------------------------------------------------------------------------------------------\n",
    "---\n",
    "\n"
   ]
  },
  {
   "cell_type": "markdown",
   "metadata": {},
   "source": [
    "#### Upload the data"
   ]
  },
  {
   "cell_type": "code",
   "execution_count": 8,
   "metadata": {
    "collapsed": false,
    "scrolled": true
   },
   "outputs": [
    {
     "name": "stdout",
     "output_type": "stream",
     "text": [
      "Uploading Subject 1 Scan 1\n",
      "Uploading Subject 2 Scan 1\n",
      "Testing: Subject 5 Scan 1\n",
      "Number of scans used for training, validation and testing: 2\n",
      "Number of scans used for final testing: 1\n"
     ]
    }
   ],
   "source": [
    "#upload the data\n",
    "petmr_data_path = '/Volumes/Seagate Backup Plus Drive/Project/Dataset/PETMR_data'\n",
    "trio_data_path = '/Volumes/Seagate Backup Plus Drive/Project/Dataset/TRIO_data'\n",
    "\n",
    "# Enter a list of tuples (subject, scan_number)\n",
    "# Use this to get all scans then split into training, validation and testing\n",
    "train_val_test_scans = [(1,1), (2,1)]\n",
    "\n",
    "# This is a final test scan only - used to generate a complete scan from the trained CNN\n",
    "testing_scans = [(5,1)]\n",
    "\n",
    "data_dict = {\"train_val_test\": train_val_test_scans, \"testing\":testing_scans}\n",
    "\n",
    "(train_val_test_inp, train_val_test_out1, train_val_test_out2, final_test_inp, final_test_out1, final_test_out2, affine_mat) = \\\n",
    "        get_data(petmr_data_path, trio_data_path, data_dict, input_scanner=\"PETMR\")\n",
    "print(\"Number of scans used for training, validation and testing: %d\" % len(train_val_test_inp))\n",
    "print (\"Number of scans used for final testing: %d\" % len(final_test_inp))"
   ]
  },
  {
   "cell_type": "markdown",
   "metadata": {},
   "source": [
    "#### Patchify up the data"
   ]
  },
  {
   "cell_type": "code",
   "execution_count": 9,
   "metadata": {
    "collapsed": false
   },
   "outputs": [
    {
     "name": "stdout",
     "output_type": "stream",
     "text": [
      "Patchifying training, validation and testing set\n",
      "Patchifying final testing scan\n"
     ]
    }
   ],
   "source": [
    "print \"Patchifying training, validation and testing set\"\n",
    "(train_val_test_input, train_val_test_target1, train_val_test_target2) = patchify_brain_only(train_val_test_inp, train_val_test_out1, train_val_test_out2, 9)\n",
    "\n",
    "print \"Patchifying final testing scan\"\n",
    "(final_testing_input, final_testing_target1, final_testing_target2) = patchify(final_test_inp, final_test_out1, final_test_out2, 9)"
   ]
  },
  {
   "cell_type": "code",
   "execution_count": 10,
   "metadata": {
    "collapsed": false
   },
   "outputs": [
    {
     "name": "stdout",
     "output_type": "stream",
     "text": [
      "Nember of training, validation and testing examples : 161269\n",
      "Nember of final testing examples : 194616\n"
     ]
    }
   ],
   "source": [
    "print (\"Nember of training, validation and testing examples : %d\" % len(train_val_test_input))\n",
    "print (\"Nember of final testing examples : %d\" % len(final_testing_input))"
   ]
  },
  {
   "cell_type": "markdown",
   "metadata": {},
   "source": [
    "#### Randomly split the data into training validation and testing sets"
   ]
  },
  {
   "cell_type": "code",
   "execution_count": 11,
   "metadata": {
    "collapsed": false
   },
   "outputs": [],
   "source": [
    "training_input, training_target, validation_input, validation_target, testing_input, testing_target1, testing_target2 = \\\n",
    "        split_data(train_val_test_input, train_val_test_target1, train_val_test_target2, 0.70, 0.15, 0.15)"
   ]
  },
  {
   "cell_type": "code",
   "execution_count": 12,
   "metadata": {
    "collapsed": false
   },
   "outputs": [
    {
     "name": "stdout",
     "output_type": "stream",
     "text": [
      "Nember of training examples : 112888\n",
      "Nember of Validation examples : 24190\n",
      "Nember of testing examples : 24191\n"
     ]
    }
   ],
   "source": [
    "print (\"Nember of training examples : %d\" % len(training_input))\n",
    "print (\"Nember of Validation examples : %d\" % len(validation_input))\n",
    "print (\"Nember of testing examples : %d\" % len(testing_input))"
   ]
  },
  {
   "cell_type": "markdown",
   "metadata": {},
   "source": [
    "## PYTORCH FUNCTIONS"
   ]
  },
  {
   "cell_type": "code",
   "execution_count": 13,
   "metadata": {
    "collapsed": true
   },
   "outputs": [],
   "source": [
    "import torch\n",
    "import torchvision\n",
    "import torchvision.transforms as transforms\n",
    "from torch.utils.data import Dataset\n",
    "from torch.utils.data import DataLoader\n",
    "import torch.optim as optim\n",
    "from torch.autograd import Variable\n",
    "import torch.nn as nn\n",
    "import torch.nn.functional as F"
   ]
  },
  {
   "cell_type": "code",
   "execution_count": 14,
   "metadata": {
    "collapsed": true
   },
   "outputs": [],
   "source": [
    "#create a dataset class for our data\n",
    "\n",
    "class MRIdataset(Dataset):\n",
    "    \"\"\"MRI b=0 dataset for patches.\"\"\"\n",
    "\n",
    "    def __init__(self, input_patches, target_patches, transform=None):\n",
    "        \"\"\"\n",
    "        Args:\n",
    "            input_patches: Input patches\n",
    "            target_patches: Corresponding target patches of the input patches\n",
    "            transform (callable, optional): Optional transform to be applied\n",
    "            on a sample.\n",
    "        \"\"\"\n",
    "        self.input_patches = input_patches\n",
    "        self.target_patches = target_patches\n",
    "        self.transform = transform\n",
    "\n",
    "    def __len__(self):\n",
    "        return len(self.input_patches)\n",
    "\n",
    "    def __getitem__(self, idx):\n",
    "        input_patch = np.array(self.input_patches[idx])\n",
    "        target_patch = np.array(self.target_patches[idx])\n",
    "        sample = {'input': input_patch, 'target': target_patch}\n",
    "        \n",
    "\n",
    "        if self.transform:\n",
    "            sample = self.transform(sample)\n",
    "            \n",
    "        return sample\n"
   ]
  },
  {
   "cell_type": "code",
   "execution_count": 15,
   "metadata": {
    "collapsed": true
   },
   "outputs": [],
   "source": [
    "class To_Tensor(object):\n",
    "    \"\"\"Convert ndarrays in sample to Tensors.\"\"\"\n",
    "\n",
    "    def __call__(self, sample):\n",
    "        inp, out = sample['input'], sample['target']\n",
    "        \n",
    "        #first expand dimension because torch expects H x W x D x C\n",
    "        #currently we only have H x W x D\n",
    "        aug_inp = np.expand_dims(inp, 3)\n",
    "        \n",
    "        #The target is a single voxel,\n",
    "        #expand its dimensions because torch wants an array\n",
    "        aug_out = np.array([out])\n",
    "\n",
    "        # swap channel axis because\n",
    "        # numpy: H x W x D x C\n",
    "        # torch: C x D x H x W\n",
    "        aug_inp = aug_inp.transpose((3, 2, 0, 1))\n",
    "        \n",
    "        return {'input': torch.Tensor(aug_inp),\n",
    "                'target': torch.Tensor(aug_out)}\n",
    "\n"
   ]
  },
  {
   "cell_type": "code",
   "execution_count": 16,
   "metadata": {
    "collapsed": false
   },
   "outputs": [],
   "source": [
    "def train(net, trainloader, valiloader, training_losses, validation_losses, optimizer, criterion, epochs):\n",
    "\n",
    "    for epoch in range(epochs):  # loop over the dataset multiple times\n",
    "        net.train()\n",
    "        running_loss = 0.0\n",
    "        for i, data in enumerate(trainloader, 0): #done in batches\n",
    "            # get the inputs\n",
    "            inputs = data['input']\n",
    "            labels = data['target']\n",
    "\n",
    "            # wrap them in Variable\n",
    "            inputs, labels = Variable(inputs), Variable(labels)\n",
    "\n",
    "            # zero the parameter gradients\n",
    "            optimizer.zero_grad()\n",
    "\n",
    "            # forward + backward + optimize/update weights\n",
    "            outputs = net(inputs)\n",
    "            loss = criterion(outputs, labels)\n",
    "            loss.backward()\n",
    "            optimizer.step()\n",
    "\n",
    "            # print statistics\n",
    "            running_loss += loss.data[0] #loss is a variable tensor of size 1, we index to get the value out\n",
    "            if i % 100 == 99:    # print every 250 mini-batches\n",
    "                total_loss = running_loss / i\n",
    "                print('[%d, %5d] --- Losss = %.5f' % (epoch + 1, i + 1, total_loss))\n",
    "                \n",
    "        total_loss = running_loss / (i+1)\n",
    "        training_losses.append(total_loss)        \n",
    "        print('Training loss iteration %d = %.5f' % (epoch+1, total_loss ))\n",
    "        \n",
    "        # After each epoch evaluat the performance of the CNN on the validation set\n",
    "        net.eval()   \n",
    "        validation_error = 0\n",
    "        total = 0\n",
    "        for validation_data in valiloader: #batch processing\n",
    "            validation_inputs = validation_data['input']\n",
    "            validation_labels = validation_data['target']\n",
    "            total += 1\n",
    "\n",
    "            validation_predictions = net(Variable(validation_inputs))\n",
    "            validation_error += (torch.nn.functional.mse_loss(validation_predictions.data, validation_labels)).data[0]\n",
    "            \n",
    "        validation_error /= total\n",
    "        print('MSE on validation set: %f' % (validation_error))\n",
    "        validation_losses.append(validation_error)\n",
    " \n",
    "    print('Finished Training')\n",
    "    return (net, training_losses, validation_losses)"
   ]
  },
  {
   "cell_type": "code",
   "execution_count": 17,
   "metadata": {
    "collapsed": true
   },
   "outputs": [],
   "source": [
    "def plt_losses(training_losses, validation_losses):\n",
    "    plt.figure\n",
    "    plt.plot(range(1,len(training_losses)+1), training_losses, 'r-', label=\"Training error\")\n",
    "    plt.plot(range(1,len(validation_losses)+1), validation_losses, 'r-', label=\"Validation error\")\n",
    "    plt.legend()\n",
    "    plt.xlabel('iteration')\n",
    "    # Make the y-axis label, ticks and tick labels match the line color.\n",
    "    plt.ylabel('Loss - (MSE)')\n",
    "    plt.show()"
   ]
  },
  {
   "cell_type": "code",
   "execution_count": 18,
   "metadata": {
    "collapsed": false
   },
   "outputs": [],
   "source": [
    " def testing_error(net, testloader):\n",
    "    net.eval()\n",
    "    MSE_test_error = 0\n",
    "    L1_test_error = 0\n",
    "    total = 0\n",
    "    for test_data in testloader: #batch processing\n",
    "        test_inputs = test_data['input']\n",
    "        test_labels = test_data['target']\n",
    "        total += 1\n",
    "\n",
    "        test_predictions = net(Variable(test_inputs))\n",
    "        \n",
    "        MSE_test_error += (torch.nn.functional.mse_loss(test_predictions.data, test_labels)).data[0]\n",
    "\n",
    "        L1_test_error += (torch.nn.functional.l1_loss(test_predictions.data, test_labels)).data[0]\n",
    "        \n",
    "    MSE_test_error /= total\n",
    "    L1_test_error /= total\n",
    "    \n",
    "    return (MSE_test_error, L1_test_error)"
   ]
  },
  {
   "cell_type": "code",
   "execution_count": 19,
   "metadata": {
    "collapsed": true
   },
   "outputs": [],
   "source": [
    "def get_predictions(net, testloader):\n",
    "    net.eval()\n",
    "    for index, test_data in enumerate(testloader):\n",
    "        test_inputs = test_data['input']\n",
    "        test_labels = test_data['target']\n",
    "        if index % 250 == 0:\n",
    "            print index\n",
    "\n",
    "        #store the predictions in a numpy array whic we can reshape later\n",
    "        test_predictions = net(Variable(test_inputs))\n",
    "        if(index == 0):\n",
    "            predictions = test_predictions.data.numpy() \n",
    "\n",
    "        else:\n",
    "            predictions = np.concatenate((predictions, test_predictions.data.numpy()), axis=0)\n",
    "            \n",
    "    #convert back to numpy dimensions of (HxWxDxCxNumbExpls)\n",
    "    predictions = predictions.transpose(3,4,2,1,0)\n",
    "    return predictions\n",
    "    "
   ]
  },
  {
   "cell_type": "code",
   "execution_count": 20,
   "metadata": {
    "collapsed": true
   },
   "outputs": [],
   "source": [
    "def replace_background(prediction, input_scan):\n",
    "    background_mask = input_scan == 0\n",
    "    prediction[background_mask] = 0\n",
    "    \n",
    "    return prediction"
   ]
  },
  {
   "cell_type": "code",
   "execution_count": 21,
   "metadata": {
    "collapsed": true
   },
   "outputs": [],
   "source": [
    "def reconstruct_brain(predictions, dimensions):\n",
    "    \n",
    "    size_x = dimensions[0]\n",
    "    size_y = dimensions[1]\n",
    "    size_z = dimensions[2]\n",
    "    size_v = dimensions[3]\n",
    "    #assume we have given it a single scan to reconstruct\n",
    "    reconstructed = np.reshape(predictions, [size_v, size_x, size_y, size_z], order='C')\n",
    "    reconstructed = reconstructed.transpose(1,2,3,0)\n",
    "    return reconstructed"
   ]
  },
  {
   "cell_type": "markdown",
   "metadata": {},
   "source": [
    "-------------------------------------------------------------------------------------------------------\n",
    "---\n",
    "\n",
    "-------------------------------------------------------------------------------------------------------\n",
    "---\n",
    "\n"
   ]
  },
  {
   "cell_type": "markdown",
   "metadata": {},
   "source": [
    "### Upload the data using pytorch data loaders"
   ]
  },
  {
   "cell_type": "code",
   "execution_count": 22,
   "metadata": {
    "collapsed": false
   },
   "outputs": [],
   "source": [
    "training_dataset = MRIdataset(training_input, training_target, transform=transforms.Compose([To_Tensor()]))\n",
    "validation_dataset = MRIdataset(validation_input, validation_target, transform=transforms.Compose([To_Tensor()]))\n",
    "testing_dataset = MRIdataset(testing_input, testing_target1, transform=transforms.Compose([To_Tensor()]))\n",
    "\n",
    "final_testing_dataset = MRIdataset(final_testing_input, final_testing_target1, transform=transforms.Compose([To_Tensor()]))"
   ]
  },
  {
   "cell_type": "code",
   "execution_count": 23,
   "metadata": {
    "collapsed": true
   },
   "outputs": [],
   "source": [
    "trainloader = DataLoader(training_dataset, batch_size=128,\n",
    "                        shuffle=True, num_workers=8)\n",
    "\n",
    "valiloader = DataLoader(validation_dataset, batch_size=128,\n",
    "                        shuffle=True, num_workers=8)\n",
    "\n",
    "testloader = DataLoader(testing_dataset, batch_size=128,\n",
    "                        shuffle=False, num_workers=8)\n",
    "\n",
    "final_test_loader = DataLoader(final_testing_dataset, batch_size=128,\n",
    "                        shuffle=False, num_workers=8)"
   ]
  },
  {
   "cell_type": "markdown",
   "metadata": {},
   "source": [
    "### Develop CNN"
   ]
  },
  {
   "cell_type": "markdown",
   "metadata": {},
   "source": [
    "Conv -> Batch -> Relu -> Conv -> Batch -> Relu -> Conv -> Batch -> Relu -> Conv -> Relu\n",
    "\n",
    "--(WxHx2x1)--\n",
    "\n",
    "conv1 = receptive field -> (3x3x3), zero padding -> 2,  number of filters -> 10\n",
    "\n",
    "--(W+2xH+2x4x10)--\n",
    "\n",
    "--BATCH then RELU--\n",
    "\n",
    "conv2 = receptive field -> (1x1x1), number of filters -> 15\n",
    "\n",
    "--(W+2xH+2x4x15)--\n",
    "\n",
    "--BATCH then RELU--\n",
    "\n",
    "conv3 = receptive field -> (3x3x3), number of filters -> 15\n",
    "\n",
    "--(WxHx2x15)--\n",
    "\n",
    "--BATCH then RELU--\n",
    "\n",
    "conv4 = receptive field -> (1x1x2), number of filters -> 1\n",
    "\n",
    "--(WxHx1x1)--\n",
    "\n",
    "--RELU--\n",
    "\n",
    "\n"
   ]
  },
  {
   "cell_type": "code",
   "execution_count": 24,
   "metadata": {
    "collapsed": false
   },
   "outputs": [
    {
     "name": "stdout",
     "output_type": "stream",
     "text": [
      "Net (\n",
      "  (conv1): Conv3d(1, 10, kernel_size=(3, 3, 3), stride=(1, 1, 1))\n",
      "  (batch1): BatchNorm2d(10, eps=1e-05, momentum=0.1, affine=True)\n",
      "  (drop1): Dropout (p = 0.2)\n",
      "  (conv2): Conv3d(10, 15, kernel_size=(1, 1, 1), stride=(1, 1, 1))\n",
      "  (batch2): BatchNorm2d(15, eps=1e-05, momentum=0.1, affine=True)\n",
      "  (drop2): Dropout (p = 0.2)\n",
      "  (conv3): Conv3d(15, 15, kernel_size=(3, 3, 3), stride=(1, 1, 1))\n",
      "  (batch3): BatchNorm2d(15, eps=1e-05, momentum=0.1, affine=True)\n",
      "  (drop3): Dropout (p = 0.2)\n",
      "  (conv4): Conv3d(15, 15, kernel_size=(1, 1, 1), stride=(1, 1, 1))\n",
      "  (batch4): BatchNorm2d(15, eps=1e-05, momentum=0.1, affine=True)\n",
      "  (drop4): Dropout (p = 0.2)\n",
      "  (conv5): Conv3d(15, 15, kernel_size=(3, 3, 3), stride=(1, 1, 1))\n",
      "  (batch5): BatchNorm2d(15, eps=1e-05, momentum=0.1, affine=True)\n",
      "  (drop5): Dropout (p = 0.2)\n",
      "  (conv6): Conv3d(15, 15, kernel_size=(1, 1, 1), stride=(1, 1, 1))\n",
      "  (batch6): BatchNorm2d(15, eps=1e-05, momentum=0.1, affine=True)\n",
      "  (drop6): Dropout (p = 0.2)\n",
      "  (conv7): Conv3d(15, 1, kernel_size=(3, 3, 3), stride=(1, 1, 1))\n",
      ")\n"
     ]
    }
   ],
   "source": [
    "class Net(nn.Module):\n",
    "    \n",
    "    def __init__(self):\n",
    "        super(Net, self).__init__()\n",
    "        self.conv1 = nn.Conv3d(1, 10, 3)\n",
    "        self.batch1 = nn.BatchNorm2d(10)\n",
    "        self.drop1 = nn.Dropout(p=0.2)\n",
    "        self.conv2 = nn.Conv3d(10, 15, 1)\n",
    "        self.batch2 = nn.BatchNorm2d(15)\n",
    "        self.drop2 = nn.Dropout(p=0.2)\n",
    "        self.conv3 = nn.Conv3d(15, 15, 3)\n",
    "        self.batch3 = nn.BatchNorm2d(15)\n",
    "        self.drop3 = nn.Dropout(p=0.2)\n",
    "        self.conv4 = nn.Conv3d(15, 15, 1)\n",
    "        self.batch4 = nn.BatchNorm2d(15)\n",
    "        self.drop4 = nn.Dropout(p=0.2)\n",
    "        self.conv5 = nn.Conv3d(15, 15, 3)\n",
    "        self.batch5 = nn.BatchNorm2d(15)\n",
    "        self.drop5 = nn.Dropout(p=0.2)\n",
    "        self.conv6 = nn.Conv3d(15, 15, 1)\n",
    "        self.batch6 = nn.BatchNorm2d(15)\n",
    "        self.drop6 = nn.Dropout(p=0.2)\n",
    "        self.conv7 = nn.Conv3d(15, 1, 3)\n",
    "        \n",
    "        \n",
    "\n",
    "    #note this method isn't called explicitly during train, \n",
    "    #rather the instance object is called as pytorch is then \n",
    "    #able to take care of other stuff in the background\n",
    "    def forward(self, x):\n",
    "        x = F.relu(self.batch1(self.conv1(x)))\n",
    "        x = F.relu(self.batch2(self.conv2(x)))\n",
    "        x = F.relu(self.batch3(self.conv3(x)))\n",
    "        x = F.relu(self.batch4(self.conv4(x)))\n",
    "        x = F.relu(self.batch5(self.conv5(x)))\n",
    "        x = F.relu(self.batch6(self.conv6(x)))\n",
    "        x = F.relu(self.conv7(x))\n",
    "        return x\n",
    "\n",
    "\n",
    "net = Net()\n",
    "print(net)"
   ]
  },
  {
   "cell_type": "markdown",
   "metadata": {},
   "source": [
    "### Define loss function and optimization algorithm"
   ]
  },
  {
   "cell_type": "code",
   "execution_count": 25,
   "metadata": {
    "collapsed": true
   },
   "outputs": [],
   "source": [
    "#here we use MSE loss\n",
    "criterion = nn.MSELoss() #returns the sum over a mini-batch as opposed to the average\n",
    "optimizer = optim.Adam(net.parameters(), lr=0.01)"
   ]
  },
  {
   "cell_type": "markdown",
   "metadata": {},
   "source": [
    "### Train CNN"
   ]
  },
  {
   "cell_type": "code",
   "execution_count": 26,
   "metadata": {
    "collapsed": true
   },
   "outputs": [],
   "source": [
    "training_losses = []\n",
    "validation_losses = []"
   ]
  },
  {
   "cell_type": "code",
   "execution_count": 27,
   "metadata": {
    "collapsed": false,
    "scrolled": true
   },
   "outputs": [
    {
     "name": "stdout",
     "output_type": "stream",
     "text": [
      "[1,   100] --- Losss = 61269.84407\n",
      "[1,   200] --- Losss = 37882.88925\n",
      "[1,   300] --- Losss = 29576.12691\n",
      "[1,   400] --- Losss = 25176.08837\n",
      "[1,   500] --- Losss = 22383.42050\n",
      "[1,   600] --- Losss = 20371.53865\n",
      "[1,   700] --- Losss = 18791.38243\n",
      "[1,   800] --- Losss = 17521.14370\n",
      "Training loss iteration 1 = 16681.39974\n",
      "MSE on validation set: 8330.560776\n",
      "Finished Training\n"
     ]
    }
   ],
   "source": [
    "(trained_net, training_losses, validation_losses) = train(net, trainloader, valiloader, training_losses, validation_losses, optimizer, criterion, 1)"
   ]
  },
  {
   "cell_type": "code",
   "execution_count": 28,
   "metadata": {
    "collapsed": false
   },
   "outputs": [
    {
     "data": {
      "image/png": "[encoded data removed]",
      "text/plain": [
       "<matplotlib.figure.Figure at 0x11f5cb950>"
      ]
     },
     "metadata": {},
     "output_type": "display_data"
    }
   ],
   "source": [
    "plt_losses(training_losses, validation_losses)"
   ]
  },
  {
   "cell_type": "markdown",
   "metadata": {},
   "source": [
    "### Calculate the test error - random patches"
   ]
  },
  {
   "cell_type": "code",
   "execution_count": 29,
   "metadata": {
    "collapsed": false
   },
   "outputs": [
    {
     "name": "stdout",
     "output_type": "stream",
     "text": [
      "0\n",
      "-----------------------------\n",
      "\n",
      "MSE on test data: 8463.461914\n",
      "Mean absolute loss on test data: 64.457451\n",
      "R2 loss on test data (Coefficient of determination): 0.768453\n"
     ]
    }
   ],
   "source": [
    "# Calculate the error between the predicted voxel values and target1 -- this is from registered scan 1 of the output\n",
    "\n",
    "# First convert the testing targets to numpy arrays\n",
    "testing_target1_nump = np.asarray(testing_target1)\n",
    "testing_target2_nump = np.asarray(testing_target2)\n",
    "\n",
    "# Get the predicted voxel values of the test set\n",
    "test_predictions = get_predictions(trained_net, testloader)\n",
    "\n",
    "print('-----------------------------')\n",
    "test_error_mse = ((test_predictions - testing_target1_nump) ** 2).mean()\n",
    "print('\\nMSE on test data: %f' % (test_error_mse))\n",
    "\n",
    "test_error_l1 = (np.absolute(test_predictions -  testing_target1_nump)).mean()\n",
    "print('Mean absolute loss on test data: %f' % (test_error_l1))\n",
    "\n",
    "test_error_r1 = 1 - (np.sum((testing_target1_nump - test_predictions) ** 2) / np.sum((testing_target1_nump - testing_target1_nump.mean()) ** 2))\n",
    "print('R2 loss on test data (Coefficient of determination): %f' % (test_error_r1))"
   ]
  },
  {
   "cell_type": "code",
   "execution_count": 30,
   "metadata": {
    "collapsed": false
   },
   "outputs": [
    {
     "name": "stdout",
     "output_type": "stream",
     "text": [
      "-----------------------------\n",
      "\n",
      "MSE between both sets of target data: 4416.581055\n",
      "Mean absolute loss between target data: 37.275570\n",
      "R2 loss between target data (Coefficient of determination): 0.879169\n"
     ]
    }
   ],
   "source": [
    "# Similarly calculate the errors between registered scan 1 and registered scan 2\n",
    "\n",
    "print('-----------------------------')\n",
    "target_error_mse = ((testing_target2_nump - testing_target1_nump) ** 2).mean()\n",
    "print('\\nMSE between both sets of target data: %f' % (target_error_mse))\n",
    "\n",
    "target_error_l1 = (np.absolute(testing_target2_nump -  testing_target1_nump)).mean()\n",
    "print('Mean absolute loss between target data: %f' % (target_error_l1))\n",
    "\n",
    "target_error_r1 = 1 - (np.sum((testing_target1_nump - testing_target2_nump) ** 2) / np.sum((testing_target1_nump - testing_target1_nump.mean()) ** 2))\n",
    "print('R2 loss between target data (Coefficient of determination): %f' % (target_error_r1))"
   ]
  },
  {
   "cell_type": "markdown",
   "metadata": {},
   "source": [
    "### Calculate error on the final testing scan"
   ]
  },
  {
   "cell_type": "code",
   "execution_count": 31,
   "metadata": {
    "collapsed": false
   },
   "outputs": [
    {
     "name": "stdout",
     "output_type": "stream",
     "text": [
      "0\n",
      "250\n",
      "500\n",
      "750\n",
      "1000\n",
      "1250\n",
      "1500\n"
     ]
    }
   ],
   "source": [
    "final_test_predictions = get_predictions(trained_net, final_test_loader)"
   ]
  },
  {
   "cell_type": "code",
   "execution_count": 32,
   "metadata": {
    "collapsed": true
   },
   "outputs": [],
   "source": [
    "(x,y,z,v) = final_test_inp[0].shape\n",
    "final_predicted_brain = reconstruct_brain(final_test_predictions,[x,y,z,v])\n",
    "final_predicted_brain = replace_background(final_predicted_brain, final_test_inp[0])"
   ]
  },
  {
   "cell_type": "code",
   "execution_count": 33,
   "metadata": {
    "collapsed": false
   },
   "outputs": [
    {
     "name": "stdout",
     "output_type": "stream",
     "text": [
      "(53, 72, 51, 1)\n",
      "(53, 72, 51, 1)\n"
     ]
    }
   ],
   "source": [
    "print final_predicted_brain.shape\n",
    "print final_test_out1[0].shape"
   ]
  },
  {
   "cell_type": "markdown",
   "metadata": {},
   "source": [
    "## Calculate errors"
   ]
  },
  {
   "cell_type": "code",
   "execution_count": 34,
   "metadata": {
    "collapsed": false
   },
   "outputs": [
    {
     "name": "stdout",
     "output_type": "stream",
     "text": [
      "MSE on final predicted brain: 4381.908691\n",
      "Mean absolute loss on final predicted brain: 31.614573\n",
      "R2 loss on final predicted brain (Coefficient of determination): 0.897220\n"
     ]
    }
   ],
   "source": [
    "final_mse = ((final_predicted_brain - final_test_out1[0]) ** 2).mean()\n",
    "print('MSE on final predicted brain: %f' % (final_mse))\n",
    "\n",
    "final_l1 = (np.absolute(final_predicted_brain - final_test_out1[0])).mean()\n",
    "print('Mean absolute loss on final predicted brain: %f' % (final_l1))\n",
    "\n",
    "final_r1 = 1 - (np.sum((final_test_out1[0] - final_predicted_brain) ** 2) / np.sum((final_test_out1[0] - final_test_out1[0].mean()) ** 2))\n",
    "print('R2 loss on final predicted brain (Coefficient of determination): %f' % (final_r1))"
   ]
  },
  {
   "cell_type": "code",
   "execution_count": 35,
   "metadata": {
    "collapsed": false
   },
   "outputs": [
    {
     "name": "stdout",
     "output_type": "stream",
     "text": [
      "MSE between targets of brain: 737.694519\n",
      "Mean absolute loss between targets: 11.102444\n",
      "R2 loss between targets (Coefficient of determination): 0.982697\n"
     ]
    }
   ],
   "source": [
    "final_target_mse = ((final_test_out2[0] - final_test_out1[0]) ** 2).mean()\n",
    "print('MSE between targets of brain: %f' % (final_target_mse))\n",
    "\n",
    "final_target_l1 = (np.absolute(final_test_out2[0] - final_test_out1[0])).mean()\n",
    "print('Mean absolute loss between targets: %f' % (final_target_l1))\n",
    "\n",
    "final_target_r1 = 1 - (np.sum((final_test_out1[0] - final_test_out2[0]) ** 2) / np.sum((final_test_out1[0] - final_test_out1[0].mean()) ** 2))\n",
    "print('R2 loss between targets (Coefficient of determination): %f' % (final_target_r1))"
   ]
  },
  {
   "cell_type": "markdown",
   "metadata": {},
   "source": [
    "### Visualise predictions"
   ]
  },
  {
   "cell_type": "code",
   "execution_count": 39,
   "metadata": {
    "collapsed": false
   },
   "outputs": [
    {
     "data": {
      "image/png": "[encoded data removed]",
      "text/plain": [
       "<matplotlib.figure.Figure at 0x113d3f490>"
      ]
     },
     "metadata": {},
     "output_type": "display_data"
    }
   ],
   "source": [
    "viz_pred(final_test_inp[0], final_predicted_brain, final_test_out1[0], 25)"
   ]
  },
  {
   "cell_type": "markdown",
   "metadata": {},
   "source": [
    "## Save the target and the predicted scans"
   ]
  },
  {
   "cell_type": "code",
   "execution_count": null,
   "metadata": {
    "collapsed": false
   },
   "outputs": [],
   "source": [
    "save_to = \"/Volumes/Seagate Backup Plus Drive/Project/Dataset/Experiments/Overfit/Subj1Scan1\"\n",
    "\n",
    "predicted_scan = nib.Nifti1Image(predicted_brain, affine_mat)\n",
    "nib.save(predicted_scan, save_to + \"/Predicted_scan.nii.gz\" )\n",
    "\n",
    "target_scan = nib.Nifti1Image(testing_data_out[0][:,:,:,0], affine_mat)\n",
    "nib.save(target_scan, save_to + \"/Target_scan.nii.gz\" )"
   ]
  },
  {
   "cell_type": "markdown",
   "metadata": {},
   "source": [
    "## Store the model parameters"
   ]
  },
  {
   "cell_type": "code",
   "execution_count": null,
   "metadata": {
    "collapsed": true
   },
   "outputs": [],
   "source": [
    "torch.save(trained_net.state_dict(), '/Volumes/Seagate Backup Plus Drive/Project/Dataset/Experiments/Overfit/Subj1Scan1/model.pth') "
   ]
  },
  {
   "cell_type": "markdown",
   "metadata": {},
   "source": [
    "## Load the model parameters"
   ]
  },
  {
   "cell_type": "code",
   "execution_count": null,
   "metadata": {
    "collapsed": false
   },
   "outputs": [],
   "source": [
    "trained_net = Net()\n",
    "trained_net.load_state_dict(torch.load('/Volumes/Seagate Backup Plus Drive/Project/Dataset/Experiments/Overfit/Subj1Scan1/model.pth'))"
   ]
  },
  {
   "cell_type": "code",
   "execution_count": null,
   "metadata": {
    "collapsed": false
   },
   "outputs": [],
   "source": [
    "t = np.zeros([3,3,3])\n"
   ]
  },
  {
   "cell_type": "code",
   "execution_count": null,
   "metadata": {
    "collapsed": true
   },
   "outputs": [],
   "source": []
  }
 ],
 "metadata": {
  "kernelspec": {
   "display_name": "Python 2",
   "language": "python",
   "name": "python2"
  },
  "language_info": {
   "codemirror_mode": {
    "name": "ipython",
    "version": 2
   },
   "file_extension": ".py",
   "mimetype": "text/x-python",
   "name": "python",
   "nbconvert_exporter": "python",
   "pygments_lexer": "ipython2",
   "version": "2.7.10"
  }
 },
 "nbformat": 4,
 "nbformat_minor": 2
}
