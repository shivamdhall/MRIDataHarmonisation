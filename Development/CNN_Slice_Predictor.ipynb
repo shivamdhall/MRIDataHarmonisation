{
 "cells": [
  {
   "cell_type": "markdown",
   "metadata": {},
   "source": [
    "# CNN - Slice Predictor"
   ]
  },
  {
   "cell_type": "markdown",
   "metadata": {},
   "source": [
    "Here we develop a CNN that takes as input 2 slices of a brain image and predicts the centre slice. Note we only use b=0 intensity values"
   ]
  },
  {
   "cell_type": "markdown",
   "metadata": {},
   "source": [
    "### Upload the data required"
   ]
  },
  {
   "cell_type": "markdown",
   "metadata": {},
   "source": [
    "We use both scans of subjects 1-5 from the PETMR dataset for training.\n",
    "\n",
    "We used the scan of subjects 6-7 also from the PETMR dataset for testing."
   ]
  },
  {
   "cell_type": "markdown",
   "metadata": {},
   "source": [
    "## FUNCTIONS"
   ]
  },
  {
   "cell_type": "code",
   "execution_count": 1,
   "metadata": {
    "collapsed": true
   },
   "outputs": [],
   "source": [
    "import nibabel as nib\n",
    "import numpy as np\n",
    "import matplotlib.pyplot as plt\n",
    "import os\n",
    "%matplotlib inline\n",
    "import sys\n",
    "from dipy.io import read_bvals_bvecs\n",
    "from dipy.core.gradients import gradient_table"
   ]
  },
  {
   "cell_type": "code",
   "execution_count": 2,
   "metadata": {
    "collapsed": false
   },
   "outputs": [],
   "source": [
    "def get_data(petmr_path, test_data, training_data, numb_training_scans, numb_testing_scans):\n",
    "    os.chdir(petmr_path)\n",
    "    count = 0\n",
    "    for direc in os.listdir(os.getcwd())[1:]:\n",
    "        scan_image = nib.load(str(petmr_path) + \"/\" + str(direc) + \"/Brain_Extracted.nii.gz\")\n",
    "        scan_data = scan_image.get_data()\n",
    "        #get b=0 volumes only\n",
    "        bvals_scan, bvecs_scan = read_bvals_bvecs(str(petmr_path) + \"/\" + str(direc) + \"/NODDI.bval\",\\\n",
    "                                                  str(petmr_path) + \"/\" + str(direc) + \"/NODDI.bvec\")\n",
    "        gtab_scan = gradient_table(bvals_scan, bvecs_scan)\n",
    "        s0s_scan = scan_data[:, :, :, gtab_scan.b0s_mask]\n",
    "        \n",
    "        if(count < numb_training_scans):\n",
    "            #append this data to the list containing the training data\n",
    "            training_data.append(s0s_scan)\n",
    "        else:\n",
    "            testing_data.append(s0s_scan)\n",
    "        count += 1\n",
    "        if(count == (numb_training_scans + numb_testing_scans)):\n",
    "            break\n",
    "    return (training_data, test_data)"
   ]
  },
  {
   "cell_type": "code",
   "execution_count": 68,
   "metadata": {
    "collapsed": true
   },
   "outputs": [],
   "source": [
    "#It is necessary to pad the data since each scan can be of a different size\n",
    "#This helps with the normalisation of the volumes\n",
    "#Also helps with training and testing because we can use batches (must be same dimensions)\n",
    "\n",
    "#Note we do not pad the depth dimension as we will be using axial slice volumes\n",
    "def pad_data(dataset):\n",
    "    max_width = 0\n",
    "    max_hight = 0\n",
    "    \n",
    "    #iterate through the scans and update the above stats\n",
    "    for scan in dataset:\n",
    "        (width, hight, depth, volume) = scan.shape\n",
    "        if width > max_width:\n",
    "            max_width = width\n",
    "        if hight > max_hight:\n",
    "            max_hight = hight\n",
    "            \n",
    "    #iterate throug the scans again and pad them based on the max stats\n",
    "    for index, scan in enumerate(dataset):\n",
    "        #get padding dimensions\n",
    "        (width, hight, depth, volume) = scan.shape\n",
    "        pad_width = max_width-width\n",
    "        pad_hight = max_hight-hight\n",
    "        \n",
    "        pad_w_b = pad_width/2\n",
    "        pad_w_a = pad_width-pad_w_b\n",
    "        \n",
    "        pad_h_b = pad_hight/2\n",
    "        pad_h_a = pad_hight-pad_h_b\n",
    "        \n",
    "        padding = ((pad_w_b, pad_w_a), (pad_h_b, pad_h_a), (0,0), (0,0))\n",
    "        aug_scan = np.pad(scan, padding, mode='constant', constant_values=0)\n",
    "        dataset[index] = aug_scan\n",
    "    return dataset"
   ]
  },
  {
   "cell_type": "code",
   "execution_count": 29,
   "metadata": {
    "collapsed": false
   },
   "outputs": [],
   "source": [
    "#This function appends to a list all sets of 3-adjacent slices from a scan.\n",
    "#This is done for all volumes of a scan\n",
    "\n",
    "#Note we can also calculate the mean and std of the data at this stage in prep for normalisatioin\n",
    "def slicify(data_scan, slice_store_inputs, slice_store_targets):\n",
    "    (x,y,z,v) = data_scan.shape\n",
    "    for volume in range(v):\n",
    "        for i in range(0,z,2):\n",
    "            #check that there exists a slice above\n",
    "            if(i+2 < z):\n",
    "                slice_store_inputs.append(np.stack((data_scan[:, :, i, volume], data_scan[:, :, i+2, volume]), axis=2))\n",
    "                slice_store_targets.append(data_scan[:, :, i+1, volume])\n",
    "            else:\n",
    "                break\n",
    "        for i in range(1,z,2):\n",
    "            #check that there exists a slice above\n",
    "            if(i+2 < z):\n",
    "                slice_store_inputs.append(np.stack((data_scan[:, :, i, volume], data_scan[:, :, i+2, volume]), axis=2))\n",
    "                slice_store_targets.append(data_scan[:, :, i+1, volume])\n",
    "            else:\n",
    "                break\n",
    "    return (slice_store_inputs ,slice_store_targets)\n"
   ]
  },
  {
   "cell_type": "code",
   "execution_count": 48,
   "metadata": {
    "collapsed": false
   },
   "outputs": [],
   "source": [
    "def normalise(dataset, mean=None, std=None):\n",
    "    data_array = np.array(dataset)\n",
    "    if mean==None and std==None:\n",
    "        #This is the training data\n",
    "        mean = np.mean(data_array)\n",
    "        std = np.std(data_array)\n",
    "    #normalise the data\n",
    "    data_array = (data_array - mean)/std\n",
    "    return (data_array, mean, std)"
   ]
  },
  {
   "cell_type": "code",
   "execution_count": 52,
   "metadata": {
    "collapsed": true
   },
   "outputs": [],
   "source": [
    "def vix_data(input_data, target_data, volume):\n",
    "    plt.figure\n",
    "    plt.figure(figsize=(8,8))\n",
    "    plt.subplot(1, 3, 1).set_axis_off()\n",
    "    plt.imshow(input_data[volume][:, :, 0].T, cmap='gray', origin='lower')\n",
    "    plt.title(\"Lower\")\n",
    "    plt.subplot(1, 3, 2).set_axis_off()\n",
    "    plt.imshow(target_data[volume][:,:].T, cmap='gray', origin='lower')\n",
    "    plt.title(\"Target\")\n",
    "    plt.subplot(1, 3, 3).set_axis_off()\n",
    "    plt.imshow(input_data[volume][:, :, 1].T, cmap='gray', origin='lower')\n",
    "    plt.title(\"Upper\")\n",
    "    plt.show()"
   ]
  },
  {
   "cell_type": "markdown",
   "metadata": {},
   "source": [
    "-------------------------------------------------------------------------------------------------------\n",
    "---\n",
    "\n",
    "-------------------------------------------------------------------------------------------------------\n",
    "---\n",
    "\n"
   ]
  },
  {
   "cell_type": "markdown",
   "metadata": {},
   "source": [
    "#### Upload the data"
   ]
  },
  {
   "cell_type": "code",
   "execution_count": 66,
   "metadata": {
    "collapsed": false
   },
   "outputs": [
    {
     "name": "stdout",
     "output_type": "stream",
     "text": [
      "Number of scans used for training: 16\n",
      "Number of scans used for testing: 4\n"
     ]
    }
   ],
   "source": [
    "#upload the data\n",
    "petmr_data_path = '/Volumes/Seagate Backup Plus Drive/Project/Dataset/PETMR_data'\n",
    "training_data = []\n",
    "testing_data = []\n",
    "(training_data, testing_data) = get_data(petmr_data_path, testing_data, training_data, 16, 4)\n",
    "print (\"Number of scans used for training: %d\" % len(training_data))\n",
    "print (\"Number of scans used for testing: %d\" % len(testing_data))"
   ]
  },
  {
   "cell_type": "markdown",
   "metadata": {},
   "source": [
    "#### Pad the data"
   ]
  },
  {
   "cell_type": "code",
   "execution_count": 69,
   "metadata": {
    "collapsed": false
   },
   "outputs": [],
   "source": [
    "training_data = pad_data(training_data)\n",
    "testing_data = pad_data(testing_data)"
   ]
  },
  {
   "cell_type": "markdown",
   "metadata": {},
   "source": [
    "#### Slice up the data (Axial slices)"
   ]
  },
  {
   "cell_type": "code",
   "execution_count": 70,
   "metadata": {
    "collapsed": false
   },
   "outputs": [],
   "source": [
    "training_slices_input = []\n",
    "training_slices_target = []\n",
    "testing_slices_input = []\n",
    "testing_slices_target = []\n",
    "for scan in training_data:\n",
    "    (training_slices_input, training_slices_target) = slicify(scan, training_slices_input, training_slices_target)\n",
    "for scan in testing_data:\n",
    "    (testing_slices_input, testing_slices_target) = slicify(scan, testing_slices_input, testing_slices_target)"
   ]
  },
  {
   "cell_type": "code",
   "execution_count": 71,
   "metadata": {
    "collapsed": false
   },
   "outputs": [
    {
     "name": "stdout",
     "output_type": "stream",
     "text": [
      "Nember of training examples : 9906\n",
      "Nember of testing examples : 2444\n"
     ]
    }
   ],
   "source": [
    "print (\"Nember of training examples : %d\" % len(training_slices_input))\n",
    "print (\"Nember of testing examples : %d\" % len(testing_slices_input))"
   ]
  },
  {
   "cell_type": "markdown",
   "metadata": {},
   "source": [
    "#### Visualise the data"
   ]
  },
  {
   "cell_type": "code",
   "execution_count": 72,
   "metadata": {
    "collapsed": false
   },
   "outputs": [
    {
     "data": {
      "image/png": "[encoded data removed]",
      "text/plain": [
       "<matplotlib.figure.Figure at 0x10c087050>"
      ]
     },
     "metadata": {},
     "output_type": "display_data"
    }
   ],
   "source": [
    "viz_data(training_slices_input, training_slices_target, 4089)"
   ]
  },
  {
   "cell_type": "markdown",
   "metadata": {},
   "source": [
    "#### Normalise the training data inputs"
   ]
  },
  {
   "cell_type": "code",
   "execution_count": 73,
   "metadata": {
    "collapsed": false
   },
   "outputs": [],
   "source": [
    "#These are now numpy arrays\n",
    "training_slices_input, mean, std = normalise(training_slices_input)\n",
    "testing_slices_input, _, _ = normalise(testing_slices_input, mean, std)"
   ]
  },
  {
   "cell_type": "code",
   "execution_count": 89,
   "metadata": {
    "collapsed": false
   },
   "outputs": [],
   "source": [
    "training_slices_target = np.array(training_slices_target)\n",
    "testing_slices_target = np.array(testing_slices_target)"
   ]
  },
  {
   "cell_type": "markdown",
   "metadata": {},
   "source": [
    "## PYTORCH"
   ]
  },
  {
   "cell_type": "code",
   "execution_count": 94,
   "metadata": {
    "collapsed": true
   },
   "outputs": [],
   "source": [
    "import torch\n",
    "import torchvision\n",
    "import torchvision.transforms as transforms\n",
    "from torch.utils.data import Dataset\n",
    "from torch.utils.data import DataLoader"
   ]
  },
  {
   "cell_type": "code",
   "execution_count": 105,
   "metadata": {
    "collapsed": false
   },
   "outputs": [],
   "source": [
    "#create a dataset class for our data\n",
    "\n",
    "class MRIdataset(Dataset):\n",
    "    \"\"\"MRI b=0 dataset for axial slice volumes.\"\"\"\n",
    "\n",
    "    def __init__(self, input_slices, target_slices, transform=None):\n",
    "        \"\"\"\n",
    "        Args:\n",
    "            input_slices: Input slices\n",
    "            target_slices: Corresponding target slice of the input slices\n",
    "            transform (callable, optional): Optional transform to be applied\n",
    "                on a sample.\n",
    "        \"\"\"\n",
    "        self.input_slices = input_slices\n",
    "        self.target_slices = target_slices\n",
    "        self.transform = transform\n",
    "\n",
    "    def __len__(self):\n",
    "        return self.input_slices.shape[0]\n",
    "\n",
    "    def __getitem__(self, idx):\n",
    "        input_slice = self.input_slices[idx]\n",
    "        #Exapnd dims of target to make it have a depth of 1\n",
    "        target_slice = np.expand_dims(self.target_slices[idx], 2)\n",
    "        sample = {'input': input_slice, 'target': target_slice}\n",
    "\n",
    "        if self.transform:\n",
    "            sample = self.transform(sample)\n",
    "\n",
    "        return sample\n"
   ]
  },
  {
   "cell_type": "code",
   "execution_count": 106,
   "metadata": {
    "collapsed": true
   },
   "outputs": [],
   "source": [
    "class To_Tensor(object):\n",
    "    \"\"\"Convert ndarrays in sample to Tensors.\"\"\"\n",
    "\n",
    "    def __call__(self, sample):\n",
    "        inp, out = sample['input'], sample['target']\n",
    "        \n",
    "        #first expand dimension because torch expects H x W x D x C\n",
    "        #currently we only have H x W x D\n",
    "        aug_inp = np.expand_dims(inp, 3)\n",
    "        aug_out = np.expand_dims(out, 3)\n",
    "\n",
    "        # swap channel axis because\n",
    "        # numpy: H x W x D x C\n",
    "        # torch: C x D x H x W\n",
    "        aug_inp = aug_inp.transpose((3, 2, 0, 1))\n",
    "        aug_out = aug_out.transpose((3, 2, 0, 1))\n",
    "        return {'input': torch.Tensor(aug_inp),\n",
    "                'target': torch.Tensor(aug_out)}\n"
   ]
  },
  {
   "cell_type": "markdown",
   "metadata": {},
   "source": [
    "### Upload the data using pytorch data loaders"
   ]
  },
  {
   "cell_type": "code",
   "execution_count": 107,
   "metadata": {
    "collapsed": true
   },
   "outputs": [],
   "source": [
    "training_dataset = MRIdataset(training_slices_input, training_slices_target, transform=transforms.Compose([To_Tensor()]))\n",
    "testing_dataset = MRIdataset(testing_slices_input, testing_slices_target, transform=transforms.Compose([To_Tensor()]))"
   ]
  },
  {
   "cell_type": "code",
   "execution_count": 111,
   "metadata": {
    "collapsed": true
   },
   "outputs": [],
   "source": [
    "#Note: we keep a batch size of 1 due to inconsistent tensor sizes\n",
    "trainloader = DataLoader(training_dataset, batch_size=4,\n",
    "                        shuffle=True, num_workers=4)\n",
    "testloader = DataLoader(testing_dataset, batch_size=4,\n",
    "                        shuffle=True, num_workers=4)"
   ]
  },
  {
   "cell_type": "markdown",
   "metadata": {},
   "source": [
    "## Develop CNN"
   ]
  },
  {
   "cell_type": "markdown",
   "metadata": {},
   "source": [
    "Conv -> Relu -> Conv -> Relu -> Conv\n",
    "\n",
    "--(WxHx2x1)--\n",
    "\n",
    "conv1 = receptive field -> (3x3x3), zero padding -> 2,  number of filters -> 10\n",
    "\n",
    "--(W+2xH+2x4x10)--\n",
    "\n",
    "conv2 = receptive field -> (1x1x1), number of filters -> 15\n",
    "\n",
    "--(W+2xH+2x4x15)--\n",
    "\n",
    "conv3 = receptive field -> (3x3x3), number of filters -> 15\n",
    "\n",
    "--(WxHx2x15)--\n",
    "\n",
    "conv4 = receptive field -> (1x1x2), number of filters -> 1\n",
    "\n",
    "--(WxHx1x1)--\n",
    "\n"
   ]
  },
  {
   "cell_type": "markdown",
   "metadata": {},
   "source": [
    "## CONV NET 1"
   ]
  },
  {
   "cell_type": "code",
   "execution_count": 119,
   "metadata": {
    "collapsed": false
   },
   "outputs": [
    {
     "name": "stdout",
     "output_type": "stream",
     "text": [
      "Net (\n",
      "  (conv1): Conv3d(1, 10, kernel_size=(3, 3, 3), stride=(1, 1, 1), padding=(2, 2, 2))\n",
      "  (conv2): Conv3d(10, 15, kernel_size=(1, 1, 1), stride=(1, 1, 1))\n",
      "  (conv3): Conv3d(15, 15, kernel_size=(3, 3, 3), stride=(1, 1, 1))\n",
      "  (conv4): Conv3d(15, 1, kernel_size=(2, 1, 1), stride=(2, 1, 1))\n",
      ")\n"
     ]
    }
   ],
   "source": [
    "from torch.autograd import Variable\n",
    "import torch.nn as nn\n",
    "import torch.nn.functional as F\n",
    "\n",
    "\n",
    "class Net(nn.Module):\n",
    "    def __init__(self):\n",
    "        super(Net, self).__init__()\n",
    "        self.conv1 = nn.Conv3d(1, 10, 3, padding=2)\n",
    "        self.conv2 = nn.Conv3d(10, 15, 1)\n",
    "        self.conv3 = nn.Conv3d(15, 15, 3)\n",
    "        self.conv4 = nn.Conv3d(15, 1, (2,1,1), (2,1,1))\n",
    "\n",
    "\n",
    "    def forward(self, x):\n",
    "        x = F.relu(self.conv1(x))\n",
    "        x = F.relu(self.conv2(x))\n",
    "        x = F.relu(self.conv3(x))\n",
    "        x = self.conv4(x)\n",
    "        return x\n",
    "\n",
    "\n",
    "net = Net()\n",
    "print(net)"
   ]
  },
  {
   "cell_type": "markdown",
   "metadata": {},
   "source": [
    "### NET 2"
   ]
  },
  {
   "cell_type": "code",
   "execution_count": null,
   "metadata": {
    "collapsed": false
   },
   "outputs": [],
   "source": [
    "\n",
    "class Net2(nn.Module):\n",
    "    def __init__(self):\n",
    "        super(Net2, self).__init__()\n",
    "        self.conv1 = nn.Conv3d(1, 5, 3, padding=2)\n",
    "        self.conv2 = nn.Conv3d(5, 8, (2,1,1))\n",
    "        self.conv3 = nn.Conv3d(8, 1, 3)\n",
    "\n",
    "    def forward(self, x):\n",
    "        x = F.relu(self.conv1(x))\n",
    "        x = F.relu(self.conv2(x))\n",
    "        x = self.conv3(x)\n",
    "        return x\n",
    "\n",
    "\n",
    "net2 = Net2()\n",
    "print(net2)"
   ]
  },
  {
   "cell_type": "code",
   "execution_count": null,
   "metadata": {
    "collapsed": true
   },
   "outputs": [],
   "source": [
    "import torch.optim as optim\n",
    "#here we use MSE loss\n",
    "criterion = nn.MSELoss(size_average=False) #returns the sum over a mini-batch as opposed to the average\n",
    "optimizer = optim.SGD(net.parameters(), lr=0.00000001, momentum=0.9)\n"
   ]
  },
  {
   "cell_type": "code",
   "execution_count": 120,
   "metadata": {
    "collapsed": true
   },
   "outputs": [],
   "source": [
    "import torch.optim as optim\n",
    "#here we use MSE loss\n",
    "criterion = nn.MSELoss(size_average=False) #returns the sum over a mini-batch as opposed to the average\n",
    "optimizer = optim.Adam(net.parameters(), lr=0.01)"
   ]
  },
  {
   "cell_type": "code",
   "execution_count": 121,
   "metadata": {
    "collapsed": true
   },
   "outputs": [],
   "source": [
    "Adam_losses = []\n",
    "Adam_acc = []"
   ]
  },
  {
   "cell_type": "code",
   "execution_count": null,
   "metadata": {
    "collapsed": false,
    "scrolled": true
   },
   "outputs": [
    {
     "name": "stdout",
     "output_type": "stream",
     "text": [
      "[1,   250]\n",
      "[1,   500]\n",
      "[1,   750]\n",
      "[1,  1000]\n",
      "[1,  1250]\n",
      "[1,  1500]\n",
      "[1,  1750]\n",
      "[1,  2000]\n",
      "[1,  2250]\n",
      "MSE Loss iteration 1 = 24589665.19786\n",
      "[2,   250]\n",
      "[2,   500]\n",
      "[2,   750]\n",
      "[2,  1000]\n",
      "[2,  1250]\n",
      "[2,  1500]\n",
      "[2,  1750]\n",
      "[2,  2000]\n",
      "[2,  2250]\n",
      "MSE Loss iteration 2 = 19025105.51534\n",
      "[3,   250]\n",
      "[3,   500]\n",
      "[3,   750]\n",
      "[3,  1000]\n",
      "[3,  1250]\n",
      "[3,  1500]\n",
      "[3,  1750]\n",
      "[3,  2000]\n",
      "[3,  2250]\n",
      "MSE Loss iteration 3 = 18144150.49465\n",
      "[4,   250]\n",
      "[4,   500]\n",
      "[4,   750]\n",
      "[4,  1000]\n",
      "[4,  1250]\n",
      "[4,  1500]\n",
      "[4,  1750]\n",
      "[4,  2000]\n",
      "[4,  2250]\n",
      "MSE Loss iteration 4 = 17655023.96729\n",
      "[5,   250]\n",
      "[5,   500]\n",
      "[5,   750]\n",
      "[5,  1000]\n",
      "[5,  1250]\n",
      "[5,  1500]\n",
      "[5,  1750]\n",
      "[5,  2000]\n",
      "[5,  2250]\n",
      "MSE Loss iteration 5 = 17307795.90415\n",
      "[6,   250]\n",
      "[6,   500]\n",
      "[6,   750]\n",
      "[6,  1000]\n",
      "[6,  1250]\n",
      "[6,  1500]\n",
      "[6,  1750]\n",
      "[6,  2000]\n",
      "[6,  2250]\n",
      "MSE Loss iteration 6 = 17012143.87785\n",
      "[7,   250]\n",
      "[7,   500]\n",
      "[7,   750]\n",
      "[7,  1000]\n",
      "[7,  1250]\n",
      "[7,  1500]\n",
      "[7,  1750]\n",
      "[7,  2000]\n",
      "[7,  2250]\n",
      "MSE Loss iteration 7 = 16946009.21664\n",
      "[8,   250]\n",
      "[8,   500]\n",
      "[8,   750]\n",
      "[8,  1000]\n",
      "[8,  1250]\n",
      "[8,  1500]\n",
      "[8,  1750]\n",
      "[8,  2000]\n",
      "[8,  2250]\n",
      "MSE Loss iteration 8 = 16684887.44761\n",
      "[9,   250]\n",
      "[9,   500]\n",
      "[9,   750]\n",
      "[9,  1000]\n"
     ]
    }
   ],
   "source": [
    "for epoch in range(15):  # loop over the dataset multiple times\n",
    "\n",
    "    running_loss = 0.0\n",
    "    for i, data in enumerate(trainloader, 0): #done in batches\n",
    "        # get the inputs\n",
    "        inputs = data['input']\n",
    "        labels = data['target']\n",
    "\n",
    "        # wrap them in Variable\n",
    "        inputs, labels = Variable(inputs), Variable(labels)\n",
    "\n",
    "        # zero the parameter gradients\n",
    "        optimizer.zero_grad()\n",
    "\n",
    "        # forward + backward + optimize/update weights\n",
    "        outputs = net(inputs)\n",
    "        loss = criterion(outputs, labels)\n",
    "        loss.backward()\n",
    "        optimizer.step()\n",
    "\n",
    "        # print statistics\n",
    "        running_loss += loss.data[0] #loss is a variable tensor of size 1, we index to get the value out\n",
    "        if i % 250 == 249:    # print every 2000 mini-batches\n",
    "            print('[%d, %5d]' % (epoch + 1, i + 1))\n",
    "    MSE_loss = running_loss / len(training_dataset)\n",
    "    Adam_losses.append(MSE_loss)\n",
    "    print('MSE Loss iteration %d = %.5f' % (epoch+1, MSE_loss ))\n",
    "    '''   \n",
    "    test_error = 0\n",
    "    total = 0\n",
    "    for test_data in testloader: #batch processing\n",
    "        test_inputs = test_data['inp']\n",
    "        test_labels = test_data['out']\n",
    "        total += len(test_labels)\n",
    "        \n",
    "        test_outputs = net(Variable(test_inputs))\n",
    "        \n",
    "        test_error += (torch.nn.functional.mse_loss(test_outputs.data, test_labels, size_average=False)).data[0]\n",
    "    \n",
    "    test_error /= total\n",
    "    print('MSE on test data: %f' % (test_error))\n",
    "    Adam_acc.append(test_error)\n",
    "    '''\n",
    "print('Finished Training')"
   ]
  },
  {
   "cell_type": "markdown",
   "metadata": {},
   "source": [
    "#### Calculate the MSE on the testing dataset"
   ]
  },
  {
   "cell_type": "code",
   "execution_count": null,
   "metadata": {
    "collapsed": true
   },
   "outputs": [],
   "source": [
    "test_error = 0\n",
    "total = 0\n",
    "for test_data in testloader: #batch processing\n",
    "    test_inputs = test_data['inp']\n",
    "    test_labels = test_data['out']\n",
    "    total += len(test_labels)\n",
    "        \n",
    "    test_outputs = net(Variable(test_inputs))\n",
    "        \n",
    "    test_error += (torch.nn.functional.mse_loss(test_outputs.data, test_labels, size_average=False)).data[0]\n",
    "    \n",
    "test_error /= total\n",
    "print('MSE on test data: %f' % (test_error))"
   ]
  },
  {
   "cell_type": "code",
   "execution_count": null,
   "metadata": {
    "collapsed": false
   },
   "outputs": [],
   "source": [
    "for index, test_data in enumerate(testloader): #batch processing\n",
    "        test_inputs = test_data['input']\n",
    "        test_labels = test_data['target']\n",
    "        \n",
    "        test_outputs = net(Variable(test_inputs))\n",
    "        predictions = test_outputs.data[0].numpy() \n",
    "        label = test_labels[0].numpy()\n",
    "        inputs = test_inputs[0].numpy()\n",
    "        \n",
    "        #convert back to numpy dimensions of (HxWxD)\n",
    "        prediction = prediction.transpose(2,3,1,0)\n",
    "        label = label.transpose(2,3,1,0)\n",
    "        inputs = inputs.transpose(2,3,1,0)\n",
    "        \n",
    "        #unnormalise the data\n",
    "        prediction = (prediction * std) + mean\n",
    "        label = (label * std) + mean\n",
    "        inputs = (inputs * std) + mean\n",
    "        \n",
    "        prediction[prediction < 0] = 0\n",
    "         \n",
    "        predicted_slices.append(prediction[:,:,:,0])\n",
    "        actual_slices.append(label[:,:,:,0])\n",
    "        input_slices.append(inputs[:,:,:,0])"
   ]
  },
  {
   "cell_type": "code",
   "execution_count": null,
   "metadata": {
    "collapsed": false
   },
   "outputs": [],
   "source": [
    "plt.figure\n",
    "plt.figure(figsize=(12,12))\n",
    "plt.subplot(3, 3, 2).set_axis_off()\n",
    "plt.imshow(input_slices[160][:, :, 1].T, cmap='gray', origin='lower')\n",
    "plt.title(\"Above\")\n",
    "plt.subplot(3, 3, 4).set_axis_off()\n",
    "plt.imshow(np.mean(input_slices[160], axis=2).T, cmap='gray', origin='lower')\n",
    "plt.title(\"Average\")\n",
    "plt.subplot(3, 3, 5).set_axis_off()\n",
    "plt.imshow(predicted_slices[1600][:, :, 0].T, cmap='gray', origin='lower')\n",
    "plt.title(\"Predicted\")\n",
    "plt.subplot(3, 3, 6).set_axis_off()\n",
    "plt.imshow(actual_slices[160][:, :, 0].T, cmap='gray', origin='lower')\n",
    "plt.title(\"Actual\")\n",
    "plt.subplot(3, 3, 8).set_axis_off()\n",
    "plt.imshow(input_slices[160][:, :, 0].T, cmap='gray', origin='lower')\n",
    "plt.title(\"Below\")\n",
    "plt.show()"
   ]
  }
 ],
 "metadata": {
  "kernelspec": {
   "display_name": "Python 2",
   "language": "python",
   "name": "python2"
  },
  "language_info": {
   "codemirror_mode": {
    "name": "ipython",
    "version": 2
   },
   "file_extension": ".py",
   "mimetype": "text/x-python",
   "name": "python",
   "nbconvert_exporter": "python",
   "pygments_lexer": "ipython2",
   "version": "2.7.10"
  }
 },
 "nbformat": 4,
 "nbformat_minor": 2
}
